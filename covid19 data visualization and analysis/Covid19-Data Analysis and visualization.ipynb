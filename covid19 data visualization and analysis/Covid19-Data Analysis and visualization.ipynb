{
 "cells": [
  {
   "cell_type": "code",
   "execution_count": 1,
   "metadata": {},
   "outputs": [],
   "source": [
    "import numpy as np\n",
    "import pandas as pd"
   ]
  },
  {
   "cell_type": "code",
   "execution_count": 2,
   "metadata": {},
   "outputs": [],
   "source": [
    "import requests\n",
    "from bs4 import BeautifulSoup\n",
    "import geopandas as gpd\n",
    "from prettytable import PrettyTable"
   ]
  },
  {
   "cell_type": "code",
   "execution_count": 3,
   "metadata": {},
   "outputs": [],
   "source": [
    "import seaborn as sns\n",
    "import matplotlib.pyplot as plt\n",
    "from matplotlib import style\n",
    "style.use('ggplot')\n",
    "%matplotlib inline"
   ]
  },
  {
   "cell_type": "code",
   "execution_count": 4,
   "metadata": {},
   "outputs": [],
   "source": [
    "import plotly\n",
    "import plotly.express as px\n",
    "import plotly.graph_objects as go\n",
    "import chart_studio.plotly as py"
   ]
  },
  {
   "cell_type": "code",
   "execution_count": 5,
   "metadata": {},
   "outputs": [],
   "source": [
    "import cufflinks as cf\n",
    "import plotly.offline as pyo\n",
    "from plotly.offline import init_notebook_mode,plot,iplot\n"
   ]
  },
  {
   "cell_type": "code",
   "execution_count": 6,
   "metadata": {},
   "outputs": [
    {
     "data": {
      "text/html": [
       "        <script type=\"text/javascript\">\n",
       "        window.PlotlyConfig = {MathJaxConfig: 'local'};\n",
       "        if (window.MathJax) {MathJax.Hub.Config({SVG: {font: \"STIX-Web\"}});}\n",
       "        if (typeof require !== 'undefined') {\n",
       "        require.undef(\"plotly\");\n",
       "        requirejs.config({\n",
       "            paths: {\n",
       "                'plotly': ['https://cdn.plot.ly/plotly-latest.min']\n",
       "            }\n",
       "        });\n",
       "        require(['plotly'], function(Plotly) {\n",
       "            window._Plotly = Plotly;\n",
       "        });\n",
       "        }\n",
       "        </script>\n",
       "        "
      ]
     },
     "metadata": {},
     "output_type": "display_data"
    },
    {
     "data": {
      "text/html": [
       "        <script type=\"text/javascript\">\n",
       "        window.PlotlyConfig = {MathJaxConfig: 'local'};\n",
       "        if (window.MathJax) {MathJax.Hub.Config({SVG: {font: \"STIX-Web\"}});}\n",
       "        if (typeof require !== 'undefined') {\n",
       "        require.undef(\"plotly\");\n",
       "        requirejs.config({\n",
       "            paths: {\n",
       "                'plotly': ['https://cdn.plot.ly/plotly-latest.min']\n",
       "            }\n",
       "        });\n",
       "        require(['plotly'], function(Plotly) {\n",
       "            window._Plotly = Plotly;\n",
       "        });\n",
       "        }\n",
       "        </script>\n",
       "        "
      ]
     },
     "metadata": {},
     "output_type": "display_data"
    }
   ],
   "source": [
    "import folium\n",
    "pyo.init_notebook_mode(connected=True)\n",
    "cf.go_offline()"
   ]
  },
  {
   "cell_type": "code",
   "execution_count": 7,
   "metadata": {},
   "outputs": [
    {
     "data": {
      "text/html": [
       "<div>\n",
       "<style scoped>\n",
       "    .dataframe tbody tr th:only-of-type {\n",
       "        vertical-align: middle;\n",
       "    }\n",
       "\n",
       "    .dataframe tbody tr th {\n",
       "        vertical-align: top;\n",
       "    }\n",
       "\n",
       "    .dataframe thead th {\n",
       "        text-align: right;\n",
       "    }\n",
       "</style>\n",
       "<table border=\"1\" class=\"dataframe\">\n",
       "  <thead>\n",
       "    <tr style=\"text-align: right;\">\n",
       "      <th></th>\n",
       "      <th>Sr.No</th>\n",
       "      <th>Name of State / UT</th>\n",
       "      <th>Active Cases</th>\n",
       "      <th>Cured/Discharged/Migrated</th>\n",
       "      <th>Deaths</th>\n",
       "      <th>Total Confirmed cases</th>\n",
       "    </tr>\n",
       "  </thead>\n",
       "  <tbody>\n",
       "    <tr>\n",
       "      <td>0</td>\n",
       "      <td>1</td>\n",
       "      <td>Andaman and Nicobar Islands</td>\n",
       "      <td>46</td>\n",
       "      <td>130</td>\n",
       "      <td>0</td>\n",
       "      <td>176</td>\n",
       "    </tr>\n",
       "    <tr>\n",
       "      <td>1</td>\n",
       "      <td>2</td>\n",
       "      <td>Andhra Pradesh</td>\n",
       "      <td>16621</td>\n",
       "      <td>18378</td>\n",
       "      <td>452</td>\n",
       "      <td>35451</td>\n",
       "    </tr>\n",
       "    <tr>\n",
       "      <td>2</td>\n",
       "      <td>3</td>\n",
       "      <td>Arunachal Pradesh</td>\n",
       "      <td>306</td>\n",
       "      <td>153</td>\n",
       "      <td>3</td>\n",
       "      <td>462</td>\n",
       "    </tr>\n",
       "    <tr>\n",
       "      <td>3</td>\n",
       "      <td>4</td>\n",
       "      <td>Assam</td>\n",
       "      <td>6447</td>\n",
       "      <td>12173</td>\n",
       "      <td>46</td>\n",
       "      <td>18666</td>\n",
       "    </tr>\n",
       "    <tr>\n",
       "      <td>4</td>\n",
       "      <td>5</td>\n",
       "      <td>Bihar</td>\n",
       "      <td>6970</td>\n",
       "      <td>13462</td>\n",
       "      <td>180</td>\n",
       "      <td>20612</td>\n",
       "    </tr>\n",
       "  </tbody>\n",
       "</table>\n",
       "</div>"
      ],
      "text/plain": [
       "  Sr.No           Name of State / UT Active Cases Cured/Discharged/Migrated  \\\n",
       "0     1  Andaman and Nicobar Islands           46                       130   \n",
       "1     2               Andhra Pradesh        16621                     18378   \n",
       "2     3            Arunachal Pradesh          306                       153   \n",
       "3     4                        Assam         6447                     12173   \n",
       "4     5                        Bihar         6970                     13462   \n",
       "\n",
       "  Deaths Total Confirmed cases  \n",
       "0      0                   176  \n",
       "1    452                 35451  \n",
       "2      3                   462  \n",
       "3     46                 18666  \n",
       "4    180                 20612  "
      ]
     },
     "execution_count": 7,
     "metadata": {},
     "output_type": "execute_result"
    }
   ],
   "source": [
    "url = 'https://www.mohfw.gov.in/'\n",
    "web_content = requests.get(url).content\n",
    "soup = BeautifulSoup(web_content, \"html.parser\")\n",
    "extract_contents = lambda row: [x.text.replace('\\n', '') for x in row]\n",
    "stats = [] \n",
    "all_rows = soup.find_all('tr')\n",
    "for row in all_rows:\n",
    "    stat = extract_contents(row.find_all('td')) \n",
    "    if len(stat) == 6:\n",
    "        stats.append(stat)\n",
    "new_cols = [\"Sr.No\", \"Name of State / UT\",\"Active Cases\",\"Cured/Discharged/Migrated\",\"Deaths\",\"Total Confirmed cases\"]\n",
    "df = pd.DataFrame(data = stats, columns = new_cols)\n",
    "df.head()"
   ]
  },
  {
   "cell_type": "code",
   "execution_count": null,
   "metadata": {},
   "outputs": [],
   "source": []
  },
  {
   "cell_type": "code",
   "execution_count": 8,
   "metadata": {},
   "outputs": [],
   "source": [
    "df.drop(['Sr.No'],axis=1,inplace=True)"
   ]
  },
  {
   "cell_type": "code",
   "execution_count": 9,
   "metadata": {},
   "outputs": [
    {
     "data": {
      "text/html": [
       "<div>\n",
       "<style scoped>\n",
       "    .dataframe tbody tr th:only-of-type {\n",
       "        vertical-align: middle;\n",
       "    }\n",
       "\n",
       "    .dataframe tbody tr th {\n",
       "        vertical-align: top;\n",
       "    }\n",
       "\n",
       "    .dataframe thead th {\n",
       "        text-align: right;\n",
       "    }\n",
       "</style>\n",
       "<table border=\"1\" class=\"dataframe\">\n",
       "  <thead>\n",
       "    <tr style=\"text-align: right;\">\n",
       "      <th></th>\n",
       "      <th>Name of State / UT</th>\n",
       "      <th>Active Cases</th>\n",
       "      <th>Cured/Discharged/Migrated</th>\n",
       "      <th>Deaths</th>\n",
       "      <th>Total Confirmed cases</th>\n",
       "    </tr>\n",
       "  </thead>\n",
       "  <tbody>\n",
       "    <tr>\n",
       "      <td>0</td>\n",
       "      <td>Andaman and Nicobar Islands</td>\n",
       "      <td>46</td>\n",
       "      <td>130</td>\n",
       "      <td>0</td>\n",
       "      <td>176</td>\n",
       "    </tr>\n",
       "    <tr>\n",
       "      <td>1</td>\n",
       "      <td>Andhra Pradesh</td>\n",
       "      <td>16621</td>\n",
       "      <td>18378</td>\n",
       "      <td>452</td>\n",
       "      <td>35451</td>\n",
       "    </tr>\n",
       "    <tr>\n",
       "      <td>2</td>\n",
       "      <td>Arunachal Pradesh</td>\n",
       "      <td>306</td>\n",
       "      <td>153</td>\n",
       "      <td>3</td>\n",
       "      <td>462</td>\n",
       "    </tr>\n",
       "    <tr>\n",
       "      <td>3</td>\n",
       "      <td>Assam</td>\n",
       "      <td>6447</td>\n",
       "      <td>12173</td>\n",
       "      <td>46</td>\n",
       "      <td>18666</td>\n",
       "    </tr>\n",
       "    <tr>\n",
       "      <td>4</td>\n",
       "      <td>Bihar</td>\n",
       "      <td>6970</td>\n",
       "      <td>13462</td>\n",
       "      <td>180</td>\n",
       "      <td>20612</td>\n",
       "    </tr>\n",
       "    <tr>\n",
       "      <td>5</td>\n",
       "      <td>Chandigarh</td>\n",
       "      <td>155</td>\n",
       "      <td>459</td>\n",
       "      <td>11</td>\n",
       "      <td>625</td>\n",
       "    </tr>\n",
       "    <tr>\n",
       "      <td>6</td>\n",
       "      <td>Chhattisgarh</td>\n",
       "      <td>1195</td>\n",
       "      <td>3324</td>\n",
       "      <td>20</td>\n",
       "      <td>4539</td>\n",
       "    </tr>\n",
       "    <tr>\n",
       "      <td>7</td>\n",
       "      <td>Dadra and Nagar Haveli and Daman and Diu</td>\n",
       "      <td>180</td>\n",
       "      <td>357</td>\n",
       "      <td>2</td>\n",
       "      <td>539</td>\n",
       "    </tr>\n",
       "    <tr>\n",
       "      <td>8</td>\n",
       "      <td>Delhi</td>\n",
       "      <td>17807</td>\n",
       "      <td>95699</td>\n",
       "      <td>3487</td>\n",
       "      <td>116993</td>\n",
       "    </tr>\n",
       "    <tr>\n",
       "      <td>9</td>\n",
       "      <td>Goa</td>\n",
       "      <td>1259</td>\n",
       "      <td>1674</td>\n",
       "      <td>18</td>\n",
       "      <td>2951</td>\n",
       "    </tr>\n",
       "    <tr>\n",
       "      <td>10</td>\n",
       "      <td>Gujarat</td>\n",
       "      <td>11187</td>\n",
       "      <td>31286</td>\n",
       "      <td>2079</td>\n",
       "      <td>44552</td>\n",
       "    </tr>\n",
       "    <tr>\n",
       "      <td>11</td>\n",
       "      <td>Haryana</td>\n",
       "      <td>5320</td>\n",
       "      <td>17667</td>\n",
       "      <td>319</td>\n",
       "      <td>23306</td>\n",
       "    </tr>\n",
       "    <tr>\n",
       "      <td>12</td>\n",
       "      <td>Himachal Pradesh</td>\n",
       "      <td>351</td>\n",
       "      <td>979</td>\n",
       "      <td>11</td>\n",
       "      <td>1341</td>\n",
       "    </tr>\n",
       "    <tr>\n",
       "      <td>13</td>\n",
       "      <td>Jammu and Kashmir</td>\n",
       "      <td>5123</td>\n",
       "      <td>6337</td>\n",
       "      <td>206</td>\n",
       "      <td>11666</td>\n",
       "    </tr>\n",
       "    <tr>\n",
       "      <td>14</td>\n",
       "      <td>Jharkhand</td>\n",
       "      <td>1797</td>\n",
       "      <td>2485</td>\n",
       "      <td>38</td>\n",
       "      <td>4320</td>\n",
       "    </tr>\n",
       "    <tr>\n",
       "      <td>15</td>\n",
       "      <td>Karnataka</td>\n",
       "      <td>27859</td>\n",
       "      <td>18466</td>\n",
       "      <td>928</td>\n",
       "      <td>47253</td>\n",
       "    </tr>\n",
       "    <tr>\n",
       "      <td>16</td>\n",
       "      <td>Kerala</td>\n",
       "      <td>4884</td>\n",
       "      <td>4634</td>\n",
       "      <td>35</td>\n",
       "      <td>9553</td>\n",
       "    </tr>\n",
       "    <tr>\n",
       "      <td>17</td>\n",
       "      <td>Ladakh</td>\n",
       "      <td>177</td>\n",
       "      <td>964</td>\n",
       "      <td>1</td>\n",
       "      <td>1142</td>\n",
       "    </tr>\n",
       "    <tr>\n",
       "      <td>18</td>\n",
       "      <td>Madhya Pradesh</td>\n",
       "      <td>5053</td>\n",
       "      <td>13908</td>\n",
       "      <td>682</td>\n",
       "      <td>19643</td>\n",
       "    </tr>\n",
       "    <tr>\n",
       "      <td>19</td>\n",
       "      <td>Maharashtra</td>\n",
       "      <td>112099</td>\n",
       "      <td>152613</td>\n",
       "      <td>10928</td>\n",
       "      <td>275640</td>\n",
       "    </tr>\n",
       "    <tr>\n",
       "      <td>20</td>\n",
       "      <td>Manipur</td>\n",
       "      <td>711</td>\n",
       "      <td>989</td>\n",
       "      <td>0</td>\n",
       "      <td>1700</td>\n",
       "    </tr>\n",
       "    <tr>\n",
       "      <td>21</td>\n",
       "      <td>Meghalaya</td>\n",
       "      <td>278</td>\n",
       "      <td>66</td>\n",
       "      <td>2</td>\n",
       "      <td>346</td>\n",
       "    </tr>\n",
       "    <tr>\n",
       "      <td>22</td>\n",
       "      <td>Mizoram</td>\n",
       "      <td>79</td>\n",
       "      <td>159</td>\n",
       "      <td>0</td>\n",
       "      <td>238</td>\n",
       "    </tr>\n",
       "    <tr>\n",
       "      <td>23</td>\n",
       "      <td>Nagaland</td>\n",
       "      <td>554</td>\n",
       "      <td>348</td>\n",
       "      <td>0</td>\n",
       "      <td>902</td>\n",
       "    </tr>\n",
       "    <tr>\n",
       "      <td>24</td>\n",
       "      <td>Odisha</td>\n",
       "      <td>4345</td>\n",
       "      <td>10476</td>\n",
       "      <td>77</td>\n",
       "      <td>14898</td>\n",
       "    </tr>\n",
       "    <tr>\n",
       "      <td>25</td>\n",
       "      <td>Puducherry</td>\n",
       "      <td>686</td>\n",
       "      <td>889</td>\n",
       "      <td>21</td>\n",
       "      <td>1596</td>\n",
       "    </tr>\n",
       "    <tr>\n",
       "      <td>26</td>\n",
       "      <td>Punjab</td>\n",
       "      <td>2711</td>\n",
       "      <td>5867</td>\n",
       "      <td>221</td>\n",
       "      <td>8799</td>\n",
       "    </tr>\n",
       "    <tr>\n",
       "      <td>27</td>\n",
       "      <td>Rajasthan</td>\n",
       "      <td>6405</td>\n",
       "      <td>19502</td>\n",
       "      <td>530</td>\n",
       "      <td>26437</td>\n",
       "    </tr>\n",
       "    <tr>\n",
       "      <td>28</td>\n",
       "      <td>Sikkim</td>\n",
       "      <td>133</td>\n",
       "      <td>87</td>\n",
       "      <td>0</td>\n",
       "      <td>220</td>\n",
       "    </tr>\n",
       "    <tr>\n",
       "      <td>29</td>\n",
       "      <td>Tamil Nadu</td>\n",
       "      <td>47343</td>\n",
       "      <td>102310</td>\n",
       "      <td>2167</td>\n",
       "      <td>151820</td>\n",
       "    </tr>\n",
       "    <tr>\n",
       "      <td>30</td>\n",
       "      <td>Telangana</td>\n",
       "      <td>12957</td>\n",
       "      <td>25999</td>\n",
       "      <td>386</td>\n",
       "      <td>39342</td>\n",
       "    </tr>\n",
       "    <tr>\n",
       "      <td>31</td>\n",
       "      <td>Tripura</td>\n",
       "      <td>661</td>\n",
       "      <td>1604</td>\n",
       "      <td>3</td>\n",
       "      <td>2268</td>\n",
       "    </tr>\n",
       "    <tr>\n",
       "      <td>32</td>\n",
       "      <td>Uttarakhand</td>\n",
       "      <td>787</td>\n",
       "      <td>2948</td>\n",
       "      <td>50</td>\n",
       "      <td>3785</td>\n",
       "    </tr>\n",
       "    <tr>\n",
       "      <td>33</td>\n",
       "      <td>Uttar Pradesh</td>\n",
       "      <td>14628</td>\n",
       "      <td>25743</td>\n",
       "      <td>1012</td>\n",
       "      <td>41383</td>\n",
       "    </tr>\n",
       "    <tr>\n",
       "      <td>34</td>\n",
       "      <td>West Bengal</td>\n",
       "      <td>12747</td>\n",
       "      <td>20680</td>\n",
       "      <td>1000</td>\n",
       "      <td>34427</td>\n",
       "    </tr>\n",
       "    <tr>\n",
       "      <td>35</td>\n",
       "      <td>Cases being reassigned to states</td>\n",
       "      <td>1285</td>\n",
       "      <td></td>\n",
       "      <td></td>\n",
       "      <td>1285</td>\n",
       "    </tr>\n",
       "    <tr>\n",
       "      <td>36</td>\n",
       "      <td>Total#</td>\n",
       "      <td>331146</td>\n",
       "      <td>612815</td>\n",
       "      <td>24915</td>\n",
       "      <td>968876</td>\n",
       "    </tr>\n",
       "  </tbody>\n",
       "</table>\n",
       "</div>"
      ],
      "text/plain": [
       "                          Name of State / UT Active Cases  \\\n",
       "0                Andaman and Nicobar Islands           46   \n",
       "1                             Andhra Pradesh        16621   \n",
       "2                          Arunachal Pradesh          306   \n",
       "3                                      Assam         6447   \n",
       "4                                      Bihar         6970   \n",
       "5                                 Chandigarh          155   \n",
       "6                               Chhattisgarh         1195   \n",
       "7   Dadra and Nagar Haveli and Daman and Diu          180   \n",
       "8                                      Delhi        17807   \n",
       "9                                        Goa         1259   \n",
       "10                                   Gujarat        11187   \n",
       "11                                   Haryana         5320   \n",
       "12                          Himachal Pradesh          351   \n",
       "13                         Jammu and Kashmir         5123   \n",
       "14                                 Jharkhand         1797   \n",
       "15                                 Karnataka        27859   \n",
       "16                                    Kerala         4884   \n",
       "17                                    Ladakh          177   \n",
       "18                            Madhya Pradesh         5053   \n",
       "19                               Maharashtra       112099   \n",
       "20                                   Manipur          711   \n",
       "21                                 Meghalaya          278   \n",
       "22                                   Mizoram           79   \n",
       "23                                  Nagaland          554   \n",
       "24                                    Odisha         4345   \n",
       "25                                Puducherry          686   \n",
       "26                                    Punjab         2711   \n",
       "27                                 Rajasthan         6405   \n",
       "28                                    Sikkim          133   \n",
       "29                                Tamil Nadu        47343   \n",
       "30                                 Telangana        12957   \n",
       "31                                   Tripura          661   \n",
       "32                               Uttarakhand          787   \n",
       "33                             Uttar Pradesh        14628   \n",
       "34                               West Bengal        12747   \n",
       "35          Cases being reassigned to states         1285   \n",
       "36                                    Total#       331146   \n",
       "\n",
       "   Cured/Discharged/Migrated Deaths Total Confirmed cases  \n",
       "0                        130      0                   176  \n",
       "1                      18378    452                 35451  \n",
       "2                        153      3                   462  \n",
       "3                      12173     46                 18666  \n",
       "4                      13462    180                 20612  \n",
       "5                        459     11                   625  \n",
       "6                       3324     20                  4539  \n",
       "7                        357      2                   539  \n",
       "8                      95699   3487                116993  \n",
       "9                       1674     18                  2951  \n",
       "10                     31286   2079                 44552  \n",
       "11                     17667    319                 23306  \n",
       "12                       979     11                  1341  \n",
       "13                      6337    206                 11666  \n",
       "14                      2485     38                  4320  \n",
       "15                     18466    928                 47253  \n",
       "16                      4634     35                  9553  \n",
       "17                       964      1                  1142  \n",
       "18                     13908    682                 19643  \n",
       "19                    152613  10928                275640  \n",
       "20                       989      0                  1700  \n",
       "21                        66      2                   346  \n",
       "22                       159      0                   238  \n",
       "23                       348      0                   902  \n",
       "24                     10476     77                 14898  \n",
       "25                       889     21                  1596  \n",
       "26                      5867    221                  8799  \n",
       "27                     19502    530                 26437  \n",
       "28                        87      0                   220  \n",
       "29                    102310   2167                151820  \n",
       "30                     25999    386                 39342  \n",
       "31                      1604      3                  2268  \n",
       "32                      2948     50                  3785  \n",
       "33                     25743   1012                 41383  \n",
       "34                     20680   1000                 34427  \n",
       "35                                                   1285  \n",
       "36                    612815  24915                968876  "
      ]
     },
     "execution_count": 9,
     "metadata": {},
     "output_type": "execute_result"
    }
   ],
   "source": [
    "df"
   ]
  },
  {
   "cell_type": "code",
   "execution_count": 10,
   "metadata": {},
   "outputs": [
    {
     "data": {
      "text/html": [
       "<div>\n",
       "<style scoped>\n",
       "    .dataframe tbody tr th:only-of-type {\n",
       "        vertical-align: middle;\n",
       "    }\n",
       "\n",
       "    .dataframe tbody tr th {\n",
       "        vertical-align: top;\n",
       "    }\n",
       "\n",
       "    .dataframe thead th {\n",
       "        text-align: right;\n",
       "    }\n",
       "</style>\n",
       "<table border=\"1\" class=\"dataframe\">\n",
       "  <thead>\n",
       "    <tr style=\"text-align: right;\">\n",
       "      <th></th>\n",
       "      <th>Name of State / UT</th>\n",
       "      <th>Active Cases</th>\n",
       "      <th>Cured/Discharged/Migrated</th>\n",
       "      <th>Deaths</th>\n",
       "      <th>Total Confirmed cases</th>\n",
       "    </tr>\n",
       "  </thead>\n",
       "  <tbody>\n",
       "    <tr>\n",
       "      <td>0</td>\n",
       "      <td>Andaman and Nicobar Islands</td>\n",
       "      <td>46</td>\n",
       "      <td>130</td>\n",
       "      <td>0</td>\n",
       "      <td>176</td>\n",
       "    </tr>\n",
       "    <tr>\n",
       "      <td>1</td>\n",
       "      <td>Andhra Pradesh</td>\n",
       "      <td>16621</td>\n",
       "      <td>18378</td>\n",
       "      <td>452</td>\n",
       "      <td>35451</td>\n",
       "    </tr>\n",
       "    <tr>\n",
       "      <td>2</td>\n",
       "      <td>Arunachal Pradesh</td>\n",
       "      <td>306</td>\n",
       "      <td>153</td>\n",
       "      <td>3</td>\n",
       "      <td>462</td>\n",
       "    </tr>\n",
       "    <tr>\n",
       "      <td>3</td>\n",
       "      <td>Assam</td>\n",
       "      <td>6447</td>\n",
       "      <td>12173</td>\n",
       "      <td>46</td>\n",
       "      <td>18666</td>\n",
       "    </tr>\n",
       "    <tr>\n",
       "      <td>4</td>\n",
       "      <td>Bihar</td>\n",
       "      <td>6970</td>\n",
       "      <td>13462</td>\n",
       "      <td>180</td>\n",
       "      <td>20612</td>\n",
       "    </tr>\n",
       "    <tr>\n",
       "      <td>5</td>\n",
       "      <td>Chandigarh</td>\n",
       "      <td>155</td>\n",
       "      <td>459</td>\n",
       "      <td>11</td>\n",
       "      <td>625</td>\n",
       "    </tr>\n",
       "    <tr>\n",
       "      <td>6</td>\n",
       "      <td>Chhattisgarh</td>\n",
       "      <td>1195</td>\n",
       "      <td>3324</td>\n",
       "      <td>20</td>\n",
       "      <td>4539</td>\n",
       "    </tr>\n",
       "    <tr>\n",
       "      <td>7</td>\n",
       "      <td>Dadra and Nagar Haveli and Daman and Diu</td>\n",
       "      <td>180</td>\n",
       "      <td>357</td>\n",
       "      <td>2</td>\n",
       "      <td>539</td>\n",
       "    </tr>\n",
       "    <tr>\n",
       "      <td>8</td>\n",
       "      <td>Delhi</td>\n",
       "      <td>17807</td>\n",
       "      <td>95699</td>\n",
       "      <td>3487</td>\n",
       "      <td>116993</td>\n",
       "    </tr>\n",
       "    <tr>\n",
       "      <td>9</td>\n",
       "      <td>Goa</td>\n",
       "      <td>1259</td>\n",
       "      <td>1674</td>\n",
       "      <td>18</td>\n",
       "      <td>2951</td>\n",
       "    </tr>\n",
       "    <tr>\n",
       "      <td>10</td>\n",
       "      <td>Gujarat</td>\n",
       "      <td>11187</td>\n",
       "      <td>31286</td>\n",
       "      <td>2079</td>\n",
       "      <td>44552</td>\n",
       "    </tr>\n",
       "    <tr>\n",
       "      <td>11</td>\n",
       "      <td>Haryana</td>\n",
       "      <td>5320</td>\n",
       "      <td>17667</td>\n",
       "      <td>319</td>\n",
       "      <td>23306</td>\n",
       "    </tr>\n",
       "    <tr>\n",
       "      <td>12</td>\n",
       "      <td>Himachal Pradesh</td>\n",
       "      <td>351</td>\n",
       "      <td>979</td>\n",
       "      <td>11</td>\n",
       "      <td>1341</td>\n",
       "    </tr>\n",
       "    <tr>\n",
       "      <td>13</td>\n",
       "      <td>Jammu and Kashmir</td>\n",
       "      <td>5123</td>\n",
       "      <td>6337</td>\n",
       "      <td>206</td>\n",
       "      <td>11666</td>\n",
       "    </tr>\n",
       "    <tr>\n",
       "      <td>14</td>\n",
       "      <td>Jharkhand</td>\n",
       "      <td>1797</td>\n",
       "      <td>2485</td>\n",
       "      <td>38</td>\n",
       "      <td>4320</td>\n",
       "    </tr>\n",
       "    <tr>\n",
       "      <td>15</td>\n",
       "      <td>Karnataka</td>\n",
       "      <td>27859</td>\n",
       "      <td>18466</td>\n",
       "      <td>928</td>\n",
       "      <td>47253</td>\n",
       "    </tr>\n",
       "    <tr>\n",
       "      <td>16</td>\n",
       "      <td>Kerala</td>\n",
       "      <td>4884</td>\n",
       "      <td>4634</td>\n",
       "      <td>35</td>\n",
       "      <td>9553</td>\n",
       "    </tr>\n",
       "    <tr>\n",
       "      <td>17</td>\n",
       "      <td>Ladakh</td>\n",
       "      <td>177</td>\n",
       "      <td>964</td>\n",
       "      <td>1</td>\n",
       "      <td>1142</td>\n",
       "    </tr>\n",
       "    <tr>\n",
       "      <td>18</td>\n",
       "      <td>Madhya Pradesh</td>\n",
       "      <td>5053</td>\n",
       "      <td>13908</td>\n",
       "      <td>682</td>\n",
       "      <td>19643</td>\n",
       "    </tr>\n",
       "    <tr>\n",
       "      <td>19</td>\n",
       "      <td>Maharashtra</td>\n",
       "      <td>112099</td>\n",
       "      <td>152613</td>\n",
       "      <td>10928</td>\n",
       "      <td>275640</td>\n",
       "    </tr>\n",
       "    <tr>\n",
       "      <td>20</td>\n",
       "      <td>Manipur</td>\n",
       "      <td>711</td>\n",
       "      <td>989</td>\n",
       "      <td>0</td>\n",
       "      <td>1700</td>\n",
       "    </tr>\n",
       "    <tr>\n",
       "      <td>21</td>\n",
       "      <td>Meghalaya</td>\n",
       "      <td>278</td>\n",
       "      <td>66</td>\n",
       "      <td>2</td>\n",
       "      <td>346</td>\n",
       "    </tr>\n",
       "    <tr>\n",
       "      <td>22</td>\n",
       "      <td>Mizoram</td>\n",
       "      <td>79</td>\n",
       "      <td>159</td>\n",
       "      <td>0</td>\n",
       "      <td>238</td>\n",
       "    </tr>\n",
       "    <tr>\n",
       "      <td>23</td>\n",
       "      <td>Nagaland</td>\n",
       "      <td>554</td>\n",
       "      <td>348</td>\n",
       "      <td>0</td>\n",
       "      <td>902</td>\n",
       "    </tr>\n",
       "    <tr>\n",
       "      <td>24</td>\n",
       "      <td>Odisha</td>\n",
       "      <td>4345</td>\n",
       "      <td>10476</td>\n",
       "      <td>77</td>\n",
       "      <td>14898</td>\n",
       "    </tr>\n",
       "    <tr>\n",
       "      <td>25</td>\n",
       "      <td>Puducherry</td>\n",
       "      <td>686</td>\n",
       "      <td>889</td>\n",
       "      <td>21</td>\n",
       "      <td>1596</td>\n",
       "    </tr>\n",
       "    <tr>\n",
       "      <td>26</td>\n",
       "      <td>Punjab</td>\n",
       "      <td>2711</td>\n",
       "      <td>5867</td>\n",
       "      <td>221</td>\n",
       "      <td>8799</td>\n",
       "    </tr>\n",
       "    <tr>\n",
       "      <td>27</td>\n",
       "      <td>Rajasthan</td>\n",
       "      <td>6405</td>\n",
       "      <td>19502</td>\n",
       "      <td>530</td>\n",
       "      <td>26437</td>\n",
       "    </tr>\n",
       "    <tr>\n",
       "      <td>28</td>\n",
       "      <td>Sikkim</td>\n",
       "      <td>133</td>\n",
       "      <td>87</td>\n",
       "      <td>0</td>\n",
       "      <td>220</td>\n",
       "    </tr>\n",
       "    <tr>\n",
       "      <td>29</td>\n",
       "      <td>Tamil Nadu</td>\n",
       "      <td>47343</td>\n",
       "      <td>102310</td>\n",
       "      <td>2167</td>\n",
       "      <td>151820</td>\n",
       "    </tr>\n",
       "    <tr>\n",
       "      <td>30</td>\n",
       "      <td>Telangana</td>\n",
       "      <td>12957</td>\n",
       "      <td>25999</td>\n",
       "      <td>386</td>\n",
       "      <td>39342</td>\n",
       "    </tr>\n",
       "    <tr>\n",
       "      <td>31</td>\n",
       "      <td>Tripura</td>\n",
       "      <td>661</td>\n",
       "      <td>1604</td>\n",
       "      <td>3</td>\n",
       "      <td>2268</td>\n",
       "    </tr>\n",
       "    <tr>\n",
       "      <td>32</td>\n",
       "      <td>Uttarakhand</td>\n",
       "      <td>787</td>\n",
       "      <td>2948</td>\n",
       "      <td>50</td>\n",
       "      <td>3785</td>\n",
       "    </tr>\n",
       "    <tr>\n",
       "      <td>33</td>\n",
       "      <td>Uttar Pradesh</td>\n",
       "      <td>14628</td>\n",
       "      <td>25743</td>\n",
       "      <td>1012</td>\n",
       "      <td>41383</td>\n",
       "    </tr>\n",
       "    <tr>\n",
       "      <td>34</td>\n",
       "      <td>West Bengal</td>\n",
       "      <td>12747</td>\n",
       "      <td>20680</td>\n",
       "      <td>1000</td>\n",
       "      <td>34427</td>\n",
       "    </tr>\n",
       "  </tbody>\n",
       "</table>\n",
       "</div>"
      ],
      "text/plain": [
       "                          Name of State / UT Active Cases  \\\n",
       "0                Andaman and Nicobar Islands           46   \n",
       "1                             Andhra Pradesh        16621   \n",
       "2                          Arunachal Pradesh          306   \n",
       "3                                      Assam         6447   \n",
       "4                                      Bihar         6970   \n",
       "5                                 Chandigarh          155   \n",
       "6                               Chhattisgarh         1195   \n",
       "7   Dadra and Nagar Haveli and Daman and Diu          180   \n",
       "8                                      Delhi        17807   \n",
       "9                                        Goa         1259   \n",
       "10                                   Gujarat        11187   \n",
       "11                                   Haryana         5320   \n",
       "12                          Himachal Pradesh          351   \n",
       "13                         Jammu and Kashmir         5123   \n",
       "14                                 Jharkhand         1797   \n",
       "15                                 Karnataka        27859   \n",
       "16                                    Kerala         4884   \n",
       "17                                    Ladakh          177   \n",
       "18                            Madhya Pradesh         5053   \n",
       "19                               Maharashtra       112099   \n",
       "20                                   Manipur          711   \n",
       "21                                 Meghalaya          278   \n",
       "22                                   Mizoram           79   \n",
       "23                                  Nagaland          554   \n",
       "24                                    Odisha         4345   \n",
       "25                                Puducherry          686   \n",
       "26                                    Punjab         2711   \n",
       "27                                 Rajasthan         6405   \n",
       "28                                    Sikkim          133   \n",
       "29                                Tamil Nadu        47343   \n",
       "30                                 Telangana        12957   \n",
       "31                                   Tripura          661   \n",
       "32                               Uttarakhand          787   \n",
       "33                             Uttar Pradesh        14628   \n",
       "34                               West Bengal        12747   \n",
       "\n",
       "   Cured/Discharged/Migrated Deaths Total Confirmed cases  \n",
       "0                        130      0                   176  \n",
       "1                      18378    452                 35451  \n",
       "2                        153      3                   462  \n",
       "3                      12173     46                 18666  \n",
       "4                      13462    180                 20612  \n",
       "5                        459     11                   625  \n",
       "6                       3324     20                  4539  \n",
       "7                        357      2                   539  \n",
       "8                      95699   3487                116993  \n",
       "9                       1674     18                  2951  \n",
       "10                     31286   2079                 44552  \n",
       "11                     17667    319                 23306  \n",
       "12                       979     11                  1341  \n",
       "13                      6337    206                 11666  \n",
       "14                      2485     38                  4320  \n",
       "15                     18466    928                 47253  \n",
       "16                      4634     35                  9553  \n",
       "17                       964      1                  1142  \n",
       "18                     13908    682                 19643  \n",
       "19                    152613  10928                275640  \n",
       "20                       989      0                  1700  \n",
       "21                        66      2                   346  \n",
       "22                       159      0                   238  \n",
       "23                       348      0                   902  \n",
       "24                     10476     77                 14898  \n",
       "25                       889     21                  1596  \n",
       "26                      5867    221                  8799  \n",
       "27                     19502    530                 26437  \n",
       "28                        87      0                   220  \n",
       "29                    102310   2167                151820  \n",
       "30                     25999    386                 39342  \n",
       "31                      1604      3                  2268  \n",
       "32                      2948     50                  3785  \n",
       "33                     25743   1012                 41383  \n",
       "34                     20680   1000                 34427  "
      ]
     },
     "execution_count": 10,
     "metadata": {},
     "output_type": "execute_result"
    }
   ],
   "source": [
    "df.drop(df.tail(2).index,inplace=True)\n",
    "df"
   ]
  },
  {
   "cell_type": "code",
   "execution_count": null,
   "metadata": {},
   "outputs": [],
   "source": []
  },
  {
   "cell_type": "code",
   "execution_count": 11,
   "metadata": {},
   "outputs": [
    {
     "data": {
      "text/plain": [
       "dtype('O')"
      ]
     },
     "execution_count": 11,
     "metadata": {},
     "output_type": "execute_result"
    }
   ],
   "source": [
    "df['Active Cases'].dtype"
   ]
  },
  {
   "cell_type": "code",
   "execution_count": 12,
   "metadata": {},
   "outputs": [],
   "source": [
    "df['Active Cases'] = df['Active Cases'].map(int)"
   ]
  },
  {
   "cell_type": "code",
   "execution_count": 13,
   "metadata": {},
   "outputs": [
    {
     "data": {
      "text/plain": [
       "dtype('int64')"
      ]
     },
     "execution_count": 13,
     "metadata": {},
     "output_type": "execute_result"
    }
   ],
   "source": [
    "df['Active Cases'].dtype"
   ]
  },
  {
   "cell_type": "code",
   "execution_count": 14,
   "metadata": {},
   "outputs": [],
   "source": [
    "df['Total Confirmed cases'] = df['Total Confirmed cases'].map(int)"
   ]
  },
  {
   "cell_type": "code",
   "execution_count": 15,
   "metadata": {},
   "outputs": [],
   "source": [
    "df['Total Confirmed cases'] = df['Total Confirmed cases'].map(int)\n",
    "df['Cured/Discharged/Migrated'] = df['Cured/Discharged/Migrated'].map(int)\n",
    "df['Deaths'] = df['Deaths'].map(int)\n"
   ]
  },
  {
   "cell_type": "code",
   "execution_count": 16,
   "metadata": {},
   "outputs": [
    {
     "name": "stdout",
     "output_type": "stream",
     "text": [
      "<class 'pandas.core.frame.DataFrame'>\n",
      "Int64Index: 35 entries, 0 to 34\n",
      "Data columns (total 5 columns):\n",
      "Name of State / UT           35 non-null object\n",
      "Active Cases                 35 non-null int64\n",
      "Cured/Discharged/Migrated    35 non-null int64\n",
      "Deaths                       35 non-null int64\n",
      "Total Confirmed cases        35 non-null int64\n",
      "dtypes: int64(4), object(1)\n",
      "memory usage: 1.6+ KB\n"
     ]
    }
   ],
   "source": [
    "df.info()"
   ]
  },
  {
   "cell_type": "code",
   "execution_count": 17,
   "metadata": {},
   "outputs": [
    {
     "name": "stdout",
     "output_type": "stream",
     "text": [
      "The total number of cases till now in India is  967591\n"
     ]
    }
   ],
   "source": [
    "total_cases_overall=df['Total Confirmed cases'].sum()\n",
    "print('The total number of cases till now in India is ',total_cases_overall)"
   ]
  },
  {
   "cell_type": "code",
   "execution_count": 18,
   "metadata": {},
   "outputs": [
    {
     "data": {
      "text/html": [
       "<style  type=\"text/css\" >\n",
       "    #T_79660c38_c74d_11ea_bcb7_2047475ed533row0_col1 {\n",
       "            background-color:  #fff5f0;\n",
       "            color:  #000000;\n",
       "        }    #T_79660c38_c74d_11ea_bcb7_2047475ed533row0_col2 {\n",
       "            background-color:  #fff5f0;\n",
       "            color:  #000000;\n",
       "        }    #T_79660c38_c74d_11ea_bcb7_2047475ed533row0_col3 {\n",
       "            background-color:  #fff5f0;\n",
       "            color:  #000000;\n",
       "        }    #T_79660c38_c74d_11ea_bcb7_2047475ed533row0_col4 {\n",
       "            background-color:  #fff5f0;\n",
       "            color:  #000000;\n",
       "        }    #T_79660c38_c74d_11ea_bcb7_2047475ed533row1_col1 {\n",
       "            background-color:  #fedaca;\n",
       "            color:  #000000;\n",
       "        }    #T_79660c38_c74d_11ea_bcb7_2047475ed533row1_col2 {\n",
       "            background-color:  #fee1d4;\n",
       "            color:  #000000;\n",
       "        }    #T_79660c38_c74d_11ea_bcb7_2047475ed533row1_col3 {\n",
       "            background-color:  #ffeee7;\n",
       "            color:  #000000;\n",
       "        }    #T_79660c38_c74d_11ea_bcb7_2047475ed533row1_col4 {\n",
       "            background-color:  #fee0d2;\n",
       "            color:  #000000;\n",
       "        }    #T_79660c38_c74d_11ea_bcb7_2047475ed533row2_col1 {\n",
       "            background-color:  #fff5f0;\n",
       "            color:  #000000;\n",
       "        }    #T_79660c38_c74d_11ea_bcb7_2047475ed533row2_col2 {\n",
       "            background-color:  #fff5f0;\n",
       "            color:  #000000;\n",
       "        }    #T_79660c38_c74d_11ea_bcb7_2047475ed533row2_col3 {\n",
       "            background-color:  #fff5f0;\n",
       "            color:  #000000;\n",
       "        }    #T_79660c38_c74d_11ea_bcb7_2047475ed533row2_col4 {\n",
       "            background-color:  #fff5f0;\n",
       "            color:  #000000;\n",
       "        }    #T_79660c38_c74d_11ea_bcb7_2047475ed533row3_col1 {\n",
       "            background-color:  #ffece3;\n",
       "            color:  #000000;\n",
       "        }    #T_79660c38_c74d_11ea_bcb7_2047475ed533row3_col2 {\n",
       "            background-color:  #fee8dd;\n",
       "            color:  #000000;\n",
       "        }    #T_79660c38_c74d_11ea_bcb7_2047475ed533row3_col3 {\n",
       "            background-color:  #fff4ef;\n",
       "            color:  #000000;\n",
       "        }    #T_79660c38_c74d_11ea_bcb7_2047475ed533row3_col4 {\n",
       "            background-color:  #feeae0;\n",
       "            color:  #000000;\n",
       "        }    #T_79660c38_c74d_11ea_bcb7_2047475ed533row4_col1 {\n",
       "            background-color:  #ffebe2;\n",
       "            color:  #000000;\n",
       "        }    #T_79660c38_c74d_11ea_bcb7_2047475ed533row4_col2 {\n",
       "            background-color:  #fee7db;\n",
       "            color:  #000000;\n",
       "        }    #T_79660c38_c74d_11ea_bcb7_2047475ed533row4_col3 {\n",
       "            background-color:  #fff2ec;\n",
       "            color:  #000000;\n",
       "        }    #T_79660c38_c74d_11ea_bcb7_2047475ed533row4_col4 {\n",
       "            background-color:  #fee9df;\n",
       "            color:  #000000;\n",
       "        }    #T_79660c38_c74d_11ea_bcb7_2047475ed533row5_col1 {\n",
       "            background-color:  #fff5f0;\n",
       "            color:  #000000;\n",
       "        }    #T_79660c38_c74d_11ea_bcb7_2047475ed533row5_col2 {\n",
       "            background-color:  #fff5f0;\n",
       "            color:  #000000;\n",
       "        }    #T_79660c38_c74d_11ea_bcb7_2047475ed533row5_col3 {\n",
       "            background-color:  #fff5f0;\n",
       "            color:  #000000;\n",
       "        }    #T_79660c38_c74d_11ea_bcb7_2047475ed533row5_col4 {\n",
       "            background-color:  #fff5f0;\n",
       "            color:  #000000;\n",
       "        }    #T_79660c38_c74d_11ea_bcb7_2047475ed533row6_col1 {\n",
       "            background-color:  #fff4ee;\n",
       "            color:  #000000;\n",
       "        }    #T_79660c38_c74d_11ea_bcb7_2047475ed533row6_col2 {\n",
       "            background-color:  #fff2eb;\n",
       "            color:  #000000;\n",
       "        }    #T_79660c38_c74d_11ea_bcb7_2047475ed533row6_col3 {\n",
       "            background-color:  #fff5f0;\n",
       "            color:  #000000;\n",
       "        }    #T_79660c38_c74d_11ea_bcb7_2047475ed533row6_col4 {\n",
       "            background-color:  #fff2ec;\n",
       "            color:  #000000;\n",
       "        }    #T_79660c38_c74d_11ea_bcb7_2047475ed533row7_col1 {\n",
       "            background-color:  #fff5f0;\n",
       "            color:  #000000;\n",
       "        }    #T_79660c38_c74d_11ea_bcb7_2047475ed533row7_col2 {\n",
       "            background-color:  #fff5f0;\n",
       "            color:  #000000;\n",
       "        }    #T_79660c38_c74d_11ea_bcb7_2047475ed533row7_col3 {\n",
       "            background-color:  #fff5f0;\n",
       "            color:  #000000;\n",
       "        }    #T_79660c38_c74d_11ea_bcb7_2047475ed533row7_col4 {\n",
       "            background-color:  #fff5f0;\n",
       "            color:  #000000;\n",
       "        }    #T_79660c38_c74d_11ea_bcb7_2047475ed533row8_col1 {\n",
       "            background-color:  #fdd7c6;\n",
       "            color:  #000000;\n",
       "        }    #T_79660c38_c74d_11ea_bcb7_2047475ed533row8_col2 {\n",
       "            background-color:  #ee3a2c;\n",
       "            color:  #f1f1f1;\n",
       "        }    #T_79660c38_c74d_11ea_bcb7_2047475ed533row8_col3 {\n",
       "            background-color:  #fca588;\n",
       "            color:  #000000;\n",
       "        }    #T_79660c38_c74d_11ea_bcb7_2047475ed533row8_col4 {\n",
       "            background-color:  #fc8262;\n",
       "            color:  #000000;\n",
       "        }    #T_79660c38_c74d_11ea_bcb7_2047475ed533row9_col1 {\n",
       "            background-color:  #fff4ee;\n",
       "            color:  #000000;\n",
       "        }    #T_79660c38_c74d_11ea_bcb7_2047475ed533row9_col2 {\n",
       "            background-color:  #fff4ee;\n",
       "            color:  #000000;\n",
       "        }    #T_79660c38_c74d_11ea_bcb7_2047475ed533row9_col3 {\n",
       "            background-color:  #fff5f0;\n",
       "            color:  #000000;\n",
       "        }    #T_79660c38_c74d_11ea_bcb7_2047475ed533row9_col4 {\n",
       "            background-color:  #fff4ee;\n",
       "            color:  #000000;\n",
       "        }    #T_79660c38_c74d_11ea_bcb7_2047475ed533row10_col1 {\n",
       "            background-color:  #fee5d8;\n",
       "            color:  #000000;\n",
       "        }    #T_79660c38_c74d_11ea_bcb7_2047475ed533row10_col2 {\n",
       "            background-color:  #fdc9b3;\n",
       "            color:  #000000;\n",
       "        }    #T_79660c38_c74d_11ea_bcb7_2047475ed533row10_col3 {\n",
       "            background-color:  #fdcdb9;\n",
       "            color:  #000000;\n",
       "        }    #T_79660c38_c74d_11ea_bcb7_2047475ed533row10_col4 {\n",
       "            background-color:  #fdd5c4;\n",
       "            color:  #000000;\n",
       "        }    #T_79660c38_c74d_11ea_bcb7_2047475ed533row11_col1 {\n",
       "            background-color:  #ffede5;\n",
       "            color:  #000000;\n",
       "        }    #T_79660c38_c74d_11ea_bcb7_2047475ed533row11_col2 {\n",
       "            background-color:  #fee2d5;\n",
       "            color:  #000000;\n",
       "        }    #T_79660c38_c74d_11ea_bcb7_2047475ed533row11_col3 {\n",
       "            background-color:  #fff0e9;\n",
       "            color:  #000000;\n",
       "        }    #T_79660c38_c74d_11ea_bcb7_2047475ed533row11_col4 {\n",
       "            background-color:  #fee7dc;\n",
       "            color:  #000000;\n",
       "        }    #T_79660c38_c74d_11ea_bcb7_2047475ed533row12_col1 {\n",
       "            background-color:  #fff5f0;\n",
       "            color:  #000000;\n",
       "        }    #T_79660c38_c74d_11ea_bcb7_2047475ed533row12_col2 {\n",
       "            background-color:  #fff4ef;\n",
       "            color:  #000000;\n",
       "        }    #T_79660c38_c74d_11ea_bcb7_2047475ed533row12_col3 {\n",
       "            background-color:  #fff5f0;\n",
       "            color:  #000000;\n",
       "        }    #T_79660c38_c74d_11ea_bcb7_2047475ed533row12_col4 {\n",
       "            background-color:  #fff4ef;\n",
       "            color:  #000000;\n",
       "        }    #T_79660c38_c74d_11ea_bcb7_2047475ed533row13_col1 {\n",
       "            background-color:  #ffeee6;\n",
       "            color:  #000000;\n",
       "        }    #T_79660c38_c74d_11ea_bcb7_2047475ed533row13_col2 {\n",
       "            background-color:  #ffeee7;\n",
       "            color:  #000000;\n",
       "        }    #T_79660c38_c74d_11ea_bcb7_2047475ed533row13_col3 {\n",
       "            background-color:  #fff2ec;\n",
       "            color:  #000000;\n",
       "        }    #T_79660c38_c74d_11ea_bcb7_2047475ed533row13_col4 {\n",
       "            background-color:  #ffeee7;\n",
       "            color:  #000000;\n",
       "        }    #T_79660c38_c74d_11ea_bcb7_2047475ed533row14_col1 {\n",
       "            background-color:  #fff2ec;\n",
       "            color:  #000000;\n",
       "        }    #T_79660c38_c74d_11ea_bcb7_2047475ed533row14_col2 {\n",
       "            background-color:  #fff2ec;\n",
       "            color:  #000000;\n",
       "        }    #T_79660c38_c74d_11ea_bcb7_2047475ed533row14_col3 {\n",
       "            background-color:  #fff5f0;\n",
       "            color:  #000000;\n",
       "        }    #T_79660c38_c74d_11ea_bcb7_2047475ed533row14_col4 {\n",
       "            background-color:  #fff3ed;\n",
       "            color:  #000000;\n",
       "        }    #T_79660c38_c74d_11ea_bcb7_2047475ed533row15_col1 {\n",
       "            background-color:  #fcbca2;\n",
       "            color:  #000000;\n",
       "        }    #T_79660c38_c74d_11ea_bcb7_2047475ed533row15_col2 {\n",
       "            background-color:  #fee1d4;\n",
       "            color:  #000000;\n",
       "        }    #T_79660c38_c74d_11ea_bcb7_2047475ed533row15_col3 {\n",
       "            background-color:  #fee7dc;\n",
       "            color:  #000000;\n",
       "        }    #T_79660c38_c74d_11ea_bcb7_2047475ed533row15_col4 {\n",
       "            background-color:  #fdd3c1;\n",
       "            color:  #000000;\n",
       "        }    #T_79660c38_c74d_11ea_bcb7_2047475ed533row16_col1 {\n",
       "            background-color:  #ffeee6;\n",
       "            color:  #000000;\n",
       "        }    #T_79660c38_c74d_11ea_bcb7_2047475ed533row16_col2 {\n",
       "            background-color:  #fff0e9;\n",
       "            color:  #000000;\n",
       "        }    #T_79660c38_c74d_11ea_bcb7_2047475ed533row16_col3 {\n",
       "            background-color:  #fff5f0;\n",
       "            color:  #000000;\n",
       "        }    #T_79660c38_c74d_11ea_bcb7_2047475ed533row16_col4 {\n",
       "            background-color:  #fff0e8;\n",
       "            color:  #000000;\n",
       "        }    #T_79660c38_c74d_11ea_bcb7_2047475ed533row17_col1 {\n",
       "            background-color:  #fff5f0;\n",
       "            color:  #000000;\n",
       "        }    #T_79660c38_c74d_11ea_bcb7_2047475ed533row17_col2 {\n",
       "            background-color:  #fff4ef;\n",
       "            color:  #000000;\n",
       "        }    #T_79660c38_c74d_11ea_bcb7_2047475ed533row17_col3 {\n",
       "            background-color:  #fff5f0;\n",
       "            color:  #000000;\n",
       "        }    #T_79660c38_c74d_11ea_bcb7_2047475ed533row17_col4 {\n",
       "            background-color:  #fff5f0;\n",
       "            color:  #000000;\n",
       "        }    #T_79660c38_c74d_11ea_bcb7_2047475ed533row18_col1 {\n",
       "            background-color:  #ffeee6;\n",
       "            color:  #000000;\n",
       "        }    #T_79660c38_c74d_11ea_bcb7_2047475ed533row18_col2 {\n",
       "            background-color:  #fee6da;\n",
       "            color:  #000000;\n",
       "        }    #T_79660c38_c74d_11ea_bcb7_2047475ed533row18_col3 {\n",
       "            background-color:  #ffebe2;\n",
       "            color:  #000000;\n",
       "        }    #T_79660c38_c74d_11ea_bcb7_2047475ed533row18_col4 {\n",
       "            background-color:  #fee9df;\n",
       "            color:  #000000;\n",
       "        }    #T_79660c38_c74d_11ea_bcb7_2047475ed533row19_col1 {\n",
       "            background-color:  #67000d;\n",
       "            color:  #f1f1f1;\n",
       "        }    #T_79660c38_c74d_11ea_bcb7_2047475ed533row19_col2 {\n",
       "            background-color:  #67000d;\n",
       "            color:  #f1f1f1;\n",
       "        }    #T_79660c38_c74d_11ea_bcb7_2047475ed533row19_col3 {\n",
       "            background-color:  #67000d;\n",
       "            color:  #f1f1f1;\n",
       "        }    #T_79660c38_c74d_11ea_bcb7_2047475ed533row19_col4 {\n",
       "            background-color:  #67000d;\n",
       "            color:  #f1f1f1;\n",
       "        }    #T_79660c38_c74d_11ea_bcb7_2047475ed533row20_col1 {\n",
       "            background-color:  #fff4ef;\n",
       "            color:  #000000;\n",
       "        }    #T_79660c38_c74d_11ea_bcb7_2047475ed533row20_col2 {\n",
       "            background-color:  #fff4ef;\n",
       "            color:  #000000;\n",
       "        }    #T_79660c38_c74d_11ea_bcb7_2047475ed533row20_col3 {\n",
       "            background-color:  #fff5f0;\n",
       "            color:  #000000;\n",
       "        }    #T_79660c38_c74d_11ea_bcb7_2047475ed533row20_col4 {\n",
       "            background-color:  #fff4ef;\n",
       "            color:  #000000;\n",
       "        }    #T_79660c38_c74d_11ea_bcb7_2047475ed533row21_col1 {\n",
       "            background-color:  #fff5f0;\n",
       "            color:  #000000;\n",
       "        }    #T_79660c38_c74d_11ea_bcb7_2047475ed533row21_col2 {\n",
       "            background-color:  #fff5f0;\n",
       "            color:  #000000;\n",
       "        }    #T_79660c38_c74d_11ea_bcb7_2047475ed533row21_col3 {\n",
       "            background-color:  #fff5f0;\n",
       "            color:  #000000;\n",
       "        }    #T_79660c38_c74d_11ea_bcb7_2047475ed533row21_col4 {\n",
       "            background-color:  #fff5f0;\n",
       "            color:  #000000;\n",
       "        }    #T_79660c38_c74d_11ea_bcb7_2047475ed533row22_col1 {\n",
       "            background-color:  #fff5f0;\n",
       "            color:  #000000;\n",
       "        }    #T_79660c38_c74d_11ea_bcb7_2047475ed533row22_col2 {\n",
       "            background-color:  #fff5f0;\n",
       "            color:  #000000;\n",
       "        }    #T_79660c38_c74d_11ea_bcb7_2047475ed533row22_col3 {\n",
       "            background-color:  #fff5f0;\n",
       "            color:  #000000;\n",
       "        }    #T_79660c38_c74d_11ea_bcb7_2047475ed533row22_col4 {\n",
       "            background-color:  #fff5f0;\n",
       "            color:  #000000;\n",
       "        }    #T_79660c38_c74d_11ea_bcb7_2047475ed533row23_col1 {\n",
       "            background-color:  #fff4ef;\n",
       "            color:  #000000;\n",
       "        }    #T_79660c38_c74d_11ea_bcb7_2047475ed533row23_col2 {\n",
       "            background-color:  #fff5f0;\n",
       "            color:  #000000;\n",
       "        }    #T_79660c38_c74d_11ea_bcb7_2047475ed533row23_col3 {\n",
       "            background-color:  #fff5f0;\n",
       "            color:  #000000;\n",
       "        }    #T_79660c38_c74d_11ea_bcb7_2047475ed533row23_col4 {\n",
       "            background-color:  #fff5f0;\n",
       "            color:  #000000;\n",
       "        }    #T_79660c38_c74d_11ea_bcb7_2047475ed533row24_col1 {\n",
       "            background-color:  #ffefe8;\n",
       "            color:  #000000;\n",
       "        }    #T_79660c38_c74d_11ea_bcb7_2047475ed533row24_col2 {\n",
       "            background-color:  #feeae0;\n",
       "            color:  #000000;\n",
       "        }    #T_79660c38_c74d_11ea_bcb7_2047475ed533row24_col3 {\n",
       "            background-color:  #fff4ef;\n",
       "            color:  #000000;\n",
       "        }    #T_79660c38_c74d_11ea_bcb7_2047475ed533row24_col4 {\n",
       "            background-color:  #ffece4;\n",
       "            color:  #000000;\n",
       "        }    #T_79660c38_c74d_11ea_bcb7_2047475ed533row25_col1 {\n",
       "            background-color:  #fff4ef;\n",
       "            color:  #000000;\n",
       "        }    #T_79660c38_c74d_11ea_bcb7_2047475ed533row25_col2 {\n",
       "            background-color:  #fff4ef;\n",
       "            color:  #000000;\n",
       "        }    #T_79660c38_c74d_11ea_bcb7_2047475ed533row25_col3 {\n",
       "            background-color:  #fff5f0;\n",
       "            color:  #000000;\n",
       "        }    #T_79660c38_c74d_11ea_bcb7_2047475ed533row25_col4 {\n",
       "            background-color:  #fff4ef;\n",
       "            color:  #000000;\n",
       "        }    #T_79660c38_c74d_11ea_bcb7_2047475ed533row26_col1 {\n",
       "            background-color:  #fff1ea;\n",
       "            color:  #000000;\n",
       "        }    #T_79660c38_c74d_11ea_bcb7_2047475ed533row26_col2 {\n",
       "            background-color:  #ffefe8;\n",
       "            color:  #000000;\n",
       "        }    #T_79660c38_c74d_11ea_bcb7_2047475ed533row26_col3 {\n",
       "            background-color:  #fff2eb;\n",
       "            color:  #000000;\n",
       "        }    #T_79660c38_c74d_11ea_bcb7_2047475ed533row26_col4 {\n",
       "            background-color:  #fff0e8;\n",
       "            color:  #000000;\n",
       "        }    #T_79660c38_c74d_11ea_bcb7_2047475ed533row27_col1 {\n",
       "            background-color:  #ffece3;\n",
       "            color:  #000000;\n",
       "        }    #T_79660c38_c74d_11ea_bcb7_2047475ed533row27_col2 {\n",
       "            background-color:  #fee0d2;\n",
       "            color:  #000000;\n",
       "        }    #T_79660c38_c74d_11ea_bcb7_2047475ed533row27_col3 {\n",
       "            background-color:  #ffede5;\n",
       "            color:  #000000;\n",
       "        }    #T_79660c38_c74d_11ea_bcb7_2047475ed533row27_col4 {\n",
       "            background-color:  #fee5d9;\n",
       "            color:  #000000;\n",
       "        }    #T_79660c38_c74d_11ea_bcb7_2047475ed533row28_col1 {\n",
       "            background-color:  #fff5f0;\n",
       "            color:  #000000;\n",
       "        }    #T_79660c38_c74d_11ea_bcb7_2047475ed533row28_col2 {\n",
       "            background-color:  #fff5f0;\n",
       "            color:  #000000;\n",
       "        }    #T_79660c38_c74d_11ea_bcb7_2047475ed533row28_col3 {\n",
       "            background-color:  #fff5f0;\n",
       "            color:  #000000;\n",
       "        }    #T_79660c38_c74d_11ea_bcb7_2047475ed533row28_col4 {\n",
       "            background-color:  #fff5f0;\n",
       "            color:  #000000;\n",
       "        }    #T_79660c38_c74d_11ea_bcb7_2047475ed533row29_col1 {\n",
       "            background-color:  #fc8262;\n",
       "            color:  #000000;\n",
       "        }    #T_79660c38_c74d_11ea_bcb7_2047475ed533row29_col2 {\n",
       "            background-color:  #e22e27;\n",
       "            color:  #f1f1f1;\n",
       "        }    #T_79660c38_c74d_11ea_bcb7_2047475ed533row29_col3 {\n",
       "            background-color:  #fdcbb6;\n",
       "            color:  #000000;\n",
       "        }    #T_79660c38_c74d_11ea_bcb7_2047475ed533row29_col4 {\n",
       "            background-color:  #f6583e;\n",
       "            color:  #000000;\n",
       "        }    #T_79660c38_c74d_11ea_bcb7_2047475ed533row30_col1 {\n",
       "            background-color:  #fee2d5;\n",
       "            color:  #000000;\n",
       "        }    #T_79660c38_c74d_11ea_bcb7_2047475ed533row30_col2 {\n",
       "            background-color:  #fdd3c1;\n",
       "            color:  #000000;\n",
       "        }    #T_79660c38_c74d_11ea_bcb7_2047475ed533row30_col3 {\n",
       "            background-color:  #ffefe8;\n",
       "            color:  #000000;\n",
       "        }    #T_79660c38_c74d_11ea_bcb7_2047475ed533row30_col4 {\n",
       "            background-color:  #fedbcc;\n",
       "            color:  #000000;\n",
       "        }    #T_79660c38_c74d_11ea_bcb7_2047475ed533row31_col1 {\n",
       "            background-color:  #fff4ef;\n",
       "            color:  #000000;\n",
       "        }    #T_79660c38_c74d_11ea_bcb7_2047475ed533row31_col2 {\n",
       "            background-color:  #fff4ee;\n",
       "            color:  #000000;\n",
       "        }    #T_79660c38_c74d_11ea_bcb7_2047475ed533row31_col3 {\n",
       "            background-color:  #fff5f0;\n",
       "            color:  #000000;\n",
       "        }    #T_79660c38_c74d_11ea_bcb7_2047475ed533row31_col4 {\n",
       "            background-color:  #fff4ef;\n",
       "            color:  #000000;\n",
       "        }    #T_79660c38_c74d_11ea_bcb7_2047475ed533row32_col1 {\n",
       "            background-color:  #fff4ef;\n",
       "            color:  #000000;\n",
       "        }    #T_79660c38_c74d_11ea_bcb7_2047475ed533row32_col2 {\n",
       "            background-color:  #fff2ec;\n",
       "            color:  #000000;\n",
       "        }    #T_79660c38_c74d_11ea_bcb7_2047475ed533row32_col3 {\n",
       "            background-color:  #fff4ef;\n",
       "            color:  #000000;\n",
       "        }    #T_79660c38_c74d_11ea_bcb7_2047475ed533row32_col4 {\n",
       "            background-color:  #fff3ed;\n",
       "            color:  #000000;\n",
       "        }    #T_79660c38_c74d_11ea_bcb7_2047475ed533row33_col1 {\n",
       "            background-color:  #fedfd0;\n",
       "            color:  #000000;\n",
       "        }    #T_79660c38_c74d_11ea_bcb7_2047475ed533row33_col2 {\n",
       "            background-color:  #fdd3c1;\n",
       "            color:  #000000;\n",
       "        }    #T_79660c38_c74d_11ea_bcb7_2047475ed533row33_col3 {\n",
       "            background-color:  #fee6da;\n",
       "            color:  #000000;\n",
       "        }    #T_79660c38_c74d_11ea_bcb7_2047475ed533row33_col4 {\n",
       "            background-color:  #fed9c9;\n",
       "            color:  #000000;\n",
       "        }    #T_79660c38_c74d_11ea_bcb7_2047475ed533row34_col1 {\n",
       "            background-color:  #fee2d5;\n",
       "            color:  #000000;\n",
       "        }    #T_79660c38_c74d_11ea_bcb7_2047475ed533row34_col2 {\n",
       "            background-color:  #fedecf;\n",
       "            color:  #000000;\n",
       "        }    #T_79660c38_c74d_11ea_bcb7_2047475ed533row34_col3 {\n",
       "            background-color:  #fee6da;\n",
       "            color:  #000000;\n",
       "        }    #T_79660c38_c74d_11ea_bcb7_2047475ed533row34_col4 {\n",
       "            background-color:  #fee1d3;\n",
       "            color:  #000000;\n",
       "        }</style><table id=\"T_79660c38_c74d_11ea_bcb7_2047475ed533\" ><thead>    <tr>        <th class=\"blank level0\" ></th>        <th class=\"col_heading level0 col0\" >Name of State / UT</th>        <th class=\"col_heading level0 col1\" >Active Cases</th>        <th class=\"col_heading level0 col2\" >Cured/Discharged/Migrated</th>        <th class=\"col_heading level0 col3\" >Deaths</th>        <th class=\"col_heading level0 col4\" >Total Confirmed cases</th>    </tr></thead><tbody>\n",
       "                <tr>\n",
       "                        <th id=\"T_79660c38_c74d_11ea_bcb7_2047475ed533level0_row0\" class=\"row_heading level0 row0\" >0</th>\n",
       "                        <td id=\"T_79660c38_c74d_11ea_bcb7_2047475ed533row0_col0\" class=\"data row0 col0\" >Andaman and Nicobar Islands</td>\n",
       "                        <td id=\"T_79660c38_c74d_11ea_bcb7_2047475ed533row0_col1\" class=\"data row0 col1\" >46</td>\n",
       "                        <td id=\"T_79660c38_c74d_11ea_bcb7_2047475ed533row0_col2\" class=\"data row0 col2\" >130</td>\n",
       "                        <td id=\"T_79660c38_c74d_11ea_bcb7_2047475ed533row0_col3\" class=\"data row0 col3\" >0</td>\n",
       "                        <td id=\"T_79660c38_c74d_11ea_bcb7_2047475ed533row0_col4\" class=\"data row0 col4\" >176</td>\n",
       "            </tr>\n",
       "            <tr>\n",
       "                        <th id=\"T_79660c38_c74d_11ea_bcb7_2047475ed533level0_row1\" class=\"row_heading level0 row1\" >1</th>\n",
       "                        <td id=\"T_79660c38_c74d_11ea_bcb7_2047475ed533row1_col0\" class=\"data row1 col0\" >Andhra Pradesh</td>\n",
       "                        <td id=\"T_79660c38_c74d_11ea_bcb7_2047475ed533row1_col1\" class=\"data row1 col1\" >16621</td>\n",
       "                        <td id=\"T_79660c38_c74d_11ea_bcb7_2047475ed533row1_col2\" class=\"data row1 col2\" >18378</td>\n",
       "                        <td id=\"T_79660c38_c74d_11ea_bcb7_2047475ed533row1_col3\" class=\"data row1 col3\" >452</td>\n",
       "                        <td id=\"T_79660c38_c74d_11ea_bcb7_2047475ed533row1_col4\" class=\"data row1 col4\" >35451</td>\n",
       "            </tr>\n",
       "            <tr>\n",
       "                        <th id=\"T_79660c38_c74d_11ea_bcb7_2047475ed533level0_row2\" class=\"row_heading level0 row2\" >2</th>\n",
       "                        <td id=\"T_79660c38_c74d_11ea_bcb7_2047475ed533row2_col0\" class=\"data row2 col0\" >Arunachal Pradesh</td>\n",
       "                        <td id=\"T_79660c38_c74d_11ea_bcb7_2047475ed533row2_col1\" class=\"data row2 col1\" >306</td>\n",
       "                        <td id=\"T_79660c38_c74d_11ea_bcb7_2047475ed533row2_col2\" class=\"data row2 col2\" >153</td>\n",
       "                        <td id=\"T_79660c38_c74d_11ea_bcb7_2047475ed533row2_col3\" class=\"data row2 col3\" >3</td>\n",
       "                        <td id=\"T_79660c38_c74d_11ea_bcb7_2047475ed533row2_col4\" class=\"data row2 col4\" >462</td>\n",
       "            </tr>\n",
       "            <tr>\n",
       "                        <th id=\"T_79660c38_c74d_11ea_bcb7_2047475ed533level0_row3\" class=\"row_heading level0 row3\" >3</th>\n",
       "                        <td id=\"T_79660c38_c74d_11ea_bcb7_2047475ed533row3_col0\" class=\"data row3 col0\" >Assam</td>\n",
       "                        <td id=\"T_79660c38_c74d_11ea_bcb7_2047475ed533row3_col1\" class=\"data row3 col1\" >6447</td>\n",
       "                        <td id=\"T_79660c38_c74d_11ea_bcb7_2047475ed533row3_col2\" class=\"data row3 col2\" >12173</td>\n",
       "                        <td id=\"T_79660c38_c74d_11ea_bcb7_2047475ed533row3_col3\" class=\"data row3 col3\" >46</td>\n",
       "                        <td id=\"T_79660c38_c74d_11ea_bcb7_2047475ed533row3_col4\" class=\"data row3 col4\" >18666</td>\n",
       "            </tr>\n",
       "            <tr>\n",
       "                        <th id=\"T_79660c38_c74d_11ea_bcb7_2047475ed533level0_row4\" class=\"row_heading level0 row4\" >4</th>\n",
       "                        <td id=\"T_79660c38_c74d_11ea_bcb7_2047475ed533row4_col0\" class=\"data row4 col0\" >Bihar</td>\n",
       "                        <td id=\"T_79660c38_c74d_11ea_bcb7_2047475ed533row4_col1\" class=\"data row4 col1\" >6970</td>\n",
       "                        <td id=\"T_79660c38_c74d_11ea_bcb7_2047475ed533row4_col2\" class=\"data row4 col2\" >13462</td>\n",
       "                        <td id=\"T_79660c38_c74d_11ea_bcb7_2047475ed533row4_col3\" class=\"data row4 col3\" >180</td>\n",
       "                        <td id=\"T_79660c38_c74d_11ea_bcb7_2047475ed533row4_col4\" class=\"data row4 col4\" >20612</td>\n",
       "            </tr>\n",
       "            <tr>\n",
       "                        <th id=\"T_79660c38_c74d_11ea_bcb7_2047475ed533level0_row5\" class=\"row_heading level0 row5\" >5</th>\n",
       "                        <td id=\"T_79660c38_c74d_11ea_bcb7_2047475ed533row5_col0\" class=\"data row5 col0\" >Chandigarh</td>\n",
       "                        <td id=\"T_79660c38_c74d_11ea_bcb7_2047475ed533row5_col1\" class=\"data row5 col1\" >155</td>\n",
       "                        <td id=\"T_79660c38_c74d_11ea_bcb7_2047475ed533row5_col2\" class=\"data row5 col2\" >459</td>\n",
       "                        <td id=\"T_79660c38_c74d_11ea_bcb7_2047475ed533row5_col3\" class=\"data row5 col3\" >11</td>\n",
       "                        <td id=\"T_79660c38_c74d_11ea_bcb7_2047475ed533row5_col4\" class=\"data row5 col4\" >625</td>\n",
       "            </tr>\n",
       "            <tr>\n",
       "                        <th id=\"T_79660c38_c74d_11ea_bcb7_2047475ed533level0_row6\" class=\"row_heading level0 row6\" >6</th>\n",
       "                        <td id=\"T_79660c38_c74d_11ea_bcb7_2047475ed533row6_col0\" class=\"data row6 col0\" >Chhattisgarh</td>\n",
       "                        <td id=\"T_79660c38_c74d_11ea_bcb7_2047475ed533row6_col1\" class=\"data row6 col1\" >1195</td>\n",
       "                        <td id=\"T_79660c38_c74d_11ea_bcb7_2047475ed533row6_col2\" class=\"data row6 col2\" >3324</td>\n",
       "                        <td id=\"T_79660c38_c74d_11ea_bcb7_2047475ed533row6_col3\" class=\"data row6 col3\" >20</td>\n",
       "                        <td id=\"T_79660c38_c74d_11ea_bcb7_2047475ed533row6_col4\" class=\"data row6 col4\" >4539</td>\n",
       "            </tr>\n",
       "            <tr>\n",
       "                        <th id=\"T_79660c38_c74d_11ea_bcb7_2047475ed533level0_row7\" class=\"row_heading level0 row7\" >7</th>\n",
       "                        <td id=\"T_79660c38_c74d_11ea_bcb7_2047475ed533row7_col0\" class=\"data row7 col0\" >Dadra and Nagar Haveli and Daman and Diu</td>\n",
       "                        <td id=\"T_79660c38_c74d_11ea_bcb7_2047475ed533row7_col1\" class=\"data row7 col1\" >180</td>\n",
       "                        <td id=\"T_79660c38_c74d_11ea_bcb7_2047475ed533row7_col2\" class=\"data row7 col2\" >357</td>\n",
       "                        <td id=\"T_79660c38_c74d_11ea_bcb7_2047475ed533row7_col3\" class=\"data row7 col3\" >2</td>\n",
       "                        <td id=\"T_79660c38_c74d_11ea_bcb7_2047475ed533row7_col4\" class=\"data row7 col4\" >539</td>\n",
       "            </tr>\n",
       "            <tr>\n",
       "                        <th id=\"T_79660c38_c74d_11ea_bcb7_2047475ed533level0_row8\" class=\"row_heading level0 row8\" >8</th>\n",
       "                        <td id=\"T_79660c38_c74d_11ea_bcb7_2047475ed533row8_col0\" class=\"data row8 col0\" >Delhi</td>\n",
       "                        <td id=\"T_79660c38_c74d_11ea_bcb7_2047475ed533row8_col1\" class=\"data row8 col1\" >17807</td>\n",
       "                        <td id=\"T_79660c38_c74d_11ea_bcb7_2047475ed533row8_col2\" class=\"data row8 col2\" >95699</td>\n",
       "                        <td id=\"T_79660c38_c74d_11ea_bcb7_2047475ed533row8_col3\" class=\"data row8 col3\" >3487</td>\n",
       "                        <td id=\"T_79660c38_c74d_11ea_bcb7_2047475ed533row8_col4\" class=\"data row8 col4\" >116993</td>\n",
       "            </tr>\n",
       "            <tr>\n",
       "                        <th id=\"T_79660c38_c74d_11ea_bcb7_2047475ed533level0_row9\" class=\"row_heading level0 row9\" >9</th>\n",
       "                        <td id=\"T_79660c38_c74d_11ea_bcb7_2047475ed533row9_col0\" class=\"data row9 col0\" >Goa</td>\n",
       "                        <td id=\"T_79660c38_c74d_11ea_bcb7_2047475ed533row9_col1\" class=\"data row9 col1\" >1259</td>\n",
       "                        <td id=\"T_79660c38_c74d_11ea_bcb7_2047475ed533row9_col2\" class=\"data row9 col2\" >1674</td>\n",
       "                        <td id=\"T_79660c38_c74d_11ea_bcb7_2047475ed533row9_col3\" class=\"data row9 col3\" >18</td>\n",
       "                        <td id=\"T_79660c38_c74d_11ea_bcb7_2047475ed533row9_col4\" class=\"data row9 col4\" >2951</td>\n",
       "            </tr>\n",
       "            <tr>\n",
       "                        <th id=\"T_79660c38_c74d_11ea_bcb7_2047475ed533level0_row10\" class=\"row_heading level0 row10\" >10</th>\n",
       "                        <td id=\"T_79660c38_c74d_11ea_bcb7_2047475ed533row10_col0\" class=\"data row10 col0\" >Gujarat</td>\n",
       "                        <td id=\"T_79660c38_c74d_11ea_bcb7_2047475ed533row10_col1\" class=\"data row10 col1\" >11187</td>\n",
       "                        <td id=\"T_79660c38_c74d_11ea_bcb7_2047475ed533row10_col2\" class=\"data row10 col2\" >31286</td>\n",
       "                        <td id=\"T_79660c38_c74d_11ea_bcb7_2047475ed533row10_col3\" class=\"data row10 col3\" >2079</td>\n",
       "                        <td id=\"T_79660c38_c74d_11ea_bcb7_2047475ed533row10_col4\" class=\"data row10 col4\" >44552</td>\n",
       "            </tr>\n",
       "            <tr>\n",
       "                        <th id=\"T_79660c38_c74d_11ea_bcb7_2047475ed533level0_row11\" class=\"row_heading level0 row11\" >11</th>\n",
       "                        <td id=\"T_79660c38_c74d_11ea_bcb7_2047475ed533row11_col0\" class=\"data row11 col0\" >Haryana</td>\n",
       "                        <td id=\"T_79660c38_c74d_11ea_bcb7_2047475ed533row11_col1\" class=\"data row11 col1\" >5320</td>\n",
       "                        <td id=\"T_79660c38_c74d_11ea_bcb7_2047475ed533row11_col2\" class=\"data row11 col2\" >17667</td>\n",
       "                        <td id=\"T_79660c38_c74d_11ea_bcb7_2047475ed533row11_col3\" class=\"data row11 col3\" >319</td>\n",
       "                        <td id=\"T_79660c38_c74d_11ea_bcb7_2047475ed533row11_col4\" class=\"data row11 col4\" >23306</td>\n",
       "            </tr>\n",
       "            <tr>\n",
       "                        <th id=\"T_79660c38_c74d_11ea_bcb7_2047475ed533level0_row12\" class=\"row_heading level0 row12\" >12</th>\n",
       "                        <td id=\"T_79660c38_c74d_11ea_bcb7_2047475ed533row12_col0\" class=\"data row12 col0\" >Himachal Pradesh</td>\n",
       "                        <td id=\"T_79660c38_c74d_11ea_bcb7_2047475ed533row12_col1\" class=\"data row12 col1\" >351</td>\n",
       "                        <td id=\"T_79660c38_c74d_11ea_bcb7_2047475ed533row12_col2\" class=\"data row12 col2\" >979</td>\n",
       "                        <td id=\"T_79660c38_c74d_11ea_bcb7_2047475ed533row12_col3\" class=\"data row12 col3\" >11</td>\n",
       "                        <td id=\"T_79660c38_c74d_11ea_bcb7_2047475ed533row12_col4\" class=\"data row12 col4\" >1341</td>\n",
       "            </tr>\n",
       "            <tr>\n",
       "                        <th id=\"T_79660c38_c74d_11ea_bcb7_2047475ed533level0_row13\" class=\"row_heading level0 row13\" >13</th>\n",
       "                        <td id=\"T_79660c38_c74d_11ea_bcb7_2047475ed533row13_col0\" class=\"data row13 col0\" >Jammu and Kashmir</td>\n",
       "                        <td id=\"T_79660c38_c74d_11ea_bcb7_2047475ed533row13_col1\" class=\"data row13 col1\" >5123</td>\n",
       "                        <td id=\"T_79660c38_c74d_11ea_bcb7_2047475ed533row13_col2\" class=\"data row13 col2\" >6337</td>\n",
       "                        <td id=\"T_79660c38_c74d_11ea_bcb7_2047475ed533row13_col3\" class=\"data row13 col3\" >206</td>\n",
       "                        <td id=\"T_79660c38_c74d_11ea_bcb7_2047475ed533row13_col4\" class=\"data row13 col4\" >11666</td>\n",
       "            </tr>\n",
       "            <tr>\n",
       "                        <th id=\"T_79660c38_c74d_11ea_bcb7_2047475ed533level0_row14\" class=\"row_heading level0 row14\" >14</th>\n",
       "                        <td id=\"T_79660c38_c74d_11ea_bcb7_2047475ed533row14_col0\" class=\"data row14 col0\" >Jharkhand</td>\n",
       "                        <td id=\"T_79660c38_c74d_11ea_bcb7_2047475ed533row14_col1\" class=\"data row14 col1\" >1797</td>\n",
       "                        <td id=\"T_79660c38_c74d_11ea_bcb7_2047475ed533row14_col2\" class=\"data row14 col2\" >2485</td>\n",
       "                        <td id=\"T_79660c38_c74d_11ea_bcb7_2047475ed533row14_col3\" class=\"data row14 col3\" >38</td>\n",
       "                        <td id=\"T_79660c38_c74d_11ea_bcb7_2047475ed533row14_col4\" class=\"data row14 col4\" >4320</td>\n",
       "            </tr>\n",
       "            <tr>\n",
       "                        <th id=\"T_79660c38_c74d_11ea_bcb7_2047475ed533level0_row15\" class=\"row_heading level0 row15\" >15</th>\n",
       "                        <td id=\"T_79660c38_c74d_11ea_bcb7_2047475ed533row15_col0\" class=\"data row15 col0\" >Karnataka</td>\n",
       "                        <td id=\"T_79660c38_c74d_11ea_bcb7_2047475ed533row15_col1\" class=\"data row15 col1\" >27859</td>\n",
       "                        <td id=\"T_79660c38_c74d_11ea_bcb7_2047475ed533row15_col2\" class=\"data row15 col2\" >18466</td>\n",
       "                        <td id=\"T_79660c38_c74d_11ea_bcb7_2047475ed533row15_col3\" class=\"data row15 col3\" >928</td>\n",
       "                        <td id=\"T_79660c38_c74d_11ea_bcb7_2047475ed533row15_col4\" class=\"data row15 col4\" >47253</td>\n",
       "            </tr>\n",
       "            <tr>\n",
       "                        <th id=\"T_79660c38_c74d_11ea_bcb7_2047475ed533level0_row16\" class=\"row_heading level0 row16\" >16</th>\n",
       "                        <td id=\"T_79660c38_c74d_11ea_bcb7_2047475ed533row16_col0\" class=\"data row16 col0\" >Kerala</td>\n",
       "                        <td id=\"T_79660c38_c74d_11ea_bcb7_2047475ed533row16_col1\" class=\"data row16 col1\" >4884</td>\n",
       "                        <td id=\"T_79660c38_c74d_11ea_bcb7_2047475ed533row16_col2\" class=\"data row16 col2\" >4634</td>\n",
       "                        <td id=\"T_79660c38_c74d_11ea_bcb7_2047475ed533row16_col3\" class=\"data row16 col3\" >35</td>\n",
       "                        <td id=\"T_79660c38_c74d_11ea_bcb7_2047475ed533row16_col4\" class=\"data row16 col4\" >9553</td>\n",
       "            </tr>\n",
       "            <tr>\n",
       "                        <th id=\"T_79660c38_c74d_11ea_bcb7_2047475ed533level0_row17\" class=\"row_heading level0 row17\" >17</th>\n",
       "                        <td id=\"T_79660c38_c74d_11ea_bcb7_2047475ed533row17_col0\" class=\"data row17 col0\" >Ladakh</td>\n",
       "                        <td id=\"T_79660c38_c74d_11ea_bcb7_2047475ed533row17_col1\" class=\"data row17 col1\" >177</td>\n",
       "                        <td id=\"T_79660c38_c74d_11ea_bcb7_2047475ed533row17_col2\" class=\"data row17 col2\" >964</td>\n",
       "                        <td id=\"T_79660c38_c74d_11ea_bcb7_2047475ed533row17_col3\" class=\"data row17 col3\" >1</td>\n",
       "                        <td id=\"T_79660c38_c74d_11ea_bcb7_2047475ed533row17_col4\" class=\"data row17 col4\" >1142</td>\n",
       "            </tr>\n",
       "            <tr>\n",
       "                        <th id=\"T_79660c38_c74d_11ea_bcb7_2047475ed533level0_row18\" class=\"row_heading level0 row18\" >18</th>\n",
       "                        <td id=\"T_79660c38_c74d_11ea_bcb7_2047475ed533row18_col0\" class=\"data row18 col0\" >Madhya Pradesh</td>\n",
       "                        <td id=\"T_79660c38_c74d_11ea_bcb7_2047475ed533row18_col1\" class=\"data row18 col1\" >5053</td>\n",
       "                        <td id=\"T_79660c38_c74d_11ea_bcb7_2047475ed533row18_col2\" class=\"data row18 col2\" >13908</td>\n",
       "                        <td id=\"T_79660c38_c74d_11ea_bcb7_2047475ed533row18_col3\" class=\"data row18 col3\" >682</td>\n",
       "                        <td id=\"T_79660c38_c74d_11ea_bcb7_2047475ed533row18_col4\" class=\"data row18 col4\" >19643</td>\n",
       "            </tr>\n",
       "            <tr>\n",
       "                        <th id=\"T_79660c38_c74d_11ea_bcb7_2047475ed533level0_row19\" class=\"row_heading level0 row19\" >19</th>\n",
       "                        <td id=\"T_79660c38_c74d_11ea_bcb7_2047475ed533row19_col0\" class=\"data row19 col0\" >Maharashtra</td>\n",
       "                        <td id=\"T_79660c38_c74d_11ea_bcb7_2047475ed533row19_col1\" class=\"data row19 col1\" >112099</td>\n",
       "                        <td id=\"T_79660c38_c74d_11ea_bcb7_2047475ed533row19_col2\" class=\"data row19 col2\" >152613</td>\n",
       "                        <td id=\"T_79660c38_c74d_11ea_bcb7_2047475ed533row19_col3\" class=\"data row19 col3\" >10928</td>\n",
       "                        <td id=\"T_79660c38_c74d_11ea_bcb7_2047475ed533row19_col4\" class=\"data row19 col4\" >275640</td>\n",
       "            </tr>\n",
       "            <tr>\n",
       "                        <th id=\"T_79660c38_c74d_11ea_bcb7_2047475ed533level0_row20\" class=\"row_heading level0 row20\" >20</th>\n",
       "                        <td id=\"T_79660c38_c74d_11ea_bcb7_2047475ed533row20_col0\" class=\"data row20 col0\" >Manipur</td>\n",
       "                        <td id=\"T_79660c38_c74d_11ea_bcb7_2047475ed533row20_col1\" class=\"data row20 col1\" >711</td>\n",
       "                        <td id=\"T_79660c38_c74d_11ea_bcb7_2047475ed533row20_col2\" class=\"data row20 col2\" >989</td>\n",
       "                        <td id=\"T_79660c38_c74d_11ea_bcb7_2047475ed533row20_col3\" class=\"data row20 col3\" >0</td>\n",
       "                        <td id=\"T_79660c38_c74d_11ea_bcb7_2047475ed533row20_col4\" class=\"data row20 col4\" >1700</td>\n",
       "            </tr>\n",
       "            <tr>\n",
       "                        <th id=\"T_79660c38_c74d_11ea_bcb7_2047475ed533level0_row21\" class=\"row_heading level0 row21\" >21</th>\n",
       "                        <td id=\"T_79660c38_c74d_11ea_bcb7_2047475ed533row21_col0\" class=\"data row21 col0\" >Meghalaya</td>\n",
       "                        <td id=\"T_79660c38_c74d_11ea_bcb7_2047475ed533row21_col1\" class=\"data row21 col1\" >278</td>\n",
       "                        <td id=\"T_79660c38_c74d_11ea_bcb7_2047475ed533row21_col2\" class=\"data row21 col2\" >66</td>\n",
       "                        <td id=\"T_79660c38_c74d_11ea_bcb7_2047475ed533row21_col3\" class=\"data row21 col3\" >2</td>\n",
       "                        <td id=\"T_79660c38_c74d_11ea_bcb7_2047475ed533row21_col4\" class=\"data row21 col4\" >346</td>\n",
       "            </tr>\n",
       "            <tr>\n",
       "                        <th id=\"T_79660c38_c74d_11ea_bcb7_2047475ed533level0_row22\" class=\"row_heading level0 row22\" >22</th>\n",
       "                        <td id=\"T_79660c38_c74d_11ea_bcb7_2047475ed533row22_col0\" class=\"data row22 col0\" >Mizoram</td>\n",
       "                        <td id=\"T_79660c38_c74d_11ea_bcb7_2047475ed533row22_col1\" class=\"data row22 col1\" >79</td>\n",
       "                        <td id=\"T_79660c38_c74d_11ea_bcb7_2047475ed533row22_col2\" class=\"data row22 col2\" >159</td>\n",
       "                        <td id=\"T_79660c38_c74d_11ea_bcb7_2047475ed533row22_col3\" class=\"data row22 col3\" >0</td>\n",
       "                        <td id=\"T_79660c38_c74d_11ea_bcb7_2047475ed533row22_col4\" class=\"data row22 col4\" >238</td>\n",
       "            </tr>\n",
       "            <tr>\n",
       "                        <th id=\"T_79660c38_c74d_11ea_bcb7_2047475ed533level0_row23\" class=\"row_heading level0 row23\" >23</th>\n",
       "                        <td id=\"T_79660c38_c74d_11ea_bcb7_2047475ed533row23_col0\" class=\"data row23 col0\" >Nagaland</td>\n",
       "                        <td id=\"T_79660c38_c74d_11ea_bcb7_2047475ed533row23_col1\" class=\"data row23 col1\" >554</td>\n",
       "                        <td id=\"T_79660c38_c74d_11ea_bcb7_2047475ed533row23_col2\" class=\"data row23 col2\" >348</td>\n",
       "                        <td id=\"T_79660c38_c74d_11ea_bcb7_2047475ed533row23_col3\" class=\"data row23 col3\" >0</td>\n",
       "                        <td id=\"T_79660c38_c74d_11ea_bcb7_2047475ed533row23_col4\" class=\"data row23 col4\" >902</td>\n",
       "            </tr>\n",
       "            <tr>\n",
       "                        <th id=\"T_79660c38_c74d_11ea_bcb7_2047475ed533level0_row24\" class=\"row_heading level0 row24\" >24</th>\n",
       "                        <td id=\"T_79660c38_c74d_11ea_bcb7_2047475ed533row24_col0\" class=\"data row24 col0\" >Odisha</td>\n",
       "                        <td id=\"T_79660c38_c74d_11ea_bcb7_2047475ed533row24_col1\" class=\"data row24 col1\" >4345</td>\n",
       "                        <td id=\"T_79660c38_c74d_11ea_bcb7_2047475ed533row24_col2\" class=\"data row24 col2\" >10476</td>\n",
       "                        <td id=\"T_79660c38_c74d_11ea_bcb7_2047475ed533row24_col3\" class=\"data row24 col3\" >77</td>\n",
       "                        <td id=\"T_79660c38_c74d_11ea_bcb7_2047475ed533row24_col4\" class=\"data row24 col4\" >14898</td>\n",
       "            </tr>\n",
       "            <tr>\n",
       "                        <th id=\"T_79660c38_c74d_11ea_bcb7_2047475ed533level0_row25\" class=\"row_heading level0 row25\" >25</th>\n",
       "                        <td id=\"T_79660c38_c74d_11ea_bcb7_2047475ed533row25_col0\" class=\"data row25 col0\" >Puducherry</td>\n",
       "                        <td id=\"T_79660c38_c74d_11ea_bcb7_2047475ed533row25_col1\" class=\"data row25 col1\" >686</td>\n",
       "                        <td id=\"T_79660c38_c74d_11ea_bcb7_2047475ed533row25_col2\" class=\"data row25 col2\" >889</td>\n",
       "                        <td id=\"T_79660c38_c74d_11ea_bcb7_2047475ed533row25_col3\" class=\"data row25 col3\" >21</td>\n",
       "                        <td id=\"T_79660c38_c74d_11ea_bcb7_2047475ed533row25_col4\" class=\"data row25 col4\" >1596</td>\n",
       "            </tr>\n",
       "            <tr>\n",
       "                        <th id=\"T_79660c38_c74d_11ea_bcb7_2047475ed533level0_row26\" class=\"row_heading level0 row26\" >26</th>\n",
       "                        <td id=\"T_79660c38_c74d_11ea_bcb7_2047475ed533row26_col0\" class=\"data row26 col0\" >Punjab</td>\n",
       "                        <td id=\"T_79660c38_c74d_11ea_bcb7_2047475ed533row26_col1\" class=\"data row26 col1\" >2711</td>\n",
       "                        <td id=\"T_79660c38_c74d_11ea_bcb7_2047475ed533row26_col2\" class=\"data row26 col2\" >5867</td>\n",
       "                        <td id=\"T_79660c38_c74d_11ea_bcb7_2047475ed533row26_col3\" class=\"data row26 col3\" >221</td>\n",
       "                        <td id=\"T_79660c38_c74d_11ea_bcb7_2047475ed533row26_col4\" class=\"data row26 col4\" >8799</td>\n",
       "            </tr>\n",
       "            <tr>\n",
       "                        <th id=\"T_79660c38_c74d_11ea_bcb7_2047475ed533level0_row27\" class=\"row_heading level0 row27\" >27</th>\n",
       "                        <td id=\"T_79660c38_c74d_11ea_bcb7_2047475ed533row27_col0\" class=\"data row27 col0\" >Rajasthan</td>\n",
       "                        <td id=\"T_79660c38_c74d_11ea_bcb7_2047475ed533row27_col1\" class=\"data row27 col1\" >6405</td>\n",
       "                        <td id=\"T_79660c38_c74d_11ea_bcb7_2047475ed533row27_col2\" class=\"data row27 col2\" >19502</td>\n",
       "                        <td id=\"T_79660c38_c74d_11ea_bcb7_2047475ed533row27_col3\" class=\"data row27 col3\" >530</td>\n",
       "                        <td id=\"T_79660c38_c74d_11ea_bcb7_2047475ed533row27_col4\" class=\"data row27 col4\" >26437</td>\n",
       "            </tr>\n",
       "            <tr>\n",
       "                        <th id=\"T_79660c38_c74d_11ea_bcb7_2047475ed533level0_row28\" class=\"row_heading level0 row28\" >28</th>\n",
       "                        <td id=\"T_79660c38_c74d_11ea_bcb7_2047475ed533row28_col0\" class=\"data row28 col0\" >Sikkim</td>\n",
       "                        <td id=\"T_79660c38_c74d_11ea_bcb7_2047475ed533row28_col1\" class=\"data row28 col1\" >133</td>\n",
       "                        <td id=\"T_79660c38_c74d_11ea_bcb7_2047475ed533row28_col2\" class=\"data row28 col2\" >87</td>\n",
       "                        <td id=\"T_79660c38_c74d_11ea_bcb7_2047475ed533row28_col3\" class=\"data row28 col3\" >0</td>\n",
       "                        <td id=\"T_79660c38_c74d_11ea_bcb7_2047475ed533row28_col4\" class=\"data row28 col4\" >220</td>\n",
       "            </tr>\n",
       "            <tr>\n",
       "                        <th id=\"T_79660c38_c74d_11ea_bcb7_2047475ed533level0_row29\" class=\"row_heading level0 row29\" >29</th>\n",
       "                        <td id=\"T_79660c38_c74d_11ea_bcb7_2047475ed533row29_col0\" class=\"data row29 col0\" >Tamil Nadu</td>\n",
       "                        <td id=\"T_79660c38_c74d_11ea_bcb7_2047475ed533row29_col1\" class=\"data row29 col1\" >47343</td>\n",
       "                        <td id=\"T_79660c38_c74d_11ea_bcb7_2047475ed533row29_col2\" class=\"data row29 col2\" >102310</td>\n",
       "                        <td id=\"T_79660c38_c74d_11ea_bcb7_2047475ed533row29_col3\" class=\"data row29 col3\" >2167</td>\n",
       "                        <td id=\"T_79660c38_c74d_11ea_bcb7_2047475ed533row29_col4\" class=\"data row29 col4\" >151820</td>\n",
       "            </tr>\n",
       "            <tr>\n",
       "                        <th id=\"T_79660c38_c74d_11ea_bcb7_2047475ed533level0_row30\" class=\"row_heading level0 row30\" >30</th>\n",
       "                        <td id=\"T_79660c38_c74d_11ea_bcb7_2047475ed533row30_col0\" class=\"data row30 col0\" >Telangana</td>\n",
       "                        <td id=\"T_79660c38_c74d_11ea_bcb7_2047475ed533row30_col1\" class=\"data row30 col1\" >12957</td>\n",
       "                        <td id=\"T_79660c38_c74d_11ea_bcb7_2047475ed533row30_col2\" class=\"data row30 col2\" >25999</td>\n",
       "                        <td id=\"T_79660c38_c74d_11ea_bcb7_2047475ed533row30_col3\" class=\"data row30 col3\" >386</td>\n",
       "                        <td id=\"T_79660c38_c74d_11ea_bcb7_2047475ed533row30_col4\" class=\"data row30 col4\" >39342</td>\n",
       "            </tr>\n",
       "            <tr>\n",
       "                        <th id=\"T_79660c38_c74d_11ea_bcb7_2047475ed533level0_row31\" class=\"row_heading level0 row31\" >31</th>\n",
       "                        <td id=\"T_79660c38_c74d_11ea_bcb7_2047475ed533row31_col0\" class=\"data row31 col0\" >Tripura</td>\n",
       "                        <td id=\"T_79660c38_c74d_11ea_bcb7_2047475ed533row31_col1\" class=\"data row31 col1\" >661</td>\n",
       "                        <td id=\"T_79660c38_c74d_11ea_bcb7_2047475ed533row31_col2\" class=\"data row31 col2\" >1604</td>\n",
       "                        <td id=\"T_79660c38_c74d_11ea_bcb7_2047475ed533row31_col3\" class=\"data row31 col3\" >3</td>\n",
       "                        <td id=\"T_79660c38_c74d_11ea_bcb7_2047475ed533row31_col4\" class=\"data row31 col4\" >2268</td>\n",
       "            </tr>\n",
       "            <tr>\n",
       "                        <th id=\"T_79660c38_c74d_11ea_bcb7_2047475ed533level0_row32\" class=\"row_heading level0 row32\" >32</th>\n",
       "                        <td id=\"T_79660c38_c74d_11ea_bcb7_2047475ed533row32_col0\" class=\"data row32 col0\" >Uttarakhand</td>\n",
       "                        <td id=\"T_79660c38_c74d_11ea_bcb7_2047475ed533row32_col1\" class=\"data row32 col1\" >787</td>\n",
       "                        <td id=\"T_79660c38_c74d_11ea_bcb7_2047475ed533row32_col2\" class=\"data row32 col2\" >2948</td>\n",
       "                        <td id=\"T_79660c38_c74d_11ea_bcb7_2047475ed533row32_col3\" class=\"data row32 col3\" >50</td>\n",
       "                        <td id=\"T_79660c38_c74d_11ea_bcb7_2047475ed533row32_col4\" class=\"data row32 col4\" >3785</td>\n",
       "            </tr>\n",
       "            <tr>\n",
       "                        <th id=\"T_79660c38_c74d_11ea_bcb7_2047475ed533level0_row33\" class=\"row_heading level0 row33\" >33</th>\n",
       "                        <td id=\"T_79660c38_c74d_11ea_bcb7_2047475ed533row33_col0\" class=\"data row33 col0\" >Uttar Pradesh</td>\n",
       "                        <td id=\"T_79660c38_c74d_11ea_bcb7_2047475ed533row33_col1\" class=\"data row33 col1\" >14628</td>\n",
       "                        <td id=\"T_79660c38_c74d_11ea_bcb7_2047475ed533row33_col2\" class=\"data row33 col2\" >25743</td>\n",
       "                        <td id=\"T_79660c38_c74d_11ea_bcb7_2047475ed533row33_col3\" class=\"data row33 col3\" >1012</td>\n",
       "                        <td id=\"T_79660c38_c74d_11ea_bcb7_2047475ed533row33_col4\" class=\"data row33 col4\" >41383</td>\n",
       "            </tr>\n",
       "            <tr>\n",
       "                        <th id=\"T_79660c38_c74d_11ea_bcb7_2047475ed533level0_row34\" class=\"row_heading level0 row34\" >34</th>\n",
       "                        <td id=\"T_79660c38_c74d_11ea_bcb7_2047475ed533row34_col0\" class=\"data row34 col0\" >West Bengal</td>\n",
       "                        <td id=\"T_79660c38_c74d_11ea_bcb7_2047475ed533row34_col1\" class=\"data row34 col1\" >12747</td>\n",
       "                        <td id=\"T_79660c38_c74d_11ea_bcb7_2047475ed533row34_col2\" class=\"data row34 col2\" >20680</td>\n",
       "                        <td id=\"T_79660c38_c74d_11ea_bcb7_2047475ed533row34_col3\" class=\"data row34 col3\" >1000</td>\n",
       "                        <td id=\"T_79660c38_c74d_11ea_bcb7_2047475ed533row34_col4\" class=\"data row34 col4\" >34427</td>\n",
       "            </tr>\n",
       "    </tbody></table>"
      ],
      "text/plain": [
       "<pandas.io.formats.style.Styler at 0x1c57df5c1c8>"
      ]
     },
     "execution_count": 18,
     "metadata": {},
     "output_type": "execute_result"
    }
   ],
   "source": [
    "df.style.background_gradient(cmap='Reds')"
   ]
  },
  {
   "cell_type": "code",
   "execution_count": 19,
   "metadata": {},
   "outputs": [
    {
     "name": "stdout",
     "output_type": "stream",
     "text": [
      "+-------+------------------------------------------+--------------+---------------------------+--------+-----------------------+\n",
      "| Sr.No |            Name of State / UT            | Active Cases | Cured/Discharged/Migrated | Deaths | Total Confirmed cases |\n",
      "+-------+------------------------------------------+--------------+---------------------------+--------+-----------------------+\n",
      "|   1   |       Andaman and Nicobar Islands        |      46      |            130            |   0    |          176          |\n",
      "|   2   |              Andhra Pradesh              |    16621     |           18378           |  452   |         35451         |\n",
      "|   3   |            Arunachal Pradesh             |     306      |            153            |   3    |          462          |\n",
      "|   4   |                  Assam                   |     6447     |           12173           |   46   |         18666         |\n",
      "|   5   |                  Bihar                   |     6970     |           13462           |  180   |         20612         |\n",
      "|   6   |                Chandigarh                |     155      |            459            |   11   |          625          |\n",
      "|   7   |               Chhattisgarh               |     1195     |            3324           |   20   |          4539         |\n",
      "|   8   | Dadra and Nagar Haveli and Daman and Diu |     180      |            357            |   2    |          539          |\n",
      "|   9   |                  Delhi                   |    17807     |           95699           |  3487  |         116993        |\n",
      "|   10  |                   Goa                    |     1259     |            1674           |   18   |          2951         |\n",
      "|   11  |                 Gujarat                  |    11187     |           31286           |  2079  |         44552         |\n",
      "|   12  |                 Haryana                  |     5320     |           17667           |  319   |         23306         |\n",
      "|   13  |             Himachal Pradesh             |     351      |            979            |   11   |          1341         |\n",
      "|   14  |            Jammu and Kashmir             |     5123     |            6337           |  206   |         11666         |\n",
      "|   15  |                Jharkhand                 |     1797     |            2485           |   38   |          4320         |\n",
      "|   16  |                Karnataka                 |    27859     |           18466           |  928   |         47253         |\n",
      "|   17  |                  Kerala                  |     4884     |            4634           |   35   |          9553         |\n",
      "|   18  |                  Ladakh                  |     177      |            964            |   1    |          1142         |\n",
      "|   19  |              Madhya Pradesh              |     5053     |           13908           |  682   |         19643         |\n",
      "|   20  |               Maharashtra                |    112099    |           152613          | 10928  |         275640        |\n",
      "|   21  |                 Manipur                  |     711      |            989            |   0    |          1700         |\n",
      "|   22  |                Meghalaya                 |     278      |             66            |   2    |          346          |\n",
      "|   23  |                 Mizoram                  |      79      |            159            |   0    |          238          |\n",
      "|   24  |                 Nagaland                 |     554      |            348            |   0    |          902          |\n",
      "|   25  |                  Odisha                  |     4345     |           10476           |   77   |         14898         |\n",
      "|   26  |                Puducherry                |     686      |            889            |   21   |          1596         |\n",
      "|   27  |                  Punjab                  |     2711     |            5867           |  221   |          8799         |\n",
      "|   28  |                Rajasthan                 |     6405     |           19502           |  530   |         26437         |\n",
      "|   29  |                  Sikkim                  |     133      |             87            |   0    |          220          |\n",
      "|   30  |                Tamil Nadu                |    47343     |           102310          |  2167  |         151820        |\n",
      "|   31  |                Telangana                 |    12957     |           25999           |  386   |         39342         |\n",
      "|   32  |                 Tripura                  |     661      |            1604           |   3    |          2268         |\n",
      "|   33  |               Uttarakhand                |     787      |            2948           |   50   |          3785         |\n",
      "|   34  |              Uttar Pradesh               |    14628     |           25743           |  1012  |         41383         |\n",
      "|   35  |               West Bengal                |    12747     |           20680           |  1000  |         34427         |\n",
      "|       |     Cases being reassigned to states     |     1285     |                           |        |          1285         |\n",
      "|       |                  Total#                  |    331146    |           612815          | 24915  |         968876        |\n",
      "|       |                  Total                   |    329861    |           612815          | 24915  |         967591        |\n",
      "+-------+------------------------------------------+--------------+---------------------------+--------+-----------------------+\n"
     ]
    }
   ],
   "source": [
    "tbl = PrettyTable()\n",
    "tbl.field_names = (new_cols)\n",
    "for i in stats:\n",
    "    tbl.add_row(i)\n",
    "tbl.add_row([\"\",\"Total\", \n",
    "               sum(df['Active Cases']), \n",
    "               sum(df['Cured/Discharged/Migrated']), \n",
    "               sum(df['Deaths']),\n",
    "               sum(df['Total Confirmed cases'])])\n",
    "print(tbl)"
   ]
  },
  {
   "cell_type": "code",
   "execution_count": 20,
   "metadata": {},
   "outputs": [],
   "source": [
    "Total_Active_Cases=df.groupby('Name of State / UT')['Active Cases'].sum().sort_values(ascending=False).to_frame()\n",
    "Total_Recovery=df.groupby('Name of State / UT')['Cured/Discharged/Migrated'].sum().sort_values(ascending=False).to_frame()"
   ]
  },
  {
   "cell_type": "code",
   "execution_count": 21,
   "metadata": {},
   "outputs": [
    {
     "data": {
      "text/html": [
       "<style  type=\"text/css\" >\n",
       "    #T_79b4d35e_c74d_11ea_8b93_2047475ed533row0_col0 {\n",
       "            background-color:  #00441b;\n",
       "            color:  #f1f1f1;\n",
       "        }    #T_79b4d35e_c74d_11ea_8b93_2047475ed533row1_col0 {\n",
       "            background-color:  #369f54;\n",
       "            color:  #000000;\n",
       "        }    #T_79b4d35e_c74d_11ea_8b93_2047475ed533row2_col0 {\n",
       "            background-color:  #40aa5d;\n",
       "            color:  #000000;\n",
       "        }    #T_79b4d35e_c74d_11ea_8b93_2047475ed533row3_col0 {\n",
       "            background-color:  #d2edcc;\n",
       "            color:  #000000;\n",
       "        }    #T_79b4d35e_c74d_11ea_8b93_2047475ed533row4_col0 {\n",
       "            background-color:  #dbf1d5;\n",
       "            color:  #000000;\n",
       "        }    #T_79b4d35e_c74d_11ea_8b93_2047475ed533row5_col0 {\n",
       "            background-color:  #dbf1d5;\n",
       "            color:  #000000;\n",
       "        }    #T_79b4d35e_c74d_11ea_8b93_2047475ed533row6_col0 {\n",
       "            background-color:  #e3f4de;\n",
       "            color:  #000000;\n",
       "        }    #T_79b4d35e_c74d_11ea_8b93_2047475ed533row7_col0 {\n",
       "            background-color:  #e5f5e0;\n",
       "            color:  #000000;\n",
       "        }    #T_79b4d35e_c74d_11ea_8b93_2047475ed533row8_col0 {\n",
       "            background-color:  #e6f5e1;\n",
       "            color:  #000000;\n",
       "        }    #T_79b4d35e_c74d_11ea_8b93_2047475ed533row9_col0 {\n",
       "            background-color:  #e6f5e1;\n",
       "            color:  #000000;\n",
       "        }    #T_79b4d35e_c74d_11ea_8b93_2047475ed533row10_col0 {\n",
       "            background-color:  #e7f6e2;\n",
       "            color:  #000000;\n",
       "        }    #T_79b4d35e_c74d_11ea_8b93_2047475ed533row11_col0 {\n",
       "            background-color:  #eaf7e6;\n",
       "            color:  #000000;\n",
       "        }    #T_79b4d35e_c74d_11ea_8b93_2047475ed533row12_col0 {\n",
       "            background-color:  #ebf7e7;\n",
       "            color:  #000000;\n",
       "        }    #T_79b4d35e_c74d_11ea_8b93_2047475ed533row13_col0 {\n",
       "            background-color:  #ecf8e8;\n",
       "            color:  #000000;\n",
       "        }    #T_79b4d35e_c74d_11ea_8b93_2047475ed533row14_col0 {\n",
       "            background-color:  #edf8ea;\n",
       "            color:  #000000;\n",
       "        }    #T_79b4d35e_c74d_11ea_8b93_2047475ed533row15_col0 {\n",
       "            background-color:  #f1faee;\n",
       "            color:  #000000;\n",
       "        }    #T_79b4d35e_c74d_11ea_8b93_2047475ed533row16_col0 {\n",
       "            background-color:  #f2faef;\n",
       "            color:  #000000;\n",
       "        }    #T_79b4d35e_c74d_11ea_8b93_2047475ed533row17_col0 {\n",
       "            background-color:  #f3faf0;\n",
       "            color:  #000000;\n",
       "        }    #T_79b4d35e_c74d_11ea_8b93_2047475ed533row18_col0 {\n",
       "            background-color:  #f4fbf2;\n",
       "            color:  #000000;\n",
       "        }    #T_79b4d35e_c74d_11ea_8b93_2047475ed533row19_col0 {\n",
       "            background-color:  #f5fbf2;\n",
       "            color:  #000000;\n",
       "        }    #T_79b4d35e_c74d_11ea_8b93_2047475ed533row20_col0 {\n",
       "            background-color:  #f5fbf2;\n",
       "            color:  #000000;\n",
       "        }    #T_79b4d35e_c74d_11ea_8b93_2047475ed533row21_col0 {\n",
       "            background-color:  #f6fcf4;\n",
       "            color:  #000000;\n",
       "        }    #T_79b4d35e_c74d_11ea_8b93_2047475ed533row22_col0 {\n",
       "            background-color:  #f6fcf4;\n",
       "            color:  #000000;\n",
       "        }    #T_79b4d35e_c74d_11ea_8b93_2047475ed533row23_col0 {\n",
       "            background-color:  #f6fcf4;\n",
       "            color:  #000000;\n",
       "        }    #T_79b4d35e_c74d_11ea_8b93_2047475ed533row24_col0 {\n",
       "            background-color:  #f6fcf4;\n",
       "            color:  #000000;\n",
       "        }    #T_79b4d35e_c74d_11ea_8b93_2047475ed533row25_col0 {\n",
       "            background-color:  #f6fcf4;\n",
       "            color:  #000000;\n",
       "        }    #T_79b4d35e_c74d_11ea_8b93_2047475ed533row26_col0 {\n",
       "            background-color:  #f6fcf4;\n",
       "            color:  #000000;\n",
       "        }    #T_79b4d35e_c74d_11ea_8b93_2047475ed533row27_col0 {\n",
       "            background-color:  #f7fcf5;\n",
       "            color:  #000000;\n",
       "        }    #T_79b4d35e_c74d_11ea_8b93_2047475ed533row28_col0 {\n",
       "            background-color:  #f7fcf5;\n",
       "            color:  #000000;\n",
       "        }    #T_79b4d35e_c74d_11ea_8b93_2047475ed533row29_col0 {\n",
       "            background-color:  #f7fcf5;\n",
       "            color:  #000000;\n",
       "        }    #T_79b4d35e_c74d_11ea_8b93_2047475ed533row30_col0 {\n",
       "            background-color:  #f7fcf5;\n",
       "            color:  #000000;\n",
       "        }    #T_79b4d35e_c74d_11ea_8b93_2047475ed533row31_col0 {\n",
       "            background-color:  #f7fcf5;\n",
       "            color:  #000000;\n",
       "        }    #T_79b4d35e_c74d_11ea_8b93_2047475ed533row32_col0 {\n",
       "            background-color:  #f7fcf5;\n",
       "            color:  #000000;\n",
       "        }    #T_79b4d35e_c74d_11ea_8b93_2047475ed533row33_col0 {\n",
       "            background-color:  #f7fcf5;\n",
       "            color:  #000000;\n",
       "        }    #T_79b4d35e_c74d_11ea_8b93_2047475ed533row34_col0 {\n",
       "            background-color:  #f7fcf5;\n",
       "            color:  #000000;\n",
       "        }</style><table id=\"T_79b4d35e_c74d_11ea_8b93_2047475ed533\" ><thead>    <tr>        <th class=\"blank level0\" ></th>        <th class=\"col_heading level0 col0\" >Cured/Discharged/Migrated</th>    </tr>    <tr>        <th class=\"index_name level0\" >Name of State / UT</th>        <th class=\"blank\" ></th>    </tr></thead><tbody>\n",
       "                <tr>\n",
       "                        <th id=\"T_79b4d35e_c74d_11ea_8b93_2047475ed533level0_row0\" class=\"row_heading level0 row0\" >Maharashtra</th>\n",
       "                        <td id=\"T_79b4d35e_c74d_11ea_8b93_2047475ed533row0_col0\" class=\"data row0 col0\" >152613</td>\n",
       "            </tr>\n",
       "            <tr>\n",
       "                        <th id=\"T_79b4d35e_c74d_11ea_8b93_2047475ed533level0_row1\" class=\"row_heading level0 row1\" >Tamil Nadu</th>\n",
       "                        <td id=\"T_79b4d35e_c74d_11ea_8b93_2047475ed533row1_col0\" class=\"data row1 col0\" >102310</td>\n",
       "            </tr>\n",
       "            <tr>\n",
       "                        <th id=\"T_79b4d35e_c74d_11ea_8b93_2047475ed533level0_row2\" class=\"row_heading level0 row2\" >Delhi</th>\n",
       "                        <td id=\"T_79b4d35e_c74d_11ea_8b93_2047475ed533row2_col0\" class=\"data row2 col0\" >95699</td>\n",
       "            </tr>\n",
       "            <tr>\n",
       "                        <th id=\"T_79b4d35e_c74d_11ea_8b93_2047475ed533level0_row3\" class=\"row_heading level0 row3\" >Gujarat</th>\n",
       "                        <td id=\"T_79b4d35e_c74d_11ea_8b93_2047475ed533row3_col0\" class=\"data row3 col0\" >31286</td>\n",
       "            </tr>\n",
       "            <tr>\n",
       "                        <th id=\"T_79b4d35e_c74d_11ea_8b93_2047475ed533level0_row4\" class=\"row_heading level0 row4\" >Telangana</th>\n",
       "                        <td id=\"T_79b4d35e_c74d_11ea_8b93_2047475ed533row4_col0\" class=\"data row4 col0\" >25999</td>\n",
       "            </tr>\n",
       "            <tr>\n",
       "                        <th id=\"T_79b4d35e_c74d_11ea_8b93_2047475ed533level0_row5\" class=\"row_heading level0 row5\" >Uttar Pradesh</th>\n",
       "                        <td id=\"T_79b4d35e_c74d_11ea_8b93_2047475ed533row5_col0\" class=\"data row5 col0\" >25743</td>\n",
       "            </tr>\n",
       "            <tr>\n",
       "                        <th id=\"T_79b4d35e_c74d_11ea_8b93_2047475ed533level0_row6\" class=\"row_heading level0 row6\" >West Bengal</th>\n",
       "                        <td id=\"T_79b4d35e_c74d_11ea_8b93_2047475ed533row6_col0\" class=\"data row6 col0\" >20680</td>\n",
       "            </tr>\n",
       "            <tr>\n",
       "                        <th id=\"T_79b4d35e_c74d_11ea_8b93_2047475ed533level0_row7\" class=\"row_heading level0 row7\" >Rajasthan</th>\n",
       "                        <td id=\"T_79b4d35e_c74d_11ea_8b93_2047475ed533row7_col0\" class=\"data row7 col0\" >19502</td>\n",
       "            </tr>\n",
       "            <tr>\n",
       "                        <th id=\"T_79b4d35e_c74d_11ea_8b93_2047475ed533level0_row8\" class=\"row_heading level0 row8\" >Karnataka</th>\n",
       "                        <td id=\"T_79b4d35e_c74d_11ea_8b93_2047475ed533row8_col0\" class=\"data row8 col0\" >18466</td>\n",
       "            </tr>\n",
       "            <tr>\n",
       "                        <th id=\"T_79b4d35e_c74d_11ea_8b93_2047475ed533level0_row9\" class=\"row_heading level0 row9\" >Andhra Pradesh</th>\n",
       "                        <td id=\"T_79b4d35e_c74d_11ea_8b93_2047475ed533row9_col0\" class=\"data row9 col0\" >18378</td>\n",
       "            </tr>\n",
       "            <tr>\n",
       "                        <th id=\"T_79b4d35e_c74d_11ea_8b93_2047475ed533level0_row10\" class=\"row_heading level0 row10\" >Haryana</th>\n",
       "                        <td id=\"T_79b4d35e_c74d_11ea_8b93_2047475ed533row10_col0\" class=\"data row10 col0\" >17667</td>\n",
       "            </tr>\n",
       "            <tr>\n",
       "                        <th id=\"T_79b4d35e_c74d_11ea_8b93_2047475ed533level0_row11\" class=\"row_heading level0 row11\" >Madhya Pradesh</th>\n",
       "                        <td id=\"T_79b4d35e_c74d_11ea_8b93_2047475ed533row11_col0\" class=\"data row11 col0\" >13908</td>\n",
       "            </tr>\n",
       "            <tr>\n",
       "                        <th id=\"T_79b4d35e_c74d_11ea_8b93_2047475ed533level0_row12\" class=\"row_heading level0 row12\" >Bihar</th>\n",
       "                        <td id=\"T_79b4d35e_c74d_11ea_8b93_2047475ed533row12_col0\" class=\"data row12 col0\" >13462</td>\n",
       "            </tr>\n",
       "            <tr>\n",
       "                        <th id=\"T_79b4d35e_c74d_11ea_8b93_2047475ed533level0_row13\" class=\"row_heading level0 row13\" >Assam</th>\n",
       "                        <td id=\"T_79b4d35e_c74d_11ea_8b93_2047475ed533row13_col0\" class=\"data row13 col0\" >12173</td>\n",
       "            </tr>\n",
       "            <tr>\n",
       "                        <th id=\"T_79b4d35e_c74d_11ea_8b93_2047475ed533level0_row14\" class=\"row_heading level0 row14\" >Odisha</th>\n",
       "                        <td id=\"T_79b4d35e_c74d_11ea_8b93_2047475ed533row14_col0\" class=\"data row14 col0\" >10476</td>\n",
       "            </tr>\n",
       "            <tr>\n",
       "                        <th id=\"T_79b4d35e_c74d_11ea_8b93_2047475ed533level0_row15\" class=\"row_heading level0 row15\" >Jammu and Kashmir</th>\n",
       "                        <td id=\"T_79b4d35e_c74d_11ea_8b93_2047475ed533row15_col0\" class=\"data row15 col0\" >6337</td>\n",
       "            </tr>\n",
       "            <tr>\n",
       "                        <th id=\"T_79b4d35e_c74d_11ea_8b93_2047475ed533level0_row16\" class=\"row_heading level0 row16\" >Punjab</th>\n",
       "                        <td id=\"T_79b4d35e_c74d_11ea_8b93_2047475ed533row16_col0\" class=\"data row16 col0\" >5867</td>\n",
       "            </tr>\n",
       "            <tr>\n",
       "                        <th id=\"T_79b4d35e_c74d_11ea_8b93_2047475ed533level0_row17\" class=\"row_heading level0 row17\" >Kerala</th>\n",
       "                        <td id=\"T_79b4d35e_c74d_11ea_8b93_2047475ed533row17_col0\" class=\"data row17 col0\" >4634</td>\n",
       "            </tr>\n",
       "            <tr>\n",
       "                        <th id=\"T_79b4d35e_c74d_11ea_8b93_2047475ed533level0_row18\" class=\"row_heading level0 row18\" >Chhattisgarh</th>\n",
       "                        <td id=\"T_79b4d35e_c74d_11ea_8b93_2047475ed533row18_col0\" class=\"data row18 col0\" >3324</td>\n",
       "            </tr>\n",
       "            <tr>\n",
       "                        <th id=\"T_79b4d35e_c74d_11ea_8b93_2047475ed533level0_row19\" class=\"row_heading level0 row19\" >Uttarakhand</th>\n",
       "                        <td id=\"T_79b4d35e_c74d_11ea_8b93_2047475ed533row19_col0\" class=\"data row19 col0\" >2948</td>\n",
       "            </tr>\n",
       "            <tr>\n",
       "                        <th id=\"T_79b4d35e_c74d_11ea_8b93_2047475ed533level0_row20\" class=\"row_heading level0 row20\" >Jharkhand</th>\n",
       "                        <td id=\"T_79b4d35e_c74d_11ea_8b93_2047475ed533row20_col0\" class=\"data row20 col0\" >2485</td>\n",
       "            </tr>\n",
       "            <tr>\n",
       "                        <th id=\"T_79b4d35e_c74d_11ea_8b93_2047475ed533level0_row21\" class=\"row_heading level0 row21\" >Goa</th>\n",
       "                        <td id=\"T_79b4d35e_c74d_11ea_8b93_2047475ed533row21_col0\" class=\"data row21 col0\" >1674</td>\n",
       "            </tr>\n",
       "            <tr>\n",
       "                        <th id=\"T_79b4d35e_c74d_11ea_8b93_2047475ed533level0_row22\" class=\"row_heading level0 row22\" >Tripura</th>\n",
       "                        <td id=\"T_79b4d35e_c74d_11ea_8b93_2047475ed533row22_col0\" class=\"data row22 col0\" >1604</td>\n",
       "            </tr>\n",
       "            <tr>\n",
       "                        <th id=\"T_79b4d35e_c74d_11ea_8b93_2047475ed533level0_row23\" class=\"row_heading level0 row23\" >Manipur</th>\n",
       "                        <td id=\"T_79b4d35e_c74d_11ea_8b93_2047475ed533row23_col0\" class=\"data row23 col0\" >989</td>\n",
       "            </tr>\n",
       "            <tr>\n",
       "                        <th id=\"T_79b4d35e_c74d_11ea_8b93_2047475ed533level0_row24\" class=\"row_heading level0 row24\" >Himachal Pradesh</th>\n",
       "                        <td id=\"T_79b4d35e_c74d_11ea_8b93_2047475ed533row24_col0\" class=\"data row24 col0\" >979</td>\n",
       "            </tr>\n",
       "            <tr>\n",
       "                        <th id=\"T_79b4d35e_c74d_11ea_8b93_2047475ed533level0_row25\" class=\"row_heading level0 row25\" >Ladakh</th>\n",
       "                        <td id=\"T_79b4d35e_c74d_11ea_8b93_2047475ed533row25_col0\" class=\"data row25 col0\" >964</td>\n",
       "            </tr>\n",
       "            <tr>\n",
       "                        <th id=\"T_79b4d35e_c74d_11ea_8b93_2047475ed533level0_row26\" class=\"row_heading level0 row26\" >Puducherry</th>\n",
       "                        <td id=\"T_79b4d35e_c74d_11ea_8b93_2047475ed533row26_col0\" class=\"data row26 col0\" >889</td>\n",
       "            </tr>\n",
       "            <tr>\n",
       "                        <th id=\"T_79b4d35e_c74d_11ea_8b93_2047475ed533level0_row27\" class=\"row_heading level0 row27\" >Chandigarh</th>\n",
       "                        <td id=\"T_79b4d35e_c74d_11ea_8b93_2047475ed533row27_col0\" class=\"data row27 col0\" >459</td>\n",
       "            </tr>\n",
       "            <tr>\n",
       "                        <th id=\"T_79b4d35e_c74d_11ea_8b93_2047475ed533level0_row28\" class=\"row_heading level0 row28\" >Dadra and Nagar Haveli and Daman and Diu</th>\n",
       "                        <td id=\"T_79b4d35e_c74d_11ea_8b93_2047475ed533row28_col0\" class=\"data row28 col0\" >357</td>\n",
       "            </tr>\n",
       "            <tr>\n",
       "                        <th id=\"T_79b4d35e_c74d_11ea_8b93_2047475ed533level0_row29\" class=\"row_heading level0 row29\" >Nagaland</th>\n",
       "                        <td id=\"T_79b4d35e_c74d_11ea_8b93_2047475ed533row29_col0\" class=\"data row29 col0\" >348</td>\n",
       "            </tr>\n",
       "            <tr>\n",
       "                        <th id=\"T_79b4d35e_c74d_11ea_8b93_2047475ed533level0_row30\" class=\"row_heading level0 row30\" >Mizoram</th>\n",
       "                        <td id=\"T_79b4d35e_c74d_11ea_8b93_2047475ed533row30_col0\" class=\"data row30 col0\" >159</td>\n",
       "            </tr>\n",
       "            <tr>\n",
       "                        <th id=\"T_79b4d35e_c74d_11ea_8b93_2047475ed533level0_row31\" class=\"row_heading level0 row31\" >Arunachal Pradesh</th>\n",
       "                        <td id=\"T_79b4d35e_c74d_11ea_8b93_2047475ed533row31_col0\" class=\"data row31 col0\" >153</td>\n",
       "            </tr>\n",
       "            <tr>\n",
       "                        <th id=\"T_79b4d35e_c74d_11ea_8b93_2047475ed533level0_row32\" class=\"row_heading level0 row32\" >Andaman and Nicobar Islands</th>\n",
       "                        <td id=\"T_79b4d35e_c74d_11ea_8b93_2047475ed533row32_col0\" class=\"data row32 col0\" >130</td>\n",
       "            </tr>\n",
       "            <tr>\n",
       "                        <th id=\"T_79b4d35e_c74d_11ea_8b93_2047475ed533level0_row33\" class=\"row_heading level0 row33\" >Sikkim</th>\n",
       "                        <td id=\"T_79b4d35e_c74d_11ea_8b93_2047475ed533row33_col0\" class=\"data row33 col0\" >87</td>\n",
       "            </tr>\n",
       "            <tr>\n",
       "                        <th id=\"T_79b4d35e_c74d_11ea_8b93_2047475ed533level0_row34\" class=\"row_heading level0 row34\" >Meghalaya</th>\n",
       "                        <td id=\"T_79b4d35e_c74d_11ea_8b93_2047475ed533row34_col0\" class=\"data row34 col0\" >66</td>\n",
       "            </tr>\n",
       "    </tbody></table>"
      ],
      "text/plain": [
       "<pandas.io.formats.style.Styler at 0x1c57dfca508>"
      ]
     },
     "execution_count": 21,
     "metadata": {},
     "output_type": "execute_result"
    }
   ],
   "source": [
    "Total_Recovery.style.background_gradient(cmap='Greens')"
   ]
  },
  {
   "cell_type": "code",
   "execution_count": 22,
   "metadata": {},
   "outputs": [
    {
     "data": {
      "text/html": [
       "<style  type=\"text/css\" >\n",
       "    #T_79ce61b0_c74d_11ea_be95_2047475ed533row0_col0 {\n",
       "            background-color:  #67000d;\n",
       "            color:  #f1f1f1;\n",
       "        }    #T_79ce61b0_c74d_11ea_be95_2047475ed533row1_col0 {\n",
       "            background-color:  #fc8262;\n",
       "            color:  #000000;\n",
       "        }    #T_79ce61b0_c74d_11ea_be95_2047475ed533row2_col0 {\n",
       "            background-color:  #fcbca2;\n",
       "            color:  #000000;\n",
       "        }    #T_79ce61b0_c74d_11ea_be95_2047475ed533row3_col0 {\n",
       "            background-color:  #fdd7c6;\n",
       "            color:  #000000;\n",
       "        }    #T_79ce61b0_c74d_11ea_be95_2047475ed533row4_col0 {\n",
       "            background-color:  #fedaca;\n",
       "            color:  #000000;\n",
       "        }    #T_79ce61b0_c74d_11ea_be95_2047475ed533row5_col0 {\n",
       "            background-color:  #fedfd0;\n",
       "            color:  #000000;\n",
       "        }    #T_79ce61b0_c74d_11ea_be95_2047475ed533row6_col0 {\n",
       "            background-color:  #fee2d5;\n",
       "            color:  #000000;\n",
       "        }    #T_79ce61b0_c74d_11ea_be95_2047475ed533row7_col0 {\n",
       "            background-color:  #fee2d5;\n",
       "            color:  #000000;\n",
       "        }    #T_79ce61b0_c74d_11ea_be95_2047475ed533row8_col0 {\n",
       "            background-color:  #fee5d8;\n",
       "            color:  #000000;\n",
       "        }    #T_79ce61b0_c74d_11ea_be95_2047475ed533row9_col0 {\n",
       "            background-color:  #ffebe2;\n",
       "            color:  #000000;\n",
       "        }    #T_79ce61b0_c74d_11ea_be95_2047475ed533row10_col0 {\n",
       "            background-color:  #ffece3;\n",
       "            color:  #000000;\n",
       "        }    #T_79ce61b0_c74d_11ea_be95_2047475ed533row11_col0 {\n",
       "            background-color:  #ffece3;\n",
       "            color:  #000000;\n",
       "        }    #T_79ce61b0_c74d_11ea_be95_2047475ed533row12_col0 {\n",
       "            background-color:  #ffede5;\n",
       "            color:  #000000;\n",
       "        }    #T_79ce61b0_c74d_11ea_be95_2047475ed533row13_col0 {\n",
       "            background-color:  #ffeee6;\n",
       "            color:  #000000;\n",
       "        }    #T_79ce61b0_c74d_11ea_be95_2047475ed533row14_col0 {\n",
       "            background-color:  #ffeee6;\n",
       "            color:  #000000;\n",
       "        }    #T_79ce61b0_c74d_11ea_be95_2047475ed533row15_col0 {\n",
       "            background-color:  #ffeee6;\n",
       "            color:  #000000;\n",
       "        }    #T_79ce61b0_c74d_11ea_be95_2047475ed533row16_col0 {\n",
       "            background-color:  #ffefe8;\n",
       "            color:  #000000;\n",
       "        }    #T_79ce61b0_c74d_11ea_be95_2047475ed533row17_col0 {\n",
       "            background-color:  #fff1ea;\n",
       "            color:  #000000;\n",
       "        }    #T_79ce61b0_c74d_11ea_be95_2047475ed533row18_col0 {\n",
       "            background-color:  #fff2ec;\n",
       "            color:  #000000;\n",
       "        }    #T_79ce61b0_c74d_11ea_be95_2047475ed533row19_col0 {\n",
       "            background-color:  #fff4ee;\n",
       "            color:  #000000;\n",
       "        }    #T_79ce61b0_c74d_11ea_be95_2047475ed533row20_col0 {\n",
       "            background-color:  #fff4ee;\n",
       "            color:  #000000;\n",
       "        }    #T_79ce61b0_c74d_11ea_be95_2047475ed533row21_col0 {\n",
       "            background-color:  #fff4ef;\n",
       "            color:  #000000;\n",
       "        }    #T_79ce61b0_c74d_11ea_be95_2047475ed533row22_col0 {\n",
       "            background-color:  #fff4ef;\n",
       "            color:  #000000;\n",
       "        }    #T_79ce61b0_c74d_11ea_be95_2047475ed533row23_col0 {\n",
       "            background-color:  #fff4ef;\n",
       "            color:  #000000;\n",
       "        }    #T_79ce61b0_c74d_11ea_be95_2047475ed533row24_col0 {\n",
       "            background-color:  #fff4ef;\n",
       "            color:  #000000;\n",
       "        }    #T_79ce61b0_c74d_11ea_be95_2047475ed533row25_col0 {\n",
       "            background-color:  #fff4ef;\n",
       "            color:  #000000;\n",
       "        }    #T_79ce61b0_c74d_11ea_be95_2047475ed533row26_col0 {\n",
       "            background-color:  #fff5f0;\n",
       "            color:  #000000;\n",
       "        }    #T_79ce61b0_c74d_11ea_be95_2047475ed533row27_col0 {\n",
       "            background-color:  #fff5f0;\n",
       "            color:  #000000;\n",
       "        }    #T_79ce61b0_c74d_11ea_be95_2047475ed533row28_col0 {\n",
       "            background-color:  #fff5f0;\n",
       "            color:  #000000;\n",
       "        }    #T_79ce61b0_c74d_11ea_be95_2047475ed533row29_col0 {\n",
       "            background-color:  #fff5f0;\n",
       "            color:  #000000;\n",
       "        }    #T_79ce61b0_c74d_11ea_be95_2047475ed533row30_col0 {\n",
       "            background-color:  #fff5f0;\n",
       "            color:  #000000;\n",
       "        }    #T_79ce61b0_c74d_11ea_be95_2047475ed533row31_col0 {\n",
       "            background-color:  #fff5f0;\n",
       "            color:  #000000;\n",
       "        }    #T_79ce61b0_c74d_11ea_be95_2047475ed533row32_col0 {\n",
       "            background-color:  #fff5f0;\n",
       "            color:  #000000;\n",
       "        }    #T_79ce61b0_c74d_11ea_be95_2047475ed533row33_col0 {\n",
       "            background-color:  #fff5f0;\n",
       "            color:  #000000;\n",
       "        }    #T_79ce61b0_c74d_11ea_be95_2047475ed533row34_col0 {\n",
       "            background-color:  #fff5f0;\n",
       "            color:  #000000;\n",
       "        }</style><table id=\"T_79ce61b0_c74d_11ea_be95_2047475ed533\" ><thead>    <tr>        <th class=\"blank level0\" ></th>        <th class=\"col_heading level0 col0\" >Active Cases</th>    </tr>    <tr>        <th class=\"index_name level0\" >Name of State / UT</th>        <th class=\"blank\" ></th>    </tr></thead><tbody>\n",
       "                <tr>\n",
       "                        <th id=\"T_79ce61b0_c74d_11ea_be95_2047475ed533level0_row0\" class=\"row_heading level0 row0\" >Maharashtra</th>\n",
       "                        <td id=\"T_79ce61b0_c74d_11ea_be95_2047475ed533row0_col0\" class=\"data row0 col0\" >112099</td>\n",
       "            </tr>\n",
       "            <tr>\n",
       "                        <th id=\"T_79ce61b0_c74d_11ea_be95_2047475ed533level0_row1\" class=\"row_heading level0 row1\" >Tamil Nadu</th>\n",
       "                        <td id=\"T_79ce61b0_c74d_11ea_be95_2047475ed533row1_col0\" class=\"data row1 col0\" >47343</td>\n",
       "            </tr>\n",
       "            <tr>\n",
       "                        <th id=\"T_79ce61b0_c74d_11ea_be95_2047475ed533level0_row2\" class=\"row_heading level0 row2\" >Karnataka</th>\n",
       "                        <td id=\"T_79ce61b0_c74d_11ea_be95_2047475ed533row2_col0\" class=\"data row2 col0\" >27859</td>\n",
       "            </tr>\n",
       "            <tr>\n",
       "                        <th id=\"T_79ce61b0_c74d_11ea_be95_2047475ed533level0_row3\" class=\"row_heading level0 row3\" >Delhi</th>\n",
       "                        <td id=\"T_79ce61b0_c74d_11ea_be95_2047475ed533row3_col0\" class=\"data row3 col0\" >17807</td>\n",
       "            </tr>\n",
       "            <tr>\n",
       "                        <th id=\"T_79ce61b0_c74d_11ea_be95_2047475ed533level0_row4\" class=\"row_heading level0 row4\" >Andhra Pradesh</th>\n",
       "                        <td id=\"T_79ce61b0_c74d_11ea_be95_2047475ed533row4_col0\" class=\"data row4 col0\" >16621</td>\n",
       "            </tr>\n",
       "            <tr>\n",
       "                        <th id=\"T_79ce61b0_c74d_11ea_be95_2047475ed533level0_row5\" class=\"row_heading level0 row5\" >Uttar Pradesh</th>\n",
       "                        <td id=\"T_79ce61b0_c74d_11ea_be95_2047475ed533row5_col0\" class=\"data row5 col0\" >14628</td>\n",
       "            </tr>\n",
       "            <tr>\n",
       "                        <th id=\"T_79ce61b0_c74d_11ea_be95_2047475ed533level0_row6\" class=\"row_heading level0 row6\" >Telangana</th>\n",
       "                        <td id=\"T_79ce61b0_c74d_11ea_be95_2047475ed533row6_col0\" class=\"data row6 col0\" >12957</td>\n",
       "            </tr>\n",
       "            <tr>\n",
       "                        <th id=\"T_79ce61b0_c74d_11ea_be95_2047475ed533level0_row7\" class=\"row_heading level0 row7\" >West Bengal</th>\n",
       "                        <td id=\"T_79ce61b0_c74d_11ea_be95_2047475ed533row7_col0\" class=\"data row7 col0\" >12747</td>\n",
       "            </tr>\n",
       "            <tr>\n",
       "                        <th id=\"T_79ce61b0_c74d_11ea_be95_2047475ed533level0_row8\" class=\"row_heading level0 row8\" >Gujarat</th>\n",
       "                        <td id=\"T_79ce61b0_c74d_11ea_be95_2047475ed533row8_col0\" class=\"data row8 col0\" >11187</td>\n",
       "            </tr>\n",
       "            <tr>\n",
       "                        <th id=\"T_79ce61b0_c74d_11ea_be95_2047475ed533level0_row9\" class=\"row_heading level0 row9\" >Bihar</th>\n",
       "                        <td id=\"T_79ce61b0_c74d_11ea_be95_2047475ed533row9_col0\" class=\"data row9 col0\" >6970</td>\n",
       "            </tr>\n",
       "            <tr>\n",
       "                        <th id=\"T_79ce61b0_c74d_11ea_be95_2047475ed533level0_row10\" class=\"row_heading level0 row10\" >Assam</th>\n",
       "                        <td id=\"T_79ce61b0_c74d_11ea_be95_2047475ed533row10_col0\" class=\"data row10 col0\" >6447</td>\n",
       "            </tr>\n",
       "            <tr>\n",
       "                        <th id=\"T_79ce61b0_c74d_11ea_be95_2047475ed533level0_row11\" class=\"row_heading level0 row11\" >Rajasthan</th>\n",
       "                        <td id=\"T_79ce61b0_c74d_11ea_be95_2047475ed533row11_col0\" class=\"data row11 col0\" >6405</td>\n",
       "            </tr>\n",
       "            <tr>\n",
       "                        <th id=\"T_79ce61b0_c74d_11ea_be95_2047475ed533level0_row12\" class=\"row_heading level0 row12\" >Haryana</th>\n",
       "                        <td id=\"T_79ce61b0_c74d_11ea_be95_2047475ed533row12_col0\" class=\"data row12 col0\" >5320</td>\n",
       "            </tr>\n",
       "            <tr>\n",
       "                        <th id=\"T_79ce61b0_c74d_11ea_be95_2047475ed533level0_row13\" class=\"row_heading level0 row13\" >Jammu and Kashmir</th>\n",
       "                        <td id=\"T_79ce61b0_c74d_11ea_be95_2047475ed533row13_col0\" class=\"data row13 col0\" >5123</td>\n",
       "            </tr>\n",
       "            <tr>\n",
       "                        <th id=\"T_79ce61b0_c74d_11ea_be95_2047475ed533level0_row14\" class=\"row_heading level0 row14\" >Madhya Pradesh</th>\n",
       "                        <td id=\"T_79ce61b0_c74d_11ea_be95_2047475ed533row14_col0\" class=\"data row14 col0\" >5053</td>\n",
       "            </tr>\n",
       "            <tr>\n",
       "                        <th id=\"T_79ce61b0_c74d_11ea_be95_2047475ed533level0_row15\" class=\"row_heading level0 row15\" >Kerala</th>\n",
       "                        <td id=\"T_79ce61b0_c74d_11ea_be95_2047475ed533row15_col0\" class=\"data row15 col0\" >4884</td>\n",
       "            </tr>\n",
       "            <tr>\n",
       "                        <th id=\"T_79ce61b0_c74d_11ea_be95_2047475ed533level0_row16\" class=\"row_heading level0 row16\" >Odisha</th>\n",
       "                        <td id=\"T_79ce61b0_c74d_11ea_be95_2047475ed533row16_col0\" class=\"data row16 col0\" >4345</td>\n",
       "            </tr>\n",
       "            <tr>\n",
       "                        <th id=\"T_79ce61b0_c74d_11ea_be95_2047475ed533level0_row17\" class=\"row_heading level0 row17\" >Punjab</th>\n",
       "                        <td id=\"T_79ce61b0_c74d_11ea_be95_2047475ed533row17_col0\" class=\"data row17 col0\" >2711</td>\n",
       "            </tr>\n",
       "            <tr>\n",
       "                        <th id=\"T_79ce61b0_c74d_11ea_be95_2047475ed533level0_row18\" class=\"row_heading level0 row18\" >Jharkhand</th>\n",
       "                        <td id=\"T_79ce61b0_c74d_11ea_be95_2047475ed533row18_col0\" class=\"data row18 col0\" >1797</td>\n",
       "            </tr>\n",
       "            <tr>\n",
       "                        <th id=\"T_79ce61b0_c74d_11ea_be95_2047475ed533level0_row19\" class=\"row_heading level0 row19\" >Goa</th>\n",
       "                        <td id=\"T_79ce61b0_c74d_11ea_be95_2047475ed533row19_col0\" class=\"data row19 col0\" >1259</td>\n",
       "            </tr>\n",
       "            <tr>\n",
       "                        <th id=\"T_79ce61b0_c74d_11ea_be95_2047475ed533level0_row20\" class=\"row_heading level0 row20\" >Chhattisgarh</th>\n",
       "                        <td id=\"T_79ce61b0_c74d_11ea_be95_2047475ed533row20_col0\" class=\"data row20 col0\" >1195</td>\n",
       "            </tr>\n",
       "            <tr>\n",
       "                        <th id=\"T_79ce61b0_c74d_11ea_be95_2047475ed533level0_row21\" class=\"row_heading level0 row21\" >Uttarakhand</th>\n",
       "                        <td id=\"T_79ce61b0_c74d_11ea_be95_2047475ed533row21_col0\" class=\"data row21 col0\" >787</td>\n",
       "            </tr>\n",
       "            <tr>\n",
       "                        <th id=\"T_79ce61b0_c74d_11ea_be95_2047475ed533level0_row22\" class=\"row_heading level0 row22\" >Manipur</th>\n",
       "                        <td id=\"T_79ce61b0_c74d_11ea_be95_2047475ed533row22_col0\" class=\"data row22 col0\" >711</td>\n",
       "            </tr>\n",
       "            <tr>\n",
       "                        <th id=\"T_79ce61b0_c74d_11ea_be95_2047475ed533level0_row23\" class=\"row_heading level0 row23\" >Puducherry</th>\n",
       "                        <td id=\"T_79ce61b0_c74d_11ea_be95_2047475ed533row23_col0\" class=\"data row23 col0\" >686</td>\n",
       "            </tr>\n",
       "            <tr>\n",
       "                        <th id=\"T_79ce61b0_c74d_11ea_be95_2047475ed533level0_row24\" class=\"row_heading level0 row24\" >Tripura</th>\n",
       "                        <td id=\"T_79ce61b0_c74d_11ea_be95_2047475ed533row24_col0\" class=\"data row24 col0\" >661</td>\n",
       "            </tr>\n",
       "            <tr>\n",
       "                        <th id=\"T_79ce61b0_c74d_11ea_be95_2047475ed533level0_row25\" class=\"row_heading level0 row25\" >Nagaland</th>\n",
       "                        <td id=\"T_79ce61b0_c74d_11ea_be95_2047475ed533row25_col0\" class=\"data row25 col0\" >554</td>\n",
       "            </tr>\n",
       "            <tr>\n",
       "                        <th id=\"T_79ce61b0_c74d_11ea_be95_2047475ed533level0_row26\" class=\"row_heading level0 row26\" >Himachal Pradesh</th>\n",
       "                        <td id=\"T_79ce61b0_c74d_11ea_be95_2047475ed533row26_col0\" class=\"data row26 col0\" >351</td>\n",
       "            </tr>\n",
       "            <tr>\n",
       "                        <th id=\"T_79ce61b0_c74d_11ea_be95_2047475ed533level0_row27\" class=\"row_heading level0 row27\" >Arunachal Pradesh</th>\n",
       "                        <td id=\"T_79ce61b0_c74d_11ea_be95_2047475ed533row27_col0\" class=\"data row27 col0\" >306</td>\n",
       "            </tr>\n",
       "            <tr>\n",
       "                        <th id=\"T_79ce61b0_c74d_11ea_be95_2047475ed533level0_row28\" class=\"row_heading level0 row28\" >Meghalaya</th>\n",
       "                        <td id=\"T_79ce61b0_c74d_11ea_be95_2047475ed533row28_col0\" class=\"data row28 col0\" >278</td>\n",
       "            </tr>\n",
       "            <tr>\n",
       "                        <th id=\"T_79ce61b0_c74d_11ea_be95_2047475ed533level0_row29\" class=\"row_heading level0 row29\" >Dadra and Nagar Haveli and Daman and Diu</th>\n",
       "                        <td id=\"T_79ce61b0_c74d_11ea_be95_2047475ed533row29_col0\" class=\"data row29 col0\" >180</td>\n",
       "            </tr>\n",
       "            <tr>\n",
       "                        <th id=\"T_79ce61b0_c74d_11ea_be95_2047475ed533level0_row30\" class=\"row_heading level0 row30\" >Ladakh</th>\n",
       "                        <td id=\"T_79ce61b0_c74d_11ea_be95_2047475ed533row30_col0\" class=\"data row30 col0\" >177</td>\n",
       "            </tr>\n",
       "            <tr>\n",
       "                        <th id=\"T_79ce61b0_c74d_11ea_be95_2047475ed533level0_row31\" class=\"row_heading level0 row31\" >Chandigarh</th>\n",
       "                        <td id=\"T_79ce61b0_c74d_11ea_be95_2047475ed533row31_col0\" class=\"data row31 col0\" >155</td>\n",
       "            </tr>\n",
       "            <tr>\n",
       "                        <th id=\"T_79ce61b0_c74d_11ea_be95_2047475ed533level0_row32\" class=\"row_heading level0 row32\" >Sikkim</th>\n",
       "                        <td id=\"T_79ce61b0_c74d_11ea_be95_2047475ed533row32_col0\" class=\"data row32 col0\" >133</td>\n",
       "            </tr>\n",
       "            <tr>\n",
       "                        <th id=\"T_79ce61b0_c74d_11ea_be95_2047475ed533level0_row33\" class=\"row_heading level0 row33\" >Mizoram</th>\n",
       "                        <td id=\"T_79ce61b0_c74d_11ea_be95_2047475ed533row33_col0\" class=\"data row33 col0\" >79</td>\n",
       "            </tr>\n",
       "            <tr>\n",
       "                        <th id=\"T_79ce61b0_c74d_11ea_be95_2047475ed533level0_row34\" class=\"row_heading level0 row34\" >Andaman and Nicobar Islands</th>\n",
       "                        <td id=\"T_79ce61b0_c74d_11ea_be95_2047475ed533row34_col0\" class=\"data row34 col0\" >46</td>\n",
       "            </tr>\n",
       "    </tbody></table>"
      ],
      "text/plain": [
       "<pandas.io.formats.style.Styler at 0x1c57dfca448>"
      ]
     },
     "execution_count": 22,
     "metadata": {},
     "output_type": "execute_result"
    }
   ],
   "source": [
    "Total_Active_Cases.style.background_gradient(cmap='Reds')\n"
   ]
  },
  {
   "cell_type": "code",
   "execution_count": 23,
   "metadata": {},
   "outputs": [
    {
     "data": {
      "application/vnd.plotly.v1+json": {
       "config": {
        "linkText": "Export to plot.ly",
        "plotlyServerURL": "https://plot.ly",
        "showLink": true
       },
       "data": [
        {
         "marker": {
          "color": "rgba(255, 153, 51, 0.6)",
          "line": {
           "color": "rgba(255, 153, 51, 1.0)",
           "width": 1
          }
         },
         "name": "Total Confirmed cases",
         "orientation": "v",
         "text": "",
         "type": "bar",
         "x": [
          "Andaman and Nicobar Islands",
          "Andhra Pradesh",
          "Arunachal Pradesh",
          "Assam",
          "Bihar",
          "Chandigarh",
          "Chhattisgarh",
          "Dadra and Nagar Haveli and Daman and Diu",
          "Delhi",
          "Goa",
          "Gujarat",
          "Haryana",
          "Himachal Pradesh",
          "Jammu and Kashmir",
          "Jharkhand",
          "Karnataka",
          "Kerala",
          "Ladakh",
          "Madhya Pradesh",
          "Maharashtra",
          "Manipur",
          "Meghalaya",
          "Mizoram",
          "Nagaland",
          "Odisha",
          "Puducherry",
          "Punjab",
          "Rajasthan",
          "Sikkim",
          "Tamil Nadu",
          "Telangana",
          "Tripura",
          "Uttarakhand",
          "Uttar Pradesh",
          "West Bengal"
         ],
         "y": [
          176,
          35451,
          462,
          18666,
          20612,
          625,
          4539,
          539,
          116993,
          2951,
          44552,
          23306,
          1341,
          11666,
          4320,
          47253,
          9553,
          1142,
          19643,
          275640,
          1700,
          346,
          238,
          902,
          14898,
          1596,
          8799,
          26437,
          220,
          151820,
          39342,
          2268,
          3785,
          41383,
          34427
         ]
        }
       ],
       "layout": {
        "legend": {
         "bgcolor": "#F5F6F9",
         "font": {
          "color": "#4D5663"
         }
        },
        "paper_bgcolor": "#F5F6F9",
        "plot_bgcolor": "#F5F6F9",
        "template": {
         "data": {
          "bar": [
           {
            "error_x": {
             "color": "#2a3f5f"
            },
            "error_y": {
             "color": "#2a3f5f"
            },
            "marker": {
             "line": {
              "color": "#E5ECF6",
              "width": 0.5
             }
            },
            "type": "bar"
           }
          ],
          "barpolar": [
           {
            "marker": {
             "line": {
              "color": "#E5ECF6",
              "width": 0.5
             }
            },
            "type": "barpolar"
           }
          ],
          "carpet": [
           {
            "aaxis": {
             "endlinecolor": "#2a3f5f",
             "gridcolor": "white",
             "linecolor": "white",
             "minorgridcolor": "white",
             "startlinecolor": "#2a3f5f"
            },
            "baxis": {
             "endlinecolor": "#2a3f5f",
             "gridcolor": "white",
             "linecolor": "white",
             "minorgridcolor": "white",
             "startlinecolor": "#2a3f5f"
            },
            "type": "carpet"
           }
          ],
          "choropleth": [
           {
            "colorbar": {
             "outlinewidth": 0,
             "ticks": ""
            },
            "type": "choropleth"
           }
          ],
          "contour": [
           {
            "colorbar": {
             "outlinewidth": 0,
             "ticks": ""
            },
            "colorscale": [
             [
              0,
              "#0d0887"
             ],
             [
              0.1111111111111111,
              "#46039f"
             ],
             [
              0.2222222222222222,
              "#7201a8"
             ],
             [
              0.3333333333333333,
              "#9c179e"
             ],
             [
              0.4444444444444444,
              "#bd3786"
             ],
             [
              0.5555555555555556,
              "#d8576b"
             ],
             [
              0.6666666666666666,
              "#ed7953"
             ],
             [
              0.7777777777777778,
              "#fb9f3a"
             ],
             [
              0.8888888888888888,
              "#fdca26"
             ],
             [
              1,
              "#f0f921"
             ]
            ],
            "type": "contour"
           }
          ],
          "contourcarpet": [
           {
            "colorbar": {
             "outlinewidth": 0,
             "ticks": ""
            },
            "type": "contourcarpet"
           }
          ],
          "heatmap": [
           {
            "colorbar": {
             "outlinewidth": 0,
             "ticks": ""
            },
            "colorscale": [
             [
              0,
              "#0d0887"
             ],
             [
              0.1111111111111111,
              "#46039f"
             ],
             [
              0.2222222222222222,
              "#7201a8"
             ],
             [
              0.3333333333333333,
              "#9c179e"
             ],
             [
              0.4444444444444444,
              "#bd3786"
             ],
             [
              0.5555555555555556,
              "#d8576b"
             ],
             [
              0.6666666666666666,
              "#ed7953"
             ],
             [
              0.7777777777777778,
              "#fb9f3a"
             ],
             [
              0.8888888888888888,
              "#fdca26"
             ],
             [
              1,
              "#f0f921"
             ]
            ],
            "type": "heatmap"
           }
          ],
          "heatmapgl": [
           {
            "colorbar": {
             "outlinewidth": 0,
             "ticks": ""
            },
            "colorscale": [
             [
              0,
              "#0d0887"
             ],
             [
              0.1111111111111111,
              "#46039f"
             ],
             [
              0.2222222222222222,
              "#7201a8"
             ],
             [
              0.3333333333333333,
              "#9c179e"
             ],
             [
              0.4444444444444444,
              "#bd3786"
             ],
             [
              0.5555555555555556,
              "#d8576b"
             ],
             [
              0.6666666666666666,
              "#ed7953"
             ],
             [
              0.7777777777777778,
              "#fb9f3a"
             ],
             [
              0.8888888888888888,
              "#fdca26"
             ],
             [
              1,
              "#f0f921"
             ]
            ],
            "type": "heatmapgl"
           }
          ],
          "histogram": [
           {
            "marker": {
             "colorbar": {
              "outlinewidth": 0,
              "ticks": ""
             }
            },
            "type": "histogram"
           }
          ],
          "histogram2d": [
           {
            "colorbar": {
             "outlinewidth": 0,
             "ticks": ""
            },
            "colorscale": [
             [
              0,
              "#0d0887"
             ],
             [
              0.1111111111111111,
              "#46039f"
             ],
             [
              0.2222222222222222,
              "#7201a8"
             ],
             [
              0.3333333333333333,
              "#9c179e"
             ],
             [
              0.4444444444444444,
              "#bd3786"
             ],
             [
              0.5555555555555556,
              "#d8576b"
             ],
             [
              0.6666666666666666,
              "#ed7953"
             ],
             [
              0.7777777777777778,
              "#fb9f3a"
             ],
             [
              0.8888888888888888,
              "#fdca26"
             ],
             [
              1,
              "#f0f921"
             ]
            ],
            "type": "histogram2d"
           }
          ],
          "histogram2dcontour": [
           {
            "colorbar": {
             "outlinewidth": 0,
             "ticks": ""
            },
            "colorscale": [
             [
              0,
              "#0d0887"
             ],
             [
              0.1111111111111111,
              "#46039f"
             ],
             [
              0.2222222222222222,
              "#7201a8"
             ],
             [
              0.3333333333333333,
              "#9c179e"
             ],
             [
              0.4444444444444444,
              "#bd3786"
             ],
             [
              0.5555555555555556,
              "#d8576b"
             ],
             [
              0.6666666666666666,
              "#ed7953"
             ],
             [
              0.7777777777777778,
              "#fb9f3a"
             ],
             [
              0.8888888888888888,
              "#fdca26"
             ],
             [
              1,
              "#f0f921"
             ]
            ],
            "type": "histogram2dcontour"
           }
          ],
          "mesh3d": [
           {
            "colorbar": {
             "outlinewidth": 0,
             "ticks": ""
            },
            "type": "mesh3d"
           }
          ],
          "parcoords": [
           {
            "line": {
             "colorbar": {
              "outlinewidth": 0,
              "ticks": ""
             }
            },
            "type": "parcoords"
           }
          ],
          "pie": [
           {
            "automargin": true,
            "type": "pie"
           }
          ],
          "scatter": [
           {
            "marker": {
             "colorbar": {
              "outlinewidth": 0,
              "ticks": ""
             }
            },
            "type": "scatter"
           }
          ],
          "scatter3d": [
           {
            "line": {
             "colorbar": {
              "outlinewidth": 0,
              "ticks": ""
             }
            },
            "marker": {
             "colorbar": {
              "outlinewidth": 0,
              "ticks": ""
             }
            },
            "type": "scatter3d"
           }
          ],
          "scattercarpet": [
           {
            "marker": {
             "colorbar": {
              "outlinewidth": 0,
              "ticks": ""
             }
            },
            "type": "scattercarpet"
           }
          ],
          "scattergeo": [
           {
            "marker": {
             "colorbar": {
              "outlinewidth": 0,
              "ticks": ""
             }
            },
            "type": "scattergeo"
           }
          ],
          "scattergl": [
           {
            "marker": {
             "colorbar": {
              "outlinewidth": 0,
              "ticks": ""
             }
            },
            "type": "scattergl"
           }
          ],
          "scattermapbox": [
           {
            "marker": {
             "colorbar": {
              "outlinewidth": 0,
              "ticks": ""
             }
            },
            "type": "scattermapbox"
           }
          ],
          "scatterpolar": [
           {
            "marker": {
             "colorbar": {
              "outlinewidth": 0,
              "ticks": ""
             }
            },
            "type": "scatterpolar"
           }
          ],
          "scatterpolargl": [
           {
            "marker": {
             "colorbar": {
              "outlinewidth": 0,
              "ticks": ""
             }
            },
            "type": "scatterpolargl"
           }
          ],
          "scatterternary": [
           {
            "marker": {
             "colorbar": {
              "outlinewidth": 0,
              "ticks": ""
             }
            },
            "type": "scatterternary"
           }
          ],
          "surface": [
           {
            "colorbar": {
             "outlinewidth": 0,
             "ticks": ""
            },
            "colorscale": [
             [
              0,
              "#0d0887"
             ],
             [
              0.1111111111111111,
              "#46039f"
             ],
             [
              0.2222222222222222,
              "#7201a8"
             ],
             [
              0.3333333333333333,
              "#9c179e"
             ],
             [
              0.4444444444444444,
              "#bd3786"
             ],
             [
              0.5555555555555556,
              "#d8576b"
             ],
             [
              0.6666666666666666,
              "#ed7953"
             ],
             [
              0.7777777777777778,
              "#fb9f3a"
             ],
             [
              0.8888888888888888,
              "#fdca26"
             ],
             [
              1,
              "#f0f921"
             ]
            ],
            "type": "surface"
           }
          ],
          "table": [
           {
            "cells": {
             "fill": {
              "color": "#EBF0F8"
             },
             "line": {
              "color": "white"
             }
            },
            "header": {
             "fill": {
              "color": "#C8D4E3"
             },
             "line": {
              "color": "white"
             }
            },
            "type": "table"
           }
          ]
         },
         "layout": {
          "annotationdefaults": {
           "arrowcolor": "#2a3f5f",
           "arrowhead": 0,
           "arrowwidth": 1
          },
          "coloraxis": {
           "colorbar": {
            "outlinewidth": 0,
            "ticks": ""
           }
          },
          "colorscale": {
           "diverging": [
            [
             0,
             "#8e0152"
            ],
            [
             0.1,
             "#c51b7d"
            ],
            [
             0.2,
             "#de77ae"
            ],
            [
             0.3,
             "#f1b6da"
            ],
            [
             0.4,
             "#fde0ef"
            ],
            [
             0.5,
             "#f7f7f7"
            ],
            [
             0.6,
             "#e6f5d0"
            ],
            [
             0.7,
             "#b8e186"
            ],
            [
             0.8,
             "#7fbc41"
            ],
            [
             0.9,
             "#4d9221"
            ],
            [
             1,
             "#276419"
            ]
           ],
           "sequential": [
            [
             0,
             "#0d0887"
            ],
            [
             0.1111111111111111,
             "#46039f"
            ],
            [
             0.2222222222222222,
             "#7201a8"
            ],
            [
             0.3333333333333333,
             "#9c179e"
            ],
            [
             0.4444444444444444,
             "#bd3786"
            ],
            [
             0.5555555555555556,
             "#d8576b"
            ],
            [
             0.6666666666666666,
             "#ed7953"
            ],
            [
             0.7777777777777778,
             "#fb9f3a"
            ],
            [
             0.8888888888888888,
             "#fdca26"
            ],
            [
             1,
             "#f0f921"
            ]
           ],
           "sequentialminus": [
            [
             0,
             "#0d0887"
            ],
            [
             0.1111111111111111,
             "#46039f"
            ],
            [
             0.2222222222222222,
             "#7201a8"
            ],
            [
             0.3333333333333333,
             "#9c179e"
            ],
            [
             0.4444444444444444,
             "#bd3786"
            ],
            [
             0.5555555555555556,
             "#d8576b"
            ],
            [
             0.6666666666666666,
             "#ed7953"
            ],
            [
             0.7777777777777778,
             "#fb9f3a"
            ],
            [
             0.8888888888888888,
             "#fdca26"
            ],
            [
             1,
             "#f0f921"
            ]
           ]
          },
          "colorway": [
           "#636efa",
           "#EF553B",
           "#00cc96",
           "#ab63fa",
           "#FFA15A",
           "#19d3f3",
           "#FF6692",
           "#B6E880",
           "#FF97FF",
           "#FECB52"
          ],
          "font": {
           "color": "#2a3f5f"
          },
          "geo": {
           "bgcolor": "white",
           "lakecolor": "white",
           "landcolor": "#E5ECF6",
           "showlakes": true,
           "showland": true,
           "subunitcolor": "white"
          },
          "hoverlabel": {
           "align": "left"
          },
          "hovermode": "closest",
          "mapbox": {
           "style": "light"
          },
          "paper_bgcolor": "white",
          "plot_bgcolor": "#E5ECF6",
          "polar": {
           "angularaxis": {
            "gridcolor": "white",
            "linecolor": "white",
            "ticks": ""
           },
           "bgcolor": "#E5ECF6",
           "radialaxis": {
            "gridcolor": "white",
            "linecolor": "white",
            "ticks": ""
           }
          },
          "scene": {
           "xaxis": {
            "backgroundcolor": "#E5ECF6",
            "gridcolor": "white",
            "gridwidth": 2,
            "linecolor": "white",
            "showbackground": true,
            "ticks": "",
            "zerolinecolor": "white"
           },
           "yaxis": {
            "backgroundcolor": "#E5ECF6",
            "gridcolor": "white",
            "gridwidth": 2,
            "linecolor": "white",
            "showbackground": true,
            "ticks": "",
            "zerolinecolor": "white"
           },
           "zaxis": {
            "backgroundcolor": "#E5ECF6",
            "gridcolor": "white",
            "gridwidth": 2,
            "linecolor": "white",
            "showbackground": true,
            "ticks": "",
            "zerolinecolor": "white"
           }
          },
          "shapedefaults": {
           "line": {
            "color": "#2a3f5f"
           }
          },
          "ternary": {
           "aaxis": {
            "gridcolor": "white",
            "linecolor": "white",
            "ticks": ""
           },
           "baxis": {
            "gridcolor": "white",
            "linecolor": "white",
            "ticks": ""
           },
           "bgcolor": "#E5ECF6",
           "caxis": {
            "gridcolor": "white",
            "linecolor": "white",
            "ticks": ""
           }
          },
          "title": {
           "x": 0.05
          },
          "xaxis": {
           "automargin": true,
           "gridcolor": "white",
           "linecolor": "white",
           "ticks": "",
           "title": {
            "standoff": 15
           },
           "zerolinecolor": "white",
           "zerolinewidth": 2
          },
          "yaxis": {
           "automargin": true,
           "gridcolor": "white",
           "linecolor": "white",
           "ticks": "",
           "title": {
            "standoff": 15
           },
           "zerolinecolor": "white",
           "zerolinewidth": 2
          }
         }
        },
        "title": {
         "font": {
          "color": "#4D5663"
         }
        },
        "xaxis": {
         "gridcolor": "#E1E5ED",
         "showgrid": true,
         "tickfont": {
          "color": "#4D5663"
         },
         "title": {
          "font": {
           "color": "#4D5663"
          },
          "text": ""
         },
         "zerolinecolor": "#E1E5ED"
        },
        "yaxis": {
         "gridcolor": "#E1E5ED",
         "showgrid": true,
         "tickfont": {
          "color": "#4D5663"
         },
         "title": {
          "font": {
           "color": "#4D5663"
          },
          "text": ""
         },
         "zerolinecolor": "#E1E5ED"
        }
       }
      },
      "text/html": [
       "<div>\n",
       "        \n",
       "        \n",
       "            <div id=\"e6712fce-d9ef-4e2b-a65c-acbe780f552c\" class=\"plotly-graph-div\" style=\"height:525px; width:100%;\"></div>\n",
       "            <script type=\"text/javascript\">\n",
       "                require([\"plotly\"], function(Plotly) {\n",
       "                    window.PLOTLYENV=window.PLOTLYENV || {};\n",
       "                    window.PLOTLYENV.BASE_URL='https://plot.ly';\n",
       "                    \n",
       "                if (document.getElementById(\"e6712fce-d9ef-4e2b-a65c-acbe780f552c\")) {\n",
       "                    Plotly.newPlot(\n",
       "                        'e6712fce-d9ef-4e2b-a65c-acbe780f552c',\n",
       "                        [{\"marker\": {\"color\": \"rgba(255, 153, 51, 0.6)\", \"line\": {\"color\": \"rgba(255, 153, 51, 1.0)\", \"width\": 1}}, \"name\": \"Total Confirmed cases\", \"orientation\": \"v\", \"text\": \"\", \"type\": \"bar\", \"x\": [\"Andaman and Nicobar Islands\", \"Andhra Pradesh\", \"Arunachal Pradesh\", \"Assam\", \"Bihar\", \"Chandigarh\", \"Chhattisgarh\", \"Dadra and Nagar Haveli and Daman and Diu\", \"Delhi\", \"Goa\", \"Gujarat\", \"Haryana\", \"Himachal Pradesh\", \"Jammu and Kashmir\", \"Jharkhand\", \"Karnataka\", \"Kerala\", \"Ladakh\", \"Madhya Pradesh\", \"Maharashtra\", \"Manipur\", \"Meghalaya\", \"Mizoram\", \"Nagaland\", \"Odisha\", \"Puducherry\", \"Punjab\", \"Rajasthan\", \"Sikkim\", \"Tamil Nadu\", \"Telangana\", \"Tripura\", \"Uttarakhand\", \"Uttar Pradesh\", \"West Bengal\"], \"y\": [176, 35451, 462, 18666, 20612, 625, 4539, 539, 116993, 2951, 44552, 23306, 1341, 11666, 4320, 47253, 9553, 1142, 19643, 275640, 1700, 346, 238, 902, 14898, 1596, 8799, 26437, 220, 151820, 39342, 2268, 3785, 41383, 34427]}],\n",
       "                        {\"legend\": {\"bgcolor\": \"#F5F6F9\", \"font\": {\"color\": \"#4D5663\"}}, \"paper_bgcolor\": \"#F5F6F9\", \"plot_bgcolor\": \"#F5F6F9\", \"template\": {\"data\": {\"bar\": [{\"error_x\": {\"color\": \"#2a3f5f\"}, \"error_y\": {\"color\": \"#2a3f5f\"}, \"marker\": {\"line\": {\"color\": \"#E5ECF6\", \"width\": 0.5}}, \"type\": \"bar\"}], \"barpolar\": [{\"marker\": {\"line\": {\"color\": \"#E5ECF6\", \"width\": 0.5}}, \"type\": \"barpolar\"}], \"carpet\": [{\"aaxis\": {\"endlinecolor\": \"#2a3f5f\", \"gridcolor\": \"white\", \"linecolor\": \"white\", \"minorgridcolor\": \"white\", \"startlinecolor\": \"#2a3f5f\"}, \"baxis\": {\"endlinecolor\": \"#2a3f5f\", \"gridcolor\": \"white\", \"linecolor\": \"white\", \"minorgridcolor\": \"white\", \"startlinecolor\": \"#2a3f5f\"}, \"type\": \"carpet\"}], \"choropleth\": [{\"colorbar\": {\"outlinewidth\": 0, \"ticks\": \"\"}, \"type\": \"choropleth\"}], \"contour\": [{\"colorbar\": {\"outlinewidth\": 0, \"ticks\": \"\"}, \"colorscale\": [[0.0, \"#0d0887\"], [0.1111111111111111, \"#46039f\"], [0.2222222222222222, \"#7201a8\"], [0.3333333333333333, \"#9c179e\"], [0.4444444444444444, \"#bd3786\"], [0.5555555555555556, \"#d8576b\"], [0.6666666666666666, \"#ed7953\"], [0.7777777777777778, \"#fb9f3a\"], [0.8888888888888888, \"#fdca26\"], [1.0, \"#f0f921\"]], \"type\": \"contour\"}], \"contourcarpet\": [{\"colorbar\": {\"outlinewidth\": 0, \"ticks\": \"\"}, \"type\": \"contourcarpet\"}], \"heatmap\": [{\"colorbar\": {\"outlinewidth\": 0, \"ticks\": \"\"}, \"colorscale\": [[0.0, \"#0d0887\"], [0.1111111111111111, \"#46039f\"], [0.2222222222222222, \"#7201a8\"], [0.3333333333333333, \"#9c179e\"], [0.4444444444444444, \"#bd3786\"], [0.5555555555555556, \"#d8576b\"], [0.6666666666666666, \"#ed7953\"], [0.7777777777777778, \"#fb9f3a\"], [0.8888888888888888, \"#fdca26\"], [1.0, \"#f0f921\"]], \"type\": \"heatmap\"}], \"heatmapgl\": [{\"colorbar\": {\"outlinewidth\": 0, \"ticks\": \"\"}, \"colorscale\": [[0.0, \"#0d0887\"], [0.1111111111111111, \"#46039f\"], [0.2222222222222222, \"#7201a8\"], [0.3333333333333333, \"#9c179e\"], [0.4444444444444444, \"#bd3786\"], [0.5555555555555556, \"#d8576b\"], [0.6666666666666666, \"#ed7953\"], [0.7777777777777778, \"#fb9f3a\"], [0.8888888888888888, \"#fdca26\"], [1.0, \"#f0f921\"]], \"type\": \"heatmapgl\"}], \"histogram\": [{\"marker\": {\"colorbar\": {\"outlinewidth\": 0, \"ticks\": \"\"}}, \"type\": \"histogram\"}], \"histogram2d\": [{\"colorbar\": {\"outlinewidth\": 0, \"ticks\": \"\"}, \"colorscale\": [[0.0, \"#0d0887\"], [0.1111111111111111, \"#46039f\"], [0.2222222222222222, \"#7201a8\"], [0.3333333333333333, \"#9c179e\"], [0.4444444444444444, \"#bd3786\"], [0.5555555555555556, \"#d8576b\"], [0.6666666666666666, \"#ed7953\"], [0.7777777777777778, \"#fb9f3a\"], [0.8888888888888888, \"#fdca26\"], [1.0, \"#f0f921\"]], \"type\": \"histogram2d\"}], \"histogram2dcontour\": [{\"colorbar\": {\"outlinewidth\": 0, \"ticks\": \"\"}, \"colorscale\": [[0.0, \"#0d0887\"], [0.1111111111111111, \"#46039f\"], [0.2222222222222222, \"#7201a8\"], [0.3333333333333333, \"#9c179e\"], [0.4444444444444444, \"#bd3786\"], [0.5555555555555556, \"#d8576b\"], [0.6666666666666666, \"#ed7953\"], [0.7777777777777778, \"#fb9f3a\"], [0.8888888888888888, \"#fdca26\"], [1.0, \"#f0f921\"]], \"type\": \"histogram2dcontour\"}], \"mesh3d\": [{\"colorbar\": {\"outlinewidth\": 0, \"ticks\": \"\"}, \"type\": \"mesh3d\"}], \"parcoords\": [{\"line\": {\"colorbar\": {\"outlinewidth\": 0, \"ticks\": \"\"}}, \"type\": \"parcoords\"}], \"pie\": [{\"automargin\": true, \"type\": \"pie\"}], \"scatter\": [{\"marker\": {\"colorbar\": {\"outlinewidth\": 0, \"ticks\": \"\"}}, \"type\": \"scatter\"}], \"scatter3d\": [{\"line\": {\"colorbar\": {\"outlinewidth\": 0, \"ticks\": \"\"}}, \"marker\": {\"colorbar\": {\"outlinewidth\": 0, \"ticks\": \"\"}}, \"type\": \"scatter3d\"}], \"scattercarpet\": [{\"marker\": {\"colorbar\": {\"outlinewidth\": 0, \"ticks\": \"\"}}, \"type\": \"scattercarpet\"}], \"scattergeo\": [{\"marker\": {\"colorbar\": {\"outlinewidth\": 0, \"ticks\": \"\"}}, \"type\": \"scattergeo\"}], \"scattergl\": [{\"marker\": {\"colorbar\": {\"outlinewidth\": 0, \"ticks\": \"\"}}, \"type\": \"scattergl\"}], \"scattermapbox\": [{\"marker\": {\"colorbar\": {\"outlinewidth\": 0, \"ticks\": \"\"}}, \"type\": \"scattermapbox\"}], \"scatterpolar\": [{\"marker\": {\"colorbar\": {\"outlinewidth\": 0, \"ticks\": \"\"}}, \"type\": \"scatterpolar\"}], \"scatterpolargl\": [{\"marker\": {\"colorbar\": {\"outlinewidth\": 0, \"ticks\": \"\"}}, \"type\": \"scatterpolargl\"}], \"scatterternary\": [{\"marker\": {\"colorbar\": {\"outlinewidth\": 0, \"ticks\": \"\"}}, \"type\": \"scatterternary\"}], \"surface\": [{\"colorbar\": {\"outlinewidth\": 0, \"ticks\": \"\"}, \"colorscale\": [[0.0, \"#0d0887\"], [0.1111111111111111, \"#46039f\"], [0.2222222222222222, \"#7201a8\"], [0.3333333333333333, \"#9c179e\"], [0.4444444444444444, \"#bd3786\"], [0.5555555555555556, \"#d8576b\"], [0.6666666666666666, \"#ed7953\"], [0.7777777777777778, \"#fb9f3a\"], [0.8888888888888888, \"#fdca26\"], [1.0, \"#f0f921\"]], \"type\": \"surface\"}], \"table\": [{\"cells\": {\"fill\": {\"color\": \"#EBF0F8\"}, \"line\": {\"color\": \"white\"}}, \"header\": {\"fill\": {\"color\": \"#C8D4E3\"}, \"line\": {\"color\": \"white\"}}, \"type\": \"table\"}]}, \"layout\": {\"annotationdefaults\": {\"arrowcolor\": \"#2a3f5f\", \"arrowhead\": 0, \"arrowwidth\": 1}, \"coloraxis\": {\"colorbar\": {\"outlinewidth\": 0, \"ticks\": \"\"}}, \"colorscale\": {\"diverging\": [[0, \"#8e0152\"], [0.1, \"#c51b7d\"], [0.2, \"#de77ae\"], [0.3, \"#f1b6da\"], [0.4, \"#fde0ef\"], [0.5, \"#f7f7f7\"], [0.6, \"#e6f5d0\"], [0.7, \"#b8e186\"], [0.8, \"#7fbc41\"], [0.9, \"#4d9221\"], [1, \"#276419\"]], \"sequential\": [[0.0, \"#0d0887\"], [0.1111111111111111, \"#46039f\"], [0.2222222222222222, \"#7201a8\"], [0.3333333333333333, \"#9c179e\"], [0.4444444444444444, \"#bd3786\"], [0.5555555555555556, \"#d8576b\"], [0.6666666666666666, \"#ed7953\"], [0.7777777777777778, \"#fb9f3a\"], [0.8888888888888888, \"#fdca26\"], [1.0, \"#f0f921\"]], \"sequentialminus\": [[0.0, \"#0d0887\"], [0.1111111111111111, \"#46039f\"], [0.2222222222222222, \"#7201a8\"], [0.3333333333333333, \"#9c179e\"], [0.4444444444444444, \"#bd3786\"], [0.5555555555555556, \"#d8576b\"], [0.6666666666666666, \"#ed7953\"], [0.7777777777777778, \"#fb9f3a\"], [0.8888888888888888, \"#fdca26\"], [1.0, \"#f0f921\"]]}, \"colorway\": [\"#636efa\", \"#EF553B\", \"#00cc96\", \"#ab63fa\", \"#FFA15A\", \"#19d3f3\", \"#FF6692\", \"#B6E880\", \"#FF97FF\", \"#FECB52\"], \"font\": {\"color\": \"#2a3f5f\"}, \"geo\": {\"bgcolor\": \"white\", \"lakecolor\": \"white\", \"landcolor\": \"#E5ECF6\", \"showlakes\": true, \"showland\": true, \"subunitcolor\": \"white\"}, \"hoverlabel\": {\"align\": \"left\"}, \"hovermode\": \"closest\", \"mapbox\": {\"style\": \"light\"}, \"paper_bgcolor\": \"white\", \"plot_bgcolor\": \"#E5ECF6\", \"polar\": {\"angularaxis\": {\"gridcolor\": \"white\", \"linecolor\": \"white\", \"ticks\": \"\"}, \"bgcolor\": \"#E5ECF6\", \"radialaxis\": {\"gridcolor\": \"white\", \"linecolor\": \"white\", \"ticks\": \"\"}}, \"scene\": {\"xaxis\": {\"backgroundcolor\": \"#E5ECF6\", \"gridcolor\": \"white\", \"gridwidth\": 2, \"linecolor\": \"white\", \"showbackground\": true, \"ticks\": \"\", \"zerolinecolor\": \"white\"}, \"yaxis\": {\"backgroundcolor\": \"#E5ECF6\", \"gridcolor\": \"white\", \"gridwidth\": 2, \"linecolor\": \"white\", \"showbackground\": true, \"ticks\": \"\", \"zerolinecolor\": \"white\"}, \"zaxis\": {\"backgroundcolor\": \"#E5ECF6\", \"gridcolor\": \"white\", \"gridwidth\": 2, \"linecolor\": \"white\", \"showbackground\": true, \"ticks\": \"\", \"zerolinecolor\": \"white\"}}, \"shapedefaults\": {\"line\": {\"color\": \"#2a3f5f\"}}, \"ternary\": {\"aaxis\": {\"gridcolor\": \"white\", \"linecolor\": \"white\", \"ticks\": \"\"}, \"baxis\": {\"gridcolor\": \"white\", \"linecolor\": \"white\", \"ticks\": \"\"}, \"bgcolor\": \"#E5ECF6\", \"caxis\": {\"gridcolor\": \"white\", \"linecolor\": \"white\", \"ticks\": \"\"}}, \"title\": {\"x\": 0.05}, \"xaxis\": {\"automargin\": true, \"gridcolor\": \"white\", \"linecolor\": \"white\", \"ticks\": \"\", \"title\": {\"standoff\": 15}, \"zerolinecolor\": \"white\", \"zerolinewidth\": 2}, \"yaxis\": {\"automargin\": true, \"gridcolor\": \"white\", \"linecolor\": \"white\", \"ticks\": \"\", \"title\": {\"standoff\": 15}, \"zerolinecolor\": \"white\", \"zerolinewidth\": 2}}}, \"title\": {\"font\": {\"color\": \"#4D5663\"}}, \"xaxis\": {\"gridcolor\": \"#E1E5ED\", \"showgrid\": true, \"tickfont\": {\"color\": \"#4D5663\"}, \"title\": {\"font\": {\"color\": \"#4D5663\"}, \"text\": \"\"}, \"zerolinecolor\": \"#E1E5ED\"}, \"yaxis\": {\"gridcolor\": \"#E1E5ED\", \"showgrid\": true, \"tickfont\": {\"color\": \"#4D5663\"}, \"title\": {\"font\": {\"color\": \"#4D5663\"}, \"text\": \"\"}, \"zerolinecolor\": \"#E1E5ED\"}},\n",
       "                        {\"showLink\": true, \"linkText\": \"Export to plot.ly\", \"plotlyServerURL\": \"https://plot.ly\", \"responsive\": true}\n",
       "                    ).then(function(){\n",
       "                            \n",
       "var gd = document.getElementById('e6712fce-d9ef-4e2b-a65c-acbe780f552c');\n",
       "var x = new MutationObserver(function (mutations, observer) {{\n",
       "        var display = window.getComputedStyle(gd).display;\n",
       "        if (!display || display === 'none') {{\n",
       "            console.log([gd, 'removed!']);\n",
       "            Plotly.purge(gd);\n",
       "            observer.disconnect();\n",
       "        }}\n",
       "}});\n",
       "\n",
       "// Listen for the removal of the full notebook cells\n",
       "var notebookContainer = gd.closest('#notebook-container');\n",
       "if (notebookContainer) {{\n",
       "    x.observe(notebookContainer, {childList: true});\n",
       "}}\n",
       "\n",
       "// Listen for the clearing of the current output cell\n",
       "var outputEl = gd.closest('.output');\n",
       "if (outputEl) {{\n",
       "    x.observe(outputEl, {childList: true});\n",
       "}}\n",
       "\n",
       "                        })\n",
       "                };\n",
       "                });\n",
       "            </script>\n",
       "        </div>"
      ]
     },
     "metadata": {},
     "output_type": "display_data"
    }
   ],
   "source": [
    "df.iplot(kind='bar',x='Name of State / UT',y='Total Confirmed cases')"
   ]
  },
  {
   "cell_type": "code",
   "execution_count": 24,
   "metadata": {},
   "outputs": [
    {
     "data": {
      "application/vnd.plotly.v1+json": {
       "config": {
        "linkText": "Export to plot.ly",
        "plotlyServerURL": "https://plot.ly",
        "showLink": true
       },
       "data": [
        {
         "line": {
          "color": "rgba(0, 128, 0, 1.0)",
          "dash": "solid",
          "shape": "linear",
          "width": 1.3
         },
         "mode": "lines",
         "name": "Cured/Discharged/Migrated",
         "text": "",
         "type": "scatter",
         "x": [
          "Andaman and Nicobar Islands",
          "Andhra Pradesh",
          "Arunachal Pradesh",
          "Assam",
          "Bihar",
          "Chandigarh",
          "Chhattisgarh",
          "Dadra and Nagar Haveli and Daman and Diu",
          "Delhi",
          "Goa",
          "Gujarat",
          "Haryana",
          "Himachal Pradesh",
          "Jammu and Kashmir",
          "Jharkhand",
          "Karnataka",
          "Kerala",
          "Ladakh",
          "Madhya Pradesh",
          "Maharashtra",
          "Manipur",
          "Meghalaya",
          "Mizoram",
          "Nagaland",
          "Odisha",
          "Puducherry",
          "Punjab",
          "Rajasthan",
          "Sikkim",
          "Tamil Nadu",
          "Telangana",
          "Tripura",
          "Uttarakhand",
          "Uttar Pradesh",
          "West Bengal"
         ],
         "y": [
          130,
          18378,
          153,
          12173,
          13462,
          459,
          3324,
          357,
          95699,
          1674,
          31286,
          17667,
          979,
          6337,
          2485,
          18466,
          4634,
          964,
          13908,
          152613,
          989,
          66,
          159,
          348,
          10476,
          889,
          5867,
          19502,
          87,
          102310,
          25999,
          1604,
          2948,
          25743,
          20680
         ]
        }
       ],
       "layout": {
        "legend": {
         "bgcolor": "#F5F6F9",
         "font": {
          "color": "#4D5663"
         }
        },
        "paper_bgcolor": "#F5F6F9",
        "plot_bgcolor": "#F5F6F9",
        "template": {
         "data": {
          "bar": [
           {
            "error_x": {
             "color": "#2a3f5f"
            },
            "error_y": {
             "color": "#2a3f5f"
            },
            "marker": {
             "line": {
              "color": "#E5ECF6",
              "width": 0.5
             }
            },
            "type": "bar"
           }
          ],
          "barpolar": [
           {
            "marker": {
             "line": {
              "color": "#E5ECF6",
              "width": 0.5
             }
            },
            "type": "barpolar"
           }
          ],
          "carpet": [
           {
            "aaxis": {
             "endlinecolor": "#2a3f5f",
             "gridcolor": "white",
             "linecolor": "white",
             "minorgridcolor": "white",
             "startlinecolor": "#2a3f5f"
            },
            "baxis": {
             "endlinecolor": "#2a3f5f",
             "gridcolor": "white",
             "linecolor": "white",
             "minorgridcolor": "white",
             "startlinecolor": "#2a3f5f"
            },
            "type": "carpet"
           }
          ],
          "choropleth": [
           {
            "colorbar": {
             "outlinewidth": 0,
             "ticks": ""
            },
            "type": "choropleth"
           }
          ],
          "contour": [
           {
            "colorbar": {
             "outlinewidth": 0,
             "ticks": ""
            },
            "colorscale": [
             [
              0,
              "#0d0887"
             ],
             [
              0.1111111111111111,
              "#46039f"
             ],
             [
              0.2222222222222222,
              "#7201a8"
             ],
             [
              0.3333333333333333,
              "#9c179e"
             ],
             [
              0.4444444444444444,
              "#bd3786"
             ],
             [
              0.5555555555555556,
              "#d8576b"
             ],
             [
              0.6666666666666666,
              "#ed7953"
             ],
             [
              0.7777777777777778,
              "#fb9f3a"
             ],
             [
              0.8888888888888888,
              "#fdca26"
             ],
             [
              1,
              "#f0f921"
             ]
            ],
            "type": "contour"
           }
          ],
          "contourcarpet": [
           {
            "colorbar": {
             "outlinewidth": 0,
             "ticks": ""
            },
            "type": "contourcarpet"
           }
          ],
          "heatmap": [
           {
            "colorbar": {
             "outlinewidth": 0,
             "ticks": ""
            },
            "colorscale": [
             [
              0,
              "#0d0887"
             ],
             [
              0.1111111111111111,
              "#46039f"
             ],
             [
              0.2222222222222222,
              "#7201a8"
             ],
             [
              0.3333333333333333,
              "#9c179e"
             ],
             [
              0.4444444444444444,
              "#bd3786"
             ],
             [
              0.5555555555555556,
              "#d8576b"
             ],
             [
              0.6666666666666666,
              "#ed7953"
             ],
             [
              0.7777777777777778,
              "#fb9f3a"
             ],
             [
              0.8888888888888888,
              "#fdca26"
             ],
             [
              1,
              "#f0f921"
             ]
            ],
            "type": "heatmap"
           }
          ],
          "heatmapgl": [
           {
            "colorbar": {
             "outlinewidth": 0,
             "ticks": ""
            },
            "colorscale": [
             [
              0,
              "#0d0887"
             ],
             [
              0.1111111111111111,
              "#46039f"
             ],
             [
              0.2222222222222222,
              "#7201a8"
             ],
             [
              0.3333333333333333,
              "#9c179e"
             ],
             [
              0.4444444444444444,
              "#bd3786"
             ],
             [
              0.5555555555555556,
              "#d8576b"
             ],
             [
              0.6666666666666666,
              "#ed7953"
             ],
             [
              0.7777777777777778,
              "#fb9f3a"
             ],
             [
              0.8888888888888888,
              "#fdca26"
             ],
             [
              1,
              "#f0f921"
             ]
            ],
            "type": "heatmapgl"
           }
          ],
          "histogram": [
           {
            "marker": {
             "colorbar": {
              "outlinewidth": 0,
              "ticks": ""
             }
            },
            "type": "histogram"
           }
          ],
          "histogram2d": [
           {
            "colorbar": {
             "outlinewidth": 0,
             "ticks": ""
            },
            "colorscale": [
             [
              0,
              "#0d0887"
             ],
             [
              0.1111111111111111,
              "#46039f"
             ],
             [
              0.2222222222222222,
              "#7201a8"
             ],
             [
              0.3333333333333333,
              "#9c179e"
             ],
             [
              0.4444444444444444,
              "#bd3786"
             ],
             [
              0.5555555555555556,
              "#d8576b"
             ],
             [
              0.6666666666666666,
              "#ed7953"
             ],
             [
              0.7777777777777778,
              "#fb9f3a"
             ],
             [
              0.8888888888888888,
              "#fdca26"
             ],
             [
              1,
              "#f0f921"
             ]
            ],
            "type": "histogram2d"
           }
          ],
          "histogram2dcontour": [
           {
            "colorbar": {
             "outlinewidth": 0,
             "ticks": ""
            },
            "colorscale": [
             [
              0,
              "#0d0887"
             ],
             [
              0.1111111111111111,
              "#46039f"
             ],
             [
              0.2222222222222222,
              "#7201a8"
             ],
             [
              0.3333333333333333,
              "#9c179e"
             ],
             [
              0.4444444444444444,
              "#bd3786"
             ],
             [
              0.5555555555555556,
              "#d8576b"
             ],
             [
              0.6666666666666666,
              "#ed7953"
             ],
             [
              0.7777777777777778,
              "#fb9f3a"
             ],
             [
              0.8888888888888888,
              "#fdca26"
             ],
             [
              1,
              "#f0f921"
             ]
            ],
            "type": "histogram2dcontour"
           }
          ],
          "mesh3d": [
           {
            "colorbar": {
             "outlinewidth": 0,
             "ticks": ""
            },
            "type": "mesh3d"
           }
          ],
          "parcoords": [
           {
            "line": {
             "colorbar": {
              "outlinewidth": 0,
              "ticks": ""
             }
            },
            "type": "parcoords"
           }
          ],
          "pie": [
           {
            "automargin": true,
            "type": "pie"
           }
          ],
          "scatter": [
           {
            "marker": {
             "colorbar": {
              "outlinewidth": 0,
              "ticks": ""
             }
            },
            "type": "scatter"
           }
          ],
          "scatter3d": [
           {
            "line": {
             "colorbar": {
              "outlinewidth": 0,
              "ticks": ""
             }
            },
            "marker": {
             "colorbar": {
              "outlinewidth": 0,
              "ticks": ""
             }
            },
            "type": "scatter3d"
           }
          ],
          "scattercarpet": [
           {
            "marker": {
             "colorbar": {
              "outlinewidth": 0,
              "ticks": ""
             }
            },
            "type": "scattercarpet"
           }
          ],
          "scattergeo": [
           {
            "marker": {
             "colorbar": {
              "outlinewidth": 0,
              "ticks": ""
             }
            },
            "type": "scattergeo"
           }
          ],
          "scattergl": [
           {
            "marker": {
             "colorbar": {
              "outlinewidth": 0,
              "ticks": ""
             }
            },
            "type": "scattergl"
           }
          ],
          "scattermapbox": [
           {
            "marker": {
             "colorbar": {
              "outlinewidth": 0,
              "ticks": ""
             }
            },
            "type": "scattermapbox"
           }
          ],
          "scatterpolar": [
           {
            "marker": {
             "colorbar": {
              "outlinewidth": 0,
              "ticks": ""
             }
            },
            "type": "scatterpolar"
           }
          ],
          "scatterpolargl": [
           {
            "marker": {
             "colorbar": {
              "outlinewidth": 0,
              "ticks": ""
             }
            },
            "type": "scatterpolargl"
           }
          ],
          "scatterternary": [
           {
            "marker": {
             "colorbar": {
              "outlinewidth": 0,
              "ticks": ""
             }
            },
            "type": "scatterternary"
           }
          ],
          "surface": [
           {
            "colorbar": {
             "outlinewidth": 0,
             "ticks": ""
            },
            "colorscale": [
             [
              0,
              "#0d0887"
             ],
             [
              0.1111111111111111,
              "#46039f"
             ],
             [
              0.2222222222222222,
              "#7201a8"
             ],
             [
              0.3333333333333333,
              "#9c179e"
             ],
             [
              0.4444444444444444,
              "#bd3786"
             ],
             [
              0.5555555555555556,
              "#d8576b"
             ],
             [
              0.6666666666666666,
              "#ed7953"
             ],
             [
              0.7777777777777778,
              "#fb9f3a"
             ],
             [
              0.8888888888888888,
              "#fdca26"
             ],
             [
              1,
              "#f0f921"
             ]
            ],
            "type": "surface"
           }
          ],
          "table": [
           {
            "cells": {
             "fill": {
              "color": "#EBF0F8"
             },
             "line": {
              "color": "white"
             }
            },
            "header": {
             "fill": {
              "color": "#C8D4E3"
             },
             "line": {
              "color": "white"
             }
            },
            "type": "table"
           }
          ]
         },
         "layout": {
          "annotationdefaults": {
           "arrowcolor": "#2a3f5f",
           "arrowhead": 0,
           "arrowwidth": 1
          },
          "coloraxis": {
           "colorbar": {
            "outlinewidth": 0,
            "ticks": ""
           }
          },
          "colorscale": {
           "diverging": [
            [
             0,
             "#8e0152"
            ],
            [
             0.1,
             "#c51b7d"
            ],
            [
             0.2,
             "#de77ae"
            ],
            [
             0.3,
             "#f1b6da"
            ],
            [
             0.4,
             "#fde0ef"
            ],
            [
             0.5,
             "#f7f7f7"
            ],
            [
             0.6,
             "#e6f5d0"
            ],
            [
             0.7,
             "#b8e186"
            ],
            [
             0.8,
             "#7fbc41"
            ],
            [
             0.9,
             "#4d9221"
            ],
            [
             1,
             "#276419"
            ]
           ],
           "sequential": [
            [
             0,
             "#0d0887"
            ],
            [
             0.1111111111111111,
             "#46039f"
            ],
            [
             0.2222222222222222,
             "#7201a8"
            ],
            [
             0.3333333333333333,
             "#9c179e"
            ],
            [
             0.4444444444444444,
             "#bd3786"
            ],
            [
             0.5555555555555556,
             "#d8576b"
            ],
            [
             0.6666666666666666,
             "#ed7953"
            ],
            [
             0.7777777777777778,
             "#fb9f3a"
            ],
            [
             0.8888888888888888,
             "#fdca26"
            ],
            [
             1,
             "#f0f921"
            ]
           ],
           "sequentialminus": [
            [
             0,
             "#0d0887"
            ],
            [
             0.1111111111111111,
             "#46039f"
            ],
            [
             0.2222222222222222,
             "#7201a8"
            ],
            [
             0.3333333333333333,
             "#9c179e"
            ],
            [
             0.4444444444444444,
             "#bd3786"
            ],
            [
             0.5555555555555556,
             "#d8576b"
            ],
            [
             0.6666666666666666,
             "#ed7953"
            ],
            [
             0.7777777777777778,
             "#fb9f3a"
            ],
            [
             0.8888888888888888,
             "#fdca26"
            ],
            [
             1,
             "#f0f921"
            ]
           ]
          },
          "colorway": [
           "#636efa",
           "#EF553B",
           "#00cc96",
           "#ab63fa",
           "#FFA15A",
           "#19d3f3",
           "#FF6692",
           "#B6E880",
           "#FF97FF",
           "#FECB52"
          ],
          "font": {
           "color": "#2a3f5f"
          },
          "geo": {
           "bgcolor": "white",
           "lakecolor": "white",
           "landcolor": "#E5ECF6",
           "showlakes": true,
           "showland": true,
           "subunitcolor": "white"
          },
          "hoverlabel": {
           "align": "left"
          },
          "hovermode": "closest",
          "mapbox": {
           "style": "light"
          },
          "paper_bgcolor": "white",
          "plot_bgcolor": "#E5ECF6",
          "polar": {
           "angularaxis": {
            "gridcolor": "white",
            "linecolor": "white",
            "ticks": ""
           },
           "bgcolor": "#E5ECF6",
           "radialaxis": {
            "gridcolor": "white",
            "linecolor": "white",
            "ticks": ""
           }
          },
          "scene": {
           "xaxis": {
            "backgroundcolor": "#E5ECF6",
            "gridcolor": "white",
            "gridwidth": 2,
            "linecolor": "white",
            "showbackground": true,
            "ticks": "",
            "zerolinecolor": "white"
           },
           "yaxis": {
            "backgroundcolor": "#E5ECF6",
            "gridcolor": "white",
            "gridwidth": 2,
            "linecolor": "white",
            "showbackground": true,
            "ticks": "",
            "zerolinecolor": "white"
           },
           "zaxis": {
            "backgroundcolor": "#E5ECF6",
            "gridcolor": "white",
            "gridwidth": 2,
            "linecolor": "white",
            "showbackground": true,
            "ticks": "",
            "zerolinecolor": "white"
           }
          },
          "shapedefaults": {
           "line": {
            "color": "#2a3f5f"
           }
          },
          "ternary": {
           "aaxis": {
            "gridcolor": "white",
            "linecolor": "white",
            "ticks": ""
           },
           "baxis": {
            "gridcolor": "white",
            "linecolor": "white",
            "ticks": ""
           },
           "bgcolor": "#E5ECF6",
           "caxis": {
            "gridcolor": "white",
            "linecolor": "white",
            "ticks": ""
           }
          },
          "title": {
           "x": 0.05
          },
          "xaxis": {
           "automargin": true,
           "gridcolor": "white",
           "linecolor": "white",
           "ticks": "",
           "title": {
            "standoff": 15
           },
           "zerolinecolor": "white",
           "zerolinewidth": 2
          },
          "yaxis": {
           "automargin": true,
           "gridcolor": "white",
           "linecolor": "white",
           "ticks": "",
           "title": {
            "standoff": 15
           },
           "zerolinecolor": "white",
           "zerolinewidth": 2
          }
         }
        },
        "title": {
         "font": {
          "color": "#4D5663"
         }
        },
        "xaxis": {
         "gridcolor": "#E1E5ED",
         "showgrid": true,
         "tickfont": {
          "color": "#4D5663"
         },
         "title": {
          "font": {
           "color": "#4D5663"
          },
          "text": ""
         },
         "zerolinecolor": "#E1E5ED"
        },
        "yaxis": {
         "gridcolor": "#E1E5ED",
         "showgrid": true,
         "tickfont": {
          "color": "#4D5663"
         },
         "title": {
          "font": {
           "color": "#4D5663"
          },
          "text": ""
         },
         "zerolinecolor": "#E1E5ED"
        }
       }
      },
      "text/html": [
       "<div>\n",
       "        \n",
       "        \n",
       "            <div id=\"d9e017f9-7a27-4890-9f48-bedd2b7256a9\" class=\"plotly-graph-div\" style=\"height:525px; width:100%;\"></div>\n",
       "            <script type=\"text/javascript\">\n",
       "                require([\"plotly\"], function(Plotly) {\n",
       "                    window.PLOTLYENV=window.PLOTLYENV || {};\n",
       "                    window.PLOTLYENV.BASE_URL='https://plot.ly';\n",
       "                    \n",
       "                if (document.getElementById(\"d9e017f9-7a27-4890-9f48-bedd2b7256a9\")) {\n",
       "                    Plotly.newPlot(\n",
       "                        'd9e017f9-7a27-4890-9f48-bedd2b7256a9',\n",
       "                        [{\"line\": {\"color\": \"rgba(0, 128, 0, 1.0)\", \"dash\": \"solid\", \"shape\": \"linear\", \"width\": 1.3}, \"mode\": \"lines\", \"name\": \"Cured/Discharged/Migrated\", \"text\": \"\", \"type\": \"scatter\", \"x\": [\"Andaman and Nicobar Islands\", \"Andhra Pradesh\", \"Arunachal Pradesh\", \"Assam\", \"Bihar\", \"Chandigarh\", \"Chhattisgarh\", \"Dadra and Nagar Haveli and Daman and Diu\", \"Delhi\", \"Goa\", \"Gujarat\", \"Haryana\", \"Himachal Pradesh\", \"Jammu and Kashmir\", \"Jharkhand\", \"Karnataka\", \"Kerala\", \"Ladakh\", \"Madhya Pradesh\", \"Maharashtra\", \"Manipur\", \"Meghalaya\", \"Mizoram\", \"Nagaland\", \"Odisha\", \"Puducherry\", \"Punjab\", \"Rajasthan\", \"Sikkim\", \"Tamil Nadu\", \"Telangana\", \"Tripura\", \"Uttarakhand\", \"Uttar Pradesh\", \"West Bengal\"], \"y\": [130, 18378, 153, 12173, 13462, 459, 3324, 357, 95699, 1674, 31286, 17667, 979, 6337, 2485, 18466, 4634, 964, 13908, 152613, 989, 66, 159, 348, 10476, 889, 5867, 19502, 87, 102310, 25999, 1604, 2948, 25743, 20680]}],\n",
       "                        {\"legend\": {\"bgcolor\": \"#F5F6F9\", \"font\": {\"color\": \"#4D5663\"}}, \"paper_bgcolor\": \"#F5F6F9\", \"plot_bgcolor\": \"#F5F6F9\", \"template\": {\"data\": {\"bar\": [{\"error_x\": {\"color\": \"#2a3f5f\"}, \"error_y\": {\"color\": \"#2a3f5f\"}, \"marker\": {\"line\": {\"color\": \"#E5ECF6\", \"width\": 0.5}}, \"type\": \"bar\"}], \"barpolar\": [{\"marker\": {\"line\": {\"color\": \"#E5ECF6\", \"width\": 0.5}}, \"type\": \"barpolar\"}], \"carpet\": [{\"aaxis\": {\"endlinecolor\": \"#2a3f5f\", \"gridcolor\": \"white\", \"linecolor\": \"white\", \"minorgridcolor\": \"white\", \"startlinecolor\": \"#2a3f5f\"}, \"baxis\": {\"endlinecolor\": \"#2a3f5f\", \"gridcolor\": \"white\", \"linecolor\": \"white\", \"minorgridcolor\": \"white\", \"startlinecolor\": \"#2a3f5f\"}, \"type\": \"carpet\"}], \"choropleth\": [{\"colorbar\": {\"outlinewidth\": 0, \"ticks\": \"\"}, \"type\": \"choropleth\"}], \"contour\": [{\"colorbar\": {\"outlinewidth\": 0, \"ticks\": \"\"}, \"colorscale\": [[0.0, \"#0d0887\"], [0.1111111111111111, \"#46039f\"], [0.2222222222222222, \"#7201a8\"], [0.3333333333333333, \"#9c179e\"], [0.4444444444444444, \"#bd3786\"], [0.5555555555555556, \"#d8576b\"], [0.6666666666666666, \"#ed7953\"], [0.7777777777777778, \"#fb9f3a\"], [0.8888888888888888, \"#fdca26\"], [1.0, \"#f0f921\"]], \"type\": \"contour\"}], \"contourcarpet\": [{\"colorbar\": {\"outlinewidth\": 0, \"ticks\": \"\"}, \"type\": \"contourcarpet\"}], \"heatmap\": [{\"colorbar\": {\"outlinewidth\": 0, \"ticks\": \"\"}, \"colorscale\": [[0.0, \"#0d0887\"], [0.1111111111111111, \"#46039f\"], [0.2222222222222222, \"#7201a8\"], [0.3333333333333333, \"#9c179e\"], [0.4444444444444444, \"#bd3786\"], [0.5555555555555556, \"#d8576b\"], [0.6666666666666666, \"#ed7953\"], [0.7777777777777778, \"#fb9f3a\"], [0.8888888888888888, \"#fdca26\"], [1.0, \"#f0f921\"]], \"type\": \"heatmap\"}], \"heatmapgl\": [{\"colorbar\": {\"outlinewidth\": 0, \"ticks\": \"\"}, \"colorscale\": [[0.0, \"#0d0887\"], [0.1111111111111111, \"#46039f\"], [0.2222222222222222, \"#7201a8\"], [0.3333333333333333, \"#9c179e\"], [0.4444444444444444, \"#bd3786\"], [0.5555555555555556, \"#d8576b\"], [0.6666666666666666, \"#ed7953\"], [0.7777777777777778, \"#fb9f3a\"], [0.8888888888888888, \"#fdca26\"], [1.0, \"#f0f921\"]], \"type\": \"heatmapgl\"}], \"histogram\": [{\"marker\": {\"colorbar\": {\"outlinewidth\": 0, \"ticks\": \"\"}}, \"type\": \"histogram\"}], \"histogram2d\": [{\"colorbar\": {\"outlinewidth\": 0, \"ticks\": \"\"}, \"colorscale\": [[0.0, \"#0d0887\"], [0.1111111111111111, \"#46039f\"], [0.2222222222222222, \"#7201a8\"], [0.3333333333333333, \"#9c179e\"], [0.4444444444444444, \"#bd3786\"], [0.5555555555555556, \"#d8576b\"], [0.6666666666666666, \"#ed7953\"], [0.7777777777777778, \"#fb9f3a\"], [0.8888888888888888, \"#fdca26\"], [1.0, \"#f0f921\"]], \"type\": \"histogram2d\"}], \"histogram2dcontour\": [{\"colorbar\": {\"outlinewidth\": 0, \"ticks\": \"\"}, \"colorscale\": [[0.0, \"#0d0887\"], [0.1111111111111111, \"#46039f\"], [0.2222222222222222, \"#7201a8\"], [0.3333333333333333, \"#9c179e\"], [0.4444444444444444, \"#bd3786\"], [0.5555555555555556, \"#d8576b\"], [0.6666666666666666, \"#ed7953\"], [0.7777777777777778, \"#fb9f3a\"], [0.8888888888888888, \"#fdca26\"], [1.0, \"#f0f921\"]], \"type\": \"histogram2dcontour\"}], \"mesh3d\": [{\"colorbar\": {\"outlinewidth\": 0, \"ticks\": \"\"}, \"type\": \"mesh3d\"}], \"parcoords\": [{\"line\": {\"colorbar\": {\"outlinewidth\": 0, \"ticks\": \"\"}}, \"type\": \"parcoords\"}], \"pie\": [{\"automargin\": true, \"type\": \"pie\"}], \"scatter\": [{\"marker\": {\"colorbar\": {\"outlinewidth\": 0, \"ticks\": \"\"}}, \"type\": \"scatter\"}], \"scatter3d\": [{\"line\": {\"colorbar\": {\"outlinewidth\": 0, \"ticks\": \"\"}}, \"marker\": {\"colorbar\": {\"outlinewidth\": 0, \"ticks\": \"\"}}, \"type\": \"scatter3d\"}], \"scattercarpet\": [{\"marker\": {\"colorbar\": {\"outlinewidth\": 0, \"ticks\": \"\"}}, \"type\": \"scattercarpet\"}], \"scattergeo\": [{\"marker\": {\"colorbar\": {\"outlinewidth\": 0, \"ticks\": \"\"}}, \"type\": \"scattergeo\"}], \"scattergl\": [{\"marker\": {\"colorbar\": {\"outlinewidth\": 0, \"ticks\": \"\"}}, \"type\": \"scattergl\"}], \"scattermapbox\": [{\"marker\": {\"colorbar\": {\"outlinewidth\": 0, \"ticks\": \"\"}}, \"type\": \"scattermapbox\"}], \"scatterpolar\": [{\"marker\": {\"colorbar\": {\"outlinewidth\": 0, \"ticks\": \"\"}}, \"type\": \"scatterpolar\"}], \"scatterpolargl\": [{\"marker\": {\"colorbar\": {\"outlinewidth\": 0, \"ticks\": \"\"}}, \"type\": \"scatterpolargl\"}], \"scatterternary\": [{\"marker\": {\"colorbar\": {\"outlinewidth\": 0, \"ticks\": \"\"}}, \"type\": \"scatterternary\"}], \"surface\": [{\"colorbar\": {\"outlinewidth\": 0, \"ticks\": \"\"}, \"colorscale\": [[0.0, \"#0d0887\"], [0.1111111111111111, \"#46039f\"], [0.2222222222222222, \"#7201a8\"], [0.3333333333333333, \"#9c179e\"], [0.4444444444444444, \"#bd3786\"], [0.5555555555555556, \"#d8576b\"], [0.6666666666666666, \"#ed7953\"], [0.7777777777777778, \"#fb9f3a\"], [0.8888888888888888, \"#fdca26\"], [1.0, \"#f0f921\"]], \"type\": \"surface\"}], \"table\": [{\"cells\": {\"fill\": {\"color\": \"#EBF0F8\"}, \"line\": {\"color\": \"white\"}}, \"header\": {\"fill\": {\"color\": \"#C8D4E3\"}, \"line\": {\"color\": \"white\"}}, \"type\": \"table\"}]}, \"layout\": {\"annotationdefaults\": {\"arrowcolor\": \"#2a3f5f\", \"arrowhead\": 0, \"arrowwidth\": 1}, \"coloraxis\": {\"colorbar\": {\"outlinewidth\": 0, \"ticks\": \"\"}}, \"colorscale\": {\"diverging\": [[0, \"#8e0152\"], [0.1, \"#c51b7d\"], [0.2, \"#de77ae\"], [0.3, \"#f1b6da\"], [0.4, \"#fde0ef\"], [0.5, \"#f7f7f7\"], [0.6, \"#e6f5d0\"], [0.7, \"#b8e186\"], [0.8, \"#7fbc41\"], [0.9, \"#4d9221\"], [1, \"#276419\"]], \"sequential\": [[0.0, \"#0d0887\"], [0.1111111111111111, \"#46039f\"], [0.2222222222222222, \"#7201a8\"], [0.3333333333333333, \"#9c179e\"], [0.4444444444444444, \"#bd3786\"], [0.5555555555555556, \"#d8576b\"], [0.6666666666666666, \"#ed7953\"], [0.7777777777777778, \"#fb9f3a\"], [0.8888888888888888, \"#fdca26\"], [1.0, \"#f0f921\"]], \"sequentialminus\": [[0.0, \"#0d0887\"], [0.1111111111111111, \"#46039f\"], [0.2222222222222222, \"#7201a8\"], [0.3333333333333333, \"#9c179e\"], [0.4444444444444444, \"#bd3786\"], [0.5555555555555556, \"#d8576b\"], [0.6666666666666666, \"#ed7953\"], [0.7777777777777778, \"#fb9f3a\"], [0.8888888888888888, \"#fdca26\"], [1.0, \"#f0f921\"]]}, \"colorway\": [\"#636efa\", \"#EF553B\", \"#00cc96\", \"#ab63fa\", \"#FFA15A\", \"#19d3f3\", \"#FF6692\", \"#B6E880\", \"#FF97FF\", \"#FECB52\"], \"font\": {\"color\": \"#2a3f5f\"}, \"geo\": {\"bgcolor\": \"white\", \"lakecolor\": \"white\", \"landcolor\": \"#E5ECF6\", \"showlakes\": true, \"showland\": true, \"subunitcolor\": \"white\"}, \"hoverlabel\": {\"align\": \"left\"}, \"hovermode\": \"closest\", \"mapbox\": {\"style\": \"light\"}, \"paper_bgcolor\": \"white\", \"plot_bgcolor\": \"#E5ECF6\", \"polar\": {\"angularaxis\": {\"gridcolor\": \"white\", \"linecolor\": \"white\", \"ticks\": \"\"}, \"bgcolor\": \"#E5ECF6\", \"radialaxis\": {\"gridcolor\": \"white\", \"linecolor\": \"white\", \"ticks\": \"\"}}, \"scene\": {\"xaxis\": {\"backgroundcolor\": \"#E5ECF6\", \"gridcolor\": \"white\", \"gridwidth\": 2, \"linecolor\": \"white\", \"showbackground\": true, \"ticks\": \"\", \"zerolinecolor\": \"white\"}, \"yaxis\": {\"backgroundcolor\": \"#E5ECF6\", \"gridcolor\": \"white\", \"gridwidth\": 2, \"linecolor\": \"white\", \"showbackground\": true, \"ticks\": \"\", \"zerolinecolor\": \"white\"}, \"zaxis\": {\"backgroundcolor\": \"#E5ECF6\", \"gridcolor\": \"white\", \"gridwidth\": 2, \"linecolor\": \"white\", \"showbackground\": true, \"ticks\": \"\", \"zerolinecolor\": \"white\"}}, \"shapedefaults\": {\"line\": {\"color\": \"#2a3f5f\"}}, \"ternary\": {\"aaxis\": {\"gridcolor\": \"white\", \"linecolor\": \"white\", \"ticks\": \"\"}, \"baxis\": {\"gridcolor\": \"white\", \"linecolor\": \"white\", \"ticks\": \"\"}, \"bgcolor\": \"#E5ECF6\", \"caxis\": {\"gridcolor\": \"white\", \"linecolor\": \"white\", \"ticks\": \"\"}}, \"title\": {\"x\": 0.05}, \"xaxis\": {\"automargin\": true, \"gridcolor\": \"white\", \"linecolor\": \"white\", \"ticks\": \"\", \"title\": {\"standoff\": 15}, \"zerolinecolor\": \"white\", \"zerolinewidth\": 2}, \"yaxis\": {\"automargin\": true, \"gridcolor\": \"white\", \"linecolor\": \"white\", \"ticks\": \"\", \"title\": {\"standoff\": 15}, \"zerolinecolor\": \"white\", \"zerolinewidth\": 2}}}, \"title\": {\"font\": {\"color\": \"#4D5663\"}}, \"xaxis\": {\"gridcolor\": \"#E1E5ED\", \"showgrid\": true, \"tickfont\": {\"color\": \"#4D5663\"}, \"title\": {\"font\": {\"color\": \"#4D5663\"}, \"text\": \"\"}, \"zerolinecolor\": \"#E1E5ED\"}, \"yaxis\": {\"gridcolor\": \"#E1E5ED\", \"showgrid\": true, \"tickfont\": {\"color\": \"#4D5663\"}, \"title\": {\"font\": {\"color\": \"#4D5663\"}, \"text\": \"\"}, \"zerolinecolor\": \"#E1E5ED\"}},\n",
       "                        {\"showLink\": true, \"linkText\": \"Export to plot.ly\", \"plotlyServerURL\": \"https://plot.ly\", \"responsive\": true}\n",
       "                    ).then(function(){\n",
       "                            \n",
       "var gd = document.getElementById('d9e017f9-7a27-4890-9f48-bedd2b7256a9');\n",
       "var x = new MutationObserver(function (mutations, observer) {{\n",
       "        var display = window.getComputedStyle(gd).display;\n",
       "        if (!display || display === 'none') {{\n",
       "            console.log([gd, 'removed!']);\n",
       "            Plotly.purge(gd);\n",
       "            observer.disconnect();\n",
       "        }}\n",
       "}});\n",
       "\n",
       "// Listen for the removal of the full notebook cells\n",
       "var notebookContainer = gd.closest('#notebook-container');\n",
       "if (notebookContainer) {{\n",
       "    x.observe(notebookContainer, {childList: true});\n",
       "}}\n",
       "\n",
       "// Listen for the clearing of the current output cell\n",
       "var outputEl = gd.closest('.output');\n",
       "if (outputEl) {{\n",
       "    x.observe(outputEl, {childList: true});\n",
       "}}\n",
       "\n",
       "                        })\n",
       "                };\n",
       "                });\n",
       "            </script>\n",
       "        </div>"
      ]
     },
     "metadata": {},
     "output_type": "display_data"
    }
   ],
   "source": [
    "df.iplot(kind='scatter',x='Name of State / UT',y='Cured/Discharged/Migrated',colors='green')"
   ]
  },
  {
   "cell_type": "code",
   "execution_count": 25,
   "metadata": {},
   "outputs": [
    {
     "data": {
      "text/plain": [
       "<matplotlib.axes._subplots.AxesSubplot at 0x1c57e67bd08>"
      ]
     },
     "execution_count": 25,
     "metadata": {},
     "output_type": "execute_result"
    },
    {
     "data": {
      "image/png": "[encoded data removed]",
      "text/plain": [
       "<Figure size 432x288 with 1 Axes>"
      ]
     },
     "metadata": {
      "needs_background": "light"
     },
     "output_type": "display_data"
    }
   ],
   "source": [
    "df.plot(kind='scatter',x='Active Cases',y='Deaths')"
   ]
  },
  {
   "cell_type": "code",
   "execution_count": 26,
   "metadata": {},
   "outputs": [
    {
     "data": {
      "image/png": "[encoded data removed]",
      "text/plain": [
       "<Figure size 1080x720 with 1 Axes>"
      ]
     },
     "metadata": {},
     "output_type": "display_data"
    }
   ],
   "source": [
    "sns.set_style(\"whitegrid\")\n",
    "plt.figure(figsize = (15,10))\n",
    "plt.barh(df['Name of State / UT'],df['Total Confirmed cases'],align = 'center', color = 'red')#\n",
    "plt.xlabel('No. of Confirmed cases', fontsize = 22)\n",
    "plt.ylabel('States', fontsize = 22)\n",
    "plt.xticks(fontsize = 14)\n",
    "plt.yticks(fontsize = 15)\n",
    "plt.title('Total Cases in India', fontsize = 22 )\n",
    "for index, value in enumerate(df['Total Confirmed cases']):\n",
    "    plt.text(value, index, str(value), fontsize = 12)\n",
    "    \n",
    "plt.show()"
   ]
  },
  {
   "cell_type": "code",
   "execution_count": 27,
   "metadata": {},
   "outputs": [
    {
     "data": {
      "text/plain": [
       "<matplotlib.axes._subplots.AxesSubplot at 0x1c57ebdff48>"
      ]
     },
     "execution_count": 27,
     "metadata": {},
     "output_type": "execute_result"
    },
    {
     "data": {
      "image/png": "[encoded data removed]",
      "text/plain": [
       "<Figure size 432x288 with 1 Axes>"
      ]
     },
     "metadata": {},
     "output_type": "display_data"
    }
   ],
   "source": [
    "df.plot(kind='scatter',x='Cured/Discharged/Migrated',y='Deaths')"
   ]
  },
  {
   "cell_type": "code",
   "execution_count": 28,
   "metadata": {},
   "outputs": [
    {
     "data": {
      "application/vnd.plotly.v1+json": {
       "config": {
        "linkText": "Export to plot.ly",
        "plotlyServerURL": "https://plot.ly",
        "showLink": true
       },
       "data": [
        {
         "line": {
          "color": "rgba(219, 64, 82, 1.0)",
          "dash": "solid",
          "shape": "linear",
          "width": 1.3
         },
         "marker": {
          "size": 20,
          "symbol": "circle"
         },
         "mode": "markers+lines",
         "name": "Total Confirmed cases",
         "text": "",
         "type": "scatter",
         "x": [
          "Andaman and Nicobar Islands",
          "Andhra Pradesh",
          "Arunachal Pradesh",
          "Assam",
          "Bihar",
          "Chandigarh",
          "Chhattisgarh",
          "Dadra and Nagar Haveli and Daman and Diu",
          "Delhi",
          "Goa",
          "Gujarat",
          "Haryana",
          "Himachal Pradesh",
          "Jammu and Kashmir",
          "Jharkhand",
          "Karnataka",
          "Kerala",
          "Ladakh",
          "Madhya Pradesh",
          "Maharashtra",
          "Manipur",
          "Meghalaya",
          "Mizoram",
          "Nagaland",
          "Odisha",
          "Puducherry",
          "Punjab",
          "Rajasthan",
          "Sikkim",
          "Tamil Nadu",
          "Telangana",
          "Tripura",
          "Uttarakhand",
          "Uttar Pradesh",
          "West Bengal"
         ],
         "y": [
          176,
          35451,
          462,
          18666,
          20612,
          625,
          4539,
          539,
          116993,
          2951,
          44552,
          23306,
          1341,
          11666,
          4320,
          47253,
          9553,
          1142,
          19643,
          275640,
          1700,
          346,
          238,
          902,
          14898,
          1596,
          8799,
          26437,
          220,
          151820,
          39342,
          2268,
          3785,
          41383,
          34427
         ]
        }
       ],
       "layout": {
        "legend": {
         "bgcolor": "#F5F6F9",
         "font": {
          "color": "#4D5663"
         }
        },
        "paper_bgcolor": "#F5F6F9",
        "plot_bgcolor": "#F5F6F9",
        "template": {
         "data": {
          "bar": [
           {
            "error_x": {
             "color": "#2a3f5f"
            },
            "error_y": {
             "color": "#2a3f5f"
            },
            "marker": {
             "line": {
              "color": "#E5ECF6",
              "width": 0.5
             }
            },
            "type": "bar"
           }
          ],
          "barpolar": [
           {
            "marker": {
             "line": {
              "color": "#E5ECF6",
              "width": 0.5
             }
            },
            "type": "barpolar"
           }
          ],
          "carpet": [
           {
            "aaxis": {
             "endlinecolor": "#2a3f5f",
             "gridcolor": "white",
             "linecolor": "white",
             "minorgridcolor": "white",
             "startlinecolor": "#2a3f5f"
            },
            "baxis": {
             "endlinecolor": "#2a3f5f",
             "gridcolor": "white",
             "linecolor": "white",
             "minorgridcolor": "white",
             "startlinecolor": "#2a3f5f"
            },
            "type": "carpet"
           }
          ],
          "choropleth": [
           {
            "colorbar": {
             "outlinewidth": 0,
             "ticks": ""
            },
            "type": "choropleth"
           }
          ],
          "contour": [
           {
            "colorbar": {
             "outlinewidth": 0,
             "ticks": ""
            },
            "colorscale": [
             [
              0,
              "#0d0887"
             ],
             [
              0.1111111111111111,
              "#46039f"
             ],
             [
              0.2222222222222222,
              "#7201a8"
             ],
             [
              0.3333333333333333,
              "#9c179e"
             ],
             [
              0.4444444444444444,
              "#bd3786"
             ],
             [
              0.5555555555555556,
              "#d8576b"
             ],
             [
              0.6666666666666666,
              "#ed7953"
             ],
             [
              0.7777777777777778,
              "#fb9f3a"
             ],
             [
              0.8888888888888888,
              "#fdca26"
             ],
             [
              1,
              "#f0f921"
             ]
            ],
            "type": "contour"
           }
          ],
          "contourcarpet": [
           {
            "colorbar": {
             "outlinewidth": 0,
             "ticks": ""
            },
            "type": "contourcarpet"
           }
          ],
          "heatmap": [
           {
            "colorbar": {
             "outlinewidth": 0,
             "ticks": ""
            },
            "colorscale": [
             [
              0,
              "#0d0887"
             ],
             [
              0.1111111111111111,
              "#46039f"
             ],
             [
              0.2222222222222222,
              "#7201a8"
             ],
             [
              0.3333333333333333,
              "#9c179e"
             ],
             [
              0.4444444444444444,
              "#bd3786"
             ],
             [
              0.5555555555555556,
              "#d8576b"
             ],
             [
              0.6666666666666666,
              "#ed7953"
             ],
             [
              0.7777777777777778,
              "#fb9f3a"
             ],
             [
              0.8888888888888888,
              "#fdca26"
             ],
             [
              1,
              "#f0f921"
             ]
            ],
            "type": "heatmap"
           }
          ],
          "heatmapgl": [
           {
            "colorbar": {
             "outlinewidth": 0,
             "ticks": ""
            },
            "colorscale": [
             [
              0,
              "#0d0887"
             ],
             [
              0.1111111111111111,
              "#46039f"
             ],
             [
              0.2222222222222222,
              "#7201a8"
             ],
             [
              0.3333333333333333,
              "#9c179e"
             ],
             [
              0.4444444444444444,
              "#bd3786"
             ],
             [
              0.5555555555555556,
              "#d8576b"
             ],
             [
              0.6666666666666666,
              "#ed7953"
             ],
             [
              0.7777777777777778,
              "#fb9f3a"
             ],
             [
              0.8888888888888888,
              "#fdca26"
             ],
             [
              1,
              "#f0f921"
             ]
            ],
            "type": "heatmapgl"
           }
          ],
          "histogram": [
           {
            "marker": {
             "colorbar": {
              "outlinewidth": 0,
              "ticks": ""
             }
            },
            "type": "histogram"
           }
          ],
          "histogram2d": [
           {
            "colorbar": {
             "outlinewidth": 0,
             "ticks": ""
            },
            "colorscale": [
             [
              0,
              "#0d0887"
             ],
             [
              0.1111111111111111,
              "#46039f"
             ],
             [
              0.2222222222222222,
              "#7201a8"
             ],
             [
              0.3333333333333333,
              "#9c179e"
             ],
             [
              0.4444444444444444,
              "#bd3786"
             ],
             [
              0.5555555555555556,
              "#d8576b"
             ],
             [
              0.6666666666666666,
              "#ed7953"
             ],
             [
              0.7777777777777778,
              "#fb9f3a"
             ],
             [
              0.8888888888888888,
              "#fdca26"
             ],
             [
              1,
              "#f0f921"
             ]
            ],
            "type": "histogram2d"
           }
          ],
          "histogram2dcontour": [
           {
            "colorbar": {
             "outlinewidth": 0,
             "ticks": ""
            },
            "colorscale": [
             [
              0,
              "#0d0887"
             ],
             [
              0.1111111111111111,
              "#46039f"
             ],
             [
              0.2222222222222222,
              "#7201a8"
             ],
             [
              0.3333333333333333,
              "#9c179e"
             ],
             [
              0.4444444444444444,
              "#bd3786"
             ],
             [
              0.5555555555555556,
              "#d8576b"
             ],
             [
              0.6666666666666666,
              "#ed7953"
             ],
             [
              0.7777777777777778,
              "#fb9f3a"
             ],
             [
              0.8888888888888888,
              "#fdca26"
             ],
             [
              1,
              "#f0f921"
             ]
            ],
            "type": "histogram2dcontour"
           }
          ],
          "mesh3d": [
           {
            "colorbar": {
             "outlinewidth": 0,
             "ticks": ""
            },
            "type": "mesh3d"
           }
          ],
          "parcoords": [
           {
            "line": {
             "colorbar": {
              "outlinewidth": 0,
              "ticks": ""
             }
            },
            "type": "parcoords"
           }
          ],
          "pie": [
           {
            "automargin": true,
            "type": "pie"
           }
          ],
          "scatter": [
           {
            "marker": {
             "colorbar": {
              "outlinewidth": 0,
              "ticks": ""
             }
            },
            "type": "scatter"
           }
          ],
          "scatter3d": [
           {
            "line": {
             "colorbar": {
              "outlinewidth": 0,
              "ticks": ""
             }
            },
            "marker": {
             "colorbar": {
              "outlinewidth": 0,
              "ticks": ""
             }
            },
            "type": "scatter3d"
           }
          ],
          "scattercarpet": [
           {
            "marker": {
             "colorbar": {
              "outlinewidth": 0,
              "ticks": ""
             }
            },
            "type": "scattercarpet"
           }
          ],
          "scattergeo": [
           {
            "marker": {
             "colorbar": {
              "outlinewidth": 0,
              "ticks": ""
             }
            },
            "type": "scattergeo"
           }
          ],
          "scattergl": [
           {
            "marker": {
             "colorbar": {
              "outlinewidth": 0,
              "ticks": ""
             }
            },
            "type": "scattergl"
           }
          ],
          "scattermapbox": [
           {
            "marker": {
             "colorbar": {
              "outlinewidth": 0,
              "ticks": ""
             }
            },
            "type": "scattermapbox"
           }
          ],
          "scatterpolar": [
           {
            "marker": {
             "colorbar": {
              "outlinewidth": 0,
              "ticks": ""
             }
            },
            "type": "scatterpolar"
           }
          ],
          "scatterpolargl": [
           {
            "marker": {
             "colorbar": {
              "outlinewidth": 0,
              "ticks": ""
             }
            },
            "type": "scatterpolargl"
           }
          ],
          "scatterternary": [
           {
            "marker": {
             "colorbar": {
              "outlinewidth": 0,
              "ticks": ""
             }
            },
            "type": "scatterternary"
           }
          ],
          "surface": [
           {
            "colorbar": {
             "outlinewidth": 0,
             "ticks": ""
            },
            "colorscale": [
             [
              0,
              "#0d0887"
             ],
             [
              0.1111111111111111,
              "#46039f"
             ],
             [
              0.2222222222222222,
              "#7201a8"
             ],
             [
              0.3333333333333333,
              "#9c179e"
             ],
             [
              0.4444444444444444,
              "#bd3786"
             ],
             [
              0.5555555555555556,
              "#d8576b"
             ],
             [
              0.6666666666666666,
              "#ed7953"
             ],
             [
              0.7777777777777778,
              "#fb9f3a"
             ],
             [
              0.8888888888888888,
              "#fdca26"
             ],
             [
              1,
              "#f0f921"
             ]
            ],
            "type": "surface"
           }
          ],
          "table": [
           {
            "cells": {
             "fill": {
              "color": "#EBF0F8"
             },
             "line": {
              "color": "white"
             }
            },
            "header": {
             "fill": {
              "color": "#C8D4E3"
             },
             "line": {
              "color": "white"
             }
            },
            "type": "table"
           }
          ]
         },
         "layout": {
          "annotationdefaults": {
           "arrowcolor": "#2a3f5f",
           "arrowhead": 0,
           "arrowwidth": 1
          },
          "coloraxis": {
           "colorbar": {
            "outlinewidth": 0,
            "ticks": ""
           }
          },
          "colorscale": {
           "diverging": [
            [
             0,
             "#8e0152"
            ],
            [
             0.1,
             "#c51b7d"
            ],
            [
             0.2,
             "#de77ae"
            ],
            [
             0.3,
             "#f1b6da"
            ],
            [
             0.4,
             "#fde0ef"
            ],
            [
             0.5,
             "#f7f7f7"
            ],
            [
             0.6,
             "#e6f5d0"
            ],
            [
             0.7,
             "#b8e186"
            ],
            [
             0.8,
             "#7fbc41"
            ],
            [
             0.9,
             "#4d9221"
            ],
            [
             1,
             "#276419"
            ]
           ],
           "sequential": [
            [
             0,
             "#0d0887"
            ],
            [
             0.1111111111111111,
             "#46039f"
            ],
            [
             0.2222222222222222,
             "#7201a8"
            ],
            [
             0.3333333333333333,
             "#9c179e"
            ],
            [
             0.4444444444444444,
             "#bd3786"
            ],
            [
             0.5555555555555556,
             "#d8576b"
            ],
            [
             0.6666666666666666,
             "#ed7953"
            ],
            [
             0.7777777777777778,
             "#fb9f3a"
            ],
            [
             0.8888888888888888,
             "#fdca26"
            ],
            [
             1,
             "#f0f921"
            ]
           ],
           "sequentialminus": [
            [
             0,
             "#0d0887"
            ],
            [
             0.1111111111111111,
             "#46039f"
            ],
            [
             0.2222222222222222,
             "#7201a8"
            ],
            [
             0.3333333333333333,
             "#9c179e"
            ],
            [
             0.4444444444444444,
             "#bd3786"
            ],
            [
             0.5555555555555556,
             "#d8576b"
            ],
            [
             0.6666666666666666,
             "#ed7953"
            ],
            [
             0.7777777777777778,
             "#fb9f3a"
            ],
            [
             0.8888888888888888,
             "#fdca26"
            ],
            [
             1,
             "#f0f921"
            ]
           ]
          },
          "colorway": [
           "#636efa",
           "#EF553B",
           "#00cc96",
           "#ab63fa",
           "#FFA15A",
           "#19d3f3",
           "#FF6692",
           "#B6E880",
           "#FF97FF",
           "#FECB52"
          ],
          "font": {
           "color": "#2a3f5f"
          },
          "geo": {
           "bgcolor": "white",
           "lakecolor": "white",
           "landcolor": "#E5ECF6",
           "showlakes": true,
           "showland": true,
           "subunitcolor": "white"
          },
          "hoverlabel": {
           "align": "left"
          },
          "hovermode": "closest",
          "mapbox": {
           "style": "light"
          },
          "paper_bgcolor": "white",
          "plot_bgcolor": "#E5ECF6",
          "polar": {
           "angularaxis": {
            "gridcolor": "white",
            "linecolor": "white",
            "ticks": ""
           },
           "bgcolor": "#E5ECF6",
           "radialaxis": {
            "gridcolor": "white",
            "linecolor": "white",
            "ticks": ""
           }
          },
          "scene": {
           "xaxis": {
            "backgroundcolor": "#E5ECF6",
            "gridcolor": "white",
            "gridwidth": 2,
            "linecolor": "white",
            "showbackground": true,
            "ticks": "",
            "zerolinecolor": "white"
           },
           "yaxis": {
            "backgroundcolor": "#E5ECF6",
            "gridcolor": "white",
            "gridwidth": 2,
            "linecolor": "white",
            "showbackground": true,
            "ticks": "",
            "zerolinecolor": "white"
           },
           "zaxis": {
            "backgroundcolor": "#E5ECF6",
            "gridcolor": "white",
            "gridwidth": 2,
            "linecolor": "white",
            "showbackground": true,
            "ticks": "",
            "zerolinecolor": "white"
           }
          },
          "shapedefaults": {
           "line": {
            "color": "#2a3f5f"
           }
          },
          "ternary": {
           "aaxis": {
            "gridcolor": "white",
            "linecolor": "white",
            "ticks": ""
           },
           "baxis": {
            "gridcolor": "white",
            "linecolor": "white",
            "ticks": ""
           },
           "bgcolor": "#E5ECF6",
           "caxis": {
            "gridcolor": "white",
            "linecolor": "white",
            "ticks": ""
           }
          },
          "title": {
           "x": 0.05
          },
          "xaxis": {
           "automargin": true,
           "gridcolor": "white",
           "linecolor": "white",
           "ticks": "",
           "title": {
            "standoff": 15
           },
           "zerolinecolor": "white",
           "zerolinewidth": 2
          },
          "yaxis": {
           "automargin": true,
           "gridcolor": "white",
           "linecolor": "white",
           "ticks": "",
           "title": {
            "standoff": 15
           },
           "zerolinecolor": "white",
           "zerolinewidth": 2
          }
         }
        },
        "title": {
         "font": {
          "color": "#4D5663"
         },
         "text": "Covid-19"
        },
        "xaxis": {
         "gridcolor": "#E1E5ED",
         "showgrid": true,
         "tickfont": {
          "color": "#4D5663"
         },
         "title": {
          "font": {
           "color": "#4D5663"
          },
          "text": "Name of State / UT"
         },
         "zerolinecolor": "#E1E5ED"
        },
        "yaxis": {
         "gridcolor": "#E1E5ED",
         "showgrid": true,
         "tickfont": {
          "color": "#4D5663"
         },
         "title": {
          "font": {
           "color": "#4D5663"
          },
          "text": "Total Cases"
         },
         "zerolinecolor": "#E1E5ED"
        }
       }
      },
      "text/html": [
       "<div>\n",
       "        \n",
       "        \n",
       "            <div id=\"1a856d0d-352d-473c-a220-f45335dd5c7f\" class=\"plotly-graph-div\" style=\"height:525px; width:100%;\"></div>\n",
       "            <script type=\"text/javascript\">\n",
       "                require([\"plotly\"], function(Plotly) {\n",
       "                    window.PLOTLYENV=window.PLOTLYENV || {};\n",
       "                    window.PLOTLYENV.BASE_URL='https://plot.ly';\n",
       "                    \n",
       "                if (document.getElementById(\"1a856d0d-352d-473c-a220-f45335dd5c7f\")) {\n",
       "                    Plotly.newPlot(\n",
       "                        '1a856d0d-352d-473c-a220-f45335dd5c7f',\n",
       "                        [{\"line\": {\"color\": \"rgba(219, 64, 82, 1.0)\", \"dash\": \"solid\", \"shape\": \"linear\", \"width\": 1.3}, \"marker\": {\"size\": 20, \"symbol\": \"circle\"}, \"mode\": \"markers+lines\", \"name\": \"Total Confirmed cases\", \"text\": \"\", \"type\": \"scatter\", \"x\": [\"Andaman and Nicobar Islands\", \"Andhra Pradesh\", \"Arunachal Pradesh\", \"Assam\", \"Bihar\", \"Chandigarh\", \"Chhattisgarh\", \"Dadra and Nagar Haveli and Daman and Diu\", \"Delhi\", \"Goa\", \"Gujarat\", \"Haryana\", \"Himachal Pradesh\", \"Jammu and Kashmir\", \"Jharkhand\", \"Karnataka\", \"Kerala\", \"Ladakh\", \"Madhya Pradesh\", \"Maharashtra\", \"Manipur\", \"Meghalaya\", \"Mizoram\", \"Nagaland\", \"Odisha\", \"Puducherry\", \"Punjab\", \"Rajasthan\", \"Sikkim\", \"Tamil Nadu\", \"Telangana\", \"Tripura\", \"Uttarakhand\", \"Uttar Pradesh\", \"West Bengal\"], \"y\": [176, 35451, 462, 18666, 20612, 625, 4539, 539, 116993, 2951, 44552, 23306, 1341, 11666, 4320, 47253, 9553, 1142, 19643, 275640, 1700, 346, 238, 902, 14898, 1596, 8799, 26437, 220, 151820, 39342, 2268, 3785, 41383, 34427]}],\n",
       "                        {\"legend\": {\"bgcolor\": \"#F5F6F9\", \"font\": {\"color\": \"#4D5663\"}}, \"paper_bgcolor\": \"#F5F6F9\", \"plot_bgcolor\": \"#F5F6F9\", \"template\": {\"data\": {\"bar\": [{\"error_x\": {\"color\": \"#2a3f5f\"}, \"error_y\": {\"color\": \"#2a3f5f\"}, \"marker\": {\"line\": {\"color\": \"#E5ECF6\", \"width\": 0.5}}, \"type\": \"bar\"}], \"barpolar\": [{\"marker\": {\"line\": {\"color\": \"#E5ECF6\", \"width\": 0.5}}, \"type\": \"barpolar\"}], \"carpet\": [{\"aaxis\": {\"endlinecolor\": \"#2a3f5f\", \"gridcolor\": \"white\", \"linecolor\": \"white\", \"minorgridcolor\": \"white\", \"startlinecolor\": \"#2a3f5f\"}, \"baxis\": {\"endlinecolor\": \"#2a3f5f\", \"gridcolor\": \"white\", \"linecolor\": \"white\", \"minorgridcolor\": \"white\", \"startlinecolor\": \"#2a3f5f\"}, \"type\": \"carpet\"}], \"choropleth\": [{\"colorbar\": {\"outlinewidth\": 0, \"ticks\": \"\"}, \"type\": \"choropleth\"}], \"contour\": [{\"colorbar\": {\"outlinewidth\": 0, \"ticks\": \"\"}, \"colorscale\": [[0.0, \"#0d0887\"], [0.1111111111111111, \"#46039f\"], [0.2222222222222222, \"#7201a8\"], [0.3333333333333333, \"#9c179e\"], [0.4444444444444444, \"#bd3786\"], [0.5555555555555556, \"#d8576b\"], [0.6666666666666666, \"#ed7953\"], [0.7777777777777778, \"#fb9f3a\"], [0.8888888888888888, \"#fdca26\"], [1.0, \"#f0f921\"]], \"type\": \"contour\"}], \"contourcarpet\": [{\"colorbar\": {\"outlinewidth\": 0, \"ticks\": \"\"}, \"type\": \"contourcarpet\"}], \"heatmap\": [{\"colorbar\": {\"outlinewidth\": 0, \"ticks\": \"\"}, \"colorscale\": [[0.0, \"#0d0887\"], [0.1111111111111111, \"#46039f\"], [0.2222222222222222, \"#7201a8\"], [0.3333333333333333, \"#9c179e\"], [0.4444444444444444, \"#bd3786\"], [0.5555555555555556, \"#d8576b\"], [0.6666666666666666, \"#ed7953\"], [0.7777777777777778, \"#fb9f3a\"], [0.8888888888888888, \"#fdca26\"], [1.0, \"#f0f921\"]], \"type\": \"heatmap\"}], \"heatmapgl\": [{\"colorbar\": {\"outlinewidth\": 0, \"ticks\": \"\"}, \"colorscale\": [[0.0, \"#0d0887\"], [0.1111111111111111, \"#46039f\"], [0.2222222222222222, \"#7201a8\"], [0.3333333333333333, \"#9c179e\"], [0.4444444444444444, \"#bd3786\"], [0.5555555555555556, \"#d8576b\"], [0.6666666666666666, \"#ed7953\"], [0.7777777777777778, \"#fb9f3a\"], [0.8888888888888888, \"#fdca26\"], [1.0, \"#f0f921\"]], \"type\": \"heatmapgl\"}], \"histogram\": [{\"marker\": {\"colorbar\": {\"outlinewidth\": 0, \"ticks\": \"\"}}, \"type\": \"histogram\"}], \"histogram2d\": [{\"colorbar\": {\"outlinewidth\": 0, \"ticks\": \"\"}, \"colorscale\": [[0.0, \"#0d0887\"], [0.1111111111111111, \"#46039f\"], [0.2222222222222222, \"#7201a8\"], [0.3333333333333333, \"#9c179e\"], [0.4444444444444444, \"#bd3786\"], [0.5555555555555556, \"#d8576b\"], [0.6666666666666666, \"#ed7953\"], [0.7777777777777778, \"#fb9f3a\"], [0.8888888888888888, \"#fdca26\"], [1.0, \"#f0f921\"]], \"type\": \"histogram2d\"}], \"histogram2dcontour\": [{\"colorbar\": {\"outlinewidth\": 0, \"ticks\": \"\"}, \"colorscale\": [[0.0, \"#0d0887\"], [0.1111111111111111, \"#46039f\"], [0.2222222222222222, \"#7201a8\"], [0.3333333333333333, \"#9c179e\"], [0.4444444444444444, \"#bd3786\"], [0.5555555555555556, \"#d8576b\"], [0.6666666666666666, \"#ed7953\"], [0.7777777777777778, \"#fb9f3a\"], [0.8888888888888888, \"#fdca26\"], [1.0, \"#f0f921\"]], \"type\": \"histogram2dcontour\"}], \"mesh3d\": [{\"colorbar\": {\"outlinewidth\": 0, \"ticks\": \"\"}, \"type\": \"mesh3d\"}], \"parcoords\": [{\"line\": {\"colorbar\": {\"outlinewidth\": 0, \"ticks\": \"\"}}, \"type\": \"parcoords\"}], \"pie\": [{\"automargin\": true, \"type\": \"pie\"}], \"scatter\": [{\"marker\": {\"colorbar\": {\"outlinewidth\": 0, \"ticks\": \"\"}}, \"type\": \"scatter\"}], \"scatter3d\": [{\"line\": {\"colorbar\": {\"outlinewidth\": 0, \"ticks\": \"\"}}, \"marker\": {\"colorbar\": {\"outlinewidth\": 0, \"ticks\": \"\"}}, \"type\": \"scatter3d\"}], \"scattercarpet\": [{\"marker\": {\"colorbar\": {\"outlinewidth\": 0, \"ticks\": \"\"}}, \"type\": \"scattercarpet\"}], \"scattergeo\": [{\"marker\": {\"colorbar\": {\"outlinewidth\": 0, \"ticks\": \"\"}}, \"type\": \"scattergeo\"}], \"scattergl\": [{\"marker\": {\"colorbar\": {\"outlinewidth\": 0, \"ticks\": \"\"}}, \"type\": \"scattergl\"}], \"scattermapbox\": [{\"marker\": {\"colorbar\": {\"outlinewidth\": 0, \"ticks\": \"\"}}, \"type\": \"scattermapbox\"}], \"scatterpolar\": [{\"marker\": {\"colorbar\": {\"outlinewidth\": 0, \"ticks\": \"\"}}, \"type\": \"scatterpolar\"}], \"scatterpolargl\": [{\"marker\": {\"colorbar\": {\"outlinewidth\": 0, \"ticks\": \"\"}}, \"type\": \"scatterpolargl\"}], \"scatterternary\": [{\"marker\": {\"colorbar\": {\"outlinewidth\": 0, \"ticks\": \"\"}}, \"type\": \"scatterternary\"}], \"surface\": [{\"colorbar\": {\"outlinewidth\": 0, \"ticks\": \"\"}, \"colorscale\": [[0.0, \"#0d0887\"], [0.1111111111111111, \"#46039f\"], [0.2222222222222222, \"#7201a8\"], [0.3333333333333333, \"#9c179e\"], [0.4444444444444444, \"#bd3786\"], [0.5555555555555556, \"#d8576b\"], [0.6666666666666666, \"#ed7953\"], [0.7777777777777778, \"#fb9f3a\"], [0.8888888888888888, \"#fdca26\"], [1.0, \"#f0f921\"]], \"type\": \"surface\"}], \"table\": [{\"cells\": {\"fill\": {\"color\": \"#EBF0F8\"}, \"line\": {\"color\": \"white\"}}, \"header\": {\"fill\": {\"color\": \"#C8D4E3\"}, \"line\": {\"color\": \"white\"}}, \"type\": \"table\"}]}, \"layout\": {\"annotationdefaults\": {\"arrowcolor\": \"#2a3f5f\", \"arrowhead\": 0, \"arrowwidth\": 1}, \"coloraxis\": {\"colorbar\": {\"outlinewidth\": 0, \"ticks\": \"\"}}, \"colorscale\": {\"diverging\": [[0, \"#8e0152\"], [0.1, \"#c51b7d\"], [0.2, \"#de77ae\"], [0.3, \"#f1b6da\"], [0.4, \"#fde0ef\"], [0.5, \"#f7f7f7\"], [0.6, \"#e6f5d0\"], [0.7, \"#b8e186\"], [0.8, \"#7fbc41\"], [0.9, \"#4d9221\"], [1, \"#276419\"]], \"sequential\": [[0.0, \"#0d0887\"], [0.1111111111111111, \"#46039f\"], [0.2222222222222222, \"#7201a8\"], [0.3333333333333333, \"#9c179e\"], [0.4444444444444444, \"#bd3786\"], [0.5555555555555556, \"#d8576b\"], [0.6666666666666666, \"#ed7953\"], [0.7777777777777778, \"#fb9f3a\"], [0.8888888888888888, \"#fdca26\"], [1.0, \"#f0f921\"]], \"sequentialminus\": [[0.0, \"#0d0887\"], [0.1111111111111111, \"#46039f\"], [0.2222222222222222, \"#7201a8\"], [0.3333333333333333, \"#9c179e\"], [0.4444444444444444, \"#bd3786\"], [0.5555555555555556, \"#d8576b\"], [0.6666666666666666, \"#ed7953\"], [0.7777777777777778, \"#fb9f3a\"], [0.8888888888888888, \"#fdca26\"], [1.0, \"#f0f921\"]]}, \"colorway\": [\"#636efa\", \"#EF553B\", \"#00cc96\", \"#ab63fa\", \"#FFA15A\", \"#19d3f3\", \"#FF6692\", \"#B6E880\", \"#FF97FF\", \"#FECB52\"], \"font\": {\"color\": \"#2a3f5f\"}, \"geo\": {\"bgcolor\": \"white\", \"lakecolor\": \"white\", \"landcolor\": \"#E5ECF6\", \"showlakes\": true, \"showland\": true, \"subunitcolor\": \"white\"}, \"hoverlabel\": {\"align\": \"left\"}, \"hovermode\": \"closest\", \"mapbox\": {\"style\": \"light\"}, \"paper_bgcolor\": \"white\", \"plot_bgcolor\": \"#E5ECF6\", \"polar\": {\"angularaxis\": {\"gridcolor\": \"white\", \"linecolor\": \"white\", \"ticks\": \"\"}, \"bgcolor\": \"#E5ECF6\", \"radialaxis\": {\"gridcolor\": \"white\", \"linecolor\": \"white\", \"ticks\": \"\"}}, \"scene\": {\"xaxis\": {\"backgroundcolor\": \"#E5ECF6\", \"gridcolor\": \"white\", \"gridwidth\": 2, \"linecolor\": \"white\", \"showbackground\": true, \"ticks\": \"\", \"zerolinecolor\": \"white\"}, \"yaxis\": {\"backgroundcolor\": \"#E5ECF6\", \"gridcolor\": \"white\", \"gridwidth\": 2, \"linecolor\": \"white\", \"showbackground\": true, \"ticks\": \"\", \"zerolinecolor\": \"white\"}, \"zaxis\": {\"backgroundcolor\": \"#E5ECF6\", \"gridcolor\": \"white\", \"gridwidth\": 2, \"linecolor\": \"white\", \"showbackground\": true, \"ticks\": \"\", \"zerolinecolor\": \"white\"}}, \"shapedefaults\": {\"line\": {\"color\": \"#2a3f5f\"}}, \"ternary\": {\"aaxis\": {\"gridcolor\": \"white\", \"linecolor\": \"white\", \"ticks\": \"\"}, \"baxis\": {\"gridcolor\": \"white\", \"linecolor\": \"white\", \"ticks\": \"\"}, \"bgcolor\": \"#E5ECF6\", \"caxis\": {\"gridcolor\": \"white\", \"linecolor\": \"white\", \"ticks\": \"\"}}, \"title\": {\"x\": 0.05}, \"xaxis\": {\"automargin\": true, \"gridcolor\": \"white\", \"linecolor\": \"white\", \"ticks\": \"\", \"title\": {\"standoff\": 15}, \"zerolinecolor\": \"white\", \"zerolinewidth\": 2}, \"yaxis\": {\"automargin\": true, \"gridcolor\": \"white\", \"linecolor\": \"white\", \"ticks\": \"\", \"title\": {\"standoff\": 15}, \"zerolinecolor\": \"white\", \"zerolinewidth\": 2}}}, \"title\": {\"font\": {\"color\": \"#4D5663\"}, \"text\": \"Covid-19\"}, \"xaxis\": {\"gridcolor\": \"#E1E5ED\", \"showgrid\": true, \"tickfont\": {\"color\": \"#4D5663\"}, \"title\": {\"font\": {\"color\": \"#4D5663\"}, \"text\": \"Name of State / UT\"}, \"zerolinecolor\": \"#E1E5ED\"}, \"yaxis\": {\"gridcolor\": \"#E1E5ED\", \"showgrid\": true, \"tickfont\": {\"color\": \"#4D5663\"}, \"title\": {\"font\": {\"color\": \"#4D5663\"}, \"text\": \"Total Cases\"}, \"zerolinecolor\": \"#E1E5ED\"}},\n",
       "                        {\"showLink\": true, \"linkText\": \"Export to plot.ly\", \"plotlyServerURL\": \"https://plot.ly\", \"responsive\": true}\n",
       "                    ).then(function(){\n",
       "                            \n",
       "var gd = document.getElementById('1a856d0d-352d-473c-a220-f45335dd5c7f');\n",
       "var x = new MutationObserver(function (mutations, observer) {{\n",
       "        var display = window.getComputedStyle(gd).display;\n",
       "        if (!display || display === 'none') {{\n",
       "            console.log([gd, 'removed!']);\n",
       "            Plotly.purge(gd);\n",
       "            observer.disconnect();\n",
       "        }}\n",
       "}});\n",
       "\n",
       "// Listen for the removal of the full notebook cells\n",
       "var notebookContainer = gd.closest('#notebook-container');\n",
       "if (notebookContainer) {{\n",
       "    x.observe(notebookContainer, {childList: true});\n",
       "}}\n",
       "\n",
       "// Listen for the clearing of the current output cell\n",
       "var outputEl = gd.closest('.output');\n",
       "if (outputEl) {{\n",
       "    x.observe(outputEl, {childList: true});\n",
       "}}\n",
       "\n",
       "                        })\n",
       "                };\n",
       "                });\n",
       "            </script>\n",
       "        </div>"
      ]
     },
     "metadata": {},
     "output_type": "display_data"
    }
   ],
   "source": [
    "df.iplot(kind='scatter',x='Name of State / UT',y='Total Confirmed cases',mode='markers+lines',title='Covid-19',xTitle='Name of State / UT',yTitle='Total Cases',colors='red',size=20)\n"
   ]
  },
  {
   "cell_type": "code",
   "execution_count": 29,
   "metadata": {},
   "outputs": [
    {
     "data": {
      "text/html": [
       "<div>\n",
       "<style scoped>\n",
       "    .dataframe tbody tr th:only-of-type {\n",
       "        vertical-align: middle;\n",
       "    }\n",
       "\n",
       "    .dataframe tbody tr th {\n",
       "        vertical-align: top;\n",
       "    }\n",
       "\n",
       "    .dataframe thead th {\n",
       "        text-align: right;\n",
       "    }\n",
       "</style>\n",
       "<table border=\"1\" class=\"dataframe\">\n",
       "  <thead>\n",
       "    <tr style=\"text-align: right;\">\n",
       "      <th></th>\n",
       "      <th>Name of State / UT</th>\n",
       "      <th>Active Cases</th>\n",
       "      <th>Cured/Discharged/Migrated</th>\n",
       "      <th>Deaths</th>\n",
       "      <th>Total Confirmed cases</th>\n",
       "    </tr>\n",
       "  </thead>\n",
       "  <tbody>\n",
       "    <tr>\n",
       "      <td>0</td>\n",
       "      <td>Andaman and Nicobar Islands</td>\n",
       "      <td>46</td>\n",
       "      <td>130</td>\n",
       "      <td>0</td>\n",
       "      <td>176</td>\n",
       "    </tr>\n",
       "    <tr>\n",
       "      <td>1</td>\n",
       "      <td>Andhra Pradesh</td>\n",
       "      <td>16621</td>\n",
       "      <td>18378</td>\n",
       "      <td>452</td>\n",
       "      <td>35451</td>\n",
       "    </tr>\n",
       "    <tr>\n",
       "      <td>2</td>\n",
       "      <td>Arunachal Pradesh</td>\n",
       "      <td>306</td>\n",
       "      <td>153</td>\n",
       "      <td>3</td>\n",
       "      <td>462</td>\n",
       "    </tr>\n",
       "    <tr>\n",
       "      <td>3</td>\n",
       "      <td>Assam</td>\n",
       "      <td>6447</td>\n",
       "      <td>12173</td>\n",
       "      <td>46</td>\n",
       "      <td>18666</td>\n",
       "    </tr>\n",
       "    <tr>\n",
       "      <td>4</td>\n",
       "      <td>Bihar</td>\n",
       "      <td>6970</td>\n",
       "      <td>13462</td>\n",
       "      <td>180</td>\n",
       "      <td>20612</td>\n",
       "    </tr>\n",
       "  </tbody>\n",
       "</table>\n",
       "</div>"
      ],
      "text/plain": [
       "            Name of State / UT  Active Cases  Cured/Discharged/Migrated  \\\n",
       "0  Andaman and Nicobar Islands            46                        130   \n",
       "1               Andhra Pradesh         16621                      18378   \n",
       "2            Arunachal Pradesh           306                        153   \n",
       "3                        Assam          6447                      12173   \n",
       "4                        Bihar          6970                      13462   \n",
       "\n",
       "   Deaths  Total Confirmed cases  \n",
       "0       0                    176  \n",
       "1     452                  35451  \n",
       "2       3                    462  \n",
       "3      46                  18666  \n",
       "4     180                  20612  "
      ]
     },
     "execution_count": 29,
     "metadata": {},
     "output_type": "execute_result"
    }
   ],
   "source": [
    "df.head()"
   ]
  },
  {
   "cell_type": "code",
   "execution_count": 30,
   "metadata": {},
   "outputs": [
    {
     "data": {
      "image/png": "[encoded data removed]",
      "text/plain": [
       "<Figure size 432x432 with 3 Axes>"
      ]
     },
     "metadata": {},
     "output_type": "display_data"
    }
   ],
   "source": [
    "g=sns.jointplot(x='Cured/Discharged/Migrated',y='Deaths',data=df)\n",
    "g = g.plot(sns.regplot, sns.distplot)"
   ]
  },
  {
   "cell_type": "code",
   "execution_count": 31,
   "metadata": {},
   "outputs": [
    {
     "data": {
      "text/plain": [
       "<matplotlib.axes._subplots.AxesSubplot at 0x1c57e821748>"
      ]
     },
     "execution_count": 31,
     "metadata": {},
     "output_type": "execute_result"
    },
    {
     "data": {
      "image/png": "[encoded data removed]",
      "text/plain": [
       "<Figure size 432x288 with 1 Axes>"
      ]
     },
     "metadata": {},
     "output_type": "display_data"
    }
   ],
   "source": [
    "sns.distplot(df['Total Confirmed cases'],bins=30,kde=True,color='blue')"
   ]
  },
  {
   "cell_type": "code",
   "execution_count": 32,
   "metadata": {},
   "outputs": [
    {
     "data": {
      "text/plain": [
       "Text(0.5, 1, 'df.corr()')"
      ]
     },
     "execution_count": 32,
     "metadata": {},
     "output_type": "execute_result"
    },
    {
     "data": {
      "image/png": "[encoded data removed]",
      "text/plain": [
       "<Figure size 864x576 with 2 Axes>"
      ]
     },
     "metadata": {},
     "output_type": "display_data"
    }
   ],
   "source": [
    "plt.figure(figsize=(12,8))\n",
    "sns.heatmap(df.corr(),cmap='coolwarm',linecolor='white',linewidths=1)\n",
    "plt.title('df.corr()')"
   ]
  },
  {
   "cell_type": "code",
   "execution_count": 33,
   "metadata": {},
   "outputs": [
    {
     "data": {
      "text/plain": [
       "<seaborn.axisgrid.PairGrid at 0x1c57eaf6a48>"
      ]
     },
     "execution_count": 33,
     "metadata": {},
     "output_type": "execute_result"
    },
    {
     "data": {
      "image/png": "[encoded data removed]",
      "text/plain": [
       "<Figure size 720x720 with 20 Axes>"
      ]
     },
     "metadata": {},
     "output_type": "display_data"
    }
   ],
   "source": [
    "sns.pairplot(df,palette='coolwarm')"
   ]
  },
  {
   "cell_type": "code",
   "execution_count": 34,
   "metadata": {},
   "outputs": [
    {
     "data": {
      "application/vnd.plotly.v1+json": {
       "config": {
        "plotlyServerURL": "https://plot.ly"
       },
       "data": [
        {
         "line": {
          "color": "blue",
          "width": 2
         },
         "mode": "lines+markers",
         "name": "Active Cases",
         "type": "scatter",
         "x": [
          "Andaman and Nicobar Islands",
          "Andhra Pradesh",
          "Arunachal Pradesh",
          "Assam",
          "Bihar",
          "Chandigarh",
          "Chhattisgarh",
          "Dadra and Nagar Haveli and Daman and Diu",
          "Delhi",
          "Goa",
          "Gujarat",
          "Haryana",
          "Himachal Pradesh",
          "Jammu and Kashmir",
          "Jharkhand",
          "Karnataka",
          "Kerala",
          "Ladakh",
          "Madhya Pradesh",
          "Maharashtra",
          "Manipur",
          "Meghalaya",
          "Mizoram",
          "Nagaland",
          "Odisha",
          "Puducherry",
          "Punjab",
          "Rajasthan",
          "Sikkim",
          "Tamil Nadu",
          "Telangana",
          "Tripura",
          "Uttarakhand",
          "Uttar Pradesh",
          "West Bengal"
         ],
         "y": [
          46,
          16621,
          306,
          6447,
          6970,
          155,
          1195,
          180,
          17807,
          1259,
          11187,
          5320,
          351,
          5123,
          1797,
          27859,
          4884,
          177,
          5053,
          112099,
          711,
          278,
          79,
          554,
          4345,
          686,
          2711,
          6405,
          133,
          47343,
          12957,
          661,
          787,
          14628,
          12747
         ]
        },
        {
         "line": {
          "color": "green",
          "width": 2
         },
         "mode": "lines+markers",
         "name": "Cured",
         "type": "scatter",
         "x": [
          "Andaman and Nicobar Islands",
          "Andhra Pradesh",
          "Arunachal Pradesh",
          "Assam",
          "Bihar",
          "Chandigarh",
          "Chhattisgarh",
          "Dadra and Nagar Haveli and Daman and Diu",
          "Delhi",
          "Goa",
          "Gujarat",
          "Haryana",
          "Himachal Pradesh",
          "Jammu and Kashmir",
          "Jharkhand",
          "Karnataka",
          "Kerala",
          "Ladakh",
          "Madhya Pradesh",
          "Maharashtra",
          "Manipur",
          "Meghalaya",
          "Mizoram",
          "Nagaland",
          "Odisha",
          "Puducherry",
          "Punjab",
          "Rajasthan",
          "Sikkim",
          "Tamil Nadu",
          "Telangana",
          "Tripura",
          "Uttarakhand",
          "Uttar Pradesh",
          "West Bengal"
         ],
         "y": [
          130,
          18378,
          153,
          12173,
          13462,
          459,
          3324,
          357,
          95699,
          1674,
          31286,
          17667,
          979,
          6337,
          2485,
          18466,
          4634,
          964,
          13908,
          152613,
          989,
          66,
          159,
          348,
          10476,
          889,
          5867,
          19502,
          87,
          102310,
          25999,
          1604,
          2948,
          25743,
          20680
         ]
        },
        {
         "line": {
          "color": "red",
          "width": 2
         },
         "mode": "lines+markers",
         "name": "Death",
         "type": "scatter",
         "x": [
          "Andaman and Nicobar Islands",
          "Andhra Pradesh",
          "Arunachal Pradesh",
          "Assam",
          "Bihar",
          "Chandigarh",
          "Chhattisgarh",
          "Dadra and Nagar Haveli and Daman and Diu",
          "Delhi",
          "Goa",
          "Gujarat",
          "Haryana",
          "Himachal Pradesh",
          "Jammu and Kashmir",
          "Jharkhand",
          "Karnataka",
          "Kerala",
          "Ladakh",
          "Madhya Pradesh",
          "Maharashtra",
          "Manipur",
          "Meghalaya",
          "Mizoram",
          "Nagaland",
          "Odisha",
          "Puducherry",
          "Punjab",
          "Rajasthan",
          "Sikkim",
          "Tamil Nadu",
          "Telangana",
          "Tripura",
          "Uttarakhand",
          "Uttar Pradesh",
          "West Bengal"
         ],
         "y": [
          0,
          452,
          3,
          46,
          180,
          11,
          20,
          2,
          3487,
          18,
          2079,
          319,
          11,
          206,
          38,
          928,
          35,
          1,
          682,
          10928,
          0,
          2,
          0,
          0,
          77,
          21,
          221,
          530,
          0,
          2167,
          386,
          3,
          50,
          1012,
          1000
         ]
        }
       ],
       "layout": {
        "template": {
         "data": {
          "bar": [
           {
            "error_x": {
             "color": "#2a3f5f"
            },
            "error_y": {
             "color": "#2a3f5f"
            },
            "marker": {
             "line": {
              "color": "#E5ECF6",
              "width": 0.5
             }
            },
            "type": "bar"
           }
          ],
          "barpolar": [
           {
            "marker": {
             "line": {
              "color": "#E5ECF6",
              "width": 0.5
             }
            },
            "type": "barpolar"
           }
          ],
          "carpet": [
           {
            "aaxis": {
             "endlinecolor": "#2a3f5f",
             "gridcolor": "white",
             "linecolor": "white",
             "minorgridcolor": "white",
             "startlinecolor": "#2a3f5f"
            },
            "baxis": {
             "endlinecolor": "#2a3f5f",
             "gridcolor": "white",
             "linecolor": "white",
             "minorgridcolor": "white",
             "startlinecolor": "#2a3f5f"
            },
            "type": "carpet"
           }
          ],
          "choropleth": [
           {
            "colorbar": {
             "outlinewidth": 0,
             "ticks": ""
            },
            "type": "choropleth"
           }
          ],
          "contour": [
           {
            "colorbar": {
             "outlinewidth": 0,
             "ticks": ""
            },
            "colorscale": [
             [
              0,
              "#0d0887"
             ],
             [
              0.1111111111111111,
              "#46039f"
             ],
             [
              0.2222222222222222,
              "#7201a8"
             ],
             [
              0.3333333333333333,
              "#9c179e"
             ],
             [
              0.4444444444444444,
              "#bd3786"
             ],
             [
              0.5555555555555556,
              "#d8576b"
             ],
             [
              0.6666666666666666,
              "#ed7953"
             ],
             [
              0.7777777777777778,
              "#fb9f3a"
             ],
             [
              0.8888888888888888,
              "#fdca26"
             ],
             [
              1,
              "#f0f921"
             ]
            ],
            "type": "contour"
           }
          ],
          "contourcarpet": [
           {
            "colorbar": {
             "outlinewidth": 0,
             "ticks": ""
            },
            "type": "contourcarpet"
           }
          ],
          "heatmap": [
           {
            "colorbar": {
             "outlinewidth": 0,
             "ticks": ""
            },
            "colorscale": [
             [
              0,
              "#0d0887"
             ],
             [
              0.1111111111111111,
              "#46039f"
             ],
             [
              0.2222222222222222,
              "#7201a8"
             ],
             [
              0.3333333333333333,
              "#9c179e"
             ],
             [
              0.4444444444444444,
              "#bd3786"
             ],
             [
              0.5555555555555556,
              "#d8576b"
             ],
             [
              0.6666666666666666,
              "#ed7953"
             ],
             [
              0.7777777777777778,
              "#fb9f3a"
             ],
             [
              0.8888888888888888,
              "#fdca26"
             ],
             [
              1,
              "#f0f921"
             ]
            ],
            "type": "heatmap"
           }
          ],
          "heatmapgl": [
           {
            "colorbar": {
             "outlinewidth": 0,
             "ticks": ""
            },
            "colorscale": [
             [
              0,
              "#0d0887"
             ],
             [
              0.1111111111111111,
              "#46039f"
             ],
             [
              0.2222222222222222,
              "#7201a8"
             ],
             [
              0.3333333333333333,
              "#9c179e"
             ],
             [
              0.4444444444444444,
              "#bd3786"
             ],
             [
              0.5555555555555556,
              "#d8576b"
             ],
             [
              0.6666666666666666,
              "#ed7953"
             ],
             [
              0.7777777777777778,
              "#fb9f3a"
             ],
             [
              0.8888888888888888,
              "#fdca26"
             ],
             [
              1,
              "#f0f921"
             ]
            ],
            "type": "heatmapgl"
           }
          ],
          "histogram": [
           {
            "marker": {
             "colorbar": {
              "outlinewidth": 0,
              "ticks": ""
             }
            },
            "type": "histogram"
           }
          ],
          "histogram2d": [
           {
            "colorbar": {
             "outlinewidth": 0,
             "ticks": ""
            },
            "colorscale": [
             [
              0,
              "#0d0887"
             ],
             [
              0.1111111111111111,
              "#46039f"
             ],
             [
              0.2222222222222222,
              "#7201a8"
             ],
             [
              0.3333333333333333,
              "#9c179e"
             ],
             [
              0.4444444444444444,
              "#bd3786"
             ],
             [
              0.5555555555555556,
              "#d8576b"
             ],
             [
              0.6666666666666666,
              "#ed7953"
             ],
             [
              0.7777777777777778,
              "#fb9f3a"
             ],
             [
              0.8888888888888888,
              "#fdca26"
             ],
             [
              1,
              "#f0f921"
             ]
            ],
            "type": "histogram2d"
           }
          ],
          "histogram2dcontour": [
           {
            "colorbar": {
             "outlinewidth": 0,
             "ticks": ""
            },
            "colorscale": [
             [
              0,
              "#0d0887"
             ],
             [
              0.1111111111111111,
              "#46039f"
             ],
             [
              0.2222222222222222,
              "#7201a8"
             ],
             [
              0.3333333333333333,
              "#9c179e"
             ],
             [
              0.4444444444444444,
              "#bd3786"
             ],
             [
              0.5555555555555556,
              "#d8576b"
             ],
             [
              0.6666666666666666,
              "#ed7953"
             ],
             [
              0.7777777777777778,
              "#fb9f3a"
             ],
             [
              0.8888888888888888,
              "#fdca26"
             ],
             [
              1,
              "#f0f921"
             ]
            ],
            "type": "histogram2dcontour"
           }
          ],
          "mesh3d": [
           {
            "colorbar": {
             "outlinewidth": 0,
             "ticks": ""
            },
            "type": "mesh3d"
           }
          ],
          "parcoords": [
           {
            "line": {
             "colorbar": {
              "outlinewidth": 0,
              "ticks": ""
             }
            },
            "type": "parcoords"
           }
          ],
          "pie": [
           {
            "automargin": true,
            "type": "pie"
           }
          ],
          "scatter": [
           {
            "marker": {
             "colorbar": {
              "outlinewidth": 0,
              "ticks": ""
             }
            },
            "type": "scatter"
           }
          ],
          "scatter3d": [
           {
            "line": {
             "colorbar": {
              "outlinewidth": 0,
              "ticks": ""
             }
            },
            "marker": {
             "colorbar": {
              "outlinewidth": 0,
              "ticks": ""
             }
            },
            "type": "scatter3d"
           }
          ],
          "scattercarpet": [
           {
            "marker": {
             "colorbar": {
              "outlinewidth": 0,
              "ticks": ""
             }
            },
            "type": "scattercarpet"
           }
          ],
          "scattergeo": [
           {
            "marker": {
             "colorbar": {
              "outlinewidth": 0,
              "ticks": ""
             }
            },
            "type": "scattergeo"
           }
          ],
          "scattergl": [
           {
            "marker": {
             "colorbar": {
              "outlinewidth": 0,
              "ticks": ""
             }
            },
            "type": "scattergl"
           }
          ],
          "scattermapbox": [
           {
            "marker": {
             "colorbar": {
              "outlinewidth": 0,
              "ticks": ""
             }
            },
            "type": "scattermapbox"
           }
          ],
          "scatterpolar": [
           {
            "marker": {
             "colorbar": {
              "outlinewidth": 0,
              "ticks": ""
             }
            },
            "type": "scatterpolar"
           }
          ],
          "scatterpolargl": [
           {
            "marker": {
             "colorbar": {
              "outlinewidth": 0,
              "ticks": ""
             }
            },
            "type": "scatterpolargl"
           }
          ],
          "scatterternary": [
           {
            "marker": {
             "colorbar": {
              "outlinewidth": 0,
              "ticks": ""
             }
            },
            "type": "scatterternary"
           }
          ],
          "surface": [
           {
            "colorbar": {
             "outlinewidth": 0,
             "ticks": ""
            },
            "colorscale": [
             [
              0,
              "#0d0887"
             ],
             [
              0.1111111111111111,
              "#46039f"
             ],
             [
              0.2222222222222222,
              "#7201a8"
             ],
             [
              0.3333333333333333,
              "#9c179e"
             ],
             [
              0.4444444444444444,
              "#bd3786"
             ],
             [
              0.5555555555555556,
              "#d8576b"
             ],
             [
              0.6666666666666666,
              "#ed7953"
             ],
             [
              0.7777777777777778,
              "#fb9f3a"
             ],
             [
              0.8888888888888888,
              "#fdca26"
             ],
             [
              1,
              "#f0f921"
             ]
            ],
            "type": "surface"
           }
          ],
          "table": [
           {
            "cells": {
             "fill": {
              "color": "#EBF0F8"
             },
             "line": {
              "color": "white"
             }
            },
            "header": {
             "fill": {
              "color": "#C8D4E3"
             },
             "line": {
              "color": "white"
             }
            },
            "type": "table"
           }
          ]
         },
         "layout": {
          "annotationdefaults": {
           "arrowcolor": "#2a3f5f",
           "arrowhead": 0,
           "arrowwidth": 1
          },
          "coloraxis": {
           "colorbar": {
            "outlinewidth": 0,
            "ticks": ""
           }
          },
          "colorscale": {
           "diverging": [
            [
             0,
             "#8e0152"
            ],
            [
             0.1,
             "#c51b7d"
            ],
            [
             0.2,
             "#de77ae"
            ],
            [
             0.3,
             "#f1b6da"
            ],
            [
             0.4,
             "#fde0ef"
            ],
            [
             0.5,
             "#f7f7f7"
            ],
            [
             0.6,
             "#e6f5d0"
            ],
            [
             0.7,
             "#b8e186"
            ],
            [
             0.8,
             "#7fbc41"
            ],
            [
             0.9,
             "#4d9221"
            ],
            [
             1,
             "#276419"
            ]
           ],
           "sequential": [
            [
             0,
             "#0d0887"
            ],
            [
             0.1111111111111111,
             "#46039f"
            ],
            [
             0.2222222222222222,
             "#7201a8"
            ],
            [
             0.3333333333333333,
             "#9c179e"
            ],
            [
             0.4444444444444444,
             "#bd3786"
            ],
            [
             0.5555555555555556,
             "#d8576b"
            ],
            [
             0.6666666666666666,
             "#ed7953"
            ],
            [
             0.7777777777777778,
             "#fb9f3a"
            ],
            [
             0.8888888888888888,
             "#fdca26"
            ],
            [
             1,
             "#f0f921"
            ]
           ],
           "sequentialminus": [
            [
             0,
             "#0d0887"
            ],
            [
             0.1111111111111111,
             "#46039f"
            ],
            [
             0.2222222222222222,
             "#7201a8"
            ],
            [
             0.3333333333333333,
             "#9c179e"
            ],
            [
             0.4444444444444444,
             "#bd3786"
            ],
            [
             0.5555555555555556,
             "#d8576b"
            ],
            [
             0.6666666666666666,
             "#ed7953"
            ],
            [
             0.7777777777777778,
             "#fb9f3a"
            ],
            [
             0.8888888888888888,
             "#fdca26"
            ],
            [
             1,
             "#f0f921"
            ]
           ]
          },
          "colorway": [
           "#636efa",
           "#EF553B",
           "#00cc96",
           "#ab63fa",
           "#FFA15A",
           "#19d3f3",
           "#FF6692",
           "#B6E880",
           "#FF97FF",
           "#FECB52"
          ],
          "font": {
           "color": "#2a3f5f"
          },
          "geo": {
           "bgcolor": "white",
           "lakecolor": "white",
           "landcolor": "#E5ECF6",
           "showlakes": true,
           "showland": true,
           "subunitcolor": "white"
          },
          "hoverlabel": {
           "align": "left"
          },
          "hovermode": "closest",
          "mapbox": {
           "style": "light"
          },
          "paper_bgcolor": "white",
          "plot_bgcolor": "#E5ECF6",
          "polar": {
           "angularaxis": {
            "gridcolor": "white",
            "linecolor": "white",
            "ticks": ""
           },
           "bgcolor": "#E5ECF6",
           "radialaxis": {
            "gridcolor": "white",
            "linecolor": "white",
            "ticks": ""
           }
          },
          "scene": {
           "xaxis": {
            "backgroundcolor": "#E5ECF6",
            "gridcolor": "white",
            "gridwidth": 2,
            "linecolor": "white",
            "showbackground": true,
            "ticks": "",
            "zerolinecolor": "white"
           },
           "yaxis": {
            "backgroundcolor": "#E5ECF6",
            "gridcolor": "white",
            "gridwidth": 2,
            "linecolor": "white",
            "showbackground": true,
            "ticks": "",
            "zerolinecolor": "white"
           },
           "zaxis": {
            "backgroundcolor": "#E5ECF6",
            "gridcolor": "white",
            "gridwidth": 2,
            "linecolor": "white",
            "showbackground": true,
            "ticks": "",
            "zerolinecolor": "white"
           }
          },
          "shapedefaults": {
           "line": {
            "color": "#2a3f5f"
           }
          },
          "ternary": {
           "aaxis": {
            "gridcolor": "white",
            "linecolor": "white",
            "ticks": ""
           },
           "baxis": {
            "gridcolor": "white",
            "linecolor": "white",
            "ticks": ""
           },
           "bgcolor": "#E5ECF6",
           "caxis": {
            "gridcolor": "white",
            "linecolor": "white",
            "ticks": ""
           }
          },
          "title": {
           "x": 0.05
          },
          "xaxis": {
           "automargin": true,
           "gridcolor": "white",
           "linecolor": "white",
           "ticks": "",
           "title": {
            "standoff": 15
           },
           "zerolinecolor": "white",
           "zerolinewidth": 2
          },
          "yaxis": {
           "automargin": true,
           "gridcolor": "white",
           "linecolor": "white",
           "ticks": "",
           "title": {
            "standoff": 15
           },
           "zerolinecolor": "white",
           "zerolinewidth": 2
          }
         }
        }
       }
      },
      "text/html": [
       "<div>\n",
       "        \n",
       "        \n",
       "            <div id=\"e9d93709-117f-4f6d-95f8-fda70f10b186\" class=\"plotly-graph-div\" style=\"height:525px; width:100%;\"></div>\n",
       "            <script type=\"text/javascript\">\n",
       "                require([\"plotly\"], function(Plotly) {\n",
       "                    window.PLOTLYENV=window.PLOTLYENV || {};\n",
       "                    \n",
       "                if (document.getElementById(\"e9d93709-117f-4f6d-95f8-fda70f10b186\")) {\n",
       "                    Plotly.newPlot(\n",
       "                        'e9d93709-117f-4f6d-95f8-fda70f10b186',\n",
       "                        [{\"line\": {\"color\": \"blue\", \"width\": 2}, \"mode\": \"lines+markers\", \"name\": \"Active Cases\", \"type\": \"scatter\", \"x\": [\"Andaman and Nicobar Islands\", \"Andhra Pradesh\", \"Arunachal Pradesh\", \"Assam\", \"Bihar\", \"Chandigarh\", \"Chhattisgarh\", \"Dadra and Nagar Haveli and Daman and Diu\", \"Delhi\", \"Goa\", \"Gujarat\", \"Haryana\", \"Himachal Pradesh\", \"Jammu and Kashmir\", \"Jharkhand\", \"Karnataka\", \"Kerala\", \"Ladakh\", \"Madhya Pradesh\", \"Maharashtra\", \"Manipur\", \"Meghalaya\", \"Mizoram\", \"Nagaland\", \"Odisha\", \"Puducherry\", \"Punjab\", \"Rajasthan\", \"Sikkim\", \"Tamil Nadu\", \"Telangana\", \"Tripura\", \"Uttarakhand\", \"Uttar Pradesh\", \"West Bengal\"], \"y\": [46, 16621, 306, 6447, 6970, 155, 1195, 180, 17807, 1259, 11187, 5320, 351, 5123, 1797, 27859, 4884, 177, 5053, 112099, 711, 278, 79, 554, 4345, 686, 2711, 6405, 133, 47343, 12957, 661, 787, 14628, 12747]}, {\"line\": {\"color\": \"green\", \"width\": 2}, \"mode\": \"lines+markers\", \"name\": \"Cured\", \"type\": \"scatter\", \"x\": [\"Andaman and Nicobar Islands\", \"Andhra Pradesh\", \"Arunachal Pradesh\", \"Assam\", \"Bihar\", \"Chandigarh\", \"Chhattisgarh\", \"Dadra and Nagar Haveli and Daman and Diu\", \"Delhi\", \"Goa\", \"Gujarat\", \"Haryana\", \"Himachal Pradesh\", \"Jammu and Kashmir\", \"Jharkhand\", \"Karnataka\", \"Kerala\", \"Ladakh\", \"Madhya Pradesh\", \"Maharashtra\", \"Manipur\", \"Meghalaya\", \"Mizoram\", \"Nagaland\", \"Odisha\", \"Puducherry\", \"Punjab\", \"Rajasthan\", \"Sikkim\", \"Tamil Nadu\", \"Telangana\", \"Tripura\", \"Uttarakhand\", \"Uttar Pradesh\", \"West Bengal\"], \"y\": [130, 18378, 153, 12173, 13462, 459, 3324, 357, 95699, 1674, 31286, 17667, 979, 6337, 2485, 18466, 4634, 964, 13908, 152613, 989, 66, 159, 348, 10476, 889, 5867, 19502, 87, 102310, 25999, 1604, 2948, 25743, 20680]}, {\"line\": {\"color\": \"red\", \"width\": 2}, \"mode\": \"lines+markers\", \"name\": \"Death\", \"type\": \"scatter\", \"x\": [\"Andaman and Nicobar Islands\", \"Andhra Pradesh\", \"Arunachal Pradesh\", \"Assam\", \"Bihar\", \"Chandigarh\", \"Chhattisgarh\", \"Dadra and Nagar Haveli and Daman and Diu\", \"Delhi\", \"Goa\", \"Gujarat\", \"Haryana\", \"Himachal Pradesh\", \"Jammu and Kashmir\", \"Jharkhand\", \"Karnataka\", \"Kerala\", \"Ladakh\", \"Madhya Pradesh\", \"Maharashtra\", \"Manipur\", \"Meghalaya\", \"Mizoram\", \"Nagaland\", \"Odisha\", \"Puducherry\", \"Punjab\", \"Rajasthan\", \"Sikkim\", \"Tamil Nadu\", \"Telangana\", \"Tripura\", \"Uttarakhand\", \"Uttar Pradesh\", \"West Bengal\"], \"y\": [0, 452, 3, 46, 180, 11, 20, 2, 3487, 18, 2079, 319, 11, 206, 38, 928, 35, 1, 682, 10928, 0, 2, 0, 0, 77, 21, 221, 530, 0, 2167, 386, 3, 50, 1012, 1000]}],\n",
       "                        {\"template\": {\"data\": {\"bar\": [{\"error_x\": {\"color\": \"#2a3f5f\"}, \"error_y\": {\"color\": \"#2a3f5f\"}, \"marker\": {\"line\": {\"color\": \"#E5ECF6\", \"width\": 0.5}}, \"type\": \"bar\"}], \"barpolar\": [{\"marker\": {\"line\": {\"color\": \"#E5ECF6\", \"width\": 0.5}}, \"type\": \"barpolar\"}], \"carpet\": [{\"aaxis\": {\"endlinecolor\": \"#2a3f5f\", \"gridcolor\": \"white\", \"linecolor\": \"white\", \"minorgridcolor\": \"white\", \"startlinecolor\": \"#2a3f5f\"}, \"baxis\": {\"endlinecolor\": \"#2a3f5f\", \"gridcolor\": \"white\", \"linecolor\": \"white\", \"minorgridcolor\": \"white\", \"startlinecolor\": \"#2a3f5f\"}, \"type\": \"carpet\"}], \"choropleth\": [{\"colorbar\": {\"outlinewidth\": 0, \"ticks\": \"\"}, \"type\": \"choropleth\"}], \"contour\": [{\"colorbar\": {\"outlinewidth\": 0, \"ticks\": \"\"}, \"colorscale\": [[0.0, \"#0d0887\"], [0.1111111111111111, \"#46039f\"], [0.2222222222222222, \"#7201a8\"], [0.3333333333333333, \"#9c179e\"], [0.4444444444444444, \"#bd3786\"], [0.5555555555555556, \"#d8576b\"], [0.6666666666666666, \"#ed7953\"], [0.7777777777777778, \"#fb9f3a\"], [0.8888888888888888, \"#fdca26\"], [1.0, \"#f0f921\"]], \"type\": \"contour\"}], \"contourcarpet\": [{\"colorbar\": {\"outlinewidth\": 0, \"ticks\": \"\"}, \"type\": \"contourcarpet\"}], \"heatmap\": [{\"colorbar\": {\"outlinewidth\": 0, \"ticks\": \"\"}, \"colorscale\": [[0.0, \"#0d0887\"], [0.1111111111111111, \"#46039f\"], [0.2222222222222222, \"#7201a8\"], [0.3333333333333333, \"#9c179e\"], [0.4444444444444444, \"#bd3786\"], [0.5555555555555556, \"#d8576b\"], [0.6666666666666666, \"#ed7953\"], [0.7777777777777778, \"#fb9f3a\"], [0.8888888888888888, \"#fdca26\"], [1.0, \"#f0f921\"]], \"type\": \"heatmap\"}], \"heatmapgl\": [{\"colorbar\": {\"outlinewidth\": 0, \"ticks\": \"\"}, \"colorscale\": [[0.0, \"#0d0887\"], [0.1111111111111111, \"#46039f\"], [0.2222222222222222, \"#7201a8\"], [0.3333333333333333, \"#9c179e\"], [0.4444444444444444, \"#bd3786\"], [0.5555555555555556, \"#d8576b\"], [0.6666666666666666, \"#ed7953\"], [0.7777777777777778, \"#fb9f3a\"], [0.8888888888888888, \"#fdca26\"], [1.0, \"#f0f921\"]], \"type\": \"heatmapgl\"}], \"histogram\": [{\"marker\": {\"colorbar\": {\"outlinewidth\": 0, \"ticks\": \"\"}}, \"type\": \"histogram\"}], \"histogram2d\": [{\"colorbar\": {\"outlinewidth\": 0, \"ticks\": \"\"}, \"colorscale\": [[0.0, \"#0d0887\"], [0.1111111111111111, \"#46039f\"], [0.2222222222222222, \"#7201a8\"], [0.3333333333333333, \"#9c179e\"], [0.4444444444444444, \"#bd3786\"], [0.5555555555555556, \"#d8576b\"], [0.6666666666666666, \"#ed7953\"], [0.7777777777777778, \"#fb9f3a\"], [0.8888888888888888, \"#fdca26\"], [1.0, \"#f0f921\"]], \"type\": \"histogram2d\"}], \"histogram2dcontour\": [{\"colorbar\": {\"outlinewidth\": 0, \"ticks\": \"\"}, \"colorscale\": [[0.0, \"#0d0887\"], [0.1111111111111111, \"#46039f\"], [0.2222222222222222, \"#7201a8\"], [0.3333333333333333, \"#9c179e\"], [0.4444444444444444, \"#bd3786\"], [0.5555555555555556, \"#d8576b\"], [0.6666666666666666, \"#ed7953\"], [0.7777777777777778, \"#fb9f3a\"], [0.8888888888888888, \"#fdca26\"], [1.0, \"#f0f921\"]], \"type\": \"histogram2dcontour\"}], \"mesh3d\": [{\"colorbar\": {\"outlinewidth\": 0, \"ticks\": \"\"}, \"type\": \"mesh3d\"}], \"parcoords\": [{\"line\": {\"colorbar\": {\"outlinewidth\": 0, \"ticks\": \"\"}}, \"type\": \"parcoords\"}], \"pie\": [{\"automargin\": true, \"type\": \"pie\"}], \"scatter\": [{\"marker\": {\"colorbar\": {\"outlinewidth\": 0, \"ticks\": \"\"}}, \"type\": \"scatter\"}], \"scatter3d\": [{\"line\": {\"colorbar\": {\"outlinewidth\": 0, \"ticks\": \"\"}}, \"marker\": {\"colorbar\": {\"outlinewidth\": 0, \"ticks\": \"\"}}, \"type\": \"scatter3d\"}], \"scattercarpet\": [{\"marker\": {\"colorbar\": {\"outlinewidth\": 0, \"ticks\": \"\"}}, \"type\": \"scattercarpet\"}], \"scattergeo\": [{\"marker\": {\"colorbar\": {\"outlinewidth\": 0, \"ticks\": \"\"}}, \"type\": \"scattergeo\"}], \"scattergl\": [{\"marker\": {\"colorbar\": {\"outlinewidth\": 0, \"ticks\": \"\"}}, \"type\": \"scattergl\"}], \"scattermapbox\": [{\"marker\": {\"colorbar\": {\"outlinewidth\": 0, \"ticks\": \"\"}}, \"type\": \"scattermapbox\"}], \"scatterpolar\": [{\"marker\": {\"colorbar\": {\"outlinewidth\": 0, \"ticks\": \"\"}}, \"type\": \"scatterpolar\"}], \"scatterpolargl\": [{\"marker\": {\"colorbar\": {\"outlinewidth\": 0, \"ticks\": \"\"}}, \"type\": \"scatterpolargl\"}], \"scatterternary\": [{\"marker\": {\"colorbar\": {\"outlinewidth\": 0, \"ticks\": \"\"}}, \"type\": \"scatterternary\"}], \"surface\": [{\"colorbar\": {\"outlinewidth\": 0, \"ticks\": \"\"}, \"colorscale\": [[0.0, \"#0d0887\"], [0.1111111111111111, \"#46039f\"], [0.2222222222222222, \"#7201a8\"], [0.3333333333333333, \"#9c179e\"], [0.4444444444444444, \"#bd3786\"], [0.5555555555555556, \"#d8576b\"], [0.6666666666666666, \"#ed7953\"], [0.7777777777777778, \"#fb9f3a\"], [0.8888888888888888, \"#fdca26\"], [1.0, \"#f0f921\"]], \"type\": \"surface\"}], \"table\": [{\"cells\": {\"fill\": {\"color\": \"#EBF0F8\"}, \"line\": {\"color\": \"white\"}}, \"header\": {\"fill\": {\"color\": \"#C8D4E3\"}, \"line\": {\"color\": \"white\"}}, \"type\": \"table\"}]}, \"layout\": {\"annotationdefaults\": {\"arrowcolor\": \"#2a3f5f\", \"arrowhead\": 0, \"arrowwidth\": 1}, \"coloraxis\": {\"colorbar\": {\"outlinewidth\": 0, \"ticks\": \"\"}}, \"colorscale\": {\"diverging\": [[0, \"#8e0152\"], [0.1, \"#c51b7d\"], [0.2, \"#de77ae\"], [0.3, \"#f1b6da\"], [0.4, \"#fde0ef\"], [0.5, \"#f7f7f7\"], [0.6, \"#e6f5d0\"], [0.7, \"#b8e186\"], [0.8, \"#7fbc41\"], [0.9, \"#4d9221\"], [1, \"#276419\"]], \"sequential\": [[0.0, \"#0d0887\"], [0.1111111111111111, \"#46039f\"], [0.2222222222222222, \"#7201a8\"], [0.3333333333333333, \"#9c179e\"], [0.4444444444444444, \"#bd3786\"], [0.5555555555555556, \"#d8576b\"], [0.6666666666666666, \"#ed7953\"], [0.7777777777777778, \"#fb9f3a\"], [0.8888888888888888, \"#fdca26\"], [1.0, \"#f0f921\"]], \"sequentialminus\": [[0.0, \"#0d0887\"], [0.1111111111111111, \"#46039f\"], [0.2222222222222222, \"#7201a8\"], [0.3333333333333333, \"#9c179e\"], [0.4444444444444444, \"#bd3786\"], [0.5555555555555556, \"#d8576b\"], [0.6666666666666666, \"#ed7953\"], [0.7777777777777778, \"#fb9f3a\"], [0.8888888888888888, \"#fdca26\"], [1.0, \"#f0f921\"]]}, \"colorway\": [\"#636efa\", \"#EF553B\", \"#00cc96\", \"#ab63fa\", \"#FFA15A\", \"#19d3f3\", \"#FF6692\", \"#B6E880\", \"#FF97FF\", \"#FECB52\"], \"font\": {\"color\": \"#2a3f5f\"}, \"geo\": {\"bgcolor\": \"white\", \"lakecolor\": \"white\", \"landcolor\": \"#E5ECF6\", \"showlakes\": true, \"showland\": true, \"subunitcolor\": \"white\"}, \"hoverlabel\": {\"align\": \"left\"}, \"hovermode\": \"closest\", \"mapbox\": {\"style\": \"light\"}, \"paper_bgcolor\": \"white\", \"plot_bgcolor\": \"#E5ECF6\", \"polar\": {\"angularaxis\": {\"gridcolor\": \"white\", \"linecolor\": \"white\", \"ticks\": \"\"}, \"bgcolor\": \"#E5ECF6\", \"radialaxis\": {\"gridcolor\": \"white\", \"linecolor\": \"white\", \"ticks\": \"\"}}, \"scene\": {\"xaxis\": {\"backgroundcolor\": \"#E5ECF6\", \"gridcolor\": \"white\", \"gridwidth\": 2, \"linecolor\": \"white\", \"showbackground\": true, \"ticks\": \"\", \"zerolinecolor\": \"white\"}, \"yaxis\": {\"backgroundcolor\": \"#E5ECF6\", \"gridcolor\": \"white\", \"gridwidth\": 2, \"linecolor\": \"white\", \"showbackground\": true, \"ticks\": \"\", \"zerolinecolor\": \"white\"}, \"zaxis\": {\"backgroundcolor\": \"#E5ECF6\", \"gridcolor\": \"white\", \"gridwidth\": 2, \"linecolor\": \"white\", \"showbackground\": true, \"ticks\": \"\", \"zerolinecolor\": \"white\"}}, \"shapedefaults\": {\"line\": {\"color\": \"#2a3f5f\"}}, \"ternary\": {\"aaxis\": {\"gridcolor\": \"white\", \"linecolor\": \"white\", \"ticks\": \"\"}, \"baxis\": {\"gridcolor\": \"white\", \"linecolor\": \"white\", \"ticks\": \"\"}, \"bgcolor\": \"#E5ECF6\", \"caxis\": {\"gridcolor\": \"white\", \"linecolor\": \"white\", \"ticks\": \"\"}}, \"title\": {\"x\": 0.05}, \"xaxis\": {\"automargin\": true, \"gridcolor\": \"white\", \"linecolor\": \"white\", \"ticks\": \"\", \"title\": {\"standoff\": 15}, \"zerolinecolor\": \"white\", \"zerolinewidth\": 2}, \"yaxis\": {\"automargin\": true, \"gridcolor\": \"white\", \"linecolor\": \"white\", \"ticks\": \"\", \"title\": {\"standoff\": 15}, \"zerolinecolor\": \"white\", \"zerolinewidth\": 2}}}},\n",
       "                        {\"responsive\": true}\n",
       "                    ).then(function(){\n",
       "                            \n",
       "var gd = document.getElementById('e9d93709-117f-4f6d-95f8-fda70f10b186');\n",
       "var x = new MutationObserver(function (mutations, observer) {{\n",
       "        var display = window.getComputedStyle(gd).display;\n",
       "        if (!display || display === 'none') {{\n",
       "            console.log([gd, 'removed!']);\n",
       "            Plotly.purge(gd);\n",
       "            observer.disconnect();\n",
       "        }}\n",
       "}});\n",
       "\n",
       "// Listen for the removal of the full notebook cells\n",
       "var notebookContainer = gd.closest('#notebook-container');\n",
       "if (notebookContainer) {{\n",
       "    x.observe(notebookContainer, {childList: true});\n",
       "}}\n",
       "\n",
       "// Listen for the clearing of the current output cell\n",
       "var outputEl = gd.closest('.output');\n",
       "if (outputEl) {{\n",
       "    x.observe(outputEl, {childList: true});\n",
       "}}\n",
       "\n",
       "                        })\n",
       "                };\n",
       "                });\n",
       "            </script>\n",
       "        </div>"
      ]
     },
     "metadata": {},
     "output_type": "display_data"
    }
   ],
   "source": [
    "fig=go.Figure()\n",
    "fig.add_trace(go.Scatter(x=df['Name of State / UT'],y=df['Active Cases'],mode='lines+markers',name='Active Cases',line=dict(color='blue',width=2)))\n",
    "fig.add_trace(go.Scatter(x=df['Name of State / UT'],y=df['Cured/Discharged/Migrated'],mode='lines+markers',name='Cured',line=dict(color='green',width=2)))\n",
    "#fig.add_trace(go.Scatter(x=df['Name of State / UT'],y=df['Total Confirmed cases'],mode='lines+markers',name='Total Cases',line=dict(color='brown',width=2)))\n",
    "fig.add_trace(go.Scatter(x=df['Name of State / UT'],y=df['Deaths'],mode='lines+markers',name='Death',line=dict(color='red',width=2)))\n",
    "\n"
   ]
  },
  {
   "cell_type": "code",
   "execution_count": 35,
   "metadata": {},
   "outputs": [
    {
     "data": {
      "application/vnd.plotly.v1+json": {
       "config": {
        "plotlyServerURL": "https://plot.ly"
       },
       "data": [
        {
         "domain": {
          "x": [
           0,
           1
          ],
          "y": [
           0,
           1
          ]
         },
         "hovertemplate": "Name of State / UT=%{label}<br>Active Cases=%{value}<extra></extra>",
         "labels": [
          "Andaman and Nicobar Islands",
          "Andhra Pradesh",
          "Arunachal Pradesh",
          "Assam",
          "Bihar",
          "Chandigarh",
          "Chhattisgarh",
          "Dadra and Nagar Haveli and Daman and Diu",
          "Delhi",
          "Goa",
          "Gujarat",
          "Haryana",
          "Himachal Pradesh",
          "Jammu and Kashmir",
          "Jharkhand",
          "Karnataka",
          "Kerala",
          "Ladakh",
          "Madhya Pradesh",
          "Maharashtra",
          "Manipur",
          "Meghalaya",
          "Mizoram",
          "Nagaland",
          "Odisha",
          "Puducherry",
          "Punjab",
          "Rajasthan",
          "Sikkim",
          "Tamil Nadu",
          "Telangana",
          "Tripura",
          "Uttarakhand",
          "Uttar Pradesh",
          "West Bengal"
         ],
         "legendgroup": "",
         "name": "",
         "showlegend": true,
         "textinfo": "percent+label",
         "textposition": "inside",
         "type": "pie",
         "values": [
          46,
          16621,
          306,
          6447,
          6970,
          155,
          1195,
          180,
          17807,
          1259,
          11187,
          5320,
          351,
          5123,
          1797,
          27859,
          4884,
          177,
          5053,
          112099,
          711,
          278,
          79,
          554,
          4345,
          686,
          2711,
          6405,
          133,
          47343,
          12957,
          661,
          787,
          14628,
          12747
         ]
        }
       ],
       "layout": {
        "height": 600,
        "legend": {
         "tracegroupgap": 0
        },
        "margin": {
         "t": 60
        },
        "template": {
         "data": {
          "bar": [
           {
            "error_x": {
             "color": "#2a3f5f"
            },
            "error_y": {
             "color": "#2a3f5f"
            },
            "marker": {
             "line": {
              "color": "#E5ECF6",
              "width": 0.5
             }
            },
            "type": "bar"
           }
          ],
          "barpolar": [
           {
            "marker": {
             "line": {
              "color": "#E5ECF6",
              "width": 0.5
             }
            },
            "type": "barpolar"
           }
          ],
          "carpet": [
           {
            "aaxis": {
             "endlinecolor": "#2a3f5f",
             "gridcolor": "white",
             "linecolor": "white",
             "minorgridcolor": "white",
             "startlinecolor": "#2a3f5f"
            },
            "baxis": {
             "endlinecolor": "#2a3f5f",
             "gridcolor": "white",
             "linecolor": "white",
             "minorgridcolor": "white",
             "startlinecolor": "#2a3f5f"
            },
            "type": "carpet"
           }
          ],
          "choropleth": [
           {
            "colorbar": {
             "outlinewidth": 0,
             "ticks": ""
            },
            "type": "choropleth"
           }
          ],
          "contour": [
           {
            "colorbar": {
             "outlinewidth": 0,
             "ticks": ""
            },
            "colorscale": [
             [
              0,
              "#0d0887"
             ],
             [
              0.1111111111111111,
              "#46039f"
             ],
             [
              0.2222222222222222,
              "#7201a8"
             ],
             [
              0.3333333333333333,
              "#9c179e"
             ],
             [
              0.4444444444444444,
              "#bd3786"
             ],
             [
              0.5555555555555556,
              "#d8576b"
             ],
             [
              0.6666666666666666,
              "#ed7953"
             ],
             [
              0.7777777777777778,
              "#fb9f3a"
             ],
             [
              0.8888888888888888,
              "#fdca26"
             ],
             [
              1,
              "#f0f921"
             ]
            ],
            "type": "contour"
           }
          ],
          "contourcarpet": [
           {
            "colorbar": {
             "outlinewidth": 0,
             "ticks": ""
            },
            "type": "contourcarpet"
           }
          ],
          "heatmap": [
           {
            "colorbar": {
             "outlinewidth": 0,
             "ticks": ""
            },
            "colorscale": [
             [
              0,
              "#0d0887"
             ],
             [
              0.1111111111111111,
              "#46039f"
             ],
             [
              0.2222222222222222,
              "#7201a8"
             ],
             [
              0.3333333333333333,
              "#9c179e"
             ],
             [
              0.4444444444444444,
              "#bd3786"
             ],
             [
              0.5555555555555556,
              "#d8576b"
             ],
             [
              0.6666666666666666,
              "#ed7953"
             ],
             [
              0.7777777777777778,
              "#fb9f3a"
             ],
             [
              0.8888888888888888,
              "#fdca26"
             ],
             [
              1,
              "#f0f921"
             ]
            ],
            "type": "heatmap"
           }
          ],
          "heatmapgl": [
           {
            "colorbar": {
             "outlinewidth": 0,
             "ticks": ""
            },
            "colorscale": [
             [
              0,
              "#0d0887"
             ],
             [
              0.1111111111111111,
              "#46039f"
             ],
             [
              0.2222222222222222,
              "#7201a8"
             ],
             [
              0.3333333333333333,
              "#9c179e"
             ],
             [
              0.4444444444444444,
              "#bd3786"
             ],
             [
              0.5555555555555556,
              "#d8576b"
             ],
             [
              0.6666666666666666,
              "#ed7953"
             ],
             [
              0.7777777777777778,
              "#fb9f3a"
             ],
             [
              0.8888888888888888,
              "#fdca26"
             ],
             [
              1,
              "#f0f921"
             ]
            ],
            "type": "heatmapgl"
           }
          ],
          "histogram": [
           {
            "marker": {
             "colorbar": {
              "outlinewidth": 0,
              "ticks": ""
             }
            },
            "type": "histogram"
           }
          ],
          "histogram2d": [
           {
            "colorbar": {
             "outlinewidth": 0,
             "ticks": ""
            },
            "colorscale": [
             [
              0,
              "#0d0887"
             ],
             [
              0.1111111111111111,
              "#46039f"
             ],
             [
              0.2222222222222222,
              "#7201a8"
             ],
             [
              0.3333333333333333,
              "#9c179e"
             ],
             [
              0.4444444444444444,
              "#bd3786"
             ],
             [
              0.5555555555555556,
              "#d8576b"
             ],
             [
              0.6666666666666666,
              "#ed7953"
             ],
             [
              0.7777777777777778,
              "#fb9f3a"
             ],
             [
              0.8888888888888888,
              "#fdca26"
             ],
             [
              1,
              "#f0f921"
             ]
            ],
            "type": "histogram2d"
           }
          ],
          "histogram2dcontour": [
           {
            "colorbar": {
             "outlinewidth": 0,
             "ticks": ""
            },
            "colorscale": [
             [
              0,
              "#0d0887"
             ],
             [
              0.1111111111111111,
              "#46039f"
             ],
             [
              0.2222222222222222,
              "#7201a8"
             ],
             [
              0.3333333333333333,
              "#9c179e"
             ],
             [
              0.4444444444444444,
              "#bd3786"
             ],
             [
              0.5555555555555556,
              "#d8576b"
             ],
             [
              0.6666666666666666,
              "#ed7953"
             ],
             [
              0.7777777777777778,
              "#fb9f3a"
             ],
             [
              0.8888888888888888,
              "#fdca26"
             ],
             [
              1,
              "#f0f921"
             ]
            ],
            "type": "histogram2dcontour"
           }
          ],
          "mesh3d": [
           {
            "colorbar": {
             "outlinewidth": 0,
             "ticks": ""
            },
            "type": "mesh3d"
           }
          ],
          "parcoords": [
           {
            "line": {
             "colorbar": {
              "outlinewidth": 0,
              "ticks": ""
             }
            },
            "type": "parcoords"
           }
          ],
          "pie": [
           {
            "automargin": true,
            "type": "pie"
           }
          ],
          "scatter": [
           {
            "marker": {
             "colorbar": {
              "outlinewidth": 0,
              "ticks": ""
             }
            },
            "type": "scatter"
           }
          ],
          "scatter3d": [
           {
            "line": {
             "colorbar": {
              "outlinewidth": 0,
              "ticks": ""
             }
            },
            "marker": {
             "colorbar": {
              "outlinewidth": 0,
              "ticks": ""
             }
            },
            "type": "scatter3d"
           }
          ],
          "scattercarpet": [
           {
            "marker": {
             "colorbar": {
              "outlinewidth": 0,
              "ticks": ""
             }
            },
            "type": "scattercarpet"
           }
          ],
          "scattergeo": [
           {
            "marker": {
             "colorbar": {
              "outlinewidth": 0,
              "ticks": ""
             }
            },
            "type": "scattergeo"
           }
          ],
          "scattergl": [
           {
            "marker": {
             "colorbar": {
              "outlinewidth": 0,
              "ticks": ""
             }
            },
            "type": "scattergl"
           }
          ],
          "scattermapbox": [
           {
            "marker": {
             "colorbar": {
              "outlinewidth": 0,
              "ticks": ""
             }
            },
            "type": "scattermapbox"
           }
          ],
          "scatterpolar": [
           {
            "marker": {
             "colorbar": {
              "outlinewidth": 0,
              "ticks": ""
             }
            },
            "type": "scatterpolar"
           }
          ],
          "scatterpolargl": [
           {
            "marker": {
             "colorbar": {
              "outlinewidth": 0,
              "ticks": ""
             }
            },
            "type": "scatterpolargl"
           }
          ],
          "scatterternary": [
           {
            "marker": {
             "colorbar": {
              "outlinewidth": 0,
              "ticks": ""
             }
            },
            "type": "scatterternary"
           }
          ],
          "surface": [
           {
            "colorbar": {
             "outlinewidth": 0,
             "ticks": ""
            },
            "colorscale": [
             [
              0,
              "#0d0887"
             ],
             [
              0.1111111111111111,
              "#46039f"
             ],
             [
              0.2222222222222222,
              "#7201a8"
             ],
             [
              0.3333333333333333,
              "#9c179e"
             ],
             [
              0.4444444444444444,
              "#bd3786"
             ],
             [
              0.5555555555555556,
              "#d8576b"
             ],
             [
              0.6666666666666666,
              "#ed7953"
             ],
             [
              0.7777777777777778,
              "#fb9f3a"
             ],
             [
              0.8888888888888888,
              "#fdca26"
             ],
             [
              1,
              "#f0f921"
             ]
            ],
            "type": "surface"
           }
          ],
          "table": [
           {
            "cells": {
             "fill": {
              "color": "#EBF0F8"
             },
             "line": {
              "color": "white"
             }
            },
            "header": {
             "fill": {
              "color": "#C8D4E3"
             },
             "line": {
              "color": "white"
             }
            },
            "type": "table"
           }
          ]
         },
         "layout": {
          "annotationdefaults": {
           "arrowcolor": "#2a3f5f",
           "arrowhead": 0,
           "arrowwidth": 1
          },
          "coloraxis": {
           "colorbar": {
            "outlinewidth": 0,
            "ticks": ""
           }
          },
          "colorscale": {
           "diverging": [
            [
             0,
             "#8e0152"
            ],
            [
             0.1,
             "#c51b7d"
            ],
            [
             0.2,
             "#de77ae"
            ],
            [
             0.3,
             "#f1b6da"
            ],
            [
             0.4,
             "#fde0ef"
            ],
            [
             0.5,
             "#f7f7f7"
            ],
            [
             0.6,
             "#e6f5d0"
            ],
            [
             0.7,
             "#b8e186"
            ],
            [
             0.8,
             "#7fbc41"
            ],
            [
             0.9,
             "#4d9221"
            ],
            [
             1,
             "#276419"
            ]
           ],
           "sequential": [
            [
             0,
             "#0d0887"
            ],
            [
             0.1111111111111111,
             "#46039f"
            ],
            [
             0.2222222222222222,
             "#7201a8"
            ],
            [
             0.3333333333333333,
             "#9c179e"
            ],
            [
             0.4444444444444444,
             "#bd3786"
            ],
            [
             0.5555555555555556,
             "#d8576b"
            ],
            [
             0.6666666666666666,
             "#ed7953"
            ],
            [
             0.7777777777777778,
             "#fb9f3a"
            ],
            [
             0.8888888888888888,
             "#fdca26"
            ],
            [
             1,
             "#f0f921"
            ]
           ],
           "sequentialminus": [
            [
             0,
             "#0d0887"
            ],
            [
             0.1111111111111111,
             "#46039f"
            ],
            [
             0.2222222222222222,
             "#7201a8"
            ],
            [
             0.3333333333333333,
             "#9c179e"
            ],
            [
             0.4444444444444444,
             "#bd3786"
            ],
            [
             0.5555555555555556,
             "#d8576b"
            ],
            [
             0.6666666666666666,
             "#ed7953"
            ],
            [
             0.7777777777777778,
             "#fb9f3a"
            ],
            [
             0.8888888888888888,
             "#fdca26"
            ],
            [
             1,
             "#f0f921"
            ]
           ]
          },
          "colorway": [
           "#636efa",
           "#EF553B",
           "#00cc96",
           "#ab63fa",
           "#FFA15A",
           "#19d3f3",
           "#FF6692",
           "#B6E880",
           "#FF97FF",
           "#FECB52"
          ],
          "font": {
           "color": "#2a3f5f"
          },
          "geo": {
           "bgcolor": "white",
           "lakecolor": "white",
           "landcolor": "#E5ECF6",
           "showlakes": true,
           "showland": true,
           "subunitcolor": "white"
          },
          "hoverlabel": {
           "align": "left"
          },
          "hovermode": "closest",
          "mapbox": {
           "style": "light"
          },
          "paper_bgcolor": "white",
          "plot_bgcolor": "#E5ECF6",
          "polar": {
           "angularaxis": {
            "gridcolor": "white",
            "linecolor": "white",
            "ticks": ""
           },
           "bgcolor": "#E5ECF6",
           "radialaxis": {
            "gridcolor": "white",
            "linecolor": "white",
            "ticks": ""
           }
          },
          "scene": {
           "xaxis": {
            "backgroundcolor": "#E5ECF6",
            "gridcolor": "white",
            "gridwidth": 2,
            "linecolor": "white",
            "showbackground": true,
            "ticks": "",
            "zerolinecolor": "white"
           },
           "yaxis": {
            "backgroundcolor": "#E5ECF6",
            "gridcolor": "white",
            "gridwidth": 2,
            "linecolor": "white",
            "showbackground": true,
            "ticks": "",
            "zerolinecolor": "white"
           },
           "zaxis": {
            "backgroundcolor": "#E5ECF6",
            "gridcolor": "white",
            "gridwidth": 2,
            "linecolor": "white",
            "showbackground": true,
            "ticks": "",
            "zerolinecolor": "white"
           }
          },
          "shapedefaults": {
           "line": {
            "color": "#2a3f5f"
           }
          },
          "ternary": {
           "aaxis": {
            "gridcolor": "white",
            "linecolor": "white",
            "ticks": ""
           },
           "baxis": {
            "gridcolor": "white",
            "linecolor": "white",
            "ticks": ""
           },
           "bgcolor": "#E5ECF6",
           "caxis": {
            "gridcolor": "white",
            "linecolor": "white",
            "ticks": ""
           }
          },
          "title": {
           "x": 0.05
          },
          "xaxis": {
           "automargin": true,
           "gridcolor": "white",
           "linecolor": "white",
           "ticks": "",
           "title": {
            "standoff": 15
           },
           "zerolinecolor": "white",
           "zerolinewidth": 2
          },
          "yaxis": {
           "automargin": true,
           "gridcolor": "white",
           "linecolor": "white",
           "ticks": "",
           "title": {
            "standoff": 15
           },
           "zerolinecolor": "white",
           "zerolinewidth": 2
          }
         }
        }
       }
      },
      "text/html": [
       "<div>\n",
       "        \n",
       "        \n",
       "            <div id=\"3b237be5-8e9d-4f50-b419-2cd7416daa99\" class=\"plotly-graph-div\" style=\"height:600px; width:100%;\"></div>\n",
       "            <script type=\"text/javascript\">\n",
       "                require([\"plotly\"], function(Plotly) {\n",
       "                    window.PLOTLYENV=window.PLOTLYENV || {};\n",
       "                    \n",
       "                if (document.getElementById(\"3b237be5-8e9d-4f50-b419-2cd7416daa99\")) {\n",
       "                    Plotly.newPlot(\n",
       "                        '3b237be5-8e9d-4f50-b419-2cd7416daa99',\n",
       "                        [{\"domain\": {\"x\": [0.0, 1.0], \"y\": [0.0, 1.0]}, \"hovertemplate\": \"Name of State / UT=%{label}<br>Active Cases=%{value}<extra></extra>\", \"labels\": [\"Andaman and Nicobar Islands\", \"Andhra Pradesh\", \"Arunachal Pradesh\", \"Assam\", \"Bihar\", \"Chandigarh\", \"Chhattisgarh\", \"Dadra and Nagar Haveli and Daman and Diu\", \"Delhi\", \"Goa\", \"Gujarat\", \"Haryana\", \"Himachal Pradesh\", \"Jammu and Kashmir\", \"Jharkhand\", \"Karnataka\", \"Kerala\", \"Ladakh\", \"Madhya Pradesh\", \"Maharashtra\", \"Manipur\", \"Meghalaya\", \"Mizoram\", \"Nagaland\", \"Odisha\", \"Puducherry\", \"Punjab\", \"Rajasthan\", \"Sikkim\", \"Tamil Nadu\", \"Telangana\", \"Tripura\", \"Uttarakhand\", \"Uttar Pradesh\", \"West Bengal\"], \"legendgroup\": \"\", \"name\": \"\", \"showlegend\": true, \"textinfo\": \"percent+label\", \"textposition\": \"inside\", \"type\": \"pie\", \"values\": [46, 16621, 306, 6447, 6970, 155, 1195, 180, 17807, 1259, 11187, 5320, 351, 5123, 1797, 27859, 4884, 177, 5053, 112099, 711, 278, 79, 554, 4345, 686, 2711, 6405, 133, 47343, 12957, 661, 787, 14628, 12747]}],\n",
       "                        {\"height\": 600, \"legend\": {\"tracegroupgap\": 0}, \"margin\": {\"t\": 60}, \"template\": {\"data\": {\"bar\": [{\"error_x\": {\"color\": \"#2a3f5f\"}, \"error_y\": {\"color\": \"#2a3f5f\"}, \"marker\": {\"line\": {\"color\": \"#E5ECF6\", \"width\": 0.5}}, \"type\": \"bar\"}], \"barpolar\": [{\"marker\": {\"line\": {\"color\": \"#E5ECF6\", \"width\": 0.5}}, \"type\": \"barpolar\"}], \"carpet\": [{\"aaxis\": {\"endlinecolor\": \"#2a3f5f\", \"gridcolor\": \"white\", \"linecolor\": \"white\", \"minorgridcolor\": \"white\", \"startlinecolor\": \"#2a3f5f\"}, \"baxis\": {\"endlinecolor\": \"#2a3f5f\", \"gridcolor\": \"white\", \"linecolor\": \"white\", \"minorgridcolor\": \"white\", \"startlinecolor\": \"#2a3f5f\"}, \"type\": \"carpet\"}], \"choropleth\": [{\"colorbar\": {\"outlinewidth\": 0, \"ticks\": \"\"}, \"type\": \"choropleth\"}], \"contour\": [{\"colorbar\": {\"outlinewidth\": 0, \"ticks\": \"\"}, \"colorscale\": [[0.0, \"#0d0887\"], [0.1111111111111111, \"#46039f\"], [0.2222222222222222, \"#7201a8\"], [0.3333333333333333, \"#9c179e\"], [0.4444444444444444, \"#bd3786\"], [0.5555555555555556, \"#d8576b\"], [0.6666666666666666, \"#ed7953\"], [0.7777777777777778, \"#fb9f3a\"], [0.8888888888888888, \"#fdca26\"], [1.0, \"#f0f921\"]], \"type\": \"contour\"}], \"contourcarpet\": [{\"colorbar\": {\"outlinewidth\": 0, \"ticks\": \"\"}, \"type\": \"contourcarpet\"}], \"heatmap\": [{\"colorbar\": {\"outlinewidth\": 0, \"ticks\": \"\"}, \"colorscale\": [[0.0, \"#0d0887\"], [0.1111111111111111, \"#46039f\"], [0.2222222222222222, \"#7201a8\"], [0.3333333333333333, \"#9c179e\"], [0.4444444444444444, \"#bd3786\"], [0.5555555555555556, \"#d8576b\"], [0.6666666666666666, \"#ed7953\"], [0.7777777777777778, \"#fb9f3a\"], [0.8888888888888888, \"#fdca26\"], [1.0, \"#f0f921\"]], \"type\": \"heatmap\"}], \"heatmapgl\": [{\"colorbar\": {\"outlinewidth\": 0, \"ticks\": \"\"}, \"colorscale\": [[0.0, \"#0d0887\"], [0.1111111111111111, \"#46039f\"], [0.2222222222222222, \"#7201a8\"], [0.3333333333333333, \"#9c179e\"], [0.4444444444444444, \"#bd3786\"], [0.5555555555555556, \"#d8576b\"], [0.6666666666666666, \"#ed7953\"], [0.7777777777777778, \"#fb9f3a\"], [0.8888888888888888, \"#fdca26\"], [1.0, \"#f0f921\"]], \"type\": \"heatmapgl\"}], \"histogram\": [{\"marker\": {\"colorbar\": {\"outlinewidth\": 0, \"ticks\": \"\"}}, \"type\": \"histogram\"}], \"histogram2d\": [{\"colorbar\": {\"outlinewidth\": 0, \"ticks\": \"\"}, \"colorscale\": [[0.0, \"#0d0887\"], [0.1111111111111111, \"#46039f\"], [0.2222222222222222, \"#7201a8\"], [0.3333333333333333, \"#9c179e\"], [0.4444444444444444, \"#bd3786\"], [0.5555555555555556, \"#d8576b\"], [0.6666666666666666, \"#ed7953\"], [0.7777777777777778, \"#fb9f3a\"], [0.8888888888888888, \"#fdca26\"], [1.0, \"#f0f921\"]], \"type\": \"histogram2d\"}], \"histogram2dcontour\": [{\"colorbar\": {\"outlinewidth\": 0, \"ticks\": \"\"}, \"colorscale\": [[0.0, \"#0d0887\"], [0.1111111111111111, \"#46039f\"], [0.2222222222222222, \"#7201a8\"], [0.3333333333333333, \"#9c179e\"], [0.4444444444444444, \"#bd3786\"], [0.5555555555555556, \"#d8576b\"], [0.6666666666666666, \"#ed7953\"], [0.7777777777777778, \"#fb9f3a\"], [0.8888888888888888, \"#fdca26\"], [1.0, \"#f0f921\"]], \"type\": \"histogram2dcontour\"}], \"mesh3d\": [{\"colorbar\": {\"outlinewidth\": 0, \"ticks\": \"\"}, \"type\": \"mesh3d\"}], \"parcoords\": [{\"line\": {\"colorbar\": {\"outlinewidth\": 0, \"ticks\": \"\"}}, \"type\": \"parcoords\"}], \"pie\": [{\"automargin\": true, \"type\": \"pie\"}], \"scatter\": [{\"marker\": {\"colorbar\": {\"outlinewidth\": 0, \"ticks\": \"\"}}, \"type\": \"scatter\"}], \"scatter3d\": [{\"line\": {\"colorbar\": {\"outlinewidth\": 0, \"ticks\": \"\"}}, \"marker\": {\"colorbar\": {\"outlinewidth\": 0, \"ticks\": \"\"}}, \"type\": \"scatter3d\"}], \"scattercarpet\": [{\"marker\": {\"colorbar\": {\"outlinewidth\": 0, \"ticks\": \"\"}}, \"type\": \"scattercarpet\"}], \"scattergeo\": [{\"marker\": {\"colorbar\": {\"outlinewidth\": 0, \"ticks\": \"\"}}, \"type\": \"scattergeo\"}], \"scattergl\": [{\"marker\": {\"colorbar\": {\"outlinewidth\": 0, \"ticks\": \"\"}}, \"type\": \"scattergl\"}], \"scattermapbox\": [{\"marker\": {\"colorbar\": {\"outlinewidth\": 0, \"ticks\": \"\"}}, \"type\": \"scattermapbox\"}], \"scatterpolar\": [{\"marker\": {\"colorbar\": {\"outlinewidth\": 0, \"ticks\": \"\"}}, \"type\": \"scatterpolar\"}], \"scatterpolargl\": [{\"marker\": {\"colorbar\": {\"outlinewidth\": 0, \"ticks\": \"\"}}, \"type\": \"scatterpolargl\"}], \"scatterternary\": [{\"marker\": {\"colorbar\": {\"outlinewidth\": 0, \"ticks\": \"\"}}, \"type\": \"scatterternary\"}], \"surface\": [{\"colorbar\": {\"outlinewidth\": 0, \"ticks\": \"\"}, \"colorscale\": [[0.0, \"#0d0887\"], [0.1111111111111111, \"#46039f\"], [0.2222222222222222, \"#7201a8\"], [0.3333333333333333, \"#9c179e\"], [0.4444444444444444, \"#bd3786\"], [0.5555555555555556, \"#d8576b\"], [0.6666666666666666, \"#ed7953\"], [0.7777777777777778, \"#fb9f3a\"], [0.8888888888888888, \"#fdca26\"], [1.0, \"#f0f921\"]], \"type\": \"surface\"}], \"table\": [{\"cells\": {\"fill\": {\"color\": \"#EBF0F8\"}, \"line\": {\"color\": \"white\"}}, \"header\": {\"fill\": {\"color\": \"#C8D4E3\"}, \"line\": {\"color\": \"white\"}}, \"type\": \"table\"}]}, \"layout\": {\"annotationdefaults\": {\"arrowcolor\": \"#2a3f5f\", \"arrowhead\": 0, \"arrowwidth\": 1}, \"coloraxis\": {\"colorbar\": {\"outlinewidth\": 0, \"ticks\": \"\"}}, \"colorscale\": {\"diverging\": [[0, \"#8e0152\"], [0.1, \"#c51b7d\"], [0.2, \"#de77ae\"], [0.3, \"#f1b6da\"], [0.4, \"#fde0ef\"], [0.5, \"#f7f7f7\"], [0.6, \"#e6f5d0\"], [0.7, \"#b8e186\"], [0.8, \"#7fbc41\"], [0.9, \"#4d9221\"], [1, \"#276419\"]], \"sequential\": [[0.0, \"#0d0887\"], [0.1111111111111111, \"#46039f\"], [0.2222222222222222, \"#7201a8\"], [0.3333333333333333, \"#9c179e\"], [0.4444444444444444, \"#bd3786\"], [0.5555555555555556, \"#d8576b\"], [0.6666666666666666, \"#ed7953\"], [0.7777777777777778, \"#fb9f3a\"], [0.8888888888888888, \"#fdca26\"], [1.0, \"#f0f921\"]], \"sequentialminus\": [[0.0, \"#0d0887\"], [0.1111111111111111, \"#46039f\"], [0.2222222222222222, \"#7201a8\"], [0.3333333333333333, \"#9c179e\"], [0.4444444444444444, \"#bd3786\"], [0.5555555555555556, \"#d8576b\"], [0.6666666666666666, \"#ed7953\"], [0.7777777777777778, \"#fb9f3a\"], [0.8888888888888888, \"#fdca26\"], [1.0, \"#f0f921\"]]}, \"colorway\": [\"#636efa\", \"#EF553B\", \"#00cc96\", \"#ab63fa\", \"#FFA15A\", \"#19d3f3\", \"#FF6692\", \"#B6E880\", \"#FF97FF\", \"#FECB52\"], \"font\": {\"color\": \"#2a3f5f\"}, \"geo\": {\"bgcolor\": \"white\", \"lakecolor\": \"white\", \"landcolor\": \"#E5ECF6\", \"showlakes\": true, \"showland\": true, \"subunitcolor\": \"white\"}, \"hoverlabel\": {\"align\": \"left\"}, \"hovermode\": \"closest\", \"mapbox\": {\"style\": \"light\"}, \"paper_bgcolor\": \"white\", \"plot_bgcolor\": \"#E5ECF6\", \"polar\": {\"angularaxis\": {\"gridcolor\": \"white\", \"linecolor\": \"white\", \"ticks\": \"\"}, \"bgcolor\": \"#E5ECF6\", \"radialaxis\": {\"gridcolor\": \"white\", \"linecolor\": \"white\", \"ticks\": \"\"}}, \"scene\": {\"xaxis\": {\"backgroundcolor\": \"#E5ECF6\", \"gridcolor\": \"white\", \"gridwidth\": 2, \"linecolor\": \"white\", \"showbackground\": true, \"ticks\": \"\", \"zerolinecolor\": \"white\"}, \"yaxis\": {\"backgroundcolor\": \"#E5ECF6\", \"gridcolor\": \"white\", \"gridwidth\": 2, \"linecolor\": \"white\", \"showbackground\": true, \"ticks\": \"\", \"zerolinecolor\": \"white\"}, \"zaxis\": {\"backgroundcolor\": \"#E5ECF6\", \"gridcolor\": \"white\", \"gridwidth\": 2, \"linecolor\": \"white\", \"showbackground\": true, \"ticks\": \"\", \"zerolinecolor\": \"white\"}}, \"shapedefaults\": {\"line\": {\"color\": \"#2a3f5f\"}}, \"ternary\": {\"aaxis\": {\"gridcolor\": \"white\", \"linecolor\": \"white\", \"ticks\": \"\"}, \"baxis\": {\"gridcolor\": \"white\", \"linecolor\": \"white\", \"ticks\": \"\"}, \"bgcolor\": \"#E5ECF6\", \"caxis\": {\"gridcolor\": \"white\", \"linecolor\": \"white\", \"ticks\": \"\"}}, \"title\": {\"x\": 0.05}, \"xaxis\": {\"automargin\": true, \"gridcolor\": \"white\", \"linecolor\": \"white\", \"ticks\": \"\", \"title\": {\"standoff\": 15}, \"zerolinecolor\": \"white\", \"zerolinewidth\": 2}, \"yaxis\": {\"automargin\": true, \"gridcolor\": \"white\", \"linecolor\": \"white\", \"ticks\": \"\", \"title\": {\"standoff\": 15}, \"zerolinecolor\": \"white\", \"zerolinewidth\": 2}}}},\n",
       "                        {\"responsive\": true}\n",
       "                    ).then(function(){\n",
       "                            \n",
       "var gd = document.getElementById('3b237be5-8e9d-4f50-b419-2cd7416daa99');\n",
       "var x = new MutationObserver(function (mutations, observer) {{\n",
       "        var display = window.getComputedStyle(gd).display;\n",
       "        if (!display || display === 'none') {{\n",
       "            console.log([gd, 'removed!']);\n",
       "            Plotly.purge(gd);\n",
       "            observer.disconnect();\n",
       "        }}\n",
       "}});\n",
       "\n",
       "// Listen for the removal of the full notebook cells\n",
       "var notebookContainer = gd.closest('#notebook-container');\n",
       "if (notebookContainer) {{\n",
       "    x.observe(notebookContainer, {childList: true});\n",
       "}}\n",
       "\n",
       "// Listen for the clearing of the current output cell\n",
       "var outputEl = gd.closest('.output');\n",
       "if (outputEl) {{\n",
       "    x.observe(outputEl, {childList: true});\n",
       "}}\n",
       "\n",
       "                        })\n",
       "                };\n",
       "                });\n",
       "            </script>\n",
       "        </div>"
      ]
     },
     "metadata": {},
     "output_type": "display_data"
    }
   ],
   "source": [
    "fig = px.pie(df, values = 'Active Cases',names='Name of State / UT', height=600)\n",
    "fig.update_traces(textposition='inside', textinfo='percent+label')\n",
    "fig.show()"
   ]
  },
  {
   "cell_type": "code",
   "execution_count": 36,
   "metadata": {},
   "outputs": [],
   "source": [
    "map_data = gpd.read_file('Indian_States.shp')\n",
    "map_data.rename(columns = {'st_nm':'Name of State / UT'}, inplace = True)"
   ]
  },
  {
   "cell_type": "code",
   "execution_count": 37,
   "metadata": {},
   "outputs": [
    {
     "data": {
      "text/html": [
       "<div>\n",
       "<style scoped>\n",
       "    .dataframe tbody tr th:only-of-type {\n",
       "        vertical-align: middle;\n",
       "    }\n",
       "\n",
       "    .dataframe tbody tr th {\n",
       "        vertical-align: top;\n",
       "    }\n",
       "\n",
       "    .dataframe thead th {\n",
       "        text-align: right;\n",
       "    }\n",
       "</style>\n",
       "<table border=\"1\" class=\"dataframe\">\n",
       "  <thead>\n",
       "    <tr style=\"text-align: right;\">\n",
       "      <th></th>\n",
       "      <th>Name of State / UT</th>\n",
       "      <th>geometry</th>\n",
       "    </tr>\n",
       "  </thead>\n",
       "  <tbody>\n",
       "    <tr>\n",
       "      <td>0</td>\n",
       "      <td>Andaman &amp; Nicobar Island</td>\n",
       "      <td>MULTIPOLYGON (((93.71976 7.20707, 93.71909 7.2...</td>\n",
       "    </tr>\n",
       "    <tr>\n",
       "      <td>1</td>\n",
       "      <td>Arunanchal Pradesh</td>\n",
       "      <td>POLYGON ((96.16261 29.38078, 96.16860 29.37432...</td>\n",
       "    </tr>\n",
       "    <tr>\n",
       "      <td>2</td>\n",
       "      <td>Assam</td>\n",
       "      <td>MULTIPOLYGON (((89.74323 26.30362, 89.74290 26...</td>\n",
       "    </tr>\n",
       "    <tr>\n",
       "      <td>3</td>\n",
       "      <td>Bihar</td>\n",
       "      <td>MULTIPOLYGON (((84.50720 24.26323, 84.50355 24...</td>\n",
       "    </tr>\n",
       "    <tr>\n",
       "      <td>4</td>\n",
       "      <td>Chandigarh</td>\n",
       "      <td>POLYGON ((76.84147 30.75996, 76.83599 30.73623...</td>\n",
       "    </tr>\n",
       "    <tr>\n",
       "      <td>5</td>\n",
       "      <td>Chhattisgarh</td>\n",
       "      <td>POLYGON ((83.33532 24.09885, 83.35346 24.09627...</td>\n",
       "    </tr>\n",
       "    <tr>\n",
       "      <td>6</td>\n",
       "      <td>Dadara &amp; Nagar Havelli</td>\n",
       "      <td>POLYGON ((73.20657 20.12216, 73.20797 20.10650...</td>\n",
       "    </tr>\n",
       "    <tr>\n",
       "      <td>7</td>\n",
       "      <td>Daman &amp; Diu</td>\n",
       "      <td>MULTIPOLYGON (((72.89335 20.44539, 72.89281 20...</td>\n",
       "    </tr>\n",
       "    <tr>\n",
       "      <td>8</td>\n",
       "      <td>Goa</td>\n",
       "      <td>MULTIPOLYGON (((74.11918 14.75344, 74.11350 14...</td>\n",
       "    </tr>\n",
       "    <tr>\n",
       "      <td>9</td>\n",
       "      <td>Gujarat</td>\n",
       "      <td>MULTIPOLYGON (((71.70375 20.99958, 71.70375 20...</td>\n",
       "    </tr>\n",
       "    <tr>\n",
       "      <td>10</td>\n",
       "      <td>Haryana</td>\n",
       "      <td>POLYGON ((76.85065 30.87512, 76.86594 30.86691...</td>\n",
       "    </tr>\n",
       "    <tr>\n",
       "      <td>11</td>\n",
       "      <td>Himachal Pradesh</td>\n",
       "      <td>POLYGON ((76.79634 33.25490, 76.80351 33.25275...</td>\n",
       "    </tr>\n",
       "    <tr>\n",
       "      <td>12</td>\n",
       "      <td>Jammu &amp; Kashmir</td>\n",
       "      <td>POLYGON ((74.73451 37.02068, 74.73647 37.01937...</td>\n",
       "    </tr>\n",
       "    <tr>\n",
       "      <td>13</td>\n",
       "      <td>Jharkhand</td>\n",
       "      <td>POLYGON ((87.60582 25.31512, 87.61279 25.31184...</td>\n",
       "    </tr>\n",
       "    <tr>\n",
       "      <td>14</td>\n",
       "      <td>Karnataka</td>\n",
       "      <td>MULTIPOLYGON (((74.69694 13.32782, 74.69562 13...</td>\n",
       "    </tr>\n",
       "    <tr>\n",
       "      <td>15</td>\n",
       "      <td>Kerala</td>\n",
       "      <td>POLYGON ((74.99575 12.79227, 75.00006 12.78777...</td>\n",
       "    </tr>\n",
       "    <tr>\n",
       "      <td>16</td>\n",
       "      <td>Lakshadweep</td>\n",
       "      <td>MULTIPOLYGON (((74.10131 11.20431, 74.09908 11...</td>\n",
       "    </tr>\n",
       "    <tr>\n",
       "      <td>17</td>\n",
       "      <td>Madhya Pradesh</td>\n",
       "      <td>MULTIPOLYGON (((74.17932 22.39059, 74.17776 22...</td>\n",
       "    </tr>\n",
       "    <tr>\n",
       "      <td>18</td>\n",
       "      <td>Maharashtra</td>\n",
       "      <td>MULTIPOLYGON (((73.46270 16.03710, 73.46178 16...</td>\n",
       "    </tr>\n",
       "    <tr>\n",
       "      <td>19</td>\n",
       "      <td>Manipur</td>\n",
       "      <td>POLYGON ((94.57602 25.64221, 94.57487 25.63858...</td>\n",
       "    </tr>\n",
       "    <tr>\n",
       "      <td>20</td>\n",
       "      <td>Meghalaya</td>\n",
       "      <td>POLYGON ((91.85632 26.10353, 91.86717 26.09906...</td>\n",
       "    </tr>\n",
       "    <tr>\n",
       "      <td>21</td>\n",
       "      <td>Mizoram</td>\n",
       "      <td>POLYGON ((92.80022 24.41630, 92.80310 24.41603...</td>\n",
       "    </tr>\n",
       "    <tr>\n",
       "      <td>22</td>\n",
       "      <td>Nagaland</td>\n",
       "      <td>POLYGON ((95.21458 26.93095, 95.21719 26.92818...</td>\n",
       "    </tr>\n",
       "    <tr>\n",
       "      <td>23</td>\n",
       "      <td>NCT of Delhi</td>\n",
       "      <td>POLYGON ((77.09361 28.86940, 77.10973 28.86722...</td>\n",
       "    </tr>\n",
       "    <tr>\n",
       "      <td>24</td>\n",
       "      <td>Puducherry</td>\n",
       "      <td>MULTIPOLYGON (((79.76528 10.99681, 79.76963 10...</td>\n",
       "    </tr>\n",
       "    <tr>\n",
       "      <td>25</td>\n",
       "      <td>Punjab</td>\n",
       "      <td>POLYGON ((75.88469 32.48841, 75.90303 32.47169...</td>\n",
       "    </tr>\n",
       "    <tr>\n",
       "      <td>26</td>\n",
       "      <td>Rajasthan</td>\n",
       "      <td>POLYGON ((73.89849 29.97896, 73.90021 29.97140...</td>\n",
       "    </tr>\n",
       "    <tr>\n",
       "      <td>27</td>\n",
       "      <td>Sikkim</td>\n",
       "      <td>POLYGON ((88.65381 28.09883, 88.66265 28.08956...</td>\n",
       "    </tr>\n",
       "    <tr>\n",
       "      <td>28</td>\n",
       "      <td>Tamil Nadu</td>\n",
       "      <td>MULTIPOLYGON (((78.19188 8.72730, 78.18996 8.7...</td>\n",
       "    </tr>\n",
       "    <tr>\n",
       "      <td>29</td>\n",
       "      <td>Telangana</td>\n",
       "      <td>POLYGON ((81.05614 17.79097, 81.05834 17.75464...</td>\n",
       "    </tr>\n",
       "    <tr>\n",
       "      <td>30</td>\n",
       "      <td>Tripura</td>\n",
       "      <td>POLYGON ((92.22108 24.50131, 92.22771 24.49862...</td>\n",
       "    </tr>\n",
       "    <tr>\n",
       "      <td>31</td>\n",
       "      <td>Uttar Pradesh</td>\n",
       "      <td>MULTIPOLYGON (((80.44802 24.99631, 80.44080 24...</td>\n",
       "    </tr>\n",
       "    <tr>\n",
       "      <td>32</td>\n",
       "      <td>Uttarakhand</td>\n",
       "      <td>POLYGON ((79.21047 31.34846, 79.21386 31.34680...</td>\n",
       "    </tr>\n",
       "    <tr>\n",
       "      <td>33</td>\n",
       "      <td>West Bengal</td>\n",
       "      <td>MULTIPOLYGON (((88.01861 21.57278, 88.01889 21...</td>\n",
       "    </tr>\n",
       "    <tr>\n",
       "      <td>34</td>\n",
       "      <td>Odisha</td>\n",
       "      <td>MULTIPOLYGON (((86.38937 19.96351, 86.38840 19...</td>\n",
       "    </tr>\n",
       "    <tr>\n",
       "      <td>35</td>\n",
       "      <td>Andhra Pradesh</td>\n",
       "      <td>MULTIPOLYGON (((81.10380 17.82269, 81.10610 17...</td>\n",
       "    </tr>\n",
       "  </tbody>\n",
       "</table>\n",
       "</div>"
      ],
      "text/plain": [
       "          Name of State / UT  \\\n",
       "0   Andaman & Nicobar Island   \n",
       "1         Arunanchal Pradesh   \n",
       "2                      Assam   \n",
       "3                      Bihar   \n",
       "4                 Chandigarh   \n",
       "5               Chhattisgarh   \n",
       "6     Dadara & Nagar Havelli   \n",
       "7                Daman & Diu   \n",
       "8                        Goa   \n",
       "9                    Gujarat   \n",
       "10                   Haryana   \n",
       "11          Himachal Pradesh   \n",
       "12           Jammu & Kashmir   \n",
       "13                 Jharkhand   \n",
       "14                 Karnataka   \n",
       "15                    Kerala   \n",
       "16               Lakshadweep   \n",
       "17            Madhya Pradesh   \n",
       "18               Maharashtra   \n",
       "19                   Manipur   \n",
       "20                 Meghalaya   \n",
       "21                   Mizoram   \n",
       "22                  Nagaland   \n",
       "23              NCT of Delhi   \n",
       "24                Puducherry   \n",
       "25                    Punjab   \n",
       "26                 Rajasthan   \n",
       "27                    Sikkim   \n",
       "28                Tamil Nadu   \n",
       "29                 Telangana   \n",
       "30                   Tripura   \n",
       "31             Uttar Pradesh   \n",
       "32               Uttarakhand   \n",
       "33               West Bengal   \n",
       "34                    Odisha   \n",
       "35            Andhra Pradesh   \n",
       "\n",
       "                                             geometry  \n",
       "0   MULTIPOLYGON (((93.71976 7.20707, 93.71909 7.2...  \n",
       "1   POLYGON ((96.16261 29.38078, 96.16860 29.37432...  \n",
       "2   MULTIPOLYGON (((89.74323 26.30362, 89.74290 26...  \n",
       "3   MULTIPOLYGON (((84.50720 24.26323, 84.50355 24...  \n",
       "4   POLYGON ((76.84147 30.75996, 76.83599 30.73623...  \n",
       "5   POLYGON ((83.33532 24.09885, 83.35346 24.09627...  \n",
       "6   POLYGON ((73.20657 20.12216, 73.20797 20.10650...  \n",
       "7   MULTIPOLYGON (((72.89335 20.44539, 72.89281 20...  \n",
       "8   MULTIPOLYGON (((74.11918 14.75344, 74.11350 14...  \n",
       "9   MULTIPOLYGON (((71.70375 20.99958, 71.70375 20...  \n",
       "10  POLYGON ((76.85065 30.87512, 76.86594 30.86691...  \n",
       "11  POLYGON ((76.79634 33.25490, 76.80351 33.25275...  \n",
       "12  POLYGON ((74.73451 37.02068, 74.73647 37.01937...  \n",
       "13  POLYGON ((87.60582 25.31512, 87.61279 25.31184...  \n",
       "14  MULTIPOLYGON (((74.69694 13.32782, 74.69562 13...  \n",
       "15  POLYGON ((74.99575 12.79227, 75.00006 12.78777...  \n",
       "16  MULTIPOLYGON (((74.10131 11.20431, 74.09908 11...  \n",
       "17  MULTIPOLYGON (((74.17932 22.39059, 74.17776 22...  \n",
       "18  MULTIPOLYGON (((73.46270 16.03710, 73.46178 16...  \n",
       "19  POLYGON ((94.57602 25.64221, 94.57487 25.63858...  \n",
       "20  POLYGON ((91.85632 26.10353, 91.86717 26.09906...  \n",
       "21  POLYGON ((92.80022 24.41630, 92.80310 24.41603...  \n",
       "22  POLYGON ((95.21458 26.93095, 95.21719 26.92818...  \n",
       "23  POLYGON ((77.09361 28.86940, 77.10973 28.86722...  \n",
       "24  MULTIPOLYGON (((79.76528 10.99681, 79.76963 10...  \n",
       "25  POLYGON ((75.88469 32.48841, 75.90303 32.47169...  \n",
       "26  POLYGON ((73.89849 29.97896, 73.90021 29.97140...  \n",
       "27  POLYGON ((88.65381 28.09883, 88.66265 28.08956...  \n",
       "28  MULTIPOLYGON (((78.19188 8.72730, 78.18996 8.7...  \n",
       "29  POLYGON ((81.05614 17.79097, 81.05834 17.75464...  \n",
       "30  POLYGON ((92.22108 24.50131, 92.22771 24.49862...  \n",
       "31  MULTIPOLYGON (((80.44802 24.99631, 80.44080 24...  \n",
       "32  POLYGON ((79.21047 31.34846, 79.21386 31.34680...  \n",
       "33  MULTIPOLYGON (((88.01861 21.57278, 88.01889 21...  \n",
       "34  MULTIPOLYGON (((86.38937 19.96351, 86.38840 19...  \n",
       "35  MULTIPOLYGON (((81.10380 17.82269, 81.10610 17...  "
      ]
     },
     "execution_count": 37,
     "metadata": {},
     "output_type": "execute_result"
    }
   ],
   "source": [
    "map_data"
   ]
  },
  {
   "cell_type": "code",
   "execution_count": 38,
   "metadata": {},
   "outputs": [],
   "source": [
    "map_data['Name of State / UT'] = map_data['Name of State / UT'].str.replace('&','and')\n",
    "map_data['Name of State / UT'].replace('Arunanchal Pradesh',\n",
    "                              'Arunachal Pradesh', inplace = True)\n",
    "map_data['Name of State / UT'].replace('Telangana', \n",
    "                              'Telengana', inplace = True)\n",
    "map_data['Name of State / UT'].replace('NCT of Delhi', \n",
    "                              'Delhi', inplace = True)\n",
    "map_data['Name of State / UT'].replace('Andaman and Nicobar Island', \n",
    "                              'Andaman and Nicobar Islands', \n",
    "                               inplace = True)"
   ]
  },
  {
   "cell_type": "code",
   "execution_count": 39,
   "metadata": {},
   "outputs": [
    {
     "data": {
      "text/html": [
       "<div>\n",
       "<style scoped>\n",
       "    .dataframe tbody tr th:only-of-type {\n",
       "        vertical-align: middle;\n",
       "    }\n",
       "\n",
       "    .dataframe tbody tr th {\n",
       "        vertical-align: top;\n",
       "    }\n",
       "\n",
       "    .dataframe thead th {\n",
       "        text-align: right;\n",
       "    }\n",
       "</style>\n",
       "<table border=\"1\" class=\"dataframe\">\n",
       "  <thead>\n",
       "    <tr style=\"text-align: right;\">\n",
       "      <th></th>\n",
       "      <th>Name of State / UT</th>\n",
       "      <th>geometry</th>\n",
       "      <th>Active Cases</th>\n",
       "      <th>Cured/Discharged/Migrated</th>\n",
       "      <th>Deaths</th>\n",
       "      <th>Total Confirmed cases</th>\n",
       "    </tr>\n",
       "  </thead>\n",
       "  <tbody>\n",
       "    <tr>\n",
       "      <td>0</td>\n",
       "      <td>Andaman and Nicobar Islands</td>\n",
       "      <td>MULTIPOLYGON (((93.71976 7.20707, 93.71909 7.2...</td>\n",
       "      <td>46.0</td>\n",
       "      <td>130.0</td>\n",
       "      <td>0.0</td>\n",
       "      <td>176.0</td>\n",
       "    </tr>\n",
       "    <tr>\n",
       "      <td>1</td>\n",
       "      <td>Arunachal Pradesh</td>\n",
       "      <td>POLYGON ((96.16261 29.38078, 96.16860 29.37432...</td>\n",
       "      <td>306.0</td>\n",
       "      <td>153.0</td>\n",
       "      <td>3.0</td>\n",
       "      <td>462.0</td>\n",
       "    </tr>\n",
       "    <tr>\n",
       "      <td>2</td>\n",
       "      <td>Assam</td>\n",
       "      <td>MULTIPOLYGON (((89.74323 26.30362, 89.74290 26...</td>\n",
       "      <td>6447.0</td>\n",
       "      <td>12173.0</td>\n",
       "      <td>46.0</td>\n",
       "      <td>18666.0</td>\n",
       "    </tr>\n",
       "    <tr>\n",
       "      <td>3</td>\n",
       "      <td>Bihar</td>\n",
       "      <td>MULTIPOLYGON (((84.50720 24.26323, 84.50355 24...</td>\n",
       "      <td>6970.0</td>\n",
       "      <td>13462.0</td>\n",
       "      <td>180.0</td>\n",
       "      <td>20612.0</td>\n",
       "    </tr>\n",
       "    <tr>\n",
       "      <td>4</td>\n",
       "      <td>Chandigarh</td>\n",
       "      <td>POLYGON ((76.84147 30.75996, 76.83599 30.73623...</td>\n",
       "      <td>155.0</td>\n",
       "      <td>459.0</td>\n",
       "      <td>11.0</td>\n",
       "      <td>625.0</td>\n",
       "    </tr>\n",
       "    <tr>\n",
       "      <td>5</td>\n",
       "      <td>Chhattisgarh</td>\n",
       "      <td>POLYGON ((83.33532 24.09885, 83.35346 24.09627...</td>\n",
       "      <td>1195.0</td>\n",
       "      <td>3324.0</td>\n",
       "      <td>20.0</td>\n",
       "      <td>4539.0</td>\n",
       "    </tr>\n",
       "    <tr>\n",
       "      <td>6</td>\n",
       "      <td>Dadara and Nagar Havelli</td>\n",
       "      <td>POLYGON ((73.20657 20.12216, 73.20797 20.10650...</td>\n",
       "      <td>NaN</td>\n",
       "      <td>NaN</td>\n",
       "      <td>NaN</td>\n",
       "      <td>NaN</td>\n",
       "    </tr>\n",
       "    <tr>\n",
       "      <td>7</td>\n",
       "      <td>Daman and Diu</td>\n",
       "      <td>MULTIPOLYGON (((72.89335 20.44539, 72.89281 20...</td>\n",
       "      <td>NaN</td>\n",
       "      <td>NaN</td>\n",
       "      <td>NaN</td>\n",
       "      <td>NaN</td>\n",
       "    </tr>\n",
       "    <tr>\n",
       "      <td>8</td>\n",
       "      <td>Goa</td>\n",
       "      <td>MULTIPOLYGON (((74.11918 14.75344, 74.11350 14...</td>\n",
       "      <td>1259.0</td>\n",
       "      <td>1674.0</td>\n",
       "      <td>18.0</td>\n",
       "      <td>2951.0</td>\n",
       "    </tr>\n",
       "    <tr>\n",
       "      <td>9</td>\n",
       "      <td>Gujarat</td>\n",
       "      <td>MULTIPOLYGON (((71.70375 20.99958, 71.70375 20...</td>\n",
       "      <td>11187.0</td>\n",
       "      <td>31286.0</td>\n",
       "      <td>2079.0</td>\n",
       "      <td>44552.0</td>\n",
       "    </tr>\n",
       "    <tr>\n",
       "      <td>10</td>\n",
       "      <td>Haryana</td>\n",
       "      <td>POLYGON ((76.85065 30.87512, 76.86594 30.86691...</td>\n",
       "      <td>5320.0</td>\n",
       "      <td>17667.0</td>\n",
       "      <td>319.0</td>\n",
       "      <td>23306.0</td>\n",
       "    </tr>\n",
       "    <tr>\n",
       "      <td>11</td>\n",
       "      <td>Himachal Pradesh</td>\n",
       "      <td>POLYGON ((76.79634 33.25490, 76.80351 33.25275...</td>\n",
       "      <td>351.0</td>\n",
       "      <td>979.0</td>\n",
       "      <td>11.0</td>\n",
       "      <td>1341.0</td>\n",
       "    </tr>\n",
       "    <tr>\n",
       "      <td>12</td>\n",
       "      <td>Jammu and Kashmir</td>\n",
       "      <td>POLYGON ((74.73451 37.02068, 74.73647 37.01937...</td>\n",
       "      <td>5123.0</td>\n",
       "      <td>6337.0</td>\n",
       "      <td>206.0</td>\n",
       "      <td>11666.0</td>\n",
       "    </tr>\n",
       "    <tr>\n",
       "      <td>13</td>\n",
       "      <td>Jharkhand</td>\n",
       "      <td>POLYGON ((87.60582 25.31512, 87.61279 25.31184...</td>\n",
       "      <td>1797.0</td>\n",
       "      <td>2485.0</td>\n",
       "      <td>38.0</td>\n",
       "      <td>4320.0</td>\n",
       "    </tr>\n",
       "    <tr>\n",
       "      <td>14</td>\n",
       "      <td>Karnataka</td>\n",
       "      <td>MULTIPOLYGON (((74.69694 13.32782, 74.69562 13...</td>\n",
       "      <td>27859.0</td>\n",
       "      <td>18466.0</td>\n",
       "      <td>928.0</td>\n",
       "      <td>47253.0</td>\n",
       "    </tr>\n",
       "    <tr>\n",
       "      <td>15</td>\n",
       "      <td>Kerala</td>\n",
       "      <td>POLYGON ((74.99575 12.79227, 75.00006 12.78777...</td>\n",
       "      <td>4884.0</td>\n",
       "      <td>4634.0</td>\n",
       "      <td>35.0</td>\n",
       "      <td>9553.0</td>\n",
       "    </tr>\n",
       "    <tr>\n",
       "      <td>16</td>\n",
       "      <td>Lakshadweep</td>\n",
       "      <td>MULTIPOLYGON (((74.10131 11.20431, 74.09908 11...</td>\n",
       "      <td>NaN</td>\n",
       "      <td>NaN</td>\n",
       "      <td>NaN</td>\n",
       "      <td>NaN</td>\n",
       "    </tr>\n",
       "    <tr>\n",
       "      <td>17</td>\n",
       "      <td>Madhya Pradesh</td>\n",
       "      <td>MULTIPOLYGON (((74.17932 22.39059, 74.17776 22...</td>\n",
       "      <td>5053.0</td>\n",
       "      <td>13908.0</td>\n",
       "      <td>682.0</td>\n",
       "      <td>19643.0</td>\n",
       "    </tr>\n",
       "    <tr>\n",
       "      <td>18</td>\n",
       "      <td>Maharashtra</td>\n",
       "      <td>MULTIPOLYGON (((73.46270 16.03710, 73.46178 16...</td>\n",
       "      <td>112099.0</td>\n",
       "      <td>152613.0</td>\n",
       "      <td>10928.0</td>\n",
       "      <td>275640.0</td>\n",
       "    </tr>\n",
       "    <tr>\n",
       "      <td>19</td>\n",
       "      <td>Manipur</td>\n",
       "      <td>POLYGON ((94.57602 25.64221, 94.57487 25.63858...</td>\n",
       "      <td>711.0</td>\n",
       "      <td>989.0</td>\n",
       "      <td>0.0</td>\n",
       "      <td>1700.0</td>\n",
       "    </tr>\n",
       "    <tr>\n",
       "      <td>20</td>\n",
       "      <td>Meghalaya</td>\n",
       "      <td>POLYGON ((91.85632 26.10353, 91.86717 26.09906...</td>\n",
       "      <td>278.0</td>\n",
       "      <td>66.0</td>\n",
       "      <td>2.0</td>\n",
       "      <td>346.0</td>\n",
       "    </tr>\n",
       "    <tr>\n",
       "      <td>21</td>\n",
       "      <td>Mizoram</td>\n",
       "      <td>POLYGON ((92.80022 24.41630, 92.80310 24.41603...</td>\n",
       "      <td>79.0</td>\n",
       "      <td>159.0</td>\n",
       "      <td>0.0</td>\n",
       "      <td>238.0</td>\n",
       "    </tr>\n",
       "    <tr>\n",
       "      <td>22</td>\n",
       "      <td>Nagaland</td>\n",
       "      <td>POLYGON ((95.21458 26.93095, 95.21719 26.92818...</td>\n",
       "      <td>554.0</td>\n",
       "      <td>348.0</td>\n",
       "      <td>0.0</td>\n",
       "      <td>902.0</td>\n",
       "    </tr>\n",
       "    <tr>\n",
       "      <td>23</td>\n",
       "      <td>Delhi</td>\n",
       "      <td>POLYGON ((77.09361 28.86940, 77.10973 28.86722...</td>\n",
       "      <td>17807.0</td>\n",
       "      <td>95699.0</td>\n",
       "      <td>3487.0</td>\n",
       "      <td>116993.0</td>\n",
       "    </tr>\n",
       "    <tr>\n",
       "      <td>24</td>\n",
       "      <td>Puducherry</td>\n",
       "      <td>MULTIPOLYGON (((79.76528 10.99681, 79.76963 10...</td>\n",
       "      <td>686.0</td>\n",
       "      <td>889.0</td>\n",
       "      <td>21.0</td>\n",
       "      <td>1596.0</td>\n",
       "    </tr>\n",
       "    <tr>\n",
       "      <td>25</td>\n",
       "      <td>Punjab</td>\n",
       "      <td>POLYGON ((75.88469 32.48841, 75.90303 32.47169...</td>\n",
       "      <td>2711.0</td>\n",
       "      <td>5867.0</td>\n",
       "      <td>221.0</td>\n",
       "      <td>8799.0</td>\n",
       "    </tr>\n",
       "    <tr>\n",
       "      <td>26</td>\n",
       "      <td>Rajasthan</td>\n",
       "      <td>POLYGON ((73.89849 29.97896, 73.90021 29.97140...</td>\n",
       "      <td>6405.0</td>\n",
       "      <td>19502.0</td>\n",
       "      <td>530.0</td>\n",
       "      <td>26437.0</td>\n",
       "    </tr>\n",
       "    <tr>\n",
       "      <td>27</td>\n",
       "      <td>Sikkim</td>\n",
       "      <td>POLYGON ((88.65381 28.09883, 88.66265 28.08956...</td>\n",
       "      <td>133.0</td>\n",
       "      <td>87.0</td>\n",
       "      <td>0.0</td>\n",
       "      <td>220.0</td>\n",
       "    </tr>\n",
       "    <tr>\n",
       "      <td>28</td>\n",
       "      <td>Tamil Nadu</td>\n",
       "      <td>MULTIPOLYGON (((78.19188 8.72730, 78.18996 8.7...</td>\n",
       "      <td>47343.0</td>\n",
       "      <td>102310.0</td>\n",
       "      <td>2167.0</td>\n",
       "      <td>151820.0</td>\n",
       "    </tr>\n",
       "    <tr>\n",
       "      <td>29</td>\n",
       "      <td>Telengana</td>\n",
       "      <td>POLYGON ((81.05614 17.79097, 81.05834 17.75464...</td>\n",
       "      <td>NaN</td>\n",
       "      <td>NaN</td>\n",
       "      <td>NaN</td>\n",
       "      <td>NaN</td>\n",
       "    </tr>\n",
       "    <tr>\n",
       "      <td>30</td>\n",
       "      <td>Tripura</td>\n",
       "      <td>POLYGON ((92.22108 24.50131, 92.22771 24.49862...</td>\n",
       "      <td>661.0</td>\n",
       "      <td>1604.0</td>\n",
       "      <td>3.0</td>\n",
       "      <td>2268.0</td>\n",
       "    </tr>\n",
       "    <tr>\n",
       "      <td>31</td>\n",
       "      <td>Uttar Pradesh</td>\n",
       "      <td>MULTIPOLYGON (((80.44802 24.99631, 80.44080 24...</td>\n",
       "      <td>14628.0</td>\n",
       "      <td>25743.0</td>\n",
       "      <td>1012.0</td>\n",
       "      <td>41383.0</td>\n",
       "    </tr>\n",
       "    <tr>\n",
       "      <td>32</td>\n",
       "      <td>Uttarakhand</td>\n",
       "      <td>POLYGON ((79.21047 31.34846, 79.21386 31.34680...</td>\n",
       "      <td>787.0</td>\n",
       "      <td>2948.0</td>\n",
       "      <td>50.0</td>\n",
       "      <td>3785.0</td>\n",
       "    </tr>\n",
       "    <tr>\n",
       "      <td>33</td>\n",
       "      <td>West Bengal</td>\n",
       "      <td>MULTIPOLYGON (((88.01861 21.57278, 88.01889 21...</td>\n",
       "      <td>12747.0</td>\n",
       "      <td>20680.0</td>\n",
       "      <td>1000.0</td>\n",
       "      <td>34427.0</td>\n",
       "    </tr>\n",
       "    <tr>\n",
       "      <td>34</td>\n",
       "      <td>Odisha</td>\n",
       "      <td>MULTIPOLYGON (((86.38937 19.96351, 86.38840 19...</td>\n",
       "      <td>4345.0</td>\n",
       "      <td>10476.0</td>\n",
       "      <td>77.0</td>\n",
       "      <td>14898.0</td>\n",
       "    </tr>\n",
       "    <tr>\n",
       "      <td>35</td>\n",
       "      <td>Andhra Pradesh</td>\n",
       "      <td>MULTIPOLYGON (((81.10380 17.82269, 81.10610 17...</td>\n",
       "      <td>16621.0</td>\n",
       "      <td>18378.0</td>\n",
       "      <td>452.0</td>\n",
       "      <td>35451.0</td>\n",
       "    </tr>\n",
       "  </tbody>\n",
       "</table>\n",
       "</div>"
      ],
      "text/plain": [
       "             Name of State / UT  \\\n",
       "0   Andaman and Nicobar Islands   \n",
       "1             Arunachal Pradesh   \n",
       "2                         Assam   \n",
       "3                         Bihar   \n",
       "4                    Chandigarh   \n",
       "5                  Chhattisgarh   \n",
       "6      Dadara and Nagar Havelli   \n",
       "7                 Daman and Diu   \n",
       "8                           Goa   \n",
       "9                       Gujarat   \n",
       "10                      Haryana   \n",
       "11             Himachal Pradesh   \n",
       "12            Jammu and Kashmir   \n",
       "13                    Jharkhand   \n",
       "14                    Karnataka   \n",
       "15                       Kerala   \n",
       "16                  Lakshadweep   \n",
       "17               Madhya Pradesh   \n",
       "18                  Maharashtra   \n",
       "19                      Manipur   \n",
       "20                    Meghalaya   \n",
       "21                      Mizoram   \n",
       "22                     Nagaland   \n",
       "23                        Delhi   \n",
       "24                   Puducherry   \n",
       "25                       Punjab   \n",
       "26                    Rajasthan   \n",
       "27                       Sikkim   \n",
       "28                   Tamil Nadu   \n",
       "29                    Telengana   \n",
       "30                      Tripura   \n",
       "31                Uttar Pradesh   \n",
       "32                  Uttarakhand   \n",
       "33                  West Bengal   \n",
       "34                       Odisha   \n",
       "35               Andhra Pradesh   \n",
       "\n",
       "                                             geometry  Active Cases  \\\n",
       "0   MULTIPOLYGON (((93.71976 7.20707, 93.71909 7.2...          46.0   \n",
       "1   POLYGON ((96.16261 29.38078, 96.16860 29.37432...         306.0   \n",
       "2   MULTIPOLYGON (((89.74323 26.30362, 89.74290 26...        6447.0   \n",
       "3   MULTIPOLYGON (((84.50720 24.26323, 84.50355 24...        6970.0   \n",
       "4   POLYGON ((76.84147 30.75996, 76.83599 30.73623...         155.0   \n",
       "5   POLYGON ((83.33532 24.09885, 83.35346 24.09627...        1195.0   \n",
       "6   POLYGON ((73.20657 20.12216, 73.20797 20.10650...           NaN   \n",
       "7   MULTIPOLYGON (((72.89335 20.44539, 72.89281 20...           NaN   \n",
       "8   MULTIPOLYGON (((74.11918 14.75344, 74.11350 14...        1259.0   \n",
       "9   MULTIPOLYGON (((71.70375 20.99958, 71.70375 20...       11187.0   \n",
       "10  POLYGON ((76.85065 30.87512, 76.86594 30.86691...        5320.0   \n",
       "11  POLYGON ((76.79634 33.25490, 76.80351 33.25275...         351.0   \n",
       "12  POLYGON ((74.73451 37.02068, 74.73647 37.01937...        5123.0   \n",
       "13  POLYGON ((87.60582 25.31512, 87.61279 25.31184...        1797.0   \n",
       "14  MULTIPOLYGON (((74.69694 13.32782, 74.69562 13...       27859.0   \n",
       "15  POLYGON ((74.99575 12.79227, 75.00006 12.78777...        4884.0   \n",
       "16  MULTIPOLYGON (((74.10131 11.20431, 74.09908 11...           NaN   \n",
       "17  MULTIPOLYGON (((74.17932 22.39059, 74.17776 22...        5053.0   \n",
       "18  MULTIPOLYGON (((73.46270 16.03710, 73.46178 16...      112099.0   \n",
       "19  POLYGON ((94.57602 25.64221, 94.57487 25.63858...         711.0   \n",
       "20  POLYGON ((91.85632 26.10353, 91.86717 26.09906...         278.0   \n",
       "21  POLYGON ((92.80022 24.41630, 92.80310 24.41603...          79.0   \n",
       "22  POLYGON ((95.21458 26.93095, 95.21719 26.92818...         554.0   \n",
       "23  POLYGON ((77.09361 28.86940, 77.10973 28.86722...       17807.0   \n",
       "24  MULTIPOLYGON (((79.76528 10.99681, 79.76963 10...         686.0   \n",
       "25  POLYGON ((75.88469 32.48841, 75.90303 32.47169...        2711.0   \n",
       "26  POLYGON ((73.89849 29.97896, 73.90021 29.97140...        6405.0   \n",
       "27  POLYGON ((88.65381 28.09883, 88.66265 28.08956...         133.0   \n",
       "28  MULTIPOLYGON (((78.19188 8.72730, 78.18996 8.7...       47343.0   \n",
       "29  POLYGON ((81.05614 17.79097, 81.05834 17.75464...           NaN   \n",
       "30  POLYGON ((92.22108 24.50131, 92.22771 24.49862...         661.0   \n",
       "31  MULTIPOLYGON (((80.44802 24.99631, 80.44080 24...       14628.0   \n",
       "32  POLYGON ((79.21047 31.34846, 79.21386 31.34680...         787.0   \n",
       "33  MULTIPOLYGON (((88.01861 21.57278, 88.01889 21...       12747.0   \n",
       "34  MULTIPOLYGON (((86.38937 19.96351, 86.38840 19...        4345.0   \n",
       "35  MULTIPOLYGON (((81.10380 17.82269, 81.10610 17...       16621.0   \n",
       "\n",
       "    Cured/Discharged/Migrated   Deaths  Total Confirmed cases  \n",
       "0                       130.0      0.0                  176.0  \n",
       "1                       153.0      3.0                  462.0  \n",
       "2                     12173.0     46.0                18666.0  \n",
       "3                     13462.0    180.0                20612.0  \n",
       "4                       459.0     11.0                  625.0  \n",
       "5                      3324.0     20.0                 4539.0  \n",
       "6                         NaN      NaN                    NaN  \n",
       "7                         NaN      NaN                    NaN  \n",
       "8                      1674.0     18.0                 2951.0  \n",
       "9                     31286.0   2079.0                44552.0  \n",
       "10                    17667.0    319.0                23306.0  \n",
       "11                      979.0     11.0                 1341.0  \n",
       "12                     6337.0    206.0                11666.0  \n",
       "13                     2485.0     38.0                 4320.0  \n",
       "14                    18466.0    928.0                47253.0  \n",
       "15                     4634.0     35.0                 9553.0  \n",
       "16                        NaN      NaN                    NaN  \n",
       "17                    13908.0    682.0                19643.0  \n",
       "18                   152613.0  10928.0               275640.0  \n",
       "19                      989.0      0.0                 1700.0  \n",
       "20                       66.0      2.0                  346.0  \n",
       "21                      159.0      0.0                  238.0  \n",
       "22                      348.0      0.0                  902.0  \n",
       "23                    95699.0   3487.0               116993.0  \n",
       "24                      889.0     21.0                 1596.0  \n",
       "25                     5867.0    221.0                 8799.0  \n",
       "26                    19502.0    530.0                26437.0  \n",
       "27                       87.0      0.0                  220.0  \n",
       "28                   102310.0   2167.0               151820.0  \n",
       "29                        NaN      NaN                    NaN  \n",
       "30                     1604.0      3.0                 2268.0  \n",
       "31                    25743.0   1012.0                41383.0  \n",
       "32                     2948.0     50.0                 3785.0  \n",
       "33                    20680.0   1000.0                34427.0  \n",
       "34                    10476.0     77.0                14898.0  \n",
       "35                    18378.0    452.0                35451.0  "
      ]
     },
     "execution_count": 39,
     "metadata": {},
     "output_type": "execute_result"
    }
   ],
   "source": [
    "merged_data = pd.merge(map_data, df, \n",
    "                       how = 'left', on = 'Name of State / UT')\n",
    "#merged_data.fillna(0, inplace = True)\n",
    "#merged_data.drop(‘Sr.No’, axis = 1, inplace = True)\n",
    "merged_data"
   ]
  },
  {
   "cell_type": "code",
   "execution_count": 40,
   "metadata": {},
   "outputs": [
    {
     "name": "stderr",
     "output_type": "stream",
     "text": [
      "C:\\Users\\Win10\\Anaconda3\\lib\\site-packages\\matplotlib\\colors.py:527: RuntimeWarning:\n",
      "\n",
      "invalid value encountered in less\n",
      "\n"
     ]
    },
    {
     "data": {
      "image/png": "[encoded data removed]",
      "text/plain": [
       "<Figure size 1440x864 with 2 Axes>"
      ]
     },
     "metadata": {},
     "output_type": "display_data"
    }
   ],
   "source": [
    "fig, ax = plt.subplots(1, figsize=(20, 12))\n",
    "ax.axis('off')\n",
    "ax.set_title('Covid-19 Statewise Data — Confirmed Cases', \n",
    "             fontdict =  {'fontsize': '25', 'fontweight' : '3'})\n",
    "merged_data.plot(column = 'Active Cases', cmap='Oranges', \n",
    "                 linewidth=0.8, ax=ax, edgecolor='0.8', \n",
    "                 legend = True)\n",
    "plt.show()"
   ]
  },
  {
   "cell_type": "code",
   "execution_count": 41,
   "metadata": {
    "scrolled": true
   },
   "outputs": [
    {
     "data": {
      "text/html": [
       "<div>\n",
       "<style scoped>\n",
       "    .dataframe tbody tr th:only-of-type {\n",
       "        vertical-align: middle;\n",
       "    }\n",
       "\n",
       "    .dataframe tbody tr th {\n",
       "        vertical-align: top;\n",
       "    }\n",
       "\n",
       "    .dataframe thead th {\n",
       "        text-align: right;\n",
       "    }\n",
       "</style>\n",
       "<table border=\"1\" class=\"dataframe\">\n",
       "  <thead>\n",
       "    <tr style=\"text-align: right;\">\n",
       "      <th></th>\n",
       "      <th>Name of State / UT</th>\n",
       "      <th>Latitude</th>\n",
       "      <th>Longitude</th>\n",
       "    </tr>\n",
       "  </thead>\n",
       "  <tbody>\n",
       "    <tr>\n",
       "      <td>0</td>\n",
       "      <td>Andaman and Nicobar Islands</td>\n",
       "      <td>11.667026</td>\n",
       "      <td>92.735983</td>\n",
       "    </tr>\n",
       "    <tr>\n",
       "      <td>1</td>\n",
       "      <td>Andhra Pradesh</td>\n",
       "      <td>14.750429</td>\n",
       "      <td>78.570026</td>\n",
       "    </tr>\n",
       "    <tr>\n",
       "      <td>2</td>\n",
       "      <td>Arunachal Pradesh</td>\n",
       "      <td>27.100399</td>\n",
       "      <td>93.616601</td>\n",
       "    </tr>\n",
       "    <tr>\n",
       "      <td>3</td>\n",
       "      <td>Assam</td>\n",
       "      <td>26.749981</td>\n",
       "      <td>94.216667</td>\n",
       "    </tr>\n",
       "    <tr>\n",
       "      <td>4</td>\n",
       "      <td>Bihar</td>\n",
       "      <td>25.785414</td>\n",
       "      <td>87.479973</td>\n",
       "    </tr>\n",
       "    <tr>\n",
       "      <td>5</td>\n",
       "      <td>Chandigarh</td>\n",
       "      <td>30.719997</td>\n",
       "      <td>76.780006</td>\n",
       "    </tr>\n",
       "    <tr>\n",
       "      <td>6</td>\n",
       "      <td>Chhattisgarh</td>\n",
       "      <td>22.090420</td>\n",
       "      <td>82.159987</td>\n",
       "    </tr>\n",
       "    <tr>\n",
       "      <td>7</td>\n",
       "      <td>Dadra And Nagar Haveli</td>\n",
       "      <td>20.266578</td>\n",
       "      <td>73.016618</td>\n",
       "    </tr>\n",
       "    <tr>\n",
       "      <td>8</td>\n",
       "      <td>Delhi</td>\n",
       "      <td>28.669993</td>\n",
       "      <td>77.230004</td>\n",
       "    </tr>\n",
       "    <tr>\n",
       "      <td>9</td>\n",
       "      <td>Goa</td>\n",
       "      <td>15.491997</td>\n",
       "      <td>73.818001</td>\n",
       "    </tr>\n",
       "    <tr>\n",
       "      <td>10</td>\n",
       "      <td>Haryana</td>\n",
       "      <td>28.450006</td>\n",
       "      <td>77.019991</td>\n",
       "    </tr>\n",
       "    <tr>\n",
       "      <td>11</td>\n",
       "      <td>Himachal Pradesh</td>\n",
       "      <td>31.100025</td>\n",
       "      <td>77.166597</td>\n",
       "    </tr>\n",
       "    <tr>\n",
       "      <td>12</td>\n",
       "      <td>Jammu and Kashmir</td>\n",
       "      <td>33.450000</td>\n",
       "      <td>76.240000</td>\n",
       "    </tr>\n",
       "    <tr>\n",
       "      <td>13</td>\n",
       "      <td>Jharkhand</td>\n",
       "      <td>23.800393</td>\n",
       "      <td>86.419986</td>\n",
       "    </tr>\n",
       "    <tr>\n",
       "      <td>14</td>\n",
       "      <td>Karnataka</td>\n",
       "      <td>12.570381</td>\n",
       "      <td>76.919997</td>\n",
       "    </tr>\n",
       "    <tr>\n",
       "      <td>15</td>\n",
       "      <td>Kerala</td>\n",
       "      <td>8.900373</td>\n",
       "      <td>76.569993</td>\n",
       "    </tr>\n",
       "    <tr>\n",
       "      <td>16</td>\n",
       "      <td>Lakshadweep</td>\n",
       "      <td>10.562573</td>\n",
       "      <td>72.636867</td>\n",
       "    </tr>\n",
       "    <tr>\n",
       "      <td>17</td>\n",
       "      <td>Madhya Pradesh</td>\n",
       "      <td>21.300391</td>\n",
       "      <td>76.130019</td>\n",
       "    </tr>\n",
       "    <tr>\n",
       "      <td>18</td>\n",
       "      <td>Maharashtra</td>\n",
       "      <td>19.250232</td>\n",
       "      <td>73.160175</td>\n",
       "    </tr>\n",
       "    <tr>\n",
       "      <td>19</td>\n",
       "      <td>Manipur</td>\n",
       "      <td>24.799971</td>\n",
       "      <td>93.950017</td>\n",
       "    </tr>\n",
       "    <tr>\n",
       "      <td>20</td>\n",
       "      <td>Meghalaya</td>\n",
       "      <td>25.570492</td>\n",
       "      <td>91.880014</td>\n",
       "    </tr>\n",
       "    <tr>\n",
       "      <td>21</td>\n",
       "      <td>Mizoram</td>\n",
       "      <td>23.710399</td>\n",
       "      <td>92.720015</td>\n",
       "    </tr>\n",
       "    <tr>\n",
       "      <td>22</td>\n",
       "      <td>Nagaland</td>\n",
       "      <td>25.666998</td>\n",
       "      <td>94.116570</td>\n",
       "    </tr>\n",
       "    <tr>\n",
       "      <td>23</td>\n",
       "      <td>Odisha</td>\n",
       "      <td>19.820430</td>\n",
       "      <td>85.900017</td>\n",
       "    </tr>\n",
       "    <tr>\n",
       "      <td>24</td>\n",
       "      <td>Puducherry</td>\n",
       "      <td>11.934994</td>\n",
       "      <td>79.830000</td>\n",
       "    </tr>\n",
       "    <tr>\n",
       "      <td>25</td>\n",
       "      <td>Punjab</td>\n",
       "      <td>31.519974</td>\n",
       "      <td>75.980003</td>\n",
       "    </tr>\n",
       "    <tr>\n",
       "      <td>26</td>\n",
       "      <td>Rajasthan</td>\n",
       "      <td>26.449999</td>\n",
       "      <td>74.639981</td>\n",
       "    </tr>\n",
       "    <tr>\n",
       "      <td>27</td>\n",
       "      <td>Sikkim</td>\n",
       "      <td>27.333330</td>\n",
       "      <td>88.616647</td>\n",
       "    </tr>\n",
       "    <tr>\n",
       "      <td>28</td>\n",
       "      <td>Telengana</td>\n",
       "      <td>18.112400</td>\n",
       "      <td>79.019300</td>\n",
       "    </tr>\n",
       "    <tr>\n",
       "      <td>29</td>\n",
       "      <td>Tamil Nadu</td>\n",
       "      <td>12.920386</td>\n",
       "      <td>79.150042</td>\n",
       "    </tr>\n",
       "    <tr>\n",
       "      <td>30</td>\n",
       "      <td>Tripura</td>\n",
       "      <td>23.835404</td>\n",
       "      <td>91.279999</td>\n",
       "    </tr>\n",
       "    <tr>\n",
       "      <td>31</td>\n",
       "      <td>Uttar Pradesh</td>\n",
       "      <td>27.599981</td>\n",
       "      <td>78.050006</td>\n",
       "    </tr>\n",
       "    <tr>\n",
       "      <td>32</td>\n",
       "      <td>Uttarakhand</td>\n",
       "      <td>30.320409</td>\n",
       "      <td>78.050006</td>\n",
       "    </tr>\n",
       "    <tr>\n",
       "      <td>33</td>\n",
       "      <td>West Bengal</td>\n",
       "      <td>22.580390</td>\n",
       "      <td>88.329947</td>\n",
       "    </tr>\n",
       "    <tr>\n",
       "      <td>34</td>\n",
       "      <td>Ladakh</td>\n",
       "      <td>34.100000</td>\n",
       "      <td>77.340000</td>\n",
       "    </tr>\n",
       "  </tbody>\n",
       "</table>\n",
       "</div>"
      ],
      "text/plain": [
       "              Name of State / UT   Latitude  Longitude\n",
       "0   Andaman and Nicobar Islands   11.667026  92.735983\n",
       "1                 Andhra Pradesh  14.750429  78.570026\n",
       "2             Arunachal Pradesh   27.100399  93.616601\n",
       "3                         Assam   26.749981  94.216667\n",
       "4                          Bihar  25.785414  87.479973\n",
       "5                     Chandigarh  30.719997  76.780006\n",
       "6                   Chhattisgarh  22.090420  82.159987\n",
       "7        Dadra And Nagar Haveli   20.266578  73.016618\n",
       "8                          Delhi  28.669993  77.230004\n",
       "9                            Goa  15.491997  73.818001\n",
       "10                       Haryana  28.450006  77.019991\n",
       "11             Himachal Pradesh   31.100025  77.166597\n",
       "12             Jammu and Kashmir  33.450000  76.240000\n",
       "13                    Jharkhand   23.800393  86.419986\n",
       "14                     Karnataka  12.570381  76.919997\n",
       "15                        Kerala   8.900373  76.569993\n",
       "16                  Lakshadweep   10.562573  72.636867\n",
       "17                Madhya Pradesh  21.300391  76.130019\n",
       "18                   Maharashtra  19.250232  73.160175\n",
       "19                       Manipur  24.799971  93.950017\n",
       "20                    Meghalaya   25.570492  91.880014\n",
       "21                       Mizoram  23.710399  92.720015\n",
       "22                     Nagaland   25.666998  94.116570\n",
       "23                        Odisha  19.820430  85.900017\n",
       "24                    Puducherry  11.934994  79.830000\n",
       "25                        Punjab  31.519974  75.980003\n",
       "26                     Rajasthan  26.449999  74.639981\n",
       "27                       Sikkim   27.333330  88.616647\n",
       "28                     Telengana  18.112400  79.019300\n",
       "29                    Tamil Nadu  12.920386  79.150042\n",
       "30                      Tripura   23.835404  91.279999\n",
       "31                 Uttar Pradesh  27.599981  78.050006\n",
       "32                   Uttarakhand  30.320409  78.050006\n",
       "33                   West Bengal  22.580390  88.329947\n",
       "34                        Ladakh  34.100000  77.340000"
      ]
     },
     "execution_count": 41,
     "metadata": {},
     "output_type": "execute_result"
    }
   ],
   "source": [
    "Indian_Cord=pd.read_excel(\"Indian Coordinates.xlsx\")\n",
    "Indian_Cord\n"
   ]
  },
  {
   "cell_type": "code",
   "execution_count": 42,
   "metadata": {},
   "outputs": [
    {
     "data": {
      "text/html": [
       "<div>\n",
       "<style scoped>\n",
       "    .dataframe tbody tr th:only-of-type {\n",
       "        vertical-align: middle;\n",
       "    }\n",
       "\n",
       "    .dataframe tbody tr th {\n",
       "        vertical-align: top;\n",
       "    }\n",
       "\n",
       "    .dataframe thead th {\n",
       "        text-align: right;\n",
       "    }\n",
       "</style>\n",
       "<table border=\"1\" class=\"dataframe\">\n",
       "  <thead>\n",
       "    <tr style=\"text-align: right;\">\n",
       "      <th></th>\n",
       "      <th>Name of State / UT</th>\n",
       "      <th>Active Cases</th>\n",
       "      <th>Cured/Discharged/Migrated</th>\n",
       "      <th>Deaths</th>\n",
       "      <th>Total Confirmed cases</th>\n",
       "    </tr>\n",
       "  </thead>\n",
       "  <tbody>\n",
       "    <tr>\n",
       "      <td>0</td>\n",
       "      <td>Andaman and Nicobar Islands</td>\n",
       "      <td>46</td>\n",
       "      <td>130</td>\n",
       "      <td>0</td>\n",
       "      <td>176</td>\n",
       "    </tr>\n",
       "    <tr>\n",
       "      <td>1</td>\n",
       "      <td>Andhra Pradesh</td>\n",
       "      <td>16621</td>\n",
       "      <td>18378</td>\n",
       "      <td>452</td>\n",
       "      <td>35451</td>\n",
       "    </tr>\n",
       "    <tr>\n",
       "      <td>2</td>\n",
       "      <td>Arunachal Pradesh</td>\n",
       "      <td>306</td>\n",
       "      <td>153</td>\n",
       "      <td>3</td>\n",
       "      <td>462</td>\n",
       "    </tr>\n",
       "    <tr>\n",
       "      <td>3</td>\n",
       "      <td>Assam</td>\n",
       "      <td>6447</td>\n",
       "      <td>12173</td>\n",
       "      <td>46</td>\n",
       "      <td>18666</td>\n",
       "    </tr>\n",
       "    <tr>\n",
       "      <td>4</td>\n",
       "      <td>Bihar</td>\n",
       "      <td>6970</td>\n",
       "      <td>13462</td>\n",
       "      <td>180</td>\n",
       "      <td>20612</td>\n",
       "    </tr>\n",
       "    <tr>\n",
       "      <td>5</td>\n",
       "      <td>Chandigarh</td>\n",
       "      <td>155</td>\n",
       "      <td>459</td>\n",
       "      <td>11</td>\n",
       "      <td>625</td>\n",
       "    </tr>\n",
       "    <tr>\n",
       "      <td>6</td>\n",
       "      <td>Chhattisgarh</td>\n",
       "      <td>1195</td>\n",
       "      <td>3324</td>\n",
       "      <td>20</td>\n",
       "      <td>4539</td>\n",
       "    </tr>\n",
       "    <tr>\n",
       "      <td>7</td>\n",
       "      <td>Dadra and Nagar Haveli and Daman and Diu</td>\n",
       "      <td>180</td>\n",
       "      <td>357</td>\n",
       "      <td>2</td>\n",
       "      <td>539</td>\n",
       "    </tr>\n",
       "    <tr>\n",
       "      <td>8</td>\n",
       "      <td>Delhi</td>\n",
       "      <td>17807</td>\n",
       "      <td>95699</td>\n",
       "      <td>3487</td>\n",
       "      <td>116993</td>\n",
       "    </tr>\n",
       "    <tr>\n",
       "      <td>9</td>\n",
       "      <td>Goa</td>\n",
       "      <td>1259</td>\n",
       "      <td>1674</td>\n",
       "      <td>18</td>\n",
       "      <td>2951</td>\n",
       "    </tr>\n",
       "    <tr>\n",
       "      <td>10</td>\n",
       "      <td>Gujarat</td>\n",
       "      <td>11187</td>\n",
       "      <td>31286</td>\n",
       "      <td>2079</td>\n",
       "      <td>44552</td>\n",
       "    </tr>\n",
       "    <tr>\n",
       "      <td>11</td>\n",
       "      <td>Haryana</td>\n",
       "      <td>5320</td>\n",
       "      <td>17667</td>\n",
       "      <td>319</td>\n",
       "      <td>23306</td>\n",
       "    </tr>\n",
       "    <tr>\n",
       "      <td>12</td>\n",
       "      <td>Himachal Pradesh</td>\n",
       "      <td>351</td>\n",
       "      <td>979</td>\n",
       "      <td>11</td>\n",
       "      <td>1341</td>\n",
       "    </tr>\n",
       "    <tr>\n",
       "      <td>13</td>\n",
       "      <td>Jammu and Kashmir</td>\n",
       "      <td>5123</td>\n",
       "      <td>6337</td>\n",
       "      <td>206</td>\n",
       "      <td>11666</td>\n",
       "    </tr>\n",
       "    <tr>\n",
       "      <td>14</td>\n",
       "      <td>Jharkhand</td>\n",
       "      <td>1797</td>\n",
       "      <td>2485</td>\n",
       "      <td>38</td>\n",
       "      <td>4320</td>\n",
       "    </tr>\n",
       "    <tr>\n",
       "      <td>15</td>\n",
       "      <td>Karnataka</td>\n",
       "      <td>27859</td>\n",
       "      <td>18466</td>\n",
       "      <td>928</td>\n",
       "      <td>47253</td>\n",
       "    </tr>\n",
       "    <tr>\n",
       "      <td>16</td>\n",
       "      <td>Kerala</td>\n",
       "      <td>4884</td>\n",
       "      <td>4634</td>\n",
       "      <td>35</td>\n",
       "      <td>9553</td>\n",
       "    </tr>\n",
       "    <tr>\n",
       "      <td>17</td>\n",
       "      <td>Ladakh</td>\n",
       "      <td>177</td>\n",
       "      <td>964</td>\n",
       "      <td>1</td>\n",
       "      <td>1142</td>\n",
       "    </tr>\n",
       "    <tr>\n",
       "      <td>18</td>\n",
       "      <td>Madhya Pradesh</td>\n",
       "      <td>5053</td>\n",
       "      <td>13908</td>\n",
       "      <td>682</td>\n",
       "      <td>19643</td>\n",
       "    </tr>\n",
       "    <tr>\n",
       "      <td>19</td>\n",
       "      <td>Maharashtra</td>\n",
       "      <td>112099</td>\n",
       "      <td>152613</td>\n",
       "      <td>10928</td>\n",
       "      <td>275640</td>\n",
       "    </tr>\n",
       "    <tr>\n",
       "      <td>20</td>\n",
       "      <td>Manipur</td>\n",
       "      <td>711</td>\n",
       "      <td>989</td>\n",
       "      <td>0</td>\n",
       "      <td>1700</td>\n",
       "    </tr>\n",
       "    <tr>\n",
       "      <td>21</td>\n",
       "      <td>Meghalaya</td>\n",
       "      <td>278</td>\n",
       "      <td>66</td>\n",
       "      <td>2</td>\n",
       "      <td>346</td>\n",
       "    </tr>\n",
       "    <tr>\n",
       "      <td>22</td>\n",
       "      <td>Mizoram</td>\n",
       "      <td>79</td>\n",
       "      <td>159</td>\n",
       "      <td>0</td>\n",
       "      <td>238</td>\n",
       "    </tr>\n",
       "    <tr>\n",
       "      <td>23</td>\n",
       "      <td>Nagaland</td>\n",
       "      <td>554</td>\n",
       "      <td>348</td>\n",
       "      <td>0</td>\n",
       "      <td>902</td>\n",
       "    </tr>\n",
       "    <tr>\n",
       "      <td>24</td>\n",
       "      <td>Odisha</td>\n",
       "      <td>4345</td>\n",
       "      <td>10476</td>\n",
       "      <td>77</td>\n",
       "      <td>14898</td>\n",
       "    </tr>\n",
       "    <tr>\n",
       "      <td>25</td>\n",
       "      <td>Puducherry</td>\n",
       "      <td>686</td>\n",
       "      <td>889</td>\n",
       "      <td>21</td>\n",
       "      <td>1596</td>\n",
       "    </tr>\n",
       "    <tr>\n",
       "      <td>26</td>\n",
       "      <td>Punjab</td>\n",
       "      <td>2711</td>\n",
       "      <td>5867</td>\n",
       "      <td>221</td>\n",
       "      <td>8799</td>\n",
       "    </tr>\n",
       "    <tr>\n",
       "      <td>27</td>\n",
       "      <td>Rajasthan</td>\n",
       "      <td>6405</td>\n",
       "      <td>19502</td>\n",
       "      <td>530</td>\n",
       "      <td>26437</td>\n",
       "    </tr>\n",
       "    <tr>\n",
       "      <td>28</td>\n",
       "      <td>Sikkim</td>\n",
       "      <td>133</td>\n",
       "      <td>87</td>\n",
       "      <td>0</td>\n",
       "      <td>220</td>\n",
       "    </tr>\n",
       "    <tr>\n",
       "      <td>29</td>\n",
       "      <td>Tamil Nadu</td>\n",
       "      <td>47343</td>\n",
       "      <td>102310</td>\n",
       "      <td>2167</td>\n",
       "      <td>151820</td>\n",
       "    </tr>\n",
       "    <tr>\n",
       "      <td>30</td>\n",
       "      <td>Telangana</td>\n",
       "      <td>12957</td>\n",
       "      <td>25999</td>\n",
       "      <td>386</td>\n",
       "      <td>39342</td>\n",
       "    </tr>\n",
       "    <tr>\n",
       "      <td>31</td>\n",
       "      <td>Tripura</td>\n",
       "      <td>661</td>\n",
       "      <td>1604</td>\n",
       "      <td>3</td>\n",
       "      <td>2268</td>\n",
       "    </tr>\n",
       "    <tr>\n",
       "      <td>32</td>\n",
       "      <td>Uttarakhand</td>\n",
       "      <td>787</td>\n",
       "      <td>2948</td>\n",
       "      <td>50</td>\n",
       "      <td>3785</td>\n",
       "    </tr>\n",
       "    <tr>\n",
       "      <td>33</td>\n",
       "      <td>Uttar Pradesh</td>\n",
       "      <td>14628</td>\n",
       "      <td>25743</td>\n",
       "      <td>1012</td>\n",
       "      <td>41383</td>\n",
       "    </tr>\n",
       "    <tr>\n",
       "      <td>34</td>\n",
       "      <td>West Bengal</td>\n",
       "      <td>12747</td>\n",
       "      <td>20680</td>\n",
       "      <td>1000</td>\n",
       "      <td>34427</td>\n",
       "    </tr>\n",
       "  </tbody>\n",
       "</table>\n",
       "</div>"
      ],
      "text/plain": [
       "                          Name of State / UT  Active Cases  \\\n",
       "0                Andaman and Nicobar Islands            46   \n",
       "1                             Andhra Pradesh         16621   \n",
       "2                          Arunachal Pradesh           306   \n",
       "3                                      Assam          6447   \n",
       "4                                      Bihar          6970   \n",
       "5                                 Chandigarh           155   \n",
       "6                               Chhattisgarh          1195   \n",
       "7   Dadra and Nagar Haveli and Daman and Diu           180   \n",
       "8                                      Delhi         17807   \n",
       "9                                        Goa          1259   \n",
       "10                                   Gujarat         11187   \n",
       "11                                   Haryana          5320   \n",
       "12                          Himachal Pradesh           351   \n",
       "13                         Jammu and Kashmir          5123   \n",
       "14                                 Jharkhand          1797   \n",
       "15                                 Karnataka         27859   \n",
       "16                                    Kerala          4884   \n",
       "17                                    Ladakh           177   \n",
       "18                            Madhya Pradesh          5053   \n",
       "19                               Maharashtra        112099   \n",
       "20                                   Manipur           711   \n",
       "21                                 Meghalaya           278   \n",
       "22                                   Mizoram            79   \n",
       "23                                  Nagaland           554   \n",
       "24                                    Odisha          4345   \n",
       "25                                Puducherry           686   \n",
       "26                                    Punjab          2711   \n",
       "27                                 Rajasthan          6405   \n",
       "28                                    Sikkim           133   \n",
       "29                                Tamil Nadu         47343   \n",
       "30                                 Telangana         12957   \n",
       "31                                   Tripura           661   \n",
       "32                               Uttarakhand           787   \n",
       "33                             Uttar Pradesh         14628   \n",
       "34                               West Bengal         12747   \n",
       "\n",
       "    Cured/Discharged/Migrated  Deaths  Total Confirmed cases  \n",
       "0                         130       0                    176  \n",
       "1                       18378     452                  35451  \n",
       "2                         153       3                    462  \n",
       "3                       12173      46                  18666  \n",
       "4                       13462     180                  20612  \n",
       "5                         459      11                    625  \n",
       "6                        3324      20                   4539  \n",
       "7                         357       2                    539  \n",
       "8                       95699    3487                 116993  \n",
       "9                        1674      18                   2951  \n",
       "10                      31286    2079                  44552  \n",
       "11                      17667     319                  23306  \n",
       "12                        979      11                   1341  \n",
       "13                       6337     206                  11666  \n",
       "14                       2485      38                   4320  \n",
       "15                      18466     928                  47253  \n",
       "16                       4634      35                   9553  \n",
       "17                        964       1                   1142  \n",
       "18                      13908     682                  19643  \n",
       "19                     152613   10928                 275640  \n",
       "20                        989       0                   1700  \n",
       "21                         66       2                    346  \n",
       "22                        159       0                    238  \n",
       "23                        348       0                    902  \n",
       "24                      10476      77                  14898  \n",
       "25                        889      21                   1596  \n",
       "26                       5867     221                   8799  \n",
       "27                      19502     530                  26437  \n",
       "28                         87       0                    220  \n",
       "29                     102310    2167                 151820  \n",
       "30                      25999     386                  39342  \n",
       "31                       1604       3                   2268  \n",
       "32                       2948      50                   3785  \n",
       "33                      25743    1012                  41383  \n",
       "34                      20680    1000                  34427  "
      ]
     },
     "execution_count": 42,
     "metadata": {},
     "output_type": "execute_result"
    }
   ],
   "source": [
    "df"
   ]
  },
  {
   "cell_type": "code",
   "execution_count": 43,
   "metadata": {},
   "outputs": [],
   "source": [
    "df_full=pd.merge(Indian_Cord,df,on='Name of State / UT')"
   ]
  },
  {
   "cell_type": "code",
   "execution_count": 44,
   "metadata": {},
   "outputs": [
    {
     "data": {
      "text/html": [
       "<div>\n",
       "<style scoped>\n",
       "    .dataframe tbody tr th:only-of-type {\n",
       "        vertical-align: middle;\n",
       "    }\n",
       "\n",
       "    .dataframe tbody tr th {\n",
       "        vertical-align: top;\n",
       "    }\n",
       "\n",
       "    .dataframe thead th {\n",
       "        text-align: right;\n",
       "    }\n",
       "</style>\n",
       "<table border=\"1\" class=\"dataframe\">\n",
       "  <thead>\n",
       "    <tr style=\"text-align: right;\">\n",
       "      <th></th>\n",
       "      <th>Name of State / UT</th>\n",
       "      <th>Latitude</th>\n",
       "      <th>Longitude</th>\n",
       "      <th>Active Cases</th>\n",
       "      <th>Cured/Discharged/Migrated</th>\n",
       "      <th>Deaths</th>\n",
       "      <th>Total Confirmed cases</th>\n",
       "    </tr>\n",
       "  </thead>\n",
       "  <tbody>\n",
       "    <tr>\n",
       "      <td>0</td>\n",
       "      <td>Andhra Pradesh</td>\n",
       "      <td>14.750429</td>\n",
       "      <td>78.570026</td>\n",
       "      <td>16621</td>\n",
       "      <td>18378</td>\n",
       "      <td>452</td>\n",
       "      <td>35451</td>\n",
       "    </tr>\n",
       "    <tr>\n",
       "      <td>1</td>\n",
       "      <td>Bihar</td>\n",
       "      <td>25.785414</td>\n",
       "      <td>87.479973</td>\n",
       "      <td>6970</td>\n",
       "      <td>13462</td>\n",
       "      <td>180</td>\n",
       "      <td>20612</td>\n",
       "    </tr>\n",
       "    <tr>\n",
       "      <td>2</td>\n",
       "      <td>Chandigarh</td>\n",
       "      <td>30.719997</td>\n",
       "      <td>76.780006</td>\n",
       "      <td>155</td>\n",
       "      <td>459</td>\n",
       "      <td>11</td>\n",
       "      <td>625</td>\n",
       "    </tr>\n",
       "    <tr>\n",
       "      <td>3</td>\n",
       "      <td>Chhattisgarh</td>\n",
       "      <td>22.090420</td>\n",
       "      <td>82.159987</td>\n",
       "      <td>1195</td>\n",
       "      <td>3324</td>\n",
       "      <td>20</td>\n",
       "      <td>4539</td>\n",
       "    </tr>\n",
       "    <tr>\n",
       "      <td>4</td>\n",
       "      <td>Delhi</td>\n",
       "      <td>28.669993</td>\n",
       "      <td>77.230004</td>\n",
       "      <td>17807</td>\n",
       "      <td>95699</td>\n",
       "      <td>3487</td>\n",
       "      <td>116993</td>\n",
       "    </tr>\n",
       "    <tr>\n",
       "      <td>5</td>\n",
       "      <td>Goa</td>\n",
       "      <td>15.491997</td>\n",
       "      <td>73.818001</td>\n",
       "      <td>1259</td>\n",
       "      <td>1674</td>\n",
       "      <td>18</td>\n",
       "      <td>2951</td>\n",
       "    </tr>\n",
       "    <tr>\n",
       "      <td>6</td>\n",
       "      <td>Haryana</td>\n",
       "      <td>28.450006</td>\n",
       "      <td>77.019991</td>\n",
       "      <td>5320</td>\n",
       "      <td>17667</td>\n",
       "      <td>319</td>\n",
       "      <td>23306</td>\n",
       "    </tr>\n",
       "    <tr>\n",
       "      <td>7</td>\n",
       "      <td>Jammu and Kashmir</td>\n",
       "      <td>33.450000</td>\n",
       "      <td>76.240000</td>\n",
       "      <td>5123</td>\n",
       "      <td>6337</td>\n",
       "      <td>206</td>\n",
       "      <td>11666</td>\n",
       "    </tr>\n",
       "    <tr>\n",
       "      <td>8</td>\n",
       "      <td>Karnataka</td>\n",
       "      <td>12.570381</td>\n",
       "      <td>76.919997</td>\n",
       "      <td>27859</td>\n",
       "      <td>18466</td>\n",
       "      <td>928</td>\n",
       "      <td>47253</td>\n",
       "    </tr>\n",
       "    <tr>\n",
       "      <td>9</td>\n",
       "      <td>Kerala</td>\n",
       "      <td>8.900373</td>\n",
       "      <td>76.569993</td>\n",
       "      <td>4884</td>\n",
       "      <td>4634</td>\n",
       "      <td>35</td>\n",
       "      <td>9553</td>\n",
       "    </tr>\n",
       "    <tr>\n",
       "      <td>10</td>\n",
       "      <td>Madhya Pradesh</td>\n",
       "      <td>21.300391</td>\n",
       "      <td>76.130019</td>\n",
       "      <td>5053</td>\n",
       "      <td>13908</td>\n",
       "      <td>682</td>\n",
       "      <td>19643</td>\n",
       "    </tr>\n",
       "    <tr>\n",
       "      <td>11</td>\n",
       "      <td>Maharashtra</td>\n",
       "      <td>19.250232</td>\n",
       "      <td>73.160175</td>\n",
       "      <td>112099</td>\n",
       "      <td>152613</td>\n",
       "      <td>10928</td>\n",
       "      <td>275640</td>\n",
       "    </tr>\n",
       "    <tr>\n",
       "      <td>12</td>\n",
       "      <td>Manipur</td>\n",
       "      <td>24.799971</td>\n",
       "      <td>93.950017</td>\n",
       "      <td>711</td>\n",
       "      <td>989</td>\n",
       "      <td>0</td>\n",
       "      <td>1700</td>\n",
       "    </tr>\n",
       "    <tr>\n",
       "      <td>13</td>\n",
       "      <td>Mizoram</td>\n",
       "      <td>23.710399</td>\n",
       "      <td>92.720015</td>\n",
       "      <td>79</td>\n",
       "      <td>159</td>\n",
       "      <td>0</td>\n",
       "      <td>238</td>\n",
       "    </tr>\n",
       "    <tr>\n",
       "      <td>14</td>\n",
       "      <td>Odisha</td>\n",
       "      <td>19.820430</td>\n",
       "      <td>85.900017</td>\n",
       "      <td>4345</td>\n",
       "      <td>10476</td>\n",
       "      <td>77</td>\n",
       "      <td>14898</td>\n",
       "    </tr>\n",
       "    <tr>\n",
       "      <td>15</td>\n",
       "      <td>Puducherry</td>\n",
       "      <td>11.934994</td>\n",
       "      <td>79.830000</td>\n",
       "      <td>686</td>\n",
       "      <td>889</td>\n",
       "      <td>21</td>\n",
       "      <td>1596</td>\n",
       "    </tr>\n",
       "    <tr>\n",
       "      <td>16</td>\n",
       "      <td>Punjab</td>\n",
       "      <td>31.519974</td>\n",
       "      <td>75.980003</td>\n",
       "      <td>2711</td>\n",
       "      <td>5867</td>\n",
       "      <td>221</td>\n",
       "      <td>8799</td>\n",
       "    </tr>\n",
       "    <tr>\n",
       "      <td>17</td>\n",
       "      <td>Rajasthan</td>\n",
       "      <td>26.449999</td>\n",
       "      <td>74.639981</td>\n",
       "      <td>6405</td>\n",
       "      <td>19502</td>\n",
       "      <td>530</td>\n",
       "      <td>26437</td>\n",
       "    </tr>\n",
       "    <tr>\n",
       "      <td>18</td>\n",
       "      <td>Tamil Nadu</td>\n",
       "      <td>12.920386</td>\n",
       "      <td>79.150042</td>\n",
       "      <td>47343</td>\n",
       "      <td>102310</td>\n",
       "      <td>2167</td>\n",
       "      <td>151820</td>\n",
       "    </tr>\n",
       "    <tr>\n",
       "      <td>19</td>\n",
       "      <td>Uttar Pradesh</td>\n",
       "      <td>27.599981</td>\n",
       "      <td>78.050006</td>\n",
       "      <td>14628</td>\n",
       "      <td>25743</td>\n",
       "      <td>1012</td>\n",
       "      <td>41383</td>\n",
       "    </tr>\n",
       "    <tr>\n",
       "      <td>20</td>\n",
       "      <td>Uttarakhand</td>\n",
       "      <td>30.320409</td>\n",
       "      <td>78.050006</td>\n",
       "      <td>787</td>\n",
       "      <td>2948</td>\n",
       "      <td>50</td>\n",
       "      <td>3785</td>\n",
       "    </tr>\n",
       "    <tr>\n",
       "      <td>21</td>\n",
       "      <td>West Bengal</td>\n",
       "      <td>22.580390</td>\n",
       "      <td>88.329947</td>\n",
       "      <td>12747</td>\n",
       "      <td>20680</td>\n",
       "      <td>1000</td>\n",
       "      <td>34427</td>\n",
       "    </tr>\n",
       "    <tr>\n",
       "      <td>22</td>\n",
       "      <td>Ladakh</td>\n",
       "      <td>34.100000</td>\n",
       "      <td>77.340000</td>\n",
       "      <td>177</td>\n",
       "      <td>964</td>\n",
       "      <td>1</td>\n",
       "      <td>1142</td>\n",
       "    </tr>\n",
       "  </tbody>\n",
       "</table>\n",
       "</div>"
      ],
      "text/plain": [
       "   Name of State / UT   Latitude  Longitude  Active Cases  \\\n",
       "0      Andhra Pradesh  14.750429  78.570026         16621   \n",
       "1               Bihar  25.785414  87.479973          6970   \n",
       "2          Chandigarh  30.719997  76.780006           155   \n",
       "3        Chhattisgarh  22.090420  82.159987          1195   \n",
       "4               Delhi  28.669993  77.230004         17807   \n",
       "5                 Goa  15.491997  73.818001          1259   \n",
       "6             Haryana  28.450006  77.019991          5320   \n",
       "7   Jammu and Kashmir  33.450000  76.240000          5123   \n",
       "8           Karnataka  12.570381  76.919997         27859   \n",
       "9              Kerala   8.900373  76.569993          4884   \n",
       "10     Madhya Pradesh  21.300391  76.130019          5053   \n",
       "11        Maharashtra  19.250232  73.160175        112099   \n",
       "12            Manipur  24.799971  93.950017           711   \n",
       "13            Mizoram  23.710399  92.720015            79   \n",
       "14             Odisha  19.820430  85.900017          4345   \n",
       "15         Puducherry  11.934994  79.830000           686   \n",
       "16             Punjab  31.519974  75.980003          2711   \n",
       "17          Rajasthan  26.449999  74.639981          6405   \n",
       "18         Tamil Nadu  12.920386  79.150042         47343   \n",
       "19      Uttar Pradesh  27.599981  78.050006         14628   \n",
       "20        Uttarakhand  30.320409  78.050006           787   \n",
       "21        West Bengal  22.580390  88.329947         12747   \n",
       "22             Ladakh  34.100000  77.340000           177   \n",
       "\n",
       "    Cured/Discharged/Migrated  Deaths  Total Confirmed cases  \n",
       "0                       18378     452                  35451  \n",
       "1                       13462     180                  20612  \n",
       "2                         459      11                    625  \n",
       "3                        3324      20                   4539  \n",
       "4                       95699    3487                 116993  \n",
       "5                        1674      18                   2951  \n",
       "6                       17667     319                  23306  \n",
       "7                        6337     206                  11666  \n",
       "8                       18466     928                  47253  \n",
       "9                        4634      35                   9553  \n",
       "10                      13908     682                  19643  \n",
       "11                     152613   10928                 275640  \n",
       "12                        989       0                   1700  \n",
       "13                        159       0                    238  \n",
       "14                      10476      77                  14898  \n",
       "15                        889      21                   1596  \n",
       "16                       5867     221                   8799  \n",
       "17                      19502     530                  26437  \n",
       "18                     102310    2167                 151820  \n",
       "19                      25743    1012                  41383  \n",
       "20                       2948      50                   3785  \n",
       "21                      20680    1000                  34427  \n",
       "22                        964       1                   1142  "
      ]
     },
     "execution_count": 44,
     "metadata": {},
     "output_type": "execute_result"
    }
   ],
   "source": [
    "df_full"
   ]
  },
  {
   "cell_type": "code",
   "execution_count": 45,
   "metadata": {},
   "outputs": [],
   "source": [
    "map=folium.Map(location=[20,70],zoom_start=4,tiles='Stamenterrain')\n",
    "\n",
    "for lat,long,value, name in zip(df_full['Latitude'],df_full['Longitude'],df_full['Total Confirmed cases'],df_full['Name of State / UT']):\n",
    "    folium.CircleMarker([lat,long],radius=value*0.0009,popup=('<strong>State</strong>: '+str(name).capitalize()+'<br>''<strong>Total Cases</strong>: ' + str(value)+ '<br>'),color='red',fill_color='red',fill_opacity=0.2).add_to(map)\n",
    "    "
   ]
  },
  {
   "cell_type": "code",
   "execution_count": 46,
   "metadata": {},
   "outputs": [
    {
     "data": {
      "text/html": [
       "<div style=\"width:100%;\"><div style=\"position:relative;width:100%;height:0;padding-bottom:60%;\"><span style=\"color:#565656\">Make this Notebook Trusted to load map: File -> Trust Notebook</span><iframe src=\"about:blank\" style=\"position:absolute;width:100%;height:100%;left:0;top:0;border:none !important;\" data-html=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 onload=\"this.contentDocument.open();this.contentDocument.write(atob(this.getAttribute('data-html')));this.contentDocument.close();\" allowfullscreen webkitallowfullscreen mozallowfullscreen></iframe></div></div>"
      ],
      "text/plain": [
       "<folium.folium.Map at 0x1c57f8e2788>"
      ]
     },
     "execution_count": 46,
     "metadata": {},
     "output_type": "execute_result"
    }
   ],
   "source": [
    "map"
   ]
  },
  {
   "cell_type": "code",
   "execution_count": 47,
   "metadata": {},
   "outputs": [],
   "source": [
    "fd = pd.read_csv(\"covid_19_data(1st three months).csv\")"
   ]
  },
  {
   "cell_type": "code",
   "execution_count": 48,
   "metadata": {},
   "outputs": [
    {
     "data": {
      "text/html": [
       "<div>\n",
       "<style scoped>\n",
       "    .dataframe tbody tr th:only-of-type {\n",
       "        vertical-align: middle;\n",
       "    }\n",
       "\n",
       "    .dataframe tbody tr th {\n",
       "        vertical-align: top;\n",
       "    }\n",
       "\n",
       "    .dataframe thead th {\n",
       "        text-align: right;\n",
       "    }\n",
       "</style>\n",
       "<table border=\"1\" class=\"dataframe\">\n",
       "  <thead>\n",
       "    <tr style=\"text-align: right;\">\n",
       "      <th></th>\n",
       "      <th>SNo</th>\n",
       "      <th>Date</th>\n",
       "      <th>Province/State</th>\n",
       "      <th>Country</th>\n",
       "      <th>Last Update</th>\n",
       "      <th>Confirmed</th>\n",
       "      <th>Deaths</th>\n",
       "      <th>Recovered</th>\n",
       "    </tr>\n",
       "  </thead>\n",
       "  <tbody>\n",
       "    <tr>\n",
       "      <td>0</td>\n",
       "      <td>1</td>\n",
       "      <td>01/22/2020</td>\n",
       "      <td>Anhui</td>\n",
       "      <td>Mainland China</td>\n",
       "      <td>1/22/2020 17:00</td>\n",
       "      <td>1.0</td>\n",
       "      <td>0.0</td>\n",
       "      <td>0.0</td>\n",
       "    </tr>\n",
       "    <tr>\n",
       "      <td>1</td>\n",
       "      <td>2</td>\n",
       "      <td>01/22/2020</td>\n",
       "      <td>Beijing</td>\n",
       "      <td>Mainland China</td>\n",
       "      <td>1/22/2020 17:00</td>\n",
       "      <td>14.0</td>\n",
       "      <td>0.0</td>\n",
       "      <td>0.0</td>\n",
       "    </tr>\n",
       "    <tr>\n",
       "      <td>2</td>\n",
       "      <td>3</td>\n",
       "      <td>01/22/2020</td>\n",
       "      <td>Chongqing</td>\n",
       "      <td>Mainland China</td>\n",
       "      <td>1/22/2020 17:00</td>\n",
       "      <td>6.0</td>\n",
       "      <td>0.0</td>\n",
       "      <td>0.0</td>\n",
       "    </tr>\n",
       "    <tr>\n",
       "      <td>3</td>\n",
       "      <td>4</td>\n",
       "      <td>01/22/2020</td>\n",
       "      <td>Fujian</td>\n",
       "      <td>Mainland China</td>\n",
       "      <td>1/22/2020 17:00</td>\n",
       "      <td>1.0</td>\n",
       "      <td>0.0</td>\n",
       "      <td>0.0</td>\n",
       "    </tr>\n",
       "    <tr>\n",
       "      <td>4</td>\n",
       "      <td>5</td>\n",
       "      <td>01/22/2020</td>\n",
       "      <td>Gansu</td>\n",
       "      <td>Mainland China</td>\n",
       "      <td>1/22/2020 17:00</td>\n",
       "      <td>0.0</td>\n",
       "      <td>0.0</td>\n",
       "      <td>0.0</td>\n",
       "    </tr>\n",
       "  </tbody>\n",
       "</table>\n",
       "</div>"
      ],
      "text/plain": [
       "   SNo        Date Province/State         Country      Last Update  Confirmed  \\\n",
       "0    1  01/22/2020          Anhui  Mainland China  1/22/2020 17:00        1.0   \n",
       "1    2  01/22/2020        Beijing  Mainland China  1/22/2020 17:00       14.0   \n",
       "2    3  01/22/2020      Chongqing  Mainland China  1/22/2020 17:00        6.0   \n",
       "3    4  01/22/2020         Fujian  Mainland China  1/22/2020 17:00        1.0   \n",
       "4    5  01/22/2020          Gansu  Mainland China  1/22/2020 17:00        0.0   \n",
       "\n",
       "   Deaths  Recovered  \n",
       "0     0.0        0.0  \n",
       "1     0.0        0.0  \n",
       "2     0.0        0.0  \n",
       "3     0.0        0.0  \n",
       "4     0.0        0.0  "
      ]
     },
     "execution_count": 48,
     "metadata": {},
     "output_type": "execute_result"
    }
   ],
   "source": [
    "fd = fd.rename(columns={'Country/Region':'Country'})\n",
    "fd = fd.rename(columns={'ObservationDate':'Date'})\n",
    "fd.head()"
   ]
  },
  {
   "cell_type": "code",
   "execution_count": 49,
   "metadata": {},
   "outputs": [
    {
     "data": {
      "text/html": [
       "<div>\n",
       "<style scoped>\n",
       "    .dataframe tbody tr th:only-of-type {\n",
       "        vertical-align: middle;\n",
       "    }\n",
       "\n",
       "    .dataframe tbody tr th {\n",
       "        vertical-align: top;\n",
       "    }\n",
       "\n",
       "    .dataframe thead th {\n",
       "        text-align: right;\n",
       "    }\n",
       "</style>\n",
       "<table border=\"1\" class=\"dataframe\">\n",
       "  <thead>\n",
       "    <tr style=\"text-align: right;\">\n",
       "      <th></th>\n",
       "      <th>Country</th>\n",
       "      <th>Date</th>\n",
       "      <th>Confirmed</th>\n",
       "      <th>Deaths</th>\n",
       "      <th>Last Update</th>\n",
       "      <th>Recovered</th>\n",
       "      <th>SNo</th>\n",
       "    </tr>\n",
       "  </thead>\n",
       "  <tbody>\n",
       "    <tr>\n",
       "      <td>0</td>\n",
       "      <td>Azerbaijan</td>\n",
       "      <td>02/28/2020</td>\n",
       "      <td>1.0</td>\n",
       "      <td>0.0</td>\n",
       "      <td>2020-02-28T15:03:26</td>\n",
       "      <td>0.0</td>\n",
       "      <td>2664</td>\n",
       "    </tr>\n",
       "    <tr>\n",
       "      <td>1</td>\n",
       "      <td>('St. Martin',)</td>\n",
       "      <td>03/10/2020</td>\n",
       "      <td>2.0</td>\n",
       "      <td>0.0</td>\n",
       "      <td>2020-03-10T05:33:02</td>\n",
       "      <td>0.0</td>\n",
       "      <td>4675</td>\n",
       "    </tr>\n",
       "    <tr>\n",
       "      <td>2</td>\n",
       "      <td>Afghanistan</td>\n",
       "      <td>02/24/2020</td>\n",
       "      <td>1.0</td>\n",
       "      <td>0.0</td>\n",
       "      <td>2020-02-24T23:33:02</td>\n",
       "      <td>0.0</td>\n",
       "      <td>2259</td>\n",
       "    </tr>\n",
       "    <tr>\n",
       "      <td>3</td>\n",
       "      <td>Afghanistan</td>\n",
       "      <td>02/25/2020</td>\n",
       "      <td>1.0</td>\n",
       "      <td>0.0</td>\n",
       "      <td>2020-02-24T23:33:02</td>\n",
       "      <td>0.0</td>\n",
       "      <td>2352</td>\n",
       "    </tr>\n",
       "    <tr>\n",
       "      <td>4</td>\n",
       "      <td>Afghanistan</td>\n",
       "      <td>02/26/2020</td>\n",
       "      <td>1.0</td>\n",
       "      <td>0.0</td>\n",
       "      <td>2020-02-24T23:33:02</td>\n",
       "      <td>0.0</td>\n",
       "      <td>2453</td>\n",
       "    </tr>\n",
       "  </tbody>\n",
       "</table>\n",
       "</div>"
      ],
      "text/plain": [
       "           Country        Date  Confirmed  Deaths          Last Update  \\\n",
       "0       Azerbaijan  02/28/2020        1.0     0.0  2020-02-28T15:03:26   \n",
       "1  ('St. Martin',)  03/10/2020        2.0     0.0  2020-03-10T05:33:02   \n",
       "2      Afghanistan  02/24/2020        1.0     0.0  2020-02-24T23:33:02   \n",
       "3      Afghanistan  02/25/2020        1.0     0.0  2020-02-24T23:33:02   \n",
       "4      Afghanistan  02/26/2020        1.0     0.0  2020-02-24T23:33:02   \n",
       "\n",
       "   Recovered   SNo  \n",
       "0        0.0  2664  \n",
       "1        0.0  4675  \n",
       "2        0.0  2259  \n",
       "3        0.0  2352  \n",
       "4        0.0  2453  "
      ]
     },
     "execution_count": 49,
     "metadata": {},
     "output_type": "execute_result"
    }
   ],
   "source": [
    "fd_countries = fd.groupby(['Country', 'Date']).max().reset_index() #.sort_values('Date', ascending=False)\n",
    "fd_countries.head()"
   ]
  },
  {
   "cell_type": "code",
   "execution_count": 50,
   "metadata": {},
   "outputs": [
    {
     "data": {
      "text/html": [
       "<div>\n",
       "<style scoped>\n",
       "    .dataframe tbody tr th:only-of-type {\n",
       "        vertical-align: middle;\n",
       "    }\n",
       "\n",
       "    .dataframe tbody tr th {\n",
       "        vertical-align: top;\n",
       "    }\n",
       "\n",
       "    .dataframe thead th {\n",
       "        text-align: right;\n",
       "    }\n",
       "</style>\n",
       "<table border=\"1\" class=\"dataframe\">\n",
       "  <thead>\n",
       "    <tr style=\"text-align: right;\">\n",
       "      <th></th>\n",
       "      <th>Country</th>\n",
       "      <th>Date</th>\n",
       "      <th>Confirmed</th>\n",
       "      <th>Deaths</th>\n",
       "      <th>Last Update</th>\n",
       "      <th>Recovered</th>\n",
       "      <th>SNo</th>\n",
       "    </tr>\n",
       "  </thead>\n",
       "  <tbody>\n",
       "    <tr>\n",
       "      <td>1454</td>\n",
       "      <td>Haiti</td>\n",
       "      <td>03/24/2020</td>\n",
       "      <td>7.0</td>\n",
       "      <td>0.0</td>\n",
       "      <td>2020-03-24 23:41:50</td>\n",
       "      <td>0.0</td>\n",
       "      <td>8275</td>\n",
       "    </tr>\n",
       "    <tr>\n",
       "      <td>1278</td>\n",
       "      <td>Georgia</td>\n",
       "      <td>03/24/2020</td>\n",
       "      <td>70.0</td>\n",
       "      <td>0.0</td>\n",
       "      <td>2020-03-24 23:41:50</td>\n",
       "      <td>9.0</td>\n",
       "      <td>8267</td>\n",
       "    </tr>\n",
       "    <tr>\n",
       "      <td>1449</td>\n",
       "      <td>Guyana</td>\n",
       "      <td>03/24/2020</td>\n",
       "      <td>5.0</td>\n",
       "      <td>1.0</td>\n",
       "      <td>2020-03-24 23:41:50</td>\n",
       "      <td>0.0</td>\n",
       "      <td>8274</td>\n",
       "    </tr>\n",
       "    <tr>\n",
       "      <td>1436</td>\n",
       "      <td>Guinea</td>\n",
       "      <td>03/24/2020</td>\n",
       "      <td>4.0</td>\n",
       "      <td>0.0</td>\n",
       "      <td>2020-03-24 23:41:50</td>\n",
       "      <td>0.0</td>\n",
       "      <td>8273</td>\n",
       "    </tr>\n",
       "    <tr>\n",
       "      <td>1416</td>\n",
       "      <td>Guatemala</td>\n",
       "      <td>03/24/2020</td>\n",
       "      <td>21.0</td>\n",
       "      <td>1.0</td>\n",
       "      <td>2020-03-24 23:41:50</td>\n",
       "      <td>0.0</td>\n",
       "      <td>8272</td>\n",
       "    </tr>\n",
       "    <tr>\n",
       "      <td>...</td>\n",
       "      <td>...</td>\n",
       "      <td>...</td>\n",
       "      <td>...</td>\n",
       "      <td>...</td>\n",
       "      <td>...</td>\n",
       "      <td>...</td>\n",
       "      <td>...</td>\n",
       "    </tr>\n",
       "    <tr>\n",
       "      <td>2889</td>\n",
       "      <td>Palestine</td>\n",
       "      <td>03/09/2020</td>\n",
       "      <td>22.0</td>\n",
       "      <td>0.0</td>\n",
       "      <td>2020-03-07T02:23:06</td>\n",
       "      <td>0.0</td>\n",
       "      <td>4322</td>\n",
       "    </tr>\n",
       "    <tr>\n",
       "      <td>4171</td>\n",
       "      <td>Vatican City</td>\n",
       "      <td>03/09/2020</td>\n",
       "      <td>1.0</td>\n",
       "      <td>0.0</td>\n",
       "      <td>2020-03-06T15:43:02</td>\n",
       "      <td>0.0</td>\n",
       "      <td>4507</td>\n",
       "    </tr>\n",
       "    <tr>\n",
       "      <td>3077</td>\n",
       "      <td>Republic of Ireland</td>\n",
       "      <td>03/08/2020</td>\n",
       "      <td>21.0</td>\n",
       "      <td>0.0</td>\n",
       "      <td>2020-03-08T21:03:03</td>\n",
       "      <td>0.0</td>\n",
       "      <td>4067</td>\n",
       "    </tr>\n",
       "    <tr>\n",
       "      <td>0</td>\n",
       "      <td>Azerbaijan</td>\n",
       "      <td>02/28/2020</td>\n",
       "      <td>1.0</td>\n",
       "      <td>0.0</td>\n",
       "      <td>2020-02-28T15:03:26</td>\n",
       "      <td>0.0</td>\n",
       "      <td>2664</td>\n",
       "    </tr>\n",
       "    <tr>\n",
       "      <td>2724</td>\n",
       "      <td>North Ireland</td>\n",
       "      <td>02/28/2020</td>\n",
       "      <td>1.0</td>\n",
       "      <td>0.0</td>\n",
       "      <td>2020-02-28T05:43:02</td>\n",
       "      <td>0.0</td>\n",
       "      <td>2685</td>\n",
       "    </tr>\n",
       "  </tbody>\n",
       "</table>\n",
       "<p>196 rows × 7 columns</p>\n",
       "</div>"
      ],
      "text/plain": [
       "                  Country        Date  Confirmed  Deaths          Last Update  \\\n",
       "1454                Haiti  03/24/2020        7.0     0.0  2020-03-24 23:41:50   \n",
       "1278              Georgia  03/24/2020       70.0     0.0  2020-03-24 23:41:50   \n",
       "1449               Guyana  03/24/2020        5.0     1.0  2020-03-24 23:41:50   \n",
       "1436               Guinea  03/24/2020        4.0     0.0  2020-03-24 23:41:50   \n",
       "1416            Guatemala  03/24/2020       21.0     1.0  2020-03-24 23:41:50   \n",
       "...                   ...         ...        ...     ...                  ...   \n",
       "2889            Palestine  03/09/2020       22.0     0.0  2020-03-07T02:23:06   \n",
       "4171         Vatican City  03/09/2020        1.0     0.0  2020-03-06T15:43:02   \n",
       "3077  Republic of Ireland  03/08/2020       21.0     0.0  2020-03-08T21:03:03   \n",
       "0              Azerbaijan  02/28/2020        1.0     0.0  2020-02-28T15:03:26   \n",
       "2724        North Ireland  02/28/2020        1.0     0.0  2020-02-28T05:43:02   \n",
       "\n",
       "      Recovered   SNo  \n",
       "1454        0.0  8275  \n",
       "1278        9.0  8267  \n",
       "1449        0.0  8274  \n",
       "1436        0.0  8273  \n",
       "1416        0.0  8272  \n",
       "...         ...   ...  \n",
       "2889        0.0  4322  \n",
       "4171        0.0  4507  \n",
       "3077        0.0  4067  \n",
       "0           0.0  2664  \n",
       "2724        0.0  2685  \n",
       "\n",
       "[196 rows x 7 columns]"
      ]
     },
     "execution_count": 50,
     "metadata": {},
     "output_type": "execute_result"
    }
   ],
   "source": [
    "fd_countries = fd.groupby(['Country', 'Date']).max().reset_index() .sort_values('Date', ascending=False)\n",
    "fd_countries = fd_countries.drop_duplicates(subset = ['Country'])\n",
    "fd_countries = fd_countries[fd_countries['Confirmed']>0]\n",
    "\n",
    "fd_countries"
   ]
  },
  {
   "cell_type": "code",
   "execution_count": 51,
   "metadata": {},
   "outputs": [],
   "source": [
    "data = dict(\n",
    "        type = 'choropleth',\n",
    "         locations = fd_countries['Country'],\n",
    "        locationmode = 'country names',\n",
    "        z = fd_countries['Confirmed'],\n",
    "        colorscale = 'reds',\n",
    "    colorbar={'title':'Confirmed cases'},\n",
    "   # reversescale = True,\n",
    "        marker_line_color = 'black',\n",
    "        marker_line_width = 0.5\n",
    ") "
   ]
  },
  {
   "cell_type": "code",
   "execution_count": 52,
   "metadata": {},
   "outputs": [],
   "source": [
    "layout = dict(\n",
    "   title_text = 'Covid-19 in First Three month',\n",
    "    title_x = 0.5,\n",
    "    geo=dict(\n",
    "        showframe = False,\n",
    "        showlakes = True,\n",
    "        showcoastlines = True,\n",
    "        showocean=False,\n",
    "        showrivers=True,\n",
    "        showsubunits =True,\n",
    "        projection = {'type':'natural earth'}\n",
    "    )\n",
    ")"
   ]
  },
  {
   "cell_type": "code",
   "execution_count": 53,
   "metadata": {},
   "outputs": [
    {
     "data": {
      "text/plain": [
       "{'title_text': 'Covid-19 in First Three month',\n",
       " 'title_x': 0.5,\n",
       " 'geo': {'showframe': False,\n",
       "  'showlakes': True,\n",
       "  'showcoastlines': True,\n",
       "  'showocean': False,\n",
       "  'showrivers': True,\n",
       "  'showsubunits': True,\n",
       "  'projection': {'type': 'natural earth'}}}"
      ]
     },
     "execution_count": 53,
     "metadata": {},
     "output_type": "execute_result"
    }
   ],
   "source": [
    "layout"
   ]
  },
  {
   "cell_type": "code",
   "execution_count": 54,
   "metadata": {},
   "outputs": [],
   "source": [
    "choromap = go.Figure(data = [data],layout = layout)"
   ]
  },
  {
   "cell_type": "code",
   "execution_count": 55,
   "metadata": {},
   "outputs": [
    {
     "data": {
      "application/vnd.plotly.v1+json": {
       "config": {
        "linkText": "Export to plot.ly",
        "plotlyServerURL": "https://plot.ly",
        "showLink": false
       },
       "data": [
        {
         "colorbar": {
          "title": {
           "text": "Confirmed cases"
          }
         },
         "colorscale": [
          [
           0,
           "rgb(255,245,240)"
          ],
          [
           0.125,
           "rgb(254,224,210)"
          ],
          [
           0.25,
           "rgb(252,187,161)"
          ],
          [
           0.375,
           "rgb(252,146,114)"
          ],
          [
           0.5,
           "rgb(251,106,74)"
          ],
          [
           0.625,
           "rgb(239,59,44)"
          ],
          [
           0.75,
           "rgb(203,24,29)"
          ],
          [
           0.875,
           "rgb(165,15,21)"
          ],
          [
           1,
           "rgb(103,0,13)"
          ]
         ],
         "locationmode": "country names",
         "locations": [
          "Haiti",
          "Georgia",
          "Guyana",
          "Guinea",
          "Guatemala",
          "Grenada",
          "Greece",
          "Sri Lanka",
          "Ghana",
          "Germany",
          "Venezuela",
          "Sudan",
          "Suriname",
          "Sweden",
          "Holy See",
          "Gambia",
          "Gabon",
          "France",
          "Uzbekistan",
          "Switzerland",
          "Syria",
          "Finland",
          "Taiwan",
          "Tanzania",
          "Fiji",
          "Ethiopia",
          "Papua New Guinea",
          "Honduras",
          "Kazakhstan",
          "Ireland",
          "Japan",
          "Antigua and Barbuda",
          "Senegal",
          "Serbia",
          "Jamaica",
          "Ivory Coast",
          "Italy",
          "Seychelles",
          "Singapore",
          "Israel",
          "Slovakia",
          "Argentina",
          "Spain",
          "Iraq",
          "Iran",
          "Slovenia",
          "Indonesia",
          "Somalia",
          "India",
          "South Africa",
          "Iceland",
          "Hungary",
          "Hong Kong",
          "Armenia",
          "Eswatini",
          "Estonia",
          "Thailand",
          "Brazil",
          "Turkey",
          "Cameroon",
          "Cambodia",
          "UK",
          "Azerbaijan",
          "Cabo Verde",
          "Bahamas",
          "Burkina Faso",
          "Bulgaria",
          "United Arab Emirates",
          "Brunei",
          "US",
          "Eritrea",
          "Uganda",
          "Bosnia and Herzegovina",
          "Bolivia",
          "Bhutan",
          "Benin",
          "Belize",
          "Belgium",
          "Ukraine",
          "Belarus",
          "Barbados",
          "Bangladesh",
          "Tunisia",
          "Canada",
          "Central African Republic",
          "Chad",
          "Equatorial Guinea",
          "El Salvador",
          "Egypt",
          "Australia",
          "Timor-Leste",
          "Uruguay",
          "Ecuador",
          "Dominican Republic",
          "Dominica",
          "Djibouti",
          "Denmark",
          "Togo",
          "Czech Republic",
          "Cyprus",
          "Cuba",
          "Croatia",
          "Trinidad and Tobago",
          "Costa Rica",
          "Congo (Kinshasa)",
          "Austria",
          "Congo (Brazzaville)",
          "Colombia",
          "Chile",
          "Jordan",
          "South Korea",
          "Bahrain",
          "Vietnam",
          "Nepal",
          "Russia",
          "Netherlands",
          "Rwanda",
          "Madagascar",
          "Algeria",
          "New Zealand",
          "Albania",
          "North Macedonia",
          "Nicaragua",
          "Saint Lucia",
          "Niger",
          "Philippines",
          "Saint Vincent and the Grenadines",
          "Luxembourg",
          "Nigeria",
          "Romania",
          "Afghanistan",
          "Mainland China",
          "Qatar",
          "Mongolia",
          "Zambia",
          "Moldova",
          "Montenegro",
          "Mexico",
          "Mauritius",
          "Morocco",
          "Mauritania",
          "Mozambique",
          "Malta",
          "Namibia",
          "Maldives",
          "Malaysia",
          "Portugal",
          "Poland",
          "Lithuania",
          "Macau",
          "Monaco",
          "Peru",
          "Kuwait",
          "Oman",
          "Latvia",
          "Lebanon",
          "Paraguay",
          "Pakistan",
          "Liberia",
          "Andorra",
          "Zimbabwe",
          "Libya",
          "Angola",
          "Kenya",
          "San Marino",
          "Saudi Arabia",
          "Norway",
          "Liechtenstein",
          "Laos",
          "Kyrgyzstan",
          "Panama",
          "Others",
          "Reunion",
          "East Timor",
          "Kosovo",
          "Cape Verde",
          "Martinique",
          "Guadeloupe",
          "Bahamas, The",
          "Gambia, The",
          "Mayotte",
          "French Guiana",
          "Aruba",
          "Curacao",
          "Cayman Islands",
          "Saint Barthelemy",
          "Channel Islands",
          "Gibraltar",
          "('St. Martin',)",
          "Faroe Islands",
          "St. Martin",
          "Palestine",
          "Vatican City",
          "Republic of Ireland",
          " Azerbaijan",
          "North Ireland"
         ],
         "marker": {
          "line": {
           "color": "black",
           "width": 0.5
          }
         },
         "type": "choropleth",
         "z": [
          7,
          70,
          5,
          4,
          21,
          1,
          743,
          102,
          53,
          32986,
          84,
          3,
          7,
          2286,
          4,
          3,
          6,
          22304,
          50,
          9877,
          1,
          792,
          215,
          12,
          4,
          12,
          1,
          30,
          72,
          1329,
          1193,
          3,
          86,
          303,
          21,
          73,
          69176,
          7,
          558,
          1930,
          204,
          387,
          39885,
          316,
          24811,
          480,
          686,
          1,
          536,
          554,
          648,
          187,
          386,
          249,
          4,
          369,
          827,
          2247,
          1872,
          66,
          91,
          8077,
          87,
          3,
          5,
          114,
          218,
          248,
          104,
          25681,
          1,
          9,
          166,
          29,
          2,
          6,
          1,
          4269,
          97,
          81,
          18,
          39,
          114,
          1013,
          3,
          3,
          9,
          5,
          402,
          818,
          1,
          162,
          1082,
          312,
          2,
          3,
          1591,
          20,
          1394,
          124,
          48,
          382,
          57,
          177,
          45,
          5283,
          4,
          378,
          922,
          154,
          9037,
          392,
          134,
          2,
          495,
          5560,
          40,
          17,
          264,
          155,
          123,
          148,
          2,
          3,
          3,
          552,
          1,
          1099,
          44,
          794,
          74,
          67801,
          526,
          10,
          3,
          125,
          47,
          367,
          42,
          170,
          2,
          3,
          110,
          7,
          13,
          1624,
          2362,
          901,
          209,
          25,
          23,
          416,
          191,
          84,
          197,
          318,
          27,
          972,
          3,
          164,
          3,
          1,
          3,
          25,
          187,
          767,
          2863,
          51,
          2,
          42,
          345,
          712,
          45,
          1,
          2,
          1,
          32,
          53,
          4,
          1,
          7,
          18,
          4,
          1,
          1,
          1,
          1,
          1,
          2,
          2,
          2,
          22,
          1,
          21,
          1,
          1
         ]
        }
       ],
       "layout": {
        "geo": {
         "projection": {
          "type": "natural earth"
         },
         "showcoastlines": true,
         "showframe": false,
         "showlakes": true,
         "showocean": false,
         "showrivers": true,
         "showsubunits": true
        },
        "template": {
         "data": {
          "bar": [
           {
            "error_x": {
             "color": "#2a3f5f"
            },
            "error_y": {
             "color": "#2a3f5f"
            },
            "marker": {
             "line": {
              "color": "#E5ECF6",
              "width": 0.5
             }
            },
            "type": "bar"
           }
          ],
          "barpolar": [
           {
            "marker": {
             "line": {
              "color": "#E5ECF6",
              "width": 0.5
             }
            },
            "type": "barpolar"
           }
          ],
          "carpet": [
           {
            "aaxis": {
             "endlinecolor": "#2a3f5f",
             "gridcolor": "white",
             "linecolor": "white",
             "minorgridcolor": "white",
             "startlinecolor": "#2a3f5f"
            },
            "baxis": {
             "endlinecolor": "#2a3f5f",
             "gridcolor": "white",
             "linecolor": "white",
             "minorgridcolor": "white",
             "startlinecolor": "#2a3f5f"
            },
            "type": "carpet"
           }
          ],
          "choropleth": [
           {
            "colorbar": {
             "outlinewidth": 0,
             "ticks": ""
            },
            "type": "choropleth"
           }
          ],
          "contour": [
           {
            "colorbar": {
             "outlinewidth": 0,
             "ticks": ""
            },
            "colorscale": [
             [
              0,
              "#0d0887"
             ],
             [
              0.1111111111111111,
              "#46039f"
             ],
             [
              0.2222222222222222,
              "#7201a8"
             ],
             [
              0.3333333333333333,
              "#9c179e"
             ],
             [
              0.4444444444444444,
              "#bd3786"
             ],
             [
              0.5555555555555556,
              "#d8576b"
             ],
             [
              0.6666666666666666,
              "#ed7953"
             ],
             [
              0.7777777777777778,
              "#fb9f3a"
             ],
             [
              0.8888888888888888,
              "#fdca26"
             ],
             [
              1,
              "#f0f921"
             ]
            ],
            "type": "contour"
           }
          ],
          "contourcarpet": [
           {
            "colorbar": {
             "outlinewidth": 0,
             "ticks": ""
            },
            "type": "contourcarpet"
           }
          ],
          "heatmap": [
           {
            "colorbar": {
             "outlinewidth": 0,
             "ticks": ""
            },
            "colorscale": [
             [
              0,
              "#0d0887"
             ],
             [
              0.1111111111111111,
              "#46039f"
             ],
             [
              0.2222222222222222,
              "#7201a8"
             ],
             [
              0.3333333333333333,
              "#9c179e"
             ],
             [
              0.4444444444444444,
              "#bd3786"
             ],
             [
              0.5555555555555556,
              "#d8576b"
             ],
             [
              0.6666666666666666,
              "#ed7953"
             ],
             [
              0.7777777777777778,
              "#fb9f3a"
             ],
             [
              0.8888888888888888,
              "#fdca26"
             ],
             [
              1,
              "#f0f921"
             ]
            ],
            "type": "heatmap"
           }
          ],
          "heatmapgl": [
           {
            "colorbar": {
             "outlinewidth": 0,
             "ticks": ""
            },
            "colorscale": [
             [
              0,
              "#0d0887"
             ],
             [
              0.1111111111111111,
              "#46039f"
             ],
             [
              0.2222222222222222,
              "#7201a8"
             ],
             [
              0.3333333333333333,
              "#9c179e"
             ],
             [
              0.4444444444444444,
              "#bd3786"
             ],
             [
              0.5555555555555556,
              "#d8576b"
             ],
             [
              0.6666666666666666,
              "#ed7953"
             ],
             [
              0.7777777777777778,
              "#fb9f3a"
             ],
             [
              0.8888888888888888,
              "#fdca26"
             ],
             [
              1,
              "#f0f921"
             ]
            ],
            "type": "heatmapgl"
           }
          ],
          "histogram": [
           {
            "marker": {
             "colorbar": {
              "outlinewidth": 0,
              "ticks": ""
             }
            },
            "type": "histogram"
           }
          ],
          "histogram2d": [
           {
            "colorbar": {
             "outlinewidth": 0,
             "ticks": ""
            },
            "colorscale": [
             [
              0,
              "#0d0887"
             ],
             [
              0.1111111111111111,
              "#46039f"
             ],
             [
              0.2222222222222222,
              "#7201a8"
             ],
             [
              0.3333333333333333,
              "#9c179e"
             ],
             [
              0.4444444444444444,
              "#bd3786"
             ],
             [
              0.5555555555555556,
              "#d8576b"
             ],
             [
              0.6666666666666666,
              "#ed7953"
             ],
             [
              0.7777777777777778,
              "#fb9f3a"
             ],
             [
              0.8888888888888888,
              "#fdca26"
             ],
             [
              1,
              "#f0f921"
             ]
            ],
            "type": "histogram2d"
           }
          ],
          "histogram2dcontour": [
           {
            "colorbar": {
             "outlinewidth": 0,
             "ticks": ""
            },
            "colorscale": [
             [
              0,
              "#0d0887"
             ],
             [
              0.1111111111111111,
              "#46039f"
             ],
             [
              0.2222222222222222,
              "#7201a8"
             ],
             [
              0.3333333333333333,
              "#9c179e"
             ],
             [
              0.4444444444444444,
              "#bd3786"
             ],
             [
              0.5555555555555556,
              "#d8576b"
             ],
             [
              0.6666666666666666,
              "#ed7953"
             ],
             [
              0.7777777777777778,
              "#fb9f3a"
             ],
             [
              0.8888888888888888,
              "#fdca26"
             ],
             [
              1,
              "#f0f921"
             ]
            ],
            "type": "histogram2dcontour"
           }
          ],
          "mesh3d": [
           {
            "colorbar": {
             "outlinewidth": 0,
             "ticks": ""
            },
            "type": "mesh3d"
           }
          ],
          "parcoords": [
           {
            "line": {
             "colorbar": {
              "outlinewidth": 0,
              "ticks": ""
             }
            },
            "type": "parcoords"
           }
          ],
          "pie": [
           {
            "automargin": true,
            "type": "pie"
           }
          ],
          "scatter": [
           {
            "marker": {
             "colorbar": {
              "outlinewidth": 0,
              "ticks": ""
             }
            },
            "type": "scatter"
           }
          ],
          "scatter3d": [
           {
            "line": {
             "colorbar": {
              "outlinewidth": 0,
              "ticks": ""
             }
            },
            "marker": {
             "colorbar": {
              "outlinewidth": 0,
              "ticks": ""
             }
            },
            "type": "scatter3d"
           }
          ],
          "scattercarpet": [
           {
            "marker": {
             "colorbar": {
              "outlinewidth": 0,
              "ticks": ""
             }
            },
            "type": "scattercarpet"
           }
          ],
          "scattergeo": [
           {
            "marker": {
             "colorbar": {
              "outlinewidth": 0,
              "ticks": ""
             }
            },
            "type": "scattergeo"
           }
          ],
          "scattergl": [
           {
            "marker": {
             "colorbar": {
              "outlinewidth": 0,
              "ticks": ""
             }
            },
            "type": "scattergl"
           }
          ],
          "scattermapbox": [
           {
            "marker": {
             "colorbar": {
              "outlinewidth": 0,
              "ticks": ""
             }
            },
            "type": "scattermapbox"
           }
          ],
          "scatterpolar": [
           {
            "marker": {
             "colorbar": {
              "outlinewidth": 0,
              "ticks": ""
             }
            },
            "type": "scatterpolar"
           }
          ],
          "scatterpolargl": [
           {
            "marker": {
             "colorbar": {
              "outlinewidth": 0,
              "ticks": ""
             }
            },
            "type": "scatterpolargl"
           }
          ],
          "scatterternary": [
           {
            "marker": {
             "colorbar": {
              "outlinewidth": 0,
              "ticks": ""
             }
            },
            "type": "scatterternary"
           }
          ],
          "surface": [
           {
            "colorbar": {
             "outlinewidth": 0,
             "ticks": ""
            },
            "colorscale": [
             [
              0,
              "#0d0887"
             ],
             [
              0.1111111111111111,
              "#46039f"
             ],
             [
              0.2222222222222222,
              "#7201a8"
             ],
             [
              0.3333333333333333,
              "#9c179e"
             ],
             [
              0.4444444444444444,
              "#bd3786"
             ],
             [
              0.5555555555555556,
              "#d8576b"
             ],
             [
              0.6666666666666666,
              "#ed7953"
             ],
             [
              0.7777777777777778,
              "#fb9f3a"
             ],
             [
              0.8888888888888888,
              "#fdca26"
             ],
             [
              1,
              "#f0f921"
             ]
            ],
            "type": "surface"
           }
          ],
          "table": [
           {
            "cells": {
             "fill": {
              "color": "#EBF0F8"
             },
             "line": {
              "color": "white"
             }
            },
            "header": {
             "fill": {
              "color": "#C8D4E3"
             },
             "line": {
              "color": "white"
             }
            },
            "type": "table"
           }
          ]
         },
         "layout": {
          "annotationdefaults": {
           "arrowcolor": "#2a3f5f",
           "arrowhead": 0,
           "arrowwidth": 1
          },
          "coloraxis": {
           "colorbar": {
            "outlinewidth": 0,
            "ticks": ""
           }
          },
          "colorscale": {
           "diverging": [
            [
             0,
             "#8e0152"
            ],
            [
             0.1,
             "#c51b7d"
            ],
            [
             0.2,
             "#de77ae"
            ],
            [
             0.3,
             "#f1b6da"
            ],
            [
             0.4,
             "#fde0ef"
            ],
            [
             0.5,
             "#f7f7f7"
            ],
            [
             0.6,
             "#e6f5d0"
            ],
            [
             0.7,
             "#b8e186"
            ],
            [
             0.8,
             "#7fbc41"
            ],
            [
             0.9,
             "#4d9221"
            ],
            [
             1,
             "#276419"
            ]
           ],
           "sequential": [
            [
             0,
             "#0d0887"
            ],
            [
             0.1111111111111111,
             "#46039f"
            ],
            [
             0.2222222222222222,
             "#7201a8"
            ],
            [
             0.3333333333333333,
             "#9c179e"
            ],
            [
             0.4444444444444444,
             "#bd3786"
            ],
            [
             0.5555555555555556,
             "#d8576b"
            ],
            [
             0.6666666666666666,
             "#ed7953"
            ],
            [
             0.7777777777777778,
             "#fb9f3a"
            ],
            [
             0.8888888888888888,
             "#fdca26"
            ],
            [
             1,
             "#f0f921"
            ]
           ],
           "sequentialminus": [
            [
             0,
             "#0d0887"
            ],
            [
             0.1111111111111111,
             "#46039f"
            ],
            [
             0.2222222222222222,
             "#7201a8"
            ],
            [
             0.3333333333333333,
             "#9c179e"
            ],
            [
             0.4444444444444444,
             "#bd3786"
            ],
            [
             0.5555555555555556,
             "#d8576b"
            ],
            [
             0.6666666666666666,
             "#ed7953"
            ],
            [
             0.7777777777777778,
             "#fb9f3a"
            ],
            [
             0.8888888888888888,
             "#fdca26"
            ],
            [
             1,
             "#f0f921"
            ]
           ]
          },
          "colorway": [
           "#636efa",
           "#EF553B",
           "#00cc96",
           "#ab63fa",
           "#FFA15A",
           "#19d3f3",
           "#FF6692",
           "#B6E880",
           "#FF97FF",
           "#FECB52"
          ],
          "font": {
           "color": "#2a3f5f"
          },
          "geo": {
           "bgcolor": "white",
           "lakecolor": "white",
           "landcolor": "#E5ECF6",
           "showlakes": true,
           "showland": true,
           "subunitcolor": "white"
          },
          "hoverlabel": {
           "align": "left"
          },
          "hovermode": "closest",
          "mapbox": {
           "style": "light"
          },
          "paper_bgcolor": "white",
          "plot_bgcolor": "#E5ECF6",
          "polar": {
           "angularaxis": {
            "gridcolor": "white",
            "linecolor": "white",
            "ticks": ""
           },
           "bgcolor": "#E5ECF6",
           "radialaxis": {
            "gridcolor": "white",
            "linecolor": "white",
            "ticks": ""
           }
          },
          "scene": {
           "xaxis": {
            "backgroundcolor": "#E5ECF6",
            "gridcolor": "white",
            "gridwidth": 2,
            "linecolor": "white",
            "showbackground": true,
            "ticks": "",
            "zerolinecolor": "white"
           },
           "yaxis": {
            "backgroundcolor": "#E5ECF6",
            "gridcolor": "white",
            "gridwidth": 2,
            "linecolor": "white",
            "showbackground": true,
            "ticks": "",
            "zerolinecolor": "white"
           },
           "zaxis": {
            "backgroundcolor": "#E5ECF6",
            "gridcolor": "white",
            "gridwidth": 2,
            "linecolor": "white",
            "showbackground": true,
            "ticks": "",
            "zerolinecolor": "white"
           }
          },
          "shapedefaults": {
           "line": {
            "color": "#2a3f5f"
           }
          },
          "ternary": {
           "aaxis": {
            "gridcolor": "white",
            "linecolor": "white",
            "ticks": ""
           },
           "baxis": {
            "gridcolor": "white",
            "linecolor": "white",
            "ticks": ""
           },
           "bgcolor": "#E5ECF6",
           "caxis": {
            "gridcolor": "white",
            "linecolor": "white",
            "ticks": ""
           }
          },
          "title": {
           "x": 0.05
          },
          "xaxis": {
           "automargin": true,
           "gridcolor": "white",
           "linecolor": "white",
           "ticks": "",
           "title": {
            "standoff": 15
           },
           "zerolinecolor": "white",
           "zerolinewidth": 2
          },
          "yaxis": {
           "automargin": true,
           "gridcolor": "white",
           "linecolor": "white",
           "ticks": "",
           "title": {
            "standoff": 15
           },
           "zerolinecolor": "white",
           "zerolinewidth": 2
          }
         }
        },
        "title": {
         "text": "Covid-19 in First Three month",
         "x": 0.5
        }
       }
      },
      "text/html": [
       "<div>\n",
       "        \n",
       "        \n",
       "            <div id=\"e3f95783-b4f3-48df-94cb-2c53e288c2ab\" class=\"plotly-graph-div\" style=\"height:525px; width:100%;\"></div>\n",
       "            <script type=\"text/javascript\">\n",
       "                require([\"plotly\"], function(Plotly) {\n",
       "                    window.PLOTLYENV=window.PLOTLYENV || {};\n",
       "                    \n",
       "                if (document.getElementById(\"e3f95783-b4f3-48df-94cb-2c53e288c2ab\")) {\n",
       "                    Plotly.newPlot(\n",
       "                        'e3f95783-b4f3-48df-94cb-2c53e288c2ab',\n",
       "                        [{\"colorbar\": {\"title\": {\"text\": \"Confirmed cases\"}}, \"colorscale\": [[0.0, \"rgb(255,245,240)\"], [0.125, \"rgb(254,224,210)\"], [0.25, \"rgb(252,187,161)\"], [0.375, \"rgb(252,146,114)\"], [0.5, \"rgb(251,106,74)\"], [0.625, \"rgb(239,59,44)\"], [0.75, \"rgb(203,24,29)\"], [0.875, \"rgb(165,15,21)\"], [1.0, \"rgb(103,0,13)\"]], \"locationmode\": \"country names\", \"locations\": [\"Haiti\", \"Georgia\", \"Guyana\", \"Guinea\", \"Guatemala\", \"Grenada\", \"Greece\", \"Sri Lanka\", \"Ghana\", \"Germany\", \"Venezuela\", \"Sudan\", \"Suriname\", \"Sweden\", \"Holy See\", \"Gambia\", \"Gabon\", \"France\", \"Uzbekistan\", \"Switzerland\", \"Syria\", \"Finland\", \"Taiwan\", \"Tanzania\", \"Fiji\", \"Ethiopia\", \"Papua New Guinea\", \"Honduras\", \"Kazakhstan\", \"Ireland\", \"Japan\", \"Antigua and Barbuda\", \"Senegal\", \"Serbia\", \"Jamaica\", \"Ivory Coast\", \"Italy\", \"Seychelles\", \"Singapore\", \"Israel\", \"Slovakia\", \"Argentina\", \"Spain\", \"Iraq\", \"Iran\", \"Slovenia\", \"Indonesia\", \"Somalia\", \"India\", \"South Africa\", \"Iceland\", \"Hungary\", \"Hong Kong\", \"Armenia\", \"Eswatini\", \"Estonia\", \"Thailand\", \"Brazil\", \"Turkey\", \"Cameroon\", \"Cambodia\", \"UK\", \"Azerbaijan\", \"Cabo Verde\", \"Bahamas\", \"Burkina Faso\", \"Bulgaria\", \"United Arab Emirates\", \"Brunei\", \"US\", \"Eritrea\", \"Uganda\", \"Bosnia and Herzegovina\", \"Bolivia\", \"Bhutan\", \"Benin\", \"Belize\", \"Belgium\", \"Ukraine\", \"Belarus\", \"Barbados\", \"Bangladesh\", \"Tunisia\", \"Canada\", \"Central African Republic\", \"Chad\", \"Equatorial Guinea\", \"El Salvador\", \"Egypt\", \"Australia\", \"Timor-Leste\", \"Uruguay\", \"Ecuador\", \"Dominican Republic\", \"Dominica\", \"Djibouti\", \"Denmark\", \"Togo\", \"Czech Republic\", \"Cyprus\", \"Cuba\", \"Croatia\", \"Trinidad and Tobago\", \"Costa Rica\", \"Congo (Kinshasa)\", \"Austria\", \"Congo (Brazzaville)\", \"Colombia\", \"Chile\", \"Jordan\", \"South Korea\", \"Bahrain\", \"Vietnam\", \"Nepal\", \"Russia\", \"Netherlands\", \"Rwanda\", \"Madagascar\", \"Algeria\", \"New Zealand\", \"Albania\", \"North Macedonia\", \"Nicaragua\", \"Saint Lucia\", \"Niger\", \"Philippines\", \"Saint Vincent and the Grenadines\", \"Luxembourg\", \"Nigeria\", \"Romania\", \"Afghanistan\", \"Mainland China\", \"Qatar\", \"Mongolia\", \"Zambia\", \"Moldova\", \"Montenegro\", \"Mexico\", \"Mauritius\", \"Morocco\", \"Mauritania\", \"Mozambique\", \"Malta\", \"Namibia\", \"Maldives\", \"Malaysia\", \"Portugal\", \"Poland\", \"Lithuania\", \"Macau\", \"Monaco\", \"Peru\", \"Kuwait\", \"Oman\", \"Latvia\", \"Lebanon\", \"Paraguay\", \"Pakistan\", \"Liberia\", \"Andorra\", \"Zimbabwe\", \"Libya\", \"Angola\", \"Kenya\", \"San Marino\", \"Saudi Arabia\", \"Norway\", \"Liechtenstein\", \"Laos\", \"Kyrgyzstan\", \"Panama\", \"Others\", \"Reunion\", \"East Timor\", \"Kosovo\", \"Cape Verde\", \"Martinique\", \"Guadeloupe\", \"Bahamas, The\", \"Gambia, The\", \"Mayotte\", \"French Guiana\", \"Aruba\", \"Curacao\", \"Cayman Islands\", \"Saint Barthelemy\", \"Channel Islands\", \"Gibraltar\", \"('St. Martin',)\", \"Faroe Islands\", \"St. Martin\", \"Palestine\", \"Vatican City\", \"Republic of Ireland\", \" Azerbaijan\", \"North Ireland\"], \"marker\": {\"line\": {\"color\": \"black\", \"width\": 0.5}}, \"type\": \"choropleth\", \"z\": [7.0, 70.0, 5.0, 4.0, 21.0, 1.0, 743.0, 102.0, 53.0, 32986.0, 84.0, 3.0, 7.0, 2286.0, 4.0, 3.0, 6.0, 22304.0, 50.0, 9877.0, 1.0, 792.0, 215.0, 12.0, 4.0, 12.0, 1.0, 30.0, 72.0, 1329.0, 1193.0, 3.0, 86.0, 303.0, 21.0, 73.0, 69176.0, 7.0, 558.0, 1930.0, 204.0, 387.0, 39885.0, 316.0, 24811.0, 480.0, 686.0, 1.0, 536.0, 554.0, 648.0, 187.0, 386.0, 249.0, 4.0, 369.0, 827.0, 2247.0, 1872.0, 66.0, 91.0, 8077.0, 87.0, 3.0, 5.0, 114.0, 218.0, 248.0, 104.0, 25681.0, 1.0, 9.0, 166.0, 29.0, 2.0, 6.0, 1.0, 4269.0, 97.0, 81.0, 18.0, 39.0, 114.0, 1013.0, 3.0, 3.0, 9.0, 5.0, 402.0, 818.0, 1.0, 162.0, 1082.0, 312.0, 2.0, 3.0, 1591.0, 20.0, 1394.0, 124.0, 48.0, 382.0, 57.0, 177.0, 45.0, 5283.0, 4.0, 378.0, 922.0, 154.0, 9037.0, 392.0, 134.0, 2.0, 495.0, 5560.0, 40.0, 17.0, 264.0, 155.0, 123.0, 148.0, 2.0, 3.0, 3.0, 552.0, 1.0, 1099.0, 44.0, 794.0, 74.0, 67801.0, 526.0, 10.0, 3.0, 125.0, 47.0, 367.0, 42.0, 170.0, 2.0, 3.0, 110.0, 7.0, 13.0, 1624.0, 2362.0, 901.0, 209.0, 25.0, 23.0, 416.0, 191.0, 84.0, 197.0, 318.0, 27.0, 972.0, 3.0, 164.0, 3.0, 1.0, 3.0, 25.0, 187.0, 767.0, 2863.0, 51.0, 2.0, 42.0, 345.0, 712.0, 45.0, 1.0, 2.0, 1.0, 32.0, 53.0, 4.0, 1.0, 7.0, 18.0, 4.0, 1.0, 1.0, 1.0, 1.0, 1.0, 2.0, 2.0, 2.0, 22.0, 1.0, 21.0, 1.0, 1.0]}],\n",
       "                        {\"geo\": {\"projection\": {\"type\": \"natural earth\"}, \"showcoastlines\": true, \"showframe\": false, \"showlakes\": true, \"showocean\": false, \"showrivers\": true, \"showsubunits\": true}, \"template\": {\"data\": {\"bar\": [{\"error_x\": {\"color\": \"#2a3f5f\"}, \"error_y\": {\"color\": \"#2a3f5f\"}, \"marker\": {\"line\": {\"color\": \"#E5ECF6\", \"width\": 0.5}}, \"type\": \"bar\"}], \"barpolar\": [{\"marker\": {\"line\": {\"color\": \"#E5ECF6\", \"width\": 0.5}}, \"type\": \"barpolar\"}], \"carpet\": [{\"aaxis\": {\"endlinecolor\": \"#2a3f5f\", \"gridcolor\": \"white\", \"linecolor\": \"white\", \"minorgridcolor\": \"white\", \"startlinecolor\": \"#2a3f5f\"}, \"baxis\": {\"endlinecolor\": \"#2a3f5f\", \"gridcolor\": \"white\", \"linecolor\": \"white\", \"minorgridcolor\": \"white\", \"startlinecolor\": \"#2a3f5f\"}, \"type\": \"carpet\"}], \"choropleth\": [{\"colorbar\": {\"outlinewidth\": 0, \"ticks\": \"\"}, \"type\": \"choropleth\"}], \"contour\": [{\"colorbar\": {\"outlinewidth\": 0, \"ticks\": \"\"}, \"colorscale\": [[0.0, \"#0d0887\"], [0.1111111111111111, \"#46039f\"], [0.2222222222222222, \"#7201a8\"], [0.3333333333333333, \"#9c179e\"], [0.4444444444444444, \"#bd3786\"], [0.5555555555555556, \"#d8576b\"], [0.6666666666666666, \"#ed7953\"], [0.7777777777777778, \"#fb9f3a\"], [0.8888888888888888, \"#fdca26\"], [1.0, \"#f0f921\"]], \"type\": \"contour\"}], \"contourcarpet\": [{\"colorbar\": {\"outlinewidth\": 0, \"ticks\": \"\"}, \"type\": \"contourcarpet\"}], \"heatmap\": [{\"colorbar\": {\"outlinewidth\": 0, \"ticks\": \"\"}, \"colorscale\": [[0.0, \"#0d0887\"], [0.1111111111111111, \"#46039f\"], [0.2222222222222222, \"#7201a8\"], [0.3333333333333333, \"#9c179e\"], [0.4444444444444444, \"#bd3786\"], [0.5555555555555556, \"#d8576b\"], [0.6666666666666666, \"#ed7953\"], [0.7777777777777778, \"#fb9f3a\"], [0.8888888888888888, \"#fdca26\"], [1.0, \"#f0f921\"]], \"type\": \"heatmap\"}], \"heatmapgl\": [{\"colorbar\": {\"outlinewidth\": 0, \"ticks\": \"\"}, \"colorscale\": [[0.0, \"#0d0887\"], [0.1111111111111111, \"#46039f\"], [0.2222222222222222, \"#7201a8\"], [0.3333333333333333, \"#9c179e\"], [0.4444444444444444, \"#bd3786\"], [0.5555555555555556, \"#d8576b\"], [0.6666666666666666, \"#ed7953\"], [0.7777777777777778, \"#fb9f3a\"], [0.8888888888888888, \"#fdca26\"], [1.0, \"#f0f921\"]], \"type\": \"heatmapgl\"}], \"histogram\": [{\"marker\": {\"colorbar\": {\"outlinewidth\": 0, \"ticks\": \"\"}}, \"type\": \"histogram\"}], \"histogram2d\": [{\"colorbar\": {\"outlinewidth\": 0, \"ticks\": \"\"}, \"colorscale\": [[0.0, \"#0d0887\"], [0.1111111111111111, \"#46039f\"], [0.2222222222222222, \"#7201a8\"], [0.3333333333333333, \"#9c179e\"], [0.4444444444444444, \"#bd3786\"], [0.5555555555555556, \"#d8576b\"], [0.6666666666666666, \"#ed7953\"], [0.7777777777777778, \"#fb9f3a\"], [0.8888888888888888, \"#fdca26\"], [1.0, \"#f0f921\"]], \"type\": \"histogram2d\"}], \"histogram2dcontour\": [{\"colorbar\": {\"outlinewidth\": 0, \"ticks\": \"\"}, \"colorscale\": [[0.0, \"#0d0887\"], [0.1111111111111111, \"#46039f\"], [0.2222222222222222, \"#7201a8\"], [0.3333333333333333, \"#9c179e\"], [0.4444444444444444, \"#bd3786\"], [0.5555555555555556, \"#d8576b\"], [0.6666666666666666, \"#ed7953\"], [0.7777777777777778, \"#fb9f3a\"], [0.8888888888888888, \"#fdca26\"], [1.0, \"#f0f921\"]], \"type\": \"histogram2dcontour\"}], \"mesh3d\": [{\"colorbar\": {\"outlinewidth\": 0, \"ticks\": \"\"}, \"type\": \"mesh3d\"}], \"parcoords\": [{\"line\": {\"colorbar\": {\"outlinewidth\": 0, \"ticks\": \"\"}}, \"type\": \"parcoords\"}], \"pie\": [{\"automargin\": true, \"type\": \"pie\"}], \"scatter\": [{\"marker\": {\"colorbar\": {\"outlinewidth\": 0, \"ticks\": \"\"}}, \"type\": \"scatter\"}], \"scatter3d\": [{\"line\": {\"colorbar\": {\"outlinewidth\": 0, \"ticks\": \"\"}}, \"marker\": {\"colorbar\": {\"outlinewidth\": 0, \"ticks\": \"\"}}, \"type\": \"scatter3d\"}], \"scattercarpet\": [{\"marker\": {\"colorbar\": {\"outlinewidth\": 0, \"ticks\": \"\"}}, \"type\": \"scattercarpet\"}], \"scattergeo\": [{\"marker\": {\"colorbar\": {\"outlinewidth\": 0, \"ticks\": \"\"}}, \"type\": \"scattergeo\"}], \"scattergl\": [{\"marker\": {\"colorbar\": {\"outlinewidth\": 0, \"ticks\": \"\"}}, \"type\": \"scattergl\"}], \"scattermapbox\": [{\"marker\": {\"colorbar\": {\"outlinewidth\": 0, \"ticks\": \"\"}}, \"type\": \"scattermapbox\"}], \"scatterpolar\": [{\"marker\": {\"colorbar\": {\"outlinewidth\": 0, \"ticks\": \"\"}}, \"type\": \"scatterpolar\"}], \"scatterpolargl\": [{\"marker\": {\"colorbar\": {\"outlinewidth\": 0, \"ticks\": \"\"}}, \"type\": \"scatterpolargl\"}], \"scatterternary\": [{\"marker\": {\"colorbar\": {\"outlinewidth\": 0, \"ticks\": \"\"}}, \"type\": \"scatterternary\"}], \"surface\": [{\"colorbar\": {\"outlinewidth\": 0, \"ticks\": \"\"}, \"colorscale\": [[0.0, \"#0d0887\"], [0.1111111111111111, \"#46039f\"], [0.2222222222222222, \"#7201a8\"], [0.3333333333333333, \"#9c179e\"], [0.4444444444444444, \"#bd3786\"], [0.5555555555555556, \"#d8576b\"], [0.6666666666666666, \"#ed7953\"], [0.7777777777777778, \"#fb9f3a\"], [0.8888888888888888, \"#fdca26\"], [1.0, \"#f0f921\"]], \"type\": \"surface\"}], \"table\": [{\"cells\": {\"fill\": {\"color\": \"#EBF0F8\"}, \"line\": {\"color\": \"white\"}}, \"header\": {\"fill\": {\"color\": \"#C8D4E3\"}, \"line\": {\"color\": \"white\"}}, \"type\": \"table\"}]}, \"layout\": {\"annotationdefaults\": {\"arrowcolor\": \"#2a3f5f\", \"arrowhead\": 0, \"arrowwidth\": 1}, \"coloraxis\": {\"colorbar\": {\"outlinewidth\": 0, \"ticks\": \"\"}}, \"colorscale\": {\"diverging\": [[0, \"#8e0152\"], [0.1, \"#c51b7d\"], [0.2, \"#de77ae\"], [0.3, \"#f1b6da\"], [0.4, \"#fde0ef\"], [0.5, \"#f7f7f7\"], [0.6, \"#e6f5d0\"], [0.7, \"#b8e186\"], [0.8, \"#7fbc41\"], [0.9, \"#4d9221\"], [1, \"#276419\"]], \"sequential\": [[0.0, \"#0d0887\"], [0.1111111111111111, \"#46039f\"], [0.2222222222222222, \"#7201a8\"], [0.3333333333333333, \"#9c179e\"], [0.4444444444444444, \"#bd3786\"], [0.5555555555555556, \"#d8576b\"], [0.6666666666666666, \"#ed7953\"], [0.7777777777777778, \"#fb9f3a\"], [0.8888888888888888, \"#fdca26\"], [1.0, \"#f0f921\"]], \"sequentialminus\": [[0.0, \"#0d0887\"], [0.1111111111111111, \"#46039f\"], [0.2222222222222222, \"#7201a8\"], [0.3333333333333333, \"#9c179e\"], [0.4444444444444444, \"#bd3786\"], [0.5555555555555556, \"#d8576b\"], [0.6666666666666666, \"#ed7953\"], [0.7777777777777778, \"#fb9f3a\"], [0.8888888888888888, \"#fdca26\"], [1.0, \"#f0f921\"]]}, \"colorway\": [\"#636efa\", \"#EF553B\", \"#00cc96\", \"#ab63fa\", \"#FFA15A\", \"#19d3f3\", \"#FF6692\", \"#B6E880\", \"#FF97FF\", \"#FECB52\"], \"font\": {\"color\": \"#2a3f5f\"}, \"geo\": {\"bgcolor\": \"white\", \"lakecolor\": \"white\", \"landcolor\": \"#E5ECF6\", \"showlakes\": true, \"showland\": true, \"subunitcolor\": \"white\"}, \"hoverlabel\": {\"align\": \"left\"}, \"hovermode\": \"closest\", \"mapbox\": {\"style\": \"light\"}, \"paper_bgcolor\": \"white\", \"plot_bgcolor\": \"#E5ECF6\", \"polar\": {\"angularaxis\": {\"gridcolor\": \"white\", \"linecolor\": \"white\", \"ticks\": \"\"}, \"bgcolor\": \"#E5ECF6\", \"radialaxis\": {\"gridcolor\": \"white\", \"linecolor\": \"white\", \"ticks\": \"\"}}, \"scene\": {\"xaxis\": {\"backgroundcolor\": \"#E5ECF6\", \"gridcolor\": \"white\", \"gridwidth\": 2, \"linecolor\": \"white\", \"showbackground\": true, \"ticks\": \"\", \"zerolinecolor\": \"white\"}, \"yaxis\": {\"backgroundcolor\": \"#E5ECF6\", \"gridcolor\": \"white\", \"gridwidth\": 2, \"linecolor\": \"white\", \"showbackground\": true, \"ticks\": \"\", \"zerolinecolor\": \"white\"}, \"zaxis\": {\"backgroundcolor\": \"#E5ECF6\", \"gridcolor\": \"white\", \"gridwidth\": 2, \"linecolor\": \"white\", \"showbackground\": true, \"ticks\": \"\", \"zerolinecolor\": \"white\"}}, \"shapedefaults\": {\"line\": {\"color\": \"#2a3f5f\"}}, \"ternary\": {\"aaxis\": {\"gridcolor\": \"white\", \"linecolor\": \"white\", \"ticks\": \"\"}, \"baxis\": {\"gridcolor\": \"white\", \"linecolor\": \"white\", \"ticks\": \"\"}, \"bgcolor\": \"#E5ECF6\", \"caxis\": {\"gridcolor\": \"white\", \"linecolor\": \"white\", \"ticks\": \"\"}}, \"title\": {\"x\": 0.05}, \"xaxis\": {\"automargin\": true, \"gridcolor\": \"white\", \"linecolor\": \"white\", \"ticks\": \"\", \"title\": {\"standoff\": 15}, \"zerolinecolor\": \"white\", \"zerolinewidth\": 2}, \"yaxis\": {\"automargin\": true, \"gridcolor\": \"white\", \"linecolor\": \"white\", \"ticks\": \"\", \"title\": {\"standoff\": 15}, \"zerolinecolor\": \"white\", \"zerolinewidth\": 2}}}, \"title\": {\"text\": \"Covid-19 in First Three month\", \"x\": 0.5}},\n",
       "                        {\"responsive\": true}\n",
       "                    ).then(function(){\n",
       "                            \n",
       "var gd = document.getElementById('e3f95783-b4f3-48df-94cb-2c53e288c2ab');\n",
       "var x = new MutationObserver(function (mutations, observer) {{\n",
       "        var display = window.getComputedStyle(gd).display;\n",
       "        if (!display || display === 'none') {{\n",
       "            console.log([gd, 'removed!']);\n",
       "            Plotly.purge(gd);\n",
       "            observer.disconnect();\n",
       "        }}\n",
       "}});\n",
       "\n",
       "// Listen for the removal of the full notebook cells\n",
       "var notebookContainer = gd.closest('#notebook-container');\n",
       "if (notebookContainer) {{\n",
       "    x.observe(notebookContainer, {childList: true});\n",
       "}}\n",
       "\n",
       "// Listen for the clearing of the current output cell\n",
       "var outputEl = gd.closest('.output');\n",
       "if (outputEl) {{\n",
       "    x.observe(outputEl, {childList: true});\n",
       "}}\n",
       "\n",
       "                        })\n",
       "                };\n",
       "                });\n",
       "            </script>\n",
       "        </div>"
      ]
     },
     "metadata": {},
     "output_type": "display_data"
    }
   ],
   "source": [
    "iplot(choromap)"
   ]
  },
  {
   "cell_type": "code",
   "execution_count": null,
   "metadata": {},
   "outputs": [],
   "source": []
  }
 ],
 "metadata": {
  "kernelspec": {
   "display_name": "Python 3",
   "language": "python",
   "name": "python3"
  },
  "language_info": {
   "codemirror_mode": {
    "name": "ipython",
    "version": 3
   },
   "file_extension": ".py",
   "mimetype": "text/x-python",
   "name": "python",
   "nbconvert_exporter": "python",
   "pygments_lexer": "ipython3",
   "version": "3.7.4"
  }
 },
 "nbformat": 4,
 "nbformat_minor": 2
}
